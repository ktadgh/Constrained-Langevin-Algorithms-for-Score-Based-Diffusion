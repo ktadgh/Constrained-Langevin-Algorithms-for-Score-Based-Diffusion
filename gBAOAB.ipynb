{
 "cells": [
  {
   "cell_type": "code",
   "execution_count": 21,
   "metadata": {
    "collapsed": true
   },
   "outputs": [],
   "source": [
    "import numpy as np\n",
    "from matplotlib import pyplot as plt\n",
    "from matplotlib.animation import FuncAnimation\n",
    "from sympy import Matrix, Array\n",
    "from sympy.abc import x, y, z\n",
    "import torch\n",
    "from torch.autograd.functional import jacobian\n",
    "import matplotlib.pyplot as plt\n",
    "\n",
    "from matplotlib.collections import LineCollection\n",
    "import matplotlib.colors as colors\n",
    "import cProfile\n",
    "import pstats"
   ]
  },
  {
   "cell_type": "code",
   "execution_count": 22,
   "outputs": [],
   "source": [
    "torch.set_default_dtype(torch.float64)"
   ],
   "metadata": {
    "collapsed": false
   }
  },
  {
   "cell_type": "code",
   "execution_count": 23,
   "outputs": [],
   "source": [
    "# Implementing SHAKE and RATTLE"
   ],
   "metadata": {
    "collapsed": false
   }
  },
  {
   "cell_type": "code",
   "execution_count": 24,
   "outputs": [],
   "source": [
    "def G(gs):\n",
    "    '''\n",
    "    :param gs: a list of tensor functions\n",
    "    :return: a function sending a tensor to the stacked matrix of the functions of that tensor\n",
    "    '''\n",
    "\n",
    "    def G_gs(tensor):\n",
    "        # print(\"Function input: \",tensor) # checking the input for debugging\n",
    "        # print(\"Function output:\" , torch.stack([g(tensor) for g in gs],0))\n",
    "        return torch.stack([g(tensor) for g in gs], 0)\n",
    "\n",
    "    return G_gs"
   ],
   "metadata": {
    "collapsed": false
   }
  },
  {
   "cell_type": "code",
   "execution_count": 25,
   "outputs": [],
   "source": [
    "def J(gs, x):\n",
    "    '''Returns the Jacobian evaluated at x for a list gs of constraint functions'''\n",
    "    return jacobian(G(gs), x)"
   ],
   "metadata": {
    "collapsed": false
   }
  },
  {
   "cell_type": "code",
   "execution_count": 26,
   "outputs": [],
   "source": [
    "def shake_step(x, v1, h, M, gs, e):\n",
    "    '''\n",
    "    Defining a function to take a step in the position, velocity form.\n",
    "    g should be a vector-valued function of constraints.\n",
    "    :return: x_1, v_1\n",
    "    '''\n",
    "\n",
    "    #print(f\"x = {x}, v1 = {v1}\")\n",
    "    G1 = G(gs)\n",
    "\n",
    "    DV = np.zeros_like(x)\n",
    "    DV[-1] = 10  # gravity acts in the last dimension\n",
    "    DV_col = DV.reshape(-1, 1)\n",
    "\n",
    "    x_col = x.reshape(-1, 1)\n",
    "    v1_col = v1.reshape(-1, 1)\n",
    "\n",
    "    x2 = x_col + h * v1_col - h ** 2 * torch.inverse(M) @ DV_col\n",
    "\n",
    "    Q_col = x2\n",
    "    Q = torch.squeeze(Q_col)\n",
    "    Dg_Q = J(gs, Q)\n",
    "    Dg_q = J(gs, x)\n",
    "    t = Dg_q[0, :].reshape(-1, 1)\n",
    "\n",
    "    while torch.all(torch.abs(G1(Q)) > e):\n",
    "        for i in range(len(gs)):\n",
    "            t = Dg_q[i, :].reshape(-1, 1)\n",
    "            Dg_Q = J(gs, Q)\n",
    "            dL = gs[i](Q) / (Dg_Q[i, :] @ torch.inverse(M) @ Dg_q[i, :].reshape(-1, 1))\n",
    "            edit = (torch.inverse(M) @ Dg_q[i, :].reshape(-1, 1)) * dL\n",
    "            Q = torch.squeeze(Q_col - (torch.inverse(M) @ Dg_q[i, :].reshape(-1, 1) * dL))\n",
    "            Q_col = Q.reshape(-1, 1)\n",
    "    v2 = (Q_col - x_col) / h\n",
    "    return Q, v2"
   ],
   "metadata": {
    "collapsed": false
   }
  },
  {
   "cell_type": "code",
   "execution_count": 27,
   "outputs": [],
   "source": [
    "def shake_simulator(x_init, v_init, h, M, gs, its):\n",
    "    xs = [x_init]\n",
    "    vs = [v_init]\n",
    "    x = x_init\n",
    "    v1 = v_init\n",
    "    F = torch.tensor([0.,-10.])\n",
    "    energy = 1/2 * torch.dot(torch.squeeze(v_init), torch.squeeze(v_init)) + torch.dot(torch.squeeze(x_init), F)\n",
    "    energies = [energy]\n",
    "    for i in range(its):\n",
    "        x, v1 = shake_step(x, v1, h, M, gs, 10 ** (-8))\n",
    "        last_x = xs[-1]\n",
    "        xs.append(x)\n",
    "        last_v = vs[-1]\n",
    "        vs.append(v1)\n",
    "        v_n1 = 1/2 * (torch.squeeze(last_v) + torch.squeeze(v1))\n",
    "        energy = 1/2 * torch.dot(torch.squeeze(v_n1),torch.squeeze(v_n1)) + torch.dot(torch.squeeze(last_x), -F)\n",
    "        energies.append(energy)\n",
    "    return xs, vs, energies"
   ],
   "metadata": {
    "collapsed": false
   }
  },
  {
   "cell_type": "code",
   "execution_count": 28,
   "outputs": [],
   "source": [
    "x_init = torch.tensor([1., 0.])  # a point which is on the curve\n",
    "v_init = torch.tensor([0., 0.])  # starting with velocity zero\n",
    "h = 0.1\n",
    "gs = [lambda x: x[0] ** 2 + x[1] ** 2 - 1 ]\n",
    "M = torch.eye(2)\n",
    "its = 100\n",
    "#x = shake_step(x_init, v_init , h, M, gs, 10**(-4))\n",
    "positions_shake, vs_shake, energies_shake = shake_simulator(x_init, v_init, h, M, gs, 100)"
   ],
   "metadata": {
    "collapsed": false
   }
  },
  {
   "cell_type": "code",
   "execution_count": 43,
   "outputs": [],
   "source": [
    "def rattle_step(x, v1, h, M, gs, e , lamb):\n",
    "    '''\n",
    "    Defining a function to take a step in the position, velocity form.\n",
    "    g should be a vector-valued function of constraints.\n",
    "    :return: x_1, v_1\n",
    "    '''\n",
    "\n",
    "    G1 = G(gs)\n",
    "\n",
    "\n",
    "    DV = torch.zeros_like(x)\n",
    "\n",
    "    #DV[-1] = 10  # leaving this out for g-BAOAB\n",
    "    DV_col = DV.reshape(-1, 1)\n",
    "\n",
    "    x_col = x.reshape(-1, 1)\n",
    "    v1_col = v1.reshape(-1, 1)\n",
    "\n",
    "    # doing Newton-Raphson iterations\n",
    "    lam = lamb\n",
    "    iters = 0\n",
    "    x2 = x_col + h * v1_col - 0.5*(h**2)* torch.inverse(M) @ DV_col\n",
    "    Q_col = x2\n",
    "    Q = torch.squeeze(Q_col)\n",
    "    J1 = J(gs, torch.squeeze(x_col))\n",
    "\n",
    "\n",
    "    while torch.any(torch.abs(G1(Q)) > e):\n",
    "\n",
    "        #print(torch.abs(G1(Q)))\n",
    "        J2 = J(gs, torch.squeeze(Q))\n",
    "        R = J2 @ torch.inverse(M) @ J1.t()\n",
    "        dL = torch.inverse(R) @ G1(Q)\n",
    "\n",
    "        Q -= torch.inverse(M) @ J1.t() @ dL\n",
    "        iters +=1\n",
    "\n",
    "    #print(f\"Iterations required by RATTLE: {iters}\")\n",
    "    #print(f\"Updating v1_col, Jacobian^T {J(gs,torch.squeeze(x_col)).t()}\")\n",
    "\n",
    "    # half step for velocity\n",
    "    Q_col = Q.reshape(-1,1)\n",
    "    v1_half = (Q_col - x_col)/h\n",
    "    x_col = Q_col\n",
    "    J1 = J(gs, torch.squeeze(x_col))\n",
    "\n",
    "    # getting the level\n",
    "    J2 = J(gs, torch.squeeze(Q))\n",
    "    P = J1 @ torch.inverse(M) @ J1.t()\n",
    "    T = J1 @ (2/h * v1_half - torch.inverse(M) @ DV_col)\n",
    "\n",
    "    #solving the linear system\n",
    "    L = torch.linalg.solve(P,T)\n",
    "\n",
    "    v1_col = v1_half - h/2 * DV_col - h/2 * J2.t()@L\n",
    "\n",
    "\n",
    "    # print(f\"Error = {G1(x_col + h*( v1_col + h/2 * torch.inverse(M) @ J1.reshape(-1,1) @ lam))}\")\n",
    "    # # updating v\n",
    "    # print(f\"lam = {lam}\")\n",
    "    # print(f\"Updating v1_col, Jacobian^T {J(gs,torch.squeeze(x_col)).t}\")\n",
    "\n",
    "    return torch.squeeze(x_col), torch.squeeze(v1_col)"
   ],
   "metadata": {
    "collapsed": false
   }
  },
  {
   "cell_type": "code",
   "execution_count": 42,
   "outputs": [],
   "source": [
    "def rattle_simulator(x_init, v_init, h, M, gs, its):\n",
    "    xs = [x_init]\n",
    "    vs = [v_init]\n",
    "    F = torch.tensor([0.,-10.])\n",
    "    energy = 1/2 * torch.dot(torch.squeeze(v_init), torch.squeeze(v_init)) + torch.dot(torch.squeeze(x_init), F)\n",
    "    energies = [energy]\n",
    "    x = x_init\n",
    "    v1 = v_init\n",
    "    for i in range(its):\n",
    "        x, v1 = rattle_step(x, v1, h, M, gs, 10 ** (-4), torch.zeros(len(gs)))\n",
    "        energy = 1/2 * torch.dot(v1,v1) + torch.dot(x, -F)\n",
    "        xs.append(x)\n",
    "        vs.append(v1)\n",
    "        energies.append(energy)\n",
    "    return xs, vs, energies"
   ],
   "metadata": {
    "collapsed": false
   }
  },
  {
   "cell_type": "code",
   "execution_count": 31,
   "outputs": [],
   "source": [
    "import torch"
   ],
   "metadata": {
    "collapsed": false
   }
  },
  {
   "cell_type": "code",
   "execution_count": 32,
   "outputs": [],
   "source": [
    "x = torch.transpose(torch.tensor([[0,1],[2,3]]),0,1)"
   ],
   "metadata": {
    "collapsed": false
   }
  },
  {
   "cell_type": "code",
   "execution_count": 33,
   "outputs": [],
   "source": [
    "def gBAOAB_step_exact(q_init,p_init,F, gs, h,M, gamma, k, kr,error):\n",
    "    #print(f\"q = {q_init[0]}\")\n",
    "    #print(f\"Force = {F(q_init)[0]}\")\n",
    "    # Computing diagonalization\n",
    "    evalues, evectors = np.linalg.eig(M)\n",
    "    # Ensuring square root matrix exists\n",
    "    evalues =np.real(evalues)\n",
    "    evectors = np.real(evectors)\n",
    "    evalues = evalues*(1- np.isclose(evalues, np.zeros_like(evalues), atol = np.finfo(float).eps))\n",
    "    #print(evalues)\n",
    "    #assert (evalues >= 0).all()\n",
    "    sqrt_M = evectors * np.sqrt(evalues) @ np.linalg.inv(evectors)\n",
    "\n",
    "    # setting up variables\n",
    "    R = torch.randn(len(q_init))\n",
    "    p = p_init\n",
    "    q = q_init\n",
    "    a2 = torch.exp(torch.tensor(-gamma*h))\n",
    "    b2 = torch.sqrt(k*(1-a2**(2)))\n",
    "\n",
    "    #print(sqrt_M)\n",
    "    # doing the initial p-update\n",
    "    J1 = J(gs, torch.squeeze(q))\n",
    "    G = J1\n",
    "    L1 = torch.eye(len(q_init)) - torch.transpose(G,0,1) @ torch.inverse(G@ torch.inverse(M)@ torch.transpose(G,0,1)) @ G @ torch.inverse(M)\n",
    "    p -=  h/2 * L1 @ F(q)\n",
    "    #print(f\"p1 update = { (h/2 * L1 @ F(q))[0] }\")\n",
    "    #print(f\"p1 = {p[0]}\")\n",
    "    #print(f\"Force = {F(q)}\")\n",
    "\n",
    "    # doing the first RATTLE step\n",
    "    for i in range(kr):\n",
    "        q, p = rattle_step(q, p, h/(2*kr), M, gs, error , torch.zeros(len(q)))\n",
    "    #print(f\"q1 = {q[0]}\")\n",
    "    #print(f\"p2 = {p[0]}\")\n",
    "    #print(f\"q1 = {q}\")\n",
    "\n",
    "    # the second p-update - (O-step in BAOAB)\n",
    "    J2 = J(gs, torch.squeeze(q))\n",
    "    G = J2\n",
    "    L2 = torch.eye(len(q_init)) - torch.transpose(G,0,1) @ torch.inverse(G@ torch.inverse(M)@ torch.transpose(G,0,1)) @ G @ torch.inverse(M)\n",
    "    p = a2* p + b2* sqrt_M @L2 @ sqrt_M @ R\n",
    "    #print(f\"p3 = {p[0]}\")\n",
    "\n",
    "    # doing the second RATTLE step\n",
    "    for i in range(kr):\n",
    "        q, p = rattle_step(q, p, h/(2*kr), M, gs, error , torch.zeros(len(q)))\n",
    "    #print(f\"q1 = {q}\")\n",
    "    #print(f\"q2 = {q[0]}\")\n",
    "\n",
    "    # the final p update\n",
    "    J3 = J(gs, torch.squeeze(q))\n",
    "    G = J3\n",
    "    L3 = torch.eye(len(q_init)) - torch.transpose(G,0,1) @ torch.inverse(G@ torch.inverse(M)@ torch.transpose(G,0,1)) @ G @ torch.inverse(M)\n",
    "    p -=  h/2 * L3 @ F(q)\n",
    "    #print(f\"F = {F(q)}\")\n",
    "    #print(f\"p4 update : { (h/2 * L3 @ F(q))[0]}\")\n",
    "    #print(f\"p4 : {p[0]}\")\n",
    "    return q,p"
   ],
   "metadata": {
    "collapsed": false
   }
  },
  {
   "cell_type": "code",
   "execution_count": 34,
   "outputs": [],
   "source": [
    "def gBAOAB_step_exact_v(q_init,p_init,F, gs, h,M, gamma, k):\n",
    "    kr = 3\n",
    "    print(f\"q = {q_init[0]}\")\n",
    "    #print(f\"Force = {F(q_init)[0]}\")\n",
    "    # Computing diagonalization\n",
    "    evalues, evectors = np.linalg.eig(M)\n",
    "    # Ensuring square root matrix exists\n",
    "    evalues =np.real(evalues)\n",
    "    evectors = np.real(evectors)\n",
    "    evalues = evalues*(1- np.isclose(evalues, np.zeros_like(evalues), atol = np.finfo(float).eps))\n",
    "    print(f\"Eigenvalues = {evalues}\")\n",
    "    #assert (evalues >= 0).all()\n",
    "    sqrt_M = evectors * np.sqrt(evalues) @ np.linalg.inv(evectors)\n",
    "\n",
    "    # setting up variables\n",
    "    R = torch.randn(len(q_init))\n",
    "    p = p_init\n",
    "    q = q_init\n",
    "    a2 = torch.exp(torch.tensor(-gamma*h))\n",
    "    b2 = torch.sqrt(k*(1-a2**(2)))\n",
    "\n",
    "    #print(sqrt_M)\n",
    "    # doing the initial p-update\n",
    "    J1 = J(gs, torch.squeeze(q))\n",
    "    G = J1\n",
    "    L1 = torch.eye(len(q_init)) - torch.transpose(G,0,1) @ torch.inverse(G@ torch.inverse(M)@ torch.transpose(G,0,1)) @ G @ torch.inverse(M)\n",
    "    p -=  h/2 * L1 @ F(q)\n",
    "    #print(f\"p1 update = { (h/2 * L1 @ F(q))[0] }\")\n",
    "    print(f\"p1 = {p[0]}\")\n",
    "    #print(f\"Force = {F(q)}\")\n",
    "\n",
    "    # doing the first RATTLE step\n",
    "    for i in range(kr):\n",
    "        q, p = rattle_step(q, p, h/(2*kr), M, gs, 10**(-2) , torch.zeros(len(q)))\n",
    "    print(f\"q1 = {q[0]}\")\n",
    "    #print(f\"p2 = {p[0]}\")\n",
    "    #print(f\"q1 = {q}\")\n",
    "\n",
    "    # the second p-update - (O-step in BAOAB)\n",
    "    J2 = J(gs, torch.squeeze(q))\n",
    "    G = J2\n",
    "    L2 = torch.eye(len(q_init)) - torch.transpose(G,0,1) @ torch.inverse(G@ torch.inverse(M)@ torch.transpose(G,0,1)) @ G @ torch.inverse(M)\n",
    "    p = a2* p + b2* sqrt_M @L2 @ sqrt_M @ R\n",
    "    #print(f\"p3 = {p[0]}\")\n",
    "\n",
    "    # doing the second RATTLE step\n",
    "    for i in range(kr):\n",
    "        q, p = rattle_step(q, p, h/(2*kr), M, gs, 10**(-2) , torch.zeros(len(q)))\n",
    "    #print(f\"q1 = {q}\")\n",
    "    #print(f\"q2 = {q[0]}\")\n",
    "\n",
    "    # the final p update\n",
    "    J3 = J(gs, torch.squeeze(q))\n",
    "    G = J3\n",
    "    L3 = torch.eye(len(q_init)) - torch.transpose(G,0,1) @ torch.inverse(G@ torch.inverse(M)@ torch.transpose(G,0,1)) @ G @ torch.inverse(M)\n",
    "    p -=  h/2 * L3 @ F(q)\n",
    "    #print(f\"F = {F(q)}\")\n",
    "    #print(f\"p4 update : { (h/2 * L3 @ F(q))[0]}\")\n",
    "    print(f\"p4 : {p[0]}\")\n",
    "    return q,p"
   ],
   "metadata": {
    "collapsed": false
   }
  },
  {
   "cell_type": "code",
   "execution_count": 35,
   "outputs": [],
   "source": [
    "def gBAOAB_integrator(q_init,p_init,F, gs, h,M, gamma, k, steps, kr, error):\n",
    "    positions = []\n",
    "    velocities = []\n",
    "    q = q_init\n",
    "    p = p_init\n",
    "    for i in range(steps):\n",
    "        print(f\"STEP {i}\")\n",
    "        q, p = gBAOAB_step_exact(q,p, F,gs, h,M, gamma, k,kr, error)\n",
    "        positions.append(q)\n",
    "        velocities.append(p)\n",
    "    return positions, velocities"
   ],
   "metadata": {
    "collapsed": false
   }
  },
  {
   "cell_type": "code",
   "execution_count": 36,
   "outputs": [],
   "source": [
    "def gBAOAB_integrator_old(q_init,p_init,F, gs, h,M, gamma, k, steps):\n",
    "    positions = []\n",
    "    velocities = []\n",
    "    q = q_init\n",
    "    p = p_init\n",
    "    for i in range(steps):\n",
    "        #print(f\"STEP {i}\")\n",
    "        q, p = gBAOAB_step_exact(q,p, F,gs, h,M, gamma, k)\n",
    "        positions.append(q)\n",
    "        velocities.append(p)\n",
    "    return positions, velocities"
   ],
   "metadata": {
    "collapsed": false
   }
  },
  {
   "cell_type": "code",
   "execution_count": 37,
   "outputs": [],
   "source": [
    "def gBAOAB_integrator_v(q_init,p_init,F, gs, h,M, gamma, k, steps):\n",
    "    positions = []\n",
    "    velocities = []\n",
    "    q = q_init\n",
    "    p = p_init\n",
    "    for i in range(steps):\n",
    "        print(f\"STEP {i}\")\n",
    "        q, p = gBAOAB_step_exact_v(q,p, F,gs, h,M, gamma, k)\n",
    "        positions.append(q)\n",
    "        velocities.append(p)\n",
    "    return positions, velocities"
   ],
   "metadata": {
    "collapsed": false
   }
  },
  {
   "cell_type": "code",
   "execution_count": 38,
   "outputs": [],
   "source": [
    "def gBAOAB_integrator_mass(q_init,p_init,F, gs, h,M, gamma, k, steps):\n",
    "    positions = []\n",
    "    velocities = []\n",
    "    q = q_init\n",
    "    p = p_init\n",
    "    for i in range(steps):\n",
    "        m = M(q)\n",
    "        q, p = gBAOAB_step_exact(q,p, F,gs, h,m, gamma, k)\n",
    "        positions.append(q)\n",
    "        velocities.append(p)\n",
    "\n",
    "    return positions, velocities"
   ],
   "metadata": {
    "collapsed": false
   }
  },
  {
   "cell_type": "markdown",
   "source": [
    "~# Normal Distribution"
   ],
   "metadata": {
    "collapsed": false
   }
  },
  {
   "cell_type": "code",
   "execution_count": 39,
   "outputs": [],
   "source": [
    "def potential_norm(x):\n",
    "    return -torch.log((torch.tensor([2])* torch.pi)**(-2) * torch.exp(-1/2 * x[0]**2))\n",
    "\n",
    "def force_norm(x):\n",
    "    return torch.squeeze(jacobian(potential_norm, x),0)\n",
    "\n",
    "x_init = torch.tensor([[1.],[0.]], requires_grad=True)\n",
    "v_init = torch.tensor([[0.],[0.]])\n",
    "h = 2 ** (-6)\n",
    "gs = [lambda x: x[0] ** 2 + x[1] ** 2 - 1 ]\n",
    "M = torch.eye(2)\n",
    "lamb = torch.tensor([0.])\n",
    "its = 1000\n",
    "positions_norm, velocities_norm = gBAOAB_integrator(x_init,v_init, force_norm,gs, h,M, 1, 1, 2)"
   ],
   "metadata": {
    "collapsed": false
   }
  },
  {
   "cell_type": "code",
   "execution_count": 40,
   "outputs": [
    {
     "ename": "RuntimeError",
     "evalue": "Can't call numpy() on Tensor that requires grad. Use tensor.detach().numpy() instead.",
     "output_type": "error",
     "traceback": [
      "\u001B[1;31m---------------------------------------------------------------------------\u001B[0m",
      "\u001B[1;31mAttributeError\u001B[0m                            Traceback (most recent call last)",
      "File \u001B[1;32m~\\Desktop\\Project\\venv\\lib\\site-packages\\numpy\\lib\\histograms.py:967\u001B[0m, in \u001B[0;36mhistogramdd\u001B[1;34m(sample, bins, range, density, weights)\u001B[0m\n\u001B[0;32m    965\u001B[0m \u001B[38;5;28;01mtry\u001B[39;00m:\n\u001B[0;32m    966\u001B[0m     \u001B[38;5;66;03m# Sample is an ND-array.\u001B[39;00m\n\u001B[1;32m--> 967\u001B[0m     N, D \u001B[38;5;241m=\u001B[39m \u001B[43msample\u001B[49m\u001B[38;5;241;43m.\u001B[39;49m\u001B[43mshape\u001B[49m\n\u001B[0;32m    968\u001B[0m \u001B[38;5;28;01mexcept\u001B[39;00m (\u001B[38;5;167;01mAttributeError\u001B[39;00m, \u001B[38;5;167;01mValueError\u001B[39;00m):\n\u001B[0;32m    969\u001B[0m     \u001B[38;5;66;03m# Sample is a sequence of 1D arrays.\u001B[39;00m\n",
      "\u001B[1;31mAttributeError\u001B[0m: 'list' object has no attribute 'shape'",
      "\nDuring handling of the above exception, another exception occurred:\n",
      "\u001B[1;31mRuntimeError\u001B[0m                              Traceback (most recent call last)",
      "Cell \u001B[1;32mIn[40], line 4\u001B[0m\n\u001B[0;32m      1\u001B[0m xs \u001B[38;5;241m=\u001B[39m [pos[\u001B[38;5;241m0\u001B[39m] \u001B[38;5;28;01mfor\u001B[39;00m pos \u001B[38;5;129;01min\u001B[39;00m positions_norm]\n\u001B[0;32m      2\u001B[0m ys \u001B[38;5;241m=\u001B[39m [pos[\u001B[38;5;241m1\u001B[39m] \u001B[38;5;28;01mfor\u001B[39;00m pos \u001B[38;5;129;01min\u001B[39;00m positions_norm]\n\u001B[1;32m----> 4\u001B[0m H, xedges, yedges, _ \u001B[38;5;241m=\u001B[39m \u001B[43mplt\u001B[49m\u001B[38;5;241;43m.\u001B[39;49m\u001B[43mhist2d\u001B[49m\u001B[43m(\u001B[49m\u001B[43mxs\u001B[49m\u001B[43m,\u001B[49m\u001B[43mys\u001B[49m\u001B[43m,\u001B[49m\u001B[43m \u001B[49m\u001B[43mbins\u001B[49m\u001B[43m \u001B[49m\u001B[38;5;241;43m=\u001B[39;49m\u001B[43m \u001B[49m\u001B[38;5;241;43m100\u001B[39;49m\u001B[43m,\u001B[49m\u001B[38;5;28;43mrange\u001B[39;49m\u001B[43m \u001B[49m\u001B[38;5;241;43m=\u001B[39;49m\u001B[43m \u001B[49m\u001B[43m[\u001B[49m\u001B[43m[\u001B[49m\u001B[38;5;241;43m-\u001B[39;49m\u001B[38;5;241;43m1.5\u001B[39;49m\u001B[43m,\u001B[49m\u001B[43m \u001B[49m\u001B[38;5;241;43m1.5\u001B[39;49m\u001B[43m]\u001B[49m\u001B[43m,\u001B[49m\u001B[43m \u001B[49m\u001B[43m[\u001B[49m\u001B[38;5;241;43m-\u001B[39;49m\u001B[38;5;241;43m1.5\u001B[39;49m\u001B[43m,\u001B[49m\u001B[43m \u001B[49m\u001B[38;5;241;43m1.5\u001B[39;49m\u001B[43m]\u001B[49m\u001B[43m]\u001B[49m\u001B[43m,\u001B[49m\u001B[43mcmap\u001B[49m\u001B[38;5;241;43m=\u001B[39;49m\u001B[43mplt\u001B[49m\u001B[38;5;241;43m.\u001B[39;49m\u001B[43mcm\u001B[49m\u001B[38;5;241;43m.\u001B[39;49m\u001B[43mReds\u001B[49m\u001B[43m)\u001B[49m\n",
      "File \u001B[1;32m~\\Desktop\\Project\\venv\\lib\\site-packages\\matplotlib\\pyplot.py:2669\u001B[0m, in \u001B[0;36mhist2d\u001B[1;34m(x, y, bins, range, density, weights, cmin, cmax, data, **kwargs)\u001B[0m\n\u001B[0;32m   2665\u001B[0m \u001B[38;5;129m@_copy_docstring_and_deprecators\u001B[39m(Axes\u001B[38;5;241m.\u001B[39mhist2d)\n\u001B[0;32m   2666\u001B[0m \u001B[38;5;28;01mdef\u001B[39;00m \u001B[38;5;21mhist2d\u001B[39m(\n\u001B[0;32m   2667\u001B[0m         x, y, bins\u001B[38;5;241m=\u001B[39m\u001B[38;5;241m10\u001B[39m, \u001B[38;5;28mrange\u001B[39m\u001B[38;5;241m=\u001B[39m\u001B[38;5;28;01mNone\u001B[39;00m, density\u001B[38;5;241m=\u001B[39m\u001B[38;5;28;01mFalse\u001B[39;00m, weights\u001B[38;5;241m=\u001B[39m\u001B[38;5;28;01mNone\u001B[39;00m,\n\u001B[0;32m   2668\u001B[0m         cmin\u001B[38;5;241m=\u001B[39m\u001B[38;5;28;01mNone\u001B[39;00m, cmax\u001B[38;5;241m=\u001B[39m\u001B[38;5;28;01mNone\u001B[39;00m, \u001B[38;5;241m*\u001B[39m, data\u001B[38;5;241m=\u001B[39m\u001B[38;5;28;01mNone\u001B[39;00m, \u001B[38;5;241m*\u001B[39m\u001B[38;5;241m*\u001B[39mkwargs):\n\u001B[1;32m-> 2669\u001B[0m     __ret \u001B[38;5;241m=\u001B[39m gca()\u001B[38;5;241m.\u001B[39mhist2d(\n\u001B[0;32m   2670\u001B[0m         x, y, bins\u001B[38;5;241m=\u001B[39mbins, \u001B[38;5;28mrange\u001B[39m\u001B[38;5;241m=\u001B[39m\u001B[38;5;28mrange\u001B[39m, density\u001B[38;5;241m=\u001B[39mdensity,\n\u001B[0;32m   2671\u001B[0m         weights\u001B[38;5;241m=\u001B[39mweights, cmin\u001B[38;5;241m=\u001B[39mcmin, cmax\u001B[38;5;241m=\u001B[39mcmax,\n\u001B[0;32m   2672\u001B[0m         \u001B[38;5;241m*\u001B[39m\u001B[38;5;241m*\u001B[39m({\u001B[38;5;124m\"\u001B[39m\u001B[38;5;124mdata\u001B[39m\u001B[38;5;124m\"\u001B[39m: data} \u001B[38;5;28;01mif\u001B[39;00m data \u001B[38;5;129;01mis\u001B[39;00m \u001B[38;5;129;01mnot\u001B[39;00m \u001B[38;5;28;01mNone\u001B[39;00m \u001B[38;5;28;01melse\u001B[39;00m {}), \u001B[38;5;241m*\u001B[39m\u001B[38;5;241m*\u001B[39mkwargs)\n\u001B[0;32m   2673\u001B[0m     sci(__ret[\u001B[38;5;241m-\u001B[39m\u001B[38;5;241m1\u001B[39m])\n\u001B[0;32m   2674\u001B[0m     \u001B[38;5;28;01mreturn\u001B[39;00m __ret\n",
      "File \u001B[1;32m~\\Desktop\\Project\\venv\\lib\\site-packages\\matplotlib\\__init__.py:1461\u001B[0m, in \u001B[0;36m_preprocess_data.<locals>.inner\u001B[1;34m(ax, data, *args, **kwargs)\u001B[0m\n\u001B[0;32m   1458\u001B[0m \u001B[38;5;129m@functools\u001B[39m\u001B[38;5;241m.\u001B[39mwraps(func)\n\u001B[0;32m   1459\u001B[0m \u001B[38;5;28;01mdef\u001B[39;00m \u001B[38;5;21minner\u001B[39m(ax, \u001B[38;5;241m*\u001B[39margs, data\u001B[38;5;241m=\u001B[39m\u001B[38;5;28;01mNone\u001B[39;00m, \u001B[38;5;241m*\u001B[39m\u001B[38;5;241m*\u001B[39mkwargs):\n\u001B[0;32m   1460\u001B[0m     \u001B[38;5;28;01mif\u001B[39;00m data \u001B[38;5;129;01mis\u001B[39;00m \u001B[38;5;28;01mNone\u001B[39;00m:\n\u001B[1;32m-> 1461\u001B[0m         \u001B[38;5;28;01mreturn\u001B[39;00m func(ax, \u001B[38;5;241m*\u001B[39m\u001B[38;5;28mmap\u001B[39m(sanitize_sequence, args), \u001B[38;5;241m*\u001B[39m\u001B[38;5;241m*\u001B[39mkwargs)\n\u001B[0;32m   1463\u001B[0m     bound \u001B[38;5;241m=\u001B[39m new_sig\u001B[38;5;241m.\u001B[39mbind(ax, \u001B[38;5;241m*\u001B[39margs, \u001B[38;5;241m*\u001B[39m\u001B[38;5;241m*\u001B[39mkwargs)\n\u001B[0;32m   1464\u001B[0m     auto_label \u001B[38;5;241m=\u001B[39m (bound\u001B[38;5;241m.\u001B[39marguments\u001B[38;5;241m.\u001B[39mget(label_namer)\n\u001B[0;32m   1465\u001B[0m                   \u001B[38;5;129;01mor\u001B[39;00m bound\u001B[38;5;241m.\u001B[39mkwargs\u001B[38;5;241m.\u001B[39mget(label_namer))\n",
      "File \u001B[1;32m~\\Desktop\\Project\\venv\\lib\\site-packages\\matplotlib\\axes\\_axes.py:7128\u001B[0m, in \u001B[0;36mAxes.hist2d\u001B[1;34m(self, x, y, bins, range, density, weights, cmin, cmax, **kwargs)\u001B[0m\n\u001B[0;32m   7035\u001B[0m \u001B[38;5;129m@_preprocess_data\u001B[39m(replace_names\u001B[38;5;241m=\u001B[39m[\u001B[38;5;124m\"\u001B[39m\u001B[38;5;124mx\u001B[39m\u001B[38;5;124m\"\u001B[39m, \u001B[38;5;124m\"\u001B[39m\u001B[38;5;124my\u001B[39m\u001B[38;5;124m\"\u001B[39m, \u001B[38;5;124m\"\u001B[39m\u001B[38;5;124mweights\u001B[39m\u001B[38;5;124m\"\u001B[39m])\n\u001B[0;32m   7036\u001B[0m \u001B[38;5;129m@_docstring\u001B[39m\u001B[38;5;241m.\u001B[39mdedent_interpd\n\u001B[0;32m   7037\u001B[0m \u001B[38;5;28;01mdef\u001B[39;00m \u001B[38;5;21mhist2d\u001B[39m(\u001B[38;5;28mself\u001B[39m, x, y, bins\u001B[38;5;241m=\u001B[39m\u001B[38;5;241m10\u001B[39m, \u001B[38;5;28mrange\u001B[39m\u001B[38;5;241m=\u001B[39m\u001B[38;5;28;01mNone\u001B[39;00m, density\u001B[38;5;241m=\u001B[39m\u001B[38;5;28;01mFalse\u001B[39;00m, weights\u001B[38;5;241m=\u001B[39m\u001B[38;5;28;01mNone\u001B[39;00m,\n\u001B[0;32m   7038\u001B[0m            cmin\u001B[38;5;241m=\u001B[39m\u001B[38;5;28;01mNone\u001B[39;00m, cmax\u001B[38;5;241m=\u001B[39m\u001B[38;5;28;01mNone\u001B[39;00m, \u001B[38;5;241m*\u001B[39m\u001B[38;5;241m*\u001B[39mkwargs):\n\u001B[0;32m   7039\u001B[0m \u001B[38;5;250m    \u001B[39m\u001B[38;5;124;03m\"\"\"\u001B[39;00m\n\u001B[0;32m   7040\u001B[0m \u001B[38;5;124;03m    Make a 2D histogram plot.\u001B[39;00m\n\u001B[0;32m   7041\u001B[0m \n\u001B[1;32m   (...)\u001B[0m\n\u001B[0;32m   7125\u001B[0m \u001B[38;5;124;03m      `.colors.PowerNorm`.\u001B[39;00m\n\u001B[0;32m   7126\u001B[0m \u001B[38;5;124;03m    \"\"\"\u001B[39;00m\n\u001B[1;32m-> 7128\u001B[0m     h, xedges, yedges \u001B[38;5;241m=\u001B[39m \u001B[43mnp\u001B[49m\u001B[38;5;241;43m.\u001B[39;49m\u001B[43mhistogram2d\u001B[49m\u001B[43m(\u001B[49m\u001B[43mx\u001B[49m\u001B[43m,\u001B[49m\u001B[43m \u001B[49m\u001B[43my\u001B[49m\u001B[43m,\u001B[49m\u001B[43m \u001B[49m\u001B[43mbins\u001B[49m\u001B[38;5;241;43m=\u001B[39;49m\u001B[43mbins\u001B[49m\u001B[43m,\u001B[49m\u001B[43m \u001B[49m\u001B[38;5;28;43mrange\u001B[39;49m\u001B[38;5;241;43m=\u001B[39;49m\u001B[38;5;28;43mrange\u001B[39;49m\u001B[43m,\u001B[49m\n\u001B[0;32m   7129\u001B[0m \u001B[43m                                       \u001B[49m\u001B[43mdensity\u001B[49m\u001B[38;5;241;43m=\u001B[39;49m\u001B[43mdensity\u001B[49m\u001B[43m,\u001B[49m\u001B[43m \u001B[49m\u001B[43mweights\u001B[49m\u001B[38;5;241;43m=\u001B[39;49m\u001B[43mweights\u001B[49m\u001B[43m)\u001B[49m\n\u001B[0;32m   7131\u001B[0m     \u001B[38;5;28;01mif\u001B[39;00m cmin \u001B[38;5;129;01mis\u001B[39;00m \u001B[38;5;129;01mnot\u001B[39;00m \u001B[38;5;28;01mNone\u001B[39;00m:\n\u001B[0;32m   7132\u001B[0m         h[h \u001B[38;5;241m<\u001B[39m cmin] \u001B[38;5;241m=\u001B[39m \u001B[38;5;28;01mNone\u001B[39;00m\n",
      "File \u001B[1;32m~\\Desktop\\Project\\venv\\lib\\site-packages\\numpy\\lib\\twodim_base.py:808\u001B[0m, in \u001B[0;36mhistogram2d\u001B[1;34m(x, y, bins, range, density, weights)\u001B[0m\n\u001B[0;32m    806\u001B[0m     xedges \u001B[38;5;241m=\u001B[39m yedges \u001B[38;5;241m=\u001B[39m asarray(bins)\n\u001B[0;32m    807\u001B[0m     bins \u001B[38;5;241m=\u001B[39m [xedges, yedges]\n\u001B[1;32m--> 808\u001B[0m hist, edges \u001B[38;5;241m=\u001B[39m \u001B[43mhistogramdd\u001B[49m\u001B[43m(\u001B[49m\u001B[43m[\u001B[49m\u001B[43mx\u001B[49m\u001B[43m,\u001B[49m\u001B[43m \u001B[49m\u001B[43my\u001B[49m\u001B[43m]\u001B[49m\u001B[43m,\u001B[49m\u001B[43m \u001B[49m\u001B[43mbins\u001B[49m\u001B[43m,\u001B[49m\u001B[43m \u001B[49m\u001B[38;5;28;43mrange\u001B[39;49m\u001B[43m,\u001B[49m\u001B[43m \u001B[49m\u001B[43mdensity\u001B[49m\u001B[43m,\u001B[49m\u001B[43m \u001B[49m\u001B[43mweights\u001B[49m\u001B[43m)\u001B[49m\n\u001B[0;32m    809\u001B[0m \u001B[38;5;28;01mreturn\u001B[39;00m hist, edges[\u001B[38;5;241m0\u001B[39m], edges[\u001B[38;5;241m1\u001B[39m]\n",
      "File \u001B[1;32m~\\Desktop\\Project\\venv\\lib\\site-packages\\numpy\\lib\\histograms.py:970\u001B[0m, in \u001B[0;36mhistogramdd\u001B[1;34m(sample, bins, range, density, weights)\u001B[0m\n\u001B[0;32m    967\u001B[0m     N, D \u001B[38;5;241m=\u001B[39m sample\u001B[38;5;241m.\u001B[39mshape\n\u001B[0;32m    968\u001B[0m \u001B[38;5;28;01mexcept\u001B[39;00m (\u001B[38;5;167;01mAttributeError\u001B[39;00m, \u001B[38;5;167;01mValueError\u001B[39;00m):\n\u001B[0;32m    969\u001B[0m     \u001B[38;5;66;03m# Sample is a sequence of 1D arrays.\u001B[39;00m\n\u001B[1;32m--> 970\u001B[0m     sample \u001B[38;5;241m=\u001B[39m \u001B[43mnp\u001B[49m\u001B[38;5;241;43m.\u001B[39;49m\u001B[43matleast_2d\u001B[49m\u001B[43m(\u001B[49m\u001B[43msample\u001B[49m\u001B[43m)\u001B[49m\u001B[38;5;241m.\u001B[39mT\n\u001B[0;32m    971\u001B[0m     N, D \u001B[38;5;241m=\u001B[39m sample\u001B[38;5;241m.\u001B[39mshape\n\u001B[0;32m    973\u001B[0m nbin \u001B[38;5;241m=\u001B[39m np\u001B[38;5;241m.\u001B[39mempty(D, np\u001B[38;5;241m.\u001B[39mintp)\n",
      "File \u001B[1;32m~\\Desktop\\Project\\venv\\lib\\site-packages\\numpy\\core\\shape_base.py:121\u001B[0m, in \u001B[0;36matleast_2d\u001B[1;34m(*arys)\u001B[0m\n\u001B[0;32m    119\u001B[0m res \u001B[38;5;241m=\u001B[39m []\n\u001B[0;32m    120\u001B[0m \u001B[38;5;28;01mfor\u001B[39;00m ary \u001B[38;5;129;01min\u001B[39;00m arys:\n\u001B[1;32m--> 121\u001B[0m     ary \u001B[38;5;241m=\u001B[39m \u001B[43masanyarray\u001B[49m\u001B[43m(\u001B[49m\u001B[43mary\u001B[49m\u001B[43m)\u001B[49m\n\u001B[0;32m    122\u001B[0m     \u001B[38;5;28;01mif\u001B[39;00m ary\u001B[38;5;241m.\u001B[39mndim \u001B[38;5;241m==\u001B[39m \u001B[38;5;241m0\u001B[39m:\n\u001B[0;32m    123\u001B[0m         result \u001B[38;5;241m=\u001B[39m ary\u001B[38;5;241m.\u001B[39mreshape(\u001B[38;5;241m1\u001B[39m, \u001B[38;5;241m1\u001B[39m)\n",
      "File \u001B[1;32m~\\Desktop\\Project\\venv\\lib\\site-packages\\torch\\_tensor.py:970\u001B[0m, in \u001B[0;36mTensor.__array__\u001B[1;34m(self, dtype)\u001B[0m\n\u001B[0;32m    968\u001B[0m     \u001B[38;5;28;01mreturn\u001B[39;00m handle_torch_function(Tensor\u001B[38;5;241m.\u001B[39m__array__, (\u001B[38;5;28mself\u001B[39m,), \u001B[38;5;28mself\u001B[39m, dtype\u001B[38;5;241m=\u001B[39mdtype)\n\u001B[0;32m    969\u001B[0m \u001B[38;5;28;01mif\u001B[39;00m dtype \u001B[38;5;129;01mis\u001B[39;00m \u001B[38;5;28;01mNone\u001B[39;00m:\n\u001B[1;32m--> 970\u001B[0m     \u001B[38;5;28;01mreturn\u001B[39;00m \u001B[38;5;28;43mself\u001B[39;49m\u001B[38;5;241;43m.\u001B[39;49m\u001B[43mnumpy\u001B[49m\u001B[43m(\u001B[49m\u001B[43m)\u001B[49m\n\u001B[0;32m    971\u001B[0m \u001B[38;5;28;01melse\u001B[39;00m:\n\u001B[0;32m    972\u001B[0m     \u001B[38;5;28;01mreturn\u001B[39;00m \u001B[38;5;28mself\u001B[39m\u001B[38;5;241m.\u001B[39mnumpy()\u001B[38;5;241m.\u001B[39mastype(dtype, copy\u001B[38;5;241m=\u001B[39m\u001B[38;5;28;01mFalse\u001B[39;00m)\n",
      "\u001B[1;31mRuntimeError\u001B[0m: Can't call numpy() on Tensor that requires grad. Use tensor.detach().numpy() instead."
     ]
    },
    {
     "data": {
      "text/plain": "<Figure size 640x480 with 1 Axes>",
      "image/png": "[encoded data removed]"
     },
     "metadata": {},
     "output_type": "display_data"
    }
   ],
   "source": [
    "xs = [pos[0] for pos in positions_norm]\n",
    "ys = [pos[1] for pos in positions_norm]\n",
    "\n",
    "H, xedges, yedges, _ = plt.hist2d(xs,ys, bins = 100,range = [[-1.5, 1.5], [-1.5, 1.5]],cmap=plt.cm.Reds)"
   ],
   "metadata": {
    "collapsed": false
   }
  },
  {
   "cell_type": "code",
   "execution_count": null,
   "outputs": [],
   "source": [
    "np.shape(H)"
   ],
   "metadata": {
    "collapsed": false
   }
  },
  {
   "cell_type": "code",
   "execution_count": null,
   "outputs": [],
   "source": [
    "xs_norm = [v[0] for v in velocities_norm]\n",
    "ys_norm = [v[1] for v in velocities_norm]\n",
    "plt.plot(xs, label = 'x velocity')\n",
    "plt.plot(ys, label = 'y velocity')\n",
    "plt.title(\"Velocities for the normal distribution\")\n",
    "plt.legend()"
   ],
   "metadata": {
    "collapsed": false
   }
  },
  {
   "cell_type": "code",
   "execution_count": null,
   "outputs": [],
   "source": [
    "potentials_norm =  [potential_norm(pos).numpy() for pos in positions_norm]\n",
    "potentials_norm = xs\n",
    "avgs_norm=np.cumsum(potentials_norm)/range(1,len(potentials_norm)+1)\n",
    "plt.plot(avgs_norm)\n",
    "plt.title(\"Cumulative average potential for the Normal distribution\")"
   ],
   "metadata": {
    "collapsed": false
   }
  },
  {
   "cell_type": "markdown",
   "source": [
    "# Bingham- Von Mises- Fisher Distribution"
   ],
   "metadata": {
    "collapsed": false
   }
  },
  {
   "cell_type": "code",
   "execution_count": null,
   "outputs": [],
   "source": [
    "c = torch.tensor([1.,.5])\n",
    "A = torch.tensor([[1.,2.],[2.,1.]])\n",
    "def potential_BVMF(x):\n",
    "    return -c@x - torch.squeeze(A@x)@x\n",
    "\n",
    "def force_BVMF(x):\n",
    "    return torch.squeeze(jacobian(potential_BVMF, x), dim = 0)\n",
    "\n",
    "x_init = torch.tensor([[1.],[0.]])\n",
    "v_init = torch.tensor([[0.],[0.]])\n",
    "h = 2 ** (-6)\n",
    "gs = [lambda x: x[0] ** 2 + x[1] ** 2 - 1 ]\n",
    "M = torch.eye(2)\n",
    "lamb = torch.tensor([0.])\n",
    "\n",
    "positions_BVMF, velocities_BVMF = gBAOAB_integrator(x_init,v_init, force_BVMF,gs, h,M, 1, 1, 1000)"
   ],
   "metadata": {
    "collapsed": false
   }
  },
  {
   "cell_type": "code",
   "execution_count": null,
   "outputs": [],
   "source": [
    "xs_BVMF = [pos[0] for pos in positions_BVMF]\n",
    "ys_BVMF = [pos[1] for pos in positions_BVMF]\n",
    "\n",
    "H, xedges, yedges, _ = plt.hist2d(xs_BVMF,ys_BVMF, bins = 100,range = [[-1.5, 1.5], [-1.5, 1.5]],cmap=plt.cm.Reds)"
   ],
   "metadata": {
    "collapsed": false
   }
  },
  {
   "cell_type": "code",
   "execution_count": null,
   "outputs": [],
   "source": [
    "vxs_BVMF = [v[0] for v in velocities_BVMF]\n",
    "vys_BVMF = [v[1] for v in velocities_BVMF]\n",
    "plt.plot(vxs_BVMF, label = 'x velocity')\n",
    "plt.plot(vys_BVMF, label = 'y velocity')\n",
    "plt.title(\"Velocities for the Bingham- Von Mises- Fisher\")\n",
    "plt.legend()"
   ],
   "metadata": {
    "collapsed": false
   }
  },
  {
   "cell_type": "code",
   "execution_count": null,
   "outputs": [],
   "source": [
    "potentials_BVMF=  [potential_BVMF(pos).numpy() for pos in positions_BVMF]\n",
    "avgs_BVMF=np.cumsum(potentials_BVMF)/range(1,len(potentials_BVMF)+1)\n",
    "plt.plot(avgs_BVMF)\n",
    "plt.title(\"Cumulative average potential for the Bingham- Von Mises- Distribution\")"
   ],
   "metadata": {
    "collapsed": false
   }
  },
  {
   "cell_type": "markdown",
   "source": [
    "# Profiling"
   ],
   "metadata": {
    "collapsed": false
   }
  },
  {
   "cell_type": "markdown",
   "source": [
    "## CPU"
   ],
   "metadata": {
    "collapsed": false
   },
   "execution_count": 97
  },
  {
   "cell_type": "code",
   "execution_count": null,
   "outputs": [],
   "source": [
    "import time"
   ],
   "metadata": {
    "collapsed": false
   }
  },
  {
   "cell_type": "code",
   "execution_count": null,
   "outputs": [],
   "source": [],
   "metadata": {
    "collapsed": false
   }
  },
  {
   "cell_type": "code",
   "execution_count": null,
   "outputs": [],
   "source": [
    "cProfile.run('gBAOAB_integrator(x_init,v_init, force_BVMF,gs, h,M, 1, 1, 1000)', 'cpu_gbaoab_1000')\n",
    "p = pstats.Stats('cpu_gbaoab_10000')"
   ],
   "metadata": {
    "collapsed": false
   }
  },
  {
   "cell_type": "code",
   "execution_count": null,
   "outputs": [],
   "source": [
    "stats = p.sort_stats('tottime')\n",
    "stats.print_stats()"
   ],
   "metadata": {
    "collapsed": false
   }
  },
  {
   "cell_type": "markdown",
   "source": [
    "# GPU"
   ],
   "metadata": {
    "collapsed": false
   }
  },
  {
   "cell_type": "code",
   "execution_count": null,
   "outputs": [],
   "source": [
    "torch.set_default_device('cpu')"
   ],
   "metadata": {
    "collapsed": false
   }
  },
  {
   "cell_type": "code",
   "execution_count": null,
   "outputs": [],
   "source": [
    "c = torch.tensor([1.,.5])\n",
    "A = torch.tensor([[1.,2.],[2.,1.]])\n",
    "def potential_BVMF(x):\n",
    "    return -c@x - torch.squeeze(A@x)@x\n",
    "\n",
    "def force_BVMF(x):\n",
    "    return torch.squeeze(jacobian(potential_BVMF, x), dim = 0)\n",
    "\n",
    "x_init = torch.tensor([[1.],[0.]])\n",
    "v_init = torch.tensor([[0.],[0.]])\n",
    "h = 2 ** (-6)\n",
    "gs = [lambda x: x[0] ** 2 + x[1] ** 2 - 1 ]\n",
    "M = torch.eye(2)\n",
    "lamb = torch.tensor([0.])\n",
    "\n",
    "cProfile.run('gBAOAB_integrator(x_init,v_init, force_BVMF,gs, h,M, 1, 1, 1000)', 'gpu_gbaoab_1000')"
   ],
   "metadata": {
    "collapsed": false
   }
  },
  {
   "cell_type": "code",
   "execution_count": null,
   "outputs": [],
   "source": [
    "p1 = pstats.Stats('gpu_gbaoab_1000')\n",
    "stats = p1.sort_stats('tottime')\n",
    "stats.print_stats()"
   ],
   "metadata": {
    "collapsed": false
   }
  },
  {
   "cell_type": "code",
   "execution_count": null,
   "outputs": [],
   "source": [
    "def potential_1(x):\n",
    "    # setting potential to (x^2 -1) + ...\n",
    "    y = torch.squeeze(x**2)\n",
    "    return torch.dot(y-1,y-1)\n",
    "\n",
    "def force_1(x):\n",
    "    return torch.squeeze(jacobian(potential_1, x), dim = 0)\n",
    "\n",
    "x_init = torch.tensor([[1.],[0.], [0.]])\n",
    "v_init = torch.tensor([[0.],[0.],[0.]])\n",
    "h = 2 ** (-6)\n",
    "gs = [lambda x: x[0] ** 2 + x[1]**2 + x[2]** 2 - 1 ]\n",
    "M = torch.eye(2)\n",
    "lamb = torch.tensor([0.])\n",
    "\n",
    "gBAOAB_integrator(x_init,v_init, force_1,gs, h,M, 1, 1, 100)"
   ],
   "metadata": {
    "collapsed": false
   }
  },
  {
   "cell_type": "code",
   "execution_count": null,
   "outputs": [],
   "source": [],
   "metadata": {
    "collapsed": false
   }
  }
 ],
 "metadata": {
  "kernelspec": {
   "display_name": "Python 3",
   "language": "python",
   "name": "python3"
  },
  "language_info": {
   "codemirror_mode": {
    "name": "ipython",
    "version": 2
   },
   "file_extension": ".py",
   "mimetype": "text/x-python",
   "name": "python",
   "nbconvert_exporter": "python",
   "pygments_lexer": "ipython2",
   "version": "2.7.6"
  }
 },
 "nbformat": 4,
 "nbformat_minor": 0
}
