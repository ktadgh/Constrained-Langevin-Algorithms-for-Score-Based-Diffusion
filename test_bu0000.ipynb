{
 "cells": [
  {
   "cell_type": "code",
   "execution_count": 27,
   "metadata": {
    "collapsed": true,
    "ExecuteTime": {
     "end_time": "2023-08-10T16:19:41.098120200Z",
     "start_time": "2023-08-10T16:19:38.905689200Z"
    }
   },
   "outputs": [],
   "source": [
    "import os\n",
    "import json\n",
    "import time\n",
    "from timeit import default_timer as timer\n",
    "import numpy as np\n",
    "import scipy.linalg as la\n",
    "import matplotlib.pyplot as plt\n",
    "from mpl_toolkits.mplot3d import Axes3D\n",
    "import pose_visualisation as vis\n",
    "import reader, helpers\n",
    "import torch, torch.nn\n",
    "import scipy\n",
    "%matplotlib inline\n",
    "torch.set_default_dtype(torch.double)\n",
    "\n",
    "import functools\n",
    "import scipy.io\n",
    "from torch.utils.data import TensorDataset, DataLoader, Dataset\n",
    "from torch.optim import Adam\n",
    "from torch.utils.data import DataLoader\n",
    "import math\n",
    "#from torch.utils.tensorboard import SummaryWriter\n",
    "import matplotlib.pyplot as plt\n",
    "device ='cpu'\n",
    "import numpy as np\n",
    "import torch\n",
    "from torch.autograd.functional import jacobian, hessian\n",
    "torch.set_default_dtype(torch.double)\n",
    "from ipynb.fs.defs.gBAOAB import gBAOAB_integrator, gBAOAB_integrator_mass, gBAOAB_step_exact, rattle_step,gBAOAB_integrator_old\n",
    "from ipywidgets import IntProgress\n",
    "from IPython.display import display\n",
    "import time\n",
    "import random"
   ]
  },
  {
   "cell_type": "code",
   "execution_count": 28,
   "outputs": [
    {
     "data": {
      "text/plain": "2"
     },
     "execution_count": 28,
     "metadata": {},
     "output_type": "execute_result"
    }
   ],
   "source": [
    "torch.set_num_threads(2)\n",
    "torch.get_num_threads()"
   ],
   "metadata": {
    "collapsed": false,
    "ExecuteTime": {
     "end_time": "2023-08-10T16:19:41.098120200Z",
     "start_time": "2023-08-10T16:19:38.924707300Z"
    }
   }
  },
  {
   "cell_type": "code",
   "execution_count": 29,
   "outputs": [],
   "source": [
    "def camera_generator(u, consts):\n",
    "    \"\"\"Generate camera parameters from (log-)normal model.\"\"\"\n",
    "    if u.dim() ==1:\n",
    "        u = u.unsqueeze(0).detach()\n",
    "    cam_foc = torch.ones_like(u[:, 0]) * consts['cam_foc']\n",
    "    cam_pos = torch.concatenate([\n",
    "        consts['cam_pos_x_mean'] + consts['cam_pos_x_std'] * u[:, 0:1],\n",
    "        consts['cam_pos_y_mean'] + consts['cam_pos_y_std'] * u[:, 1:2],\n",
    "        torch.exp(consts['log_cam_pos_z_mean'] +\n",
    "               consts['log_cam_pos_z_std'] * u[:, 2:3])\n",
    "    ], 1)\n",
    "    cam_ang = torch.ones_like(u[:, :3]) * consts['cam_ang']\n",
    "    return cam_foc, cam_pos, cam_ang"
   ],
   "metadata": {
    "collapsed": false,
    "ExecuteTime": {
     "end_time": "2023-08-10T16:19:41.100120700Z",
     "start_time": "2023-08-10T16:19:38.959861300Z"
    }
   }
  },
  {
   "cell_type": "code",
   "execution_count": 30,
   "outputs": [],
   "source": [
    "def camera_matrix_batch(focal_length, position, yaw_pitch_roll):\n",
    "    \"\"\"Get projective camera matrix given pose and focal length (batch).\"\"\"\n",
    "    if position.ndim == 2:\n",
    "        n_batch = position.shape[0]\n",
    "    else:\n",
    "        n_batch = 1\n",
    "        focal_length = focal_length.reshape((1,))\n",
    "        position = position[None, :]\n",
    "        yaw_pitch_roll = yaw_pitch_roll[None, :]\n",
    "    cam_mtx = torch.zeros((n_batch, 3, 4))\n",
    "    rot_mtx = rot_z_batch(yaw_pitch_roll[:, 2])\n",
    "    rot_mtx = torch.bmm(\n",
    "        rot_mtx, rot_x_batch(yaw_pitch_roll[:, 1]))\n",
    "    rot_mtx = torch.bmm(\n",
    "        rot_mtx, rot_y_batch(yaw_pitch_roll[:, 0]))\n",
    "    cam_mtx[:, :, :3]= rot_mtx\n",
    "    cam_mtx[:, :, 3]= position\n",
    "    int_mtx = torch.stack([focal_length, focal_length,\n",
    "                        torch.ones_like(focal_length)])\n",
    "    cam_mtx = (int_mtx * cam_mtx.T).T\n",
    "    return cam_mtx\n"
   ],
   "metadata": {
    "collapsed": false,
    "ExecuteTime": {
     "end_time": "2023-08-10T16:19:41.102514500Z",
     "start_time": "2023-08-10T16:19:38.973544400Z"
    }
   }
  },
  {
   "cell_type": "code",
   "execution_count": 31,
   "outputs": [],
   "source": [
    "def rot_x(ang):\n",
    "    \"\"\"Returns matrix which defines rotation by `ang` about x-axis (0-axis).\"\"\"\n",
    "    s = torch.sin(ang)\n",
    "    c = torch.cos(ang)\n",
    "    return torch.tensor([\n",
    "        1, 0, 0,\n",
    "        0, c, -s,\n",
    "        0, s, c,\n",
    "    ]).reshape((3, 3))\n",
    "\n",
    "\n",
    "def rot_y(ang):\n",
    "    \"\"\"Returns matrix which defines rotation by `ang` about y-axis (1-axis).\"\"\"\n",
    "    s = torch.sin(ang)\n",
    "    c = torch.cos(ang)\n",
    "    return torch.tensor([\n",
    "        c, 0, s,\n",
    "        0, 1, 0,\n",
    "        -s, 0, c,\n",
    "    ]).reshape((3, 3))\n",
    "\n",
    "\n",
    "def rot_z(ang):\n",
    "    \"\"\"Returns matrix which defines rotation by `ang` about z-axis (2-axis).\"\"\"\n",
    "    s = torch.sin(ang)\n",
    "    c = torch.cos(ang)\n",
    "    return torch.tensor([\n",
    "        c, -s, 0,\n",
    "        s, c, 0,\n",
    "        0, 0, 1,\n",
    "    ]).reshape((3, 3))\n",
    "\n",
    "\n",
    "def rot_x_batch(ang):\n",
    "    \"\"\"Returns batch of matrices which defines rotations about x-axis (0).\"\"\"\n",
    "    s = torch.sin(ang)\n",
    "    c = torch.cos(ang)\n",
    "    rot = torch.eye(3).unsqueeze(0).repeat(ang.shape[0], 1, 1)\n",
    "    rot[:, 1, 1]=c\n",
    "    rot[:, 1, 2]= -s\n",
    "    rot[:, 2, 1]= s\n",
    "    rot[:, 2, 2]= c\n",
    "    return rot\n",
    "\n",
    "\n",
    "def rot_y_batch(ang):\n",
    "    \"\"\"Returns batch of matrices which defines rotations about y-axis (1).\"\"\"\n",
    "    s = torch.sin(ang)\n",
    "    c = torch.cos(ang)\n",
    "    rot = torch.eye(3).unsqueeze(0).repeat(ang.shape[0], 1, 1)\n",
    "    rot[:, 0, 0]= c\n",
    "    rot[:, 0, 2]= s\n",
    "    rot[:, 2, 0]= -s\n",
    "    rot[:, 2, 2]= c\n",
    "    return rot\n",
    "\n",
    "\n",
    "def rot_z_batch(ang):\n",
    "    \"\"\"Returns batch of matrices which defines rotations about z-axis (2).\"\"\"\n",
    "    s = torch.sin(ang)\n",
    "    c = torch.cos(ang)\n",
    "    rot = torch.eye(3).unsqueeze(0).repeat(ang.shape[0], 1, 1)\n",
    "    rot[:, 0, 0]= c\n",
    "    rot[:, 0, 1]= -s\n",
    "    rot[:, 1, 0]=s\n",
    "    rot[:, 1, 1]=c\n",
    "    return rot\n",
    "\n",
    "\n",
    "rotation_map = {\n",
    "    'Xrotation': rot_x,\n",
    "    'Yrotation': rot_y,\n",
    "    'Zrotation': rot_z\n",
    "}\n",
    "rotation_map_batch = {\n",
    "    'Xrotation': rot_x_batch,\n",
    "    'Yrotation': rot_y_batch,\n",
    "    'Zrotation': rot_z_batch\n",
    "}"
   ],
   "metadata": {
    "collapsed": false,
    "ExecuteTime": {
     "end_time": "2023-08-10T16:19:41.155533300Z",
     "start_time": "2023-08-10T16:19:38.992441200Z"
    }
   }
  },
  {
   "cell_type": "code",
   "execution_count": 32,
   "outputs": [],
   "source": [
    "consts = {\n",
    "    'seed': 1234,\n",
    "    'n_joint': 19,\n",
    "    'n_joint_angle': 47,\n",
    "    'n_joint_angle_latent': 30,\n",
    "    'n_bone_length_input': 13,\n",
    "    'n_camera_input': 3,\n",
    "    'output_noise_std': 0.001,\n",
    "    'cam_foc': np.exp(2.),\n",
    "    'cam_pos_x_mean': 0.,\n",
    "    'cam_pos_y_mean': 0.,\n",
    "    'cam_pos_x_std': 0.1,\n",
    "    'cam_pos_y_std': 0.1,\n",
    "    'log_cam_pos_z_mean': 1.5,\n",
    "    'log_cam_pos_z_std': 0.5,\n",
    "    'cam_ang': torch.tensor(np.array([np.pi, 0., 0.])),\n",
    "    'cam_pos_offset': torch.tensor(np.array([0.5, 0., 0.])),\n",
    "    'cam_ang_offset': torch.tensor(np.array([0.0, 0., 0.]))\n",
    "}\n",
    "consts['n_joint_angle_input'] = (\n",
    "    consts['n_joint_angle_latent'] +\n",
    "    consts['n_joint_angle'] * 2)"
   ],
   "metadata": {
    "collapsed": false,
    "ExecuteTime": {
     "end_time": "2023-08-10T16:19:41.269479100Z",
     "start_time": "2023-08-10T16:19:39.022526400Z"
    }
   }
  },
  {
   "cell_type": "code",
   "execution_count": 33,
   "outputs": [],
   "source": [
    "bvh_reader = reader.BvhReader('skeleton.bvh')\n",
    "bvh_reader.read()\n",
    "helpers.process_skeleton(bvh_reader.root)\n",
    "consts['skeleton'] = bvh_reader.root\n",
    "\n",
    "with open('fixed_angles.json', 'r') as f:\n",
    "    consts['fixed_joint_angles'] = json.load(f)"
   ],
   "metadata": {
    "collapsed": false,
    "ExecuteTime": {
     "end_time": "2023-08-10T16:19:41.269479100Z",
     "start_time": "2023-08-10T16:19:39.045320400Z"
    }
   }
  },
  {
   "cell_type": "code",
   "execution_count": 34,
   "outputs": [
    {
     "name": "stdout",
     "output_type": "stream",
     "text": [
      "W_1\n"
     ]
    }
   ],
   "source": [
    "with np.load('params.npz') as f:\n",
    "    l = 1\n",
    "    #print(f['W_{0}'.format(l)])\n",
    "    print('W_{0}'.format(l))"
   ],
   "metadata": {
    "collapsed": false,
    "ExecuteTime": {
     "end_time": "2023-08-10T16:19:41.270508500Z",
     "start_time": "2023-08-10T16:19:39.060905800Z"
    }
   }
  },
  {
   "cell_type": "code",
   "execution_count": 35,
   "outputs": [],
   "source": [
    "with np.load('params.npz') as f:\n",
    "    num_layers = 7\n",
    "    consts['joint_angles_vae_decoder_layers'] = []\n",
    "    for l in range(num_layers):\n",
    "        weight = torch.tensor(f['W_{0}'.format(l)])\n",
    "        bias = torch.tensor(f['b_{0}'.format(l)])\n",
    "\n",
    "        linear_layer = torch.nn.Linear(weight.size(0), weight.size(1))\n",
    "        linear_layer.weight.data = weight\n",
    "        linear_layer.bias.data = bias\n",
    "        if l != num_layers - 1:\n",
    "            nonlinearity = torch.nn.Tanh()\n",
    "        else:\n",
    "            nonlinearity = torch.nn.Identity()\n",
    "        consts['joint_angles_vae_decoder_layers'].append({\n",
    "            'linear_layer': linear_layer,\n",
    "            'nonlinearity': nonlinearity })"
   ],
   "metadata": {
    "collapsed": false,
    "ExecuteTime": {
     "end_time": "2023-08-10T16:19:41.831286100Z",
     "start_time": "2023-08-10T16:19:39.074640100Z"
    }
   }
  },
  {
   "cell_type": "code",
   "execution_count": 35,
   "outputs": [],
   "source": [],
   "metadata": {
    "collapsed": false,
    "ExecuteTime": {
     "end_time": "2023-08-10T16:19:41.832286Z",
     "start_time": "2023-08-10T16:19:39.129115500Z"
    }
   }
  },
  {
   "cell_type": "code",
   "execution_count": 36,
   "outputs": [],
   "source": [
    "consts['joints_to_skip'] = [\n",
    "    'hips',\n",
    "    'leftshoulder',\n",
    "    'rightshoulder',\n",
    "    'lefthandthumb1',\n",
    "    'righthandthumb1',\n",
    "    'lefthandthumb1endsite',\n",
    "    'righthandthumb1endsite',\n",
    "    'lefttoebaseendsite',\n",
    "    'righttoebaseendsite'\n",
    "]\n",
    "lengths_model_params = np.load('params2.npz')\n",
    "consts['log_lengths_covar'] = torch.tensor(lengths_model_params['covar'])\n",
    "consts['log_lengths_covar_chol'] = torch.tensor(la.cholesky(lengths_model_params['covar']))\n",
    "consts['log_lengths_mean'] = torch.tensor(lengths_model_params['mean'])"
   ],
   "metadata": {
    "collapsed": false,
    "ExecuteTime": {
     "end_time": "2023-08-10T16:19:42.279399700Z",
     "start_time": "2023-08-10T16:19:39.147392900Z"
    }
   }
  },
  {
   "cell_type": "code",
   "execution_count": 37,
   "outputs": [],
   "source": [
    "with open('lengths_order.json', 'r') as f:\n",
    "    lengths_order = json.load(f)\n",
    "    consts['bone_lengths_map'] = {\n",
    "    node_name: lengths_order[length_name]\n",
    "    for node_name, length_name\n",
    "    in helpers.bone_lengths_map.items()\n",
    "    if node_name not in ['lefthandthumb1endsite', 'righthandthumb1endsite']\n",
    "}"
   ],
   "metadata": {
    "collapsed": false,
    "ExecuteTime": {
     "end_time": "2023-08-10T16:19:42.280398900Z",
     "start_time": "2023-08-10T16:19:39.185601200Z"
    }
   }
  },
  {
   "cell_type": "code",
   "execution_count": 38,
   "outputs": [],
   "source": [
    "rng = np.random.RandomState(consts['seed'])"
   ],
   "metadata": {
    "collapsed": false,
    "ExecuteTime": {
     "end_time": "2023-08-10T16:19:43.214036200Z",
     "start_time": "2023-08-10T16:19:39.214774900Z"
    }
   }
  },
  {
   "cell_type": "code",
   "execution_count": 39,
   "outputs": [],
   "source": [
    "n_noise = consts['n_joint'] * 4\n",
    "n_in_dim = (\n",
    "    consts['n_camera_input'] +\n",
    "    consts['n_bone_length_input'] +\n",
    "    consts['n_joint_angle_input'] +\n",
    "    4 * consts['n_joint']\n",
    ")"
   ],
   "metadata": {
    "collapsed": false,
    "ExecuteTime": {
     "end_time": "2023-08-10T16:19:43.250204900Z",
     "start_time": "2023-08-10T16:19:39.234158900Z"
    }
   }
  },
  {
   "cell_type": "code",
   "execution_count": 40,
   "outputs": [],
   "source": [
    "# this bit does some weird thing where it pre-calls the function, nothing is actually being generated yet since u is just some constant\n",
    "# u = tt.matrix('u')\n",
    "# y_bin = pose.noisy_binocular_2d_proj_generator(u, consts)\n",
    "# y_3d = pose.joint_3d_pos_generator(u, consts)\n",
    "# generator_binocular = th.function([u], y_bin)\n",
    "# generator_3d = th.function([u], y_3d)"
   ],
   "metadata": {
    "collapsed": false,
    "ExecuteTime": {
     "end_time": "2023-08-10T16:19:43.258876500Z",
     "start_time": "2023-08-10T16:19:39.256177200Z"
    }
   }
  },
  {
   "cell_type": "code",
   "execution_count": 41,
   "outputs": [],
   "source": [
    "def partition(inputs, lengths):\n",
    "    \"\"\"Partition a one/two-dimesional tensor in to parts along last axis.\"\"\"\n",
    "    i = 0\n",
    "    parts = []\n",
    "    for l in lengths:\n",
    "        parts.append(inputs.T[i:i+l].T)\n",
    "        i += l\n",
    "    return parts"
   ],
   "metadata": {
    "collapsed": false,
    "ExecuteTime": {
     "end_time": "2023-08-10T16:19:43.309056100Z",
     "start_time": "2023-08-10T16:19:39.272236300Z"
    }
   }
  },
  {
   "cell_type": "code",
   "execution_count": 42,
   "outputs": [],
   "source": [
    "def bone_lengths_generator(u, consts):\n",
    "    \"\"\"Generate skeleton bone lengths from log-normal model.\"\"\"\n",
    "    rng.seed(0)\n",
    "    u_data = torch.tensor(rng.normal(size=u.size()))\n",
    "    return torch.exp(consts['log_lengths_mean'] +\n",
    "                  (u_data @ consts['log_lengths_covar_chol']))\n",
    "\n",
    "def joint_angles_cos_sin_vae_decoder(h, layers, n_joint_angle):\n",
    "    h = layers[0]['nonlinearity'](\n",
    "        (h @ layers[0]['linear_layer'].weight.data) + layers[0]['linear_layer'].bias.data)\n",
    "    # intermediate layers with skip-connections\n",
    "    for layer in layers[1:-1]:\n",
    "        h = layer['nonlinearity'](\n",
    "            (h@layer['linear_layer'].weight.data) + layer['linear_layer'].bias.data) + h\n",
    "    h = layers[-1]['nonlinearity'](\n",
    "    (h@layers[-1]['linear_layer'].weight.data) + layers[-1]['linear_layer'].bias.data)\n",
    "    if h.dim() == 1:\n",
    "        h =h.unsqueeze(0).detach()\n",
    "    return h[:, :n_joint_angle * 2], torch.exp(0.5 * h[:, n_joint_angle * 2:])\n",
    "\n",
    "\n",
    "def joint_angles_generator(u, consts):\n",
    "    \"\"\"Generate joint angles from VAE decoder model.\"\"\"\n",
    "    h, n = partition(u, [consts['n_joint_angle_latent'],\n",
    "                         consts['n_joint_angle'] * 2])\n",
    "    ang_cos_sin_mean, ang_cos_sin_std = joint_angles_cos_sin_vae_decoder(\n",
    "        h, consts['joint_angles_vae_decoder_layers'], consts['n_joint_angle'])\n",
    "    ang_cos_sin = ang_cos_sin_mean + ang_cos_sin_std * n\n",
    "    return torch.arctan2(ang_cos_sin[:, consts['n_joint_angle']:],\n",
    "                      ang_cos_sin[:, :consts['n_joint_angle']])"
   ],
   "metadata": {
    "collapsed": false,
    "ExecuteTime": {
     "end_time": "2023-08-10T16:19:43.309056100Z",
     "start_time": "2023-08-10T16:19:39.299812200Z"
    }
   }
  },
  {
   "cell_type": "code",
   "execution_count": 43,
   "outputs": [],
   "source": [
    "def joint_positions(node, angles, fixed_angles=None, lengths=None,\n",
    "                    lengths_map=None, skip=[], i=None, parent_trans=None):\n",
    "    \"\"\"Get list of joint pos. given skeleton tree and joint angles.\"\"\"\n",
    "    if i is None:\n",
    "        i = [0]\n",
    "    if parent_trans is None:\n",
    "        parent_trans = torch.eye(4)\n",
    "    joints = []\n",
    "    rot = torch.eye(3)\n",
    "    for ch in node.channels:\n",
    "        ch_key = node.name.lower() + '_' + ch[0].lower()\n",
    "        if ch in rotation_map:\n",
    "            if fixed_angles is not None and ch_key in fixed_angles:\n",
    "                rot = (rot@rotation_map[ch](torch.tensor(fixed_angles[ch_key])))\n",
    "            else:\n",
    "                rot = (rot@ rotation_map[ch](torch.tensor(angles[i[0]])))\n",
    "                i[0] += 1\n",
    "    local_trans = torch.eye(4)\n",
    "    local_trans[:3, :3] = rot\n",
    "    if not (node.name.lower() in skip and node.is_end_site):\n",
    "        if lengths is None or node.length == 0.:\n",
    "            node_offset = torch.tensor(np.array(node.offset))\n",
    "        else:\n",
    "            length = lengths[lengths_map[node.name.lower()]]\n",
    "            node_offset = (torch.tensor(node.offset_unit) * length)\n",
    "        local_trans[:3, 3] = torhc.tensor(node_offset)\n",
    "        node_trans = parent_trans.dot(local_trans)\n",
    "        if not node.name.lower() in skip:\n",
    "            joints.append(node_trans[:, 3])\n",
    "        for child in node.children:\n",
    "            joints += joint_positions(child, angles, fixed_angles, lengths,\n",
    "                                      lengths_map, skip, i, node_trans)\n",
    "    return joints"
   ],
   "metadata": {
    "collapsed": false,
    "ExecuteTime": {
     "end_time": "2023-08-10T16:19:43.310055900Z",
     "start_time": "2023-08-10T16:19:39.333008500Z"
    }
   }
  },
  {
   "cell_type": "code",
   "execution_count": 44,
   "outputs": [],
   "source": [
    "def joint_positions_batch(\n",
    "        node, angles, fixed_angles=None, lengths=None,\n",
    "        lengths_map=None, skip=[], i=None, parent_trans=None):\n",
    "    \"\"\"Get list of joint pos. given skeleton tree and joint angles (batch).\"\"\"\n",
    "    # check whether single vector of angles or mini-batch matrix provided\n",
    "    if angles.ndim == 2:\n",
    "        n_batch = angles.shape[0]\n",
    "    elif angles.ndim == 1:\n",
    "        n_batch = 1\n",
    "        angles = angles[None, :]\n",
    "        if lengths is not None and lengths.ndim == 1:\n",
    "            lengths = lengths[None, :]\n",
    "    else:\n",
    "        raise Exception('angles should be one or two dimensional.')\n",
    "    if i is None:\n",
    "        i = [0]\n",
    "    if parent_trans is None:\n",
    "        parent_trans = torch.eye(4).unsqueeze(0).repeat(n_batch, 1, 1)\n",
    "    joints = []\n",
    "    rot = torch.eye(3).unsqueeze(0).repeat(n_batch, 1, 1)\n",
    "    for ch in node.channels:\n",
    "        ch_key = node.name.lower() + '_' + ch[0].lower()\n",
    "        if ch in rotation_map:\n",
    "            if fixed_angles is not None and ch_key in fixed_angles:\n",
    "                rot = rot@(rotation_map[ch](torch.tensor(fixed_angles[ch_key])))\n",
    "            else:\n",
    "                rot = torch.bmm(\n",
    "                    rot, rotation_map_batch[ch](torch.tensor(angles[:, i[0]])))\n",
    "                i[0] += 1\n",
    "    local_trans = torch.eye(4).unsqueeze(0).repeat(n_batch, 1, 1)\n",
    "    local_trans[:, :3, :3] =  rot\n",
    "    if not (node.name.lower() in skip and node.is_end_site):\n",
    "        if lengths is None or node.length == 0.:\n",
    "            node_offset = np.array(node.offset)[None, :]\n",
    "        else:\n",
    "            if lengths.dim() == 1:\n",
    "                lengths = lengths.unsqueeze(0).detach()\n",
    "            length = lengths[:, lengths_map[node.name.lower()]]\n",
    "            node_offset = (torch.tensor(node.offset_unit[None, :]) *\n",
    "                           length[:, None])\n",
    "        local_trans[:, :3, 3]= torch.tensor(node_offset)\n",
    "        node_trans = torch.bmm(parent_trans, local_trans)\n",
    "        if not node.name.lower() in skip:\n",
    "            joints.append(node_trans[:, :, 3])\n",
    "        for child in node.children:\n",
    "            joints += joint_positions_batch(\n",
    "                child, angles, fixed_angles, lengths,\n",
    "                lengths_map, skip, i, node_trans)\n",
    "    return joints\n"
   ],
   "metadata": {
    "collapsed": false,
    "ExecuteTime": {
     "end_time": "2023-08-10T16:19:43.311055900Z",
     "start_time": "2023-08-10T16:19:39.357866800Z"
    }
   }
  },
  {
   "cell_type": "code",
   "execution_count": 45,
   "outputs": [],
   "source": [
    "def joint_3d_pos_generator(u, consts):\n",
    "    \"\"\"Generate 3D joint positions.\n",
    "\n",
    "    Generates bone lengths and joint angles from respective models then uses\n",
    "    skeleton definition to convert to 3D joint positions in global coordinate\n",
    "    system.\n",
    "    \"\"\"\n",
    "    input_sizes = [consts['n_bone_length_input'],\n",
    "                   consts['n_joint_angle_input']]\n",
    "    u_len, u_ang = partition(u, input_sizes)\n",
    "    bone_lengths = bone_lengths_generator(u_len, consts)\n",
    "    joint_angles = joint_angles_generator(u_ang, consts)\n",
    "    return torch.stack(joint_positions_batch(\n",
    "        consts['skeleton'], joint_angles, consts['fixed_joint_angles'],\n",
    "        lengths=bone_lengths, lengths_map=consts['bone_lengths_map'],\n",
    "        skip=consts['joints_to_skip']), 2)"
   ],
   "metadata": {
    "collapsed": false,
    "ExecuteTime": {
     "end_time": "2023-08-10T16:19:43.311055900Z",
     "start_time": "2023-08-10T16:19:39.389810500Z"
    }
   }
  },
  {
   "cell_type": "code",
   "execution_count": 46,
   "outputs": [],
   "source": [
    "def binocular_2d_proj_generator(u, consts):\n",
    "    \"\"\"Generate binocular 2D joint position projections.\n",
    "\n",
    "    Generates bone lengths and joint angles from respective models then uses\n",
    "    skeleton definition to convert to 3D joint positions in global coordinate\n",
    "    system, before projecting to two sets of 2D image coordinates using two\n",
    "    offset generated camera models.\n",
    "    \"\"\"\n",
    "    n_batch = 1\n",
    "    input_sizes = [consts['n_bone_length_input'] +\n",
    "                   consts['n_joint_angle_input'],\n",
    "                   consts['n_camera_input']]\n",
    "    u_ske, u_cam, = partition(u, input_sizes)\n",
    "    joint_pos_3d = joint_3d_pos_generator(u_ske, consts)\n",
    "    cam_foc, cam_pos, cam_ang = camera_generator(u_cam, consts)\n",
    "    cam_mtx_1 = camera_matrix_batch(\n",
    "        cam_foc, cam_pos + consts['cam_pos_offset'],\n",
    "        cam_ang + consts['cam_ang_offset'])\n",
    "    cam_mtx_2 = camera_matrix_batch(\n",
    "        cam_foc, cam_pos - consts['cam_pos_offset'],\n",
    "        cam_ang - consts['cam_ang_offset'])\n",
    "    joint_pos_2d_hom_1 = torch.bmm(cam_mtx_1, joint_pos_3d)\n",
    "    joint_pos_2d_1 = (joint_pos_2d_hom_1[:, :2] /\n",
    "                      joint_pos_2d_hom_1[:, 2][:, None, :])\n",
    "    joint_pos_2d_hom_2 = torch.bmm(cam_mtx_2, joint_pos_3d)\n",
    "    joint_pos_2d_2 = (joint_pos_2d_hom_2[:, :2] /\n",
    "                      joint_pos_2d_hom_2[:, 2][:, None, :])\n",
    "\n",
    "    return torch.concatenate(\n",
    "               [joint_pos_2d_1.reshape((n_batch, -1)),\n",
    "                joint_pos_2d_2.reshape((n_batch, -1))], 1)\n",
    "\n"
   ],
   "metadata": {
    "collapsed": false,
    "ExecuteTime": {
     "end_time": "2023-08-10T16:19:43.311055900Z",
     "start_time": "2023-08-10T16:19:39.410124900Z"
    }
   }
  },
  {
   "cell_type": "code",
   "execution_count": 47,
   "outputs": [],
   "source": [
    "def noisy_binocular_2d_proj_generator(u, consts):\n",
    "    \"\"\"Generate noisy binocular 2D joint position projections.\n",
    "\n",
    "    Generates bone lengths and joint angles from respective models then uses\n",
    "    skeleton definition to convert to 3D joint positions in global coordinate\n",
    "    system, before projecting to two sets of 2D image coordinates using two\n",
    "    offset generated camera models and adding Gaussian observation noise to\n",
    "    projections.\n",
    "    \"\"\"\n",
    "    input_sizes = [consts['n_bone_length_input'] +\n",
    "                   consts['n_joint_angle_input'] +\n",
    "                   consts['n_camera_input'],\n",
    "                   consts['n_joint'] * 4]\n",
    "    u_pos, u_noi = partition(u, input_sizes)\n",
    "    return (binocular_2d_proj_generator(u_pos, consts) +\n",
    "            consts['output_noise_std'] * u_noi)"
   ],
   "metadata": {
    "collapsed": false,
    "ExecuteTime": {
     "end_time": "2023-08-10T16:19:43.311055900Z",
     "start_time": "2023-08-10T16:19:39.422113500Z"
    }
   }
  },
  {
   "cell_type": "markdown",
   "source": [
    "## \"Observed\" Data"
   ],
   "metadata": {
    "collapsed": false
   }
  },
  {
   "cell_type": "code",
   "execution_count": 48,
   "outputs": [
    {
     "name": "stderr",
     "output_type": "stream",
     "text": [
      "C:\\Users\\Tadgh\\AppData\\Local\\Temp\\ipykernel_12912\\795312297.py:28: UserWarning: To copy construct from a tensor, it is recommended to use sourceTensor.clone().detach() or sourceTensor.clone().detach().requires_grad_(True), rather than torch.tensor(sourceTensor).\n",
      "  rot, rotation_map_batch[ch](torch.tensor(angles[:, i[0]])))\n",
      "C:\\Users\\Tadgh\\AppData\\Local\\Temp\\ipykernel_12912\\795312297.py:41: UserWarning: To copy construct from a tensor, it is recommended to use sourceTensor.clone().detach() or sourceTensor.clone().detach().requires_grad_(True), rather than torch.tensor(sourceTensor).\n",
      "  local_trans[:, :3, 3]= torch.tensor(node_offset)\n"
     ]
    }
   ],
   "source": [
    "n_data = 1\n",
    "rng.seed(consts['seed'])\n",
    "u_data = torch.tensor(rng.normal(size=(n_data, n_in_dim)))\n",
    "y_data = noisy_binocular_2d_proj_generator(u_data, consts)\n",
    "y_data_3d = joint_3d_pos_generator(u_data, consts)\n",
    "np.savez('observed-data.npz',u_data=u_data, y_data=y_data, y_data_3d=y_data_3d)"
   ],
   "metadata": {
    "collapsed": false,
    "ExecuteTime": {
     "end_time": "2023-08-10T16:19:43.312056Z",
     "start_time": "2023-08-10T16:19:39.437406800Z"
    }
   }
  },
  {
   "cell_type": "code",
   "execution_count": 49,
   "outputs": [
    {
     "data": {
      "text/plain": "torch.Size([3, 19])"
     },
     "execution_count": 49,
     "metadata": {},
     "output_type": "execute_result"
    }
   ],
   "source": [
    "y_data_3d[:,0:3,:].squeeze().size()"
   ],
   "metadata": {
    "collapsed": false,
    "ExecuteTime": {
     "end_time": "2023-08-10T16:19:43.312056Z",
     "start_time": "2023-08-10T16:19:39.533589200Z"
    }
   }
  },
  {
   "cell_type": "markdown",
   "source": [
    "## Generating a ton of these"
   ],
   "metadata": {
    "collapsed": false
   }
  },
  {
   "cell_type": "code",
   "execution_count": 50,
   "outputs": [],
   "source": [
    "transform = torch.zeros((19,3))\n",
    "for i in range(19):\n",
    "    transform[i][2] = 2\n",
    "transform = transform.unsqueeze(0)"
   ],
   "metadata": {
    "collapsed": false,
    "ExecuteTime": {
     "end_time": "2023-08-10T16:19:43.312056Z",
     "start_time": "2023-08-10T16:19:39.550809100Z"
    }
   }
  },
  {
   "cell_type": "code",
   "execution_count": 51,
   "outputs": [
    {
     "name": "stderr",
     "output_type": "stream",
     "text": [
      "C:\\Users\\Tadgh\\AppData\\Local\\Temp\\ipykernel_12912\\795312297.py:28: UserWarning: To copy construct from a tensor, it is recommended to use sourceTensor.clone().detach() or sourceTensor.clone().detach().requires_grad_(True), rather than torch.tensor(sourceTensor).\n",
      "  rot, rotation_map_batch[ch](torch.tensor(angles[:, i[0]])))\n",
      "C:\\Users\\Tadgh\\AppData\\Local\\Temp\\ipykernel_12912\\795312297.py:41: UserWarning: To copy construct from a tensor, it is recommended to use sourceTensor.clone().detach() or sourceTensor.clone().detach().requires_grad_(True), rather than torch.tensor(sourceTensor).\n",
      "  local_trans[:, :3, 3]= torch.tensor(node_offset)\n"
     ]
    }
   ],
   "source": [
    "train_dataset = []\n",
    "for i in range(1000):\n",
    "    n_data = 1\n",
    "    rng.seed(i)\n",
    "    u_data = torch.tensor(rng.normal(size=(n_data, n_in_dim)))\n",
    "    y_data = noisy_binocular_2d_proj_generator(u_data, consts)\n",
    "    y_data_3d = joint_3d_pos_generator(u_data, consts)\n",
    "    points_3d = y_data_3d[:,0:3,:].squeeze().T.unsqueeze(0)\n",
    "    train_dataset.append(points_3d+ transform - points_3d[0][0])"
   ],
   "metadata": {
    "collapsed": false,
    "ExecuteTime": {
     "end_time": "2023-08-10T16:20:06.121469100Z",
     "start_time": "2023-08-10T16:19:39.566682300Z"
    }
   }
  },
  {
   "cell_type": "code",
   "execution_count": 69,
   "outputs": [
    {
     "name": "stderr",
     "output_type": "stream",
     "text": [
      "C:\\Users\\Tadgh\\AppData\\Local\\Temp\\ipykernel_12912\\795312297.py:28: UserWarning: To copy construct from a tensor, it is recommended to use sourceTensor.clone().detach() or sourceTensor.clone().detach().requires_grad_(True), rather than torch.tensor(sourceTensor).\n",
      "  rot, rotation_map_batch[ch](torch.tensor(angles[:, i[0]])))\n",
      "C:\\Users\\Tadgh\\AppData\\Local\\Temp\\ipykernel_12912\\795312297.py:41: UserWarning: To copy construct from a tensor, it is recommended to use sourceTensor.clone().detach() or sourceTensor.clone().detach().requires_grad_(True), rather than torch.tensor(sourceTensor).\n",
      "  local_trans[:, :3, 3]= torch.tensor(node_offset)\n"
     ]
    }
   ],
   "source": [
    "test_dataset = []\n",
    "for i in range(1000,1101):\n",
    "    n_data = 1\n",
    "    rng.seed(i)\n",
    "    u_data = torch.tensor(rng.normal(size=(n_data, n_in_dim)))\n",
    "    y_data = noisy_binocular_2d_proj_generator(u_data, consts)\n",
    "    y_data_3d = joint_3d_pos_generator(u_data, consts)\n",
    "    points_3d = y_data_3d[:,0:3,:].squeeze().T.unsqueeze(0)\n",
    "    test_dataset.append(points_3d+transform- points_3d[0][0])"
   ],
   "metadata": {
    "collapsed": false,
    "ExecuteTime": {
     "end_time": "2023-08-10T16:24:23.279433400Z",
     "start_time": "2023-08-10T16:23:38.873966800Z"
    }
   }
  },
  {
   "cell_type": "code",
   "execution_count": null,
   "outputs": [],
   "source": [
    "test_dataset = np.array(test_dataset)\n",
    "np.save('test_dataset.npy',test_dataset)"
   ],
   "metadata": {
    "collapsed": false
   }
  },
  {
   "cell_type": "code",
   "execution_count": 54,
   "outputs": [],
   "source": [
    "test_dataset = np.array(test_dataset)\n",
    "np.save('test_dataset.npy',test_dataset)"
   ],
   "metadata": {
    "collapsed": false,
    "ExecuteTime": {
     "end_time": "2023-08-10T16:20:08.559801200Z",
     "start_time": "2023-08-10T16:20:08.550442500Z"
    }
   }
  },
  {
   "cell_type": "code",
   "execution_count": 55,
   "outputs": [],
   "source": [],
   "metadata": {
    "collapsed": false,
    "ExecuteTime": {
     "end_time": "2023-08-10T16:20:08.560821400Z",
     "start_time": "2023-08-10T16:20:08.555160500Z"
    }
   }
  },
  {
   "cell_type": "code",
   "execution_count": 56,
   "outputs": [],
   "source": [
    "# train_dataset = np.array(train_dataset)\n",
    "# np.save('train_dataset.npy', test_dataset)"
   ],
   "metadata": {
    "collapsed": false,
    "ExecuteTime": {
     "end_time": "2023-08-10T16:20:08.584714900Z",
     "start_time": "2023-08-10T16:20:08.558800500Z"
    }
   }
  },
  {
   "cell_type": "code",
   "execution_count": 57,
   "outputs": [],
   "source": [
    "ts = np.array([td[:,:,2].numpy() for td in test_dataset])"
   ],
   "metadata": {
    "collapsed": false,
    "ExecuteTime": {
     "end_time": "2023-08-10T16:20:08.587099Z",
     "start_time": "2023-08-10T16:20:08.561821400Z"
    }
   }
  },
  {
   "cell_type": "code",
   "execution_count": 58,
   "outputs": [
    {
     "data": {
      "text/plain": "0.8366985058712301"
     },
     "execution_count": 58,
     "metadata": {},
     "output_type": "execute_result"
    }
   ],
   "source": [
    "ts.min()"
   ],
   "metadata": {
    "collapsed": false,
    "ExecuteTime": {
     "end_time": "2023-08-10T16:20:08.587099Z",
     "start_time": "2023-08-10T16:20:08.569453700Z"
    }
   }
  },
  {
   "cell_type": "code",
   "execution_count": 59,
   "outputs": [],
   "source": [
    "j3d33 = y_data_3d[:,0:3,:].squeeze().T"
   ],
   "metadata": {
    "collapsed": false,
    "ExecuteTime": {
     "end_time": "2023-08-10T16:20:08.588096700Z",
     "start_time": "2023-08-10T16:20:08.573637300Z"
    }
   }
  },
  {
   "cell_type": "code",
   "execution_count": 60,
   "outputs": [
    {
     "data": {
      "text/plain": "(<Figure size 800x800 with 1 Axes>, <Axes3D: >)"
     },
     "execution_count": 60,
     "metadata": {},
     "output_type": "execute_result"
    },
    {
     "data": {
      "text/plain": "<Figure size 800x800 with 1 Axes>",
      "image/png": "[encoded data removed]"
     },
     "metadata": {},
     "output_type": "display_data"
    }
   ],
   "source": [
    "vis.plot_3d_pose(j3d33)"
   ],
   "metadata": {
    "collapsed": false,
    "ExecuteTime": {
     "end_time": "2023-08-10T16:20:08.847537600Z",
     "start_time": "2023-08-10T16:20:08.579473400Z"
    }
   }
  },
  {
   "cell_type": "code",
   "execution_count": 60,
   "outputs": [],
   "source": [],
   "metadata": {
    "collapsed": false,
    "ExecuteTime": {
     "end_time": "2023-08-10T16:20:08.873159100Z",
     "start_time": "2023-08-10T16:20:08.847022100Z"
    }
   }
  },
  {
   "cell_type": "markdown",
   "source": [
    "## PCA"
   ],
   "metadata": {
    "collapsed": false
   }
  },
  {
   "cell_type": "code",
   "execution_count": 61,
   "outputs": [],
   "source": [
    "train_data = np.array([d.numpy() for d in train_dataset])\n",
    "test_data = np.array([d.numpy() for d in test_dataset])"
   ],
   "metadata": {
    "collapsed": false,
    "ExecuteTime": {
     "end_time": "2023-08-10T16:20:08.876159600Z",
     "start_time": "2023-08-10T16:20:08.850533400Z"
    }
   }
  },
  {
   "cell_type": "code",
   "execution_count": 62,
   "outputs": [],
   "source": [
    "list = np.transpose(np.array([data[0].flatten().numpy() for data in train_dataset]))\n",
    "\n",
    "# Demean each row\n",
    "mean_row = np.mean(list, axis=1, keepdims=True)\n",
    "list = list - mean_row"
   ],
   "metadata": {
    "collapsed": false,
    "ExecuteTime": {
     "end_time": "2023-08-10T16:20:09.211969700Z",
     "start_time": "2023-08-10T16:20:08.862421500Z"
    }
   }
  },
  {
   "cell_type": "code",
   "execution_count": 63,
   "outputs": [
    {
     "data": {
      "text/plain": "(57, 1000)"
     },
     "execution_count": 63,
     "metadata": {},
     "output_type": "execute_result"
    }
   ],
   "source": [
    "np.shape(list)"
   ],
   "metadata": {
    "collapsed": false,
    "ExecuteTime": {
     "end_time": "2023-08-10T16:20:09.212970Z",
     "start_time": "2023-08-10T16:20:08.913530400Z"
    }
   }
  },
  {
   "cell_type": "code",
   "execution_count": 64,
   "outputs": [],
   "source": [
    "U, S,_=np.linalg.svd(list)"
   ],
   "metadata": {
    "collapsed": false,
    "ExecuteTime": {
     "end_time": "2023-08-10T16:20:09.237426300Z",
     "start_time": "2023-08-10T16:20:08.918147100Z"
    }
   }
  },
  {
   "cell_type": "code",
   "execution_count": 65,
   "outputs": [],
   "source": [
    "eigenposes = np.transpose(U)\n",
    "eigenvalues = S**2"
   ],
   "metadata": {
    "collapsed": false,
    "ExecuteTime": {
     "end_time": "2023-08-10T16:20:09.238433700Z",
     "start_time": "2023-08-10T16:20:08.973162500Z"
    }
   }
  },
  {
   "cell_type": "code",
   "execution_count": 66,
   "outputs": [],
   "source": [
    "eigenposes = np.array([eigenpose + np.squeeze(mean_row) for eigenpose in eigenposes])"
   ],
   "metadata": {
    "collapsed": false,
    "ExecuteTime": {
     "end_time": "2023-08-10T16:20:09.238696900Z",
     "start_time": "2023-08-10T16:20:08.980230800Z"
    }
   }
  },
  {
   "cell_type": "code",
   "execution_count": 67,
   "outputs": [
    {
     "ename": "AttributeError",
     "evalue": "'XTick' object has no attribute 'label'",
     "output_type": "error",
     "traceback": [
      "\u001B[1;31m---------------------------------------------------------------------------\u001B[0m",
      "\u001B[1;31mAttributeError\u001B[0m                            Traceback (most recent call last)",
      "Cell \u001B[1;32mIn[67], line 10\u001B[0m\n\u001B[0;32m      8\u001B[0m plt\u001B[38;5;241m.\u001B[39mxticks(fontsize\u001B[38;5;241m=\u001B[39m\u001B[38;5;241m12\u001B[39m)\n\u001B[0;32m      9\u001B[0m plt\u001B[38;5;241m.\u001B[39myticks(fontsize\u001B[38;5;241m=\u001B[39m\u001B[38;5;241m12\u001B[39m)\n\u001B[1;32m---> 10\u001B[0m \u001B[38;5;28;01mfor\u001B[39;00m t \u001B[38;5;129;01min\u001B[39;00m ax\u001B[38;5;241m.\u001B[39mzaxis\u001B[38;5;241m.\u001B[39mget_major_ticks(): t\u001B[38;5;241m.\u001B[39mlabel\u001B[38;5;241m.\u001B[39mset_fontsize(\u001B[38;5;241m12\u001B[39m)\n\u001B[0;32m     11\u001B[0m plt\u001B[38;5;241m.\u001B[39mlegend()\n",
      "\u001B[1;31mAttributeError\u001B[0m: 'XTick' object has no attribute 'label'"
     ]
    },
    {
     "data": {
      "text/plain": "<Figure size 800x800 with 1 Axes>",
      "image/png": "[encoded data removed]"
     },
     "metadata": {},
     "output_type": "display_data"
    }
   ],
   "source": [
    "ep0 = (eigenposes[1]).reshape((19, 3))\n",
    "ep1 = (np.squeeze(mean_row)).reshape((19, 3))\n",
    "t3 = np.zeros_like(ep0)\n",
    "t3[:,2] = np.ones_like(t3[:,1])\n",
    "fig, ax =vis.add_3d_pose([ep0, ep1], alphas =[1,0.5], labels = [\"Third eigenpose\",\"Mean pose\"])\n",
    "\n",
    "ax.set_title('Third eigenpose', fontsize = 24)\n",
    "plt.xticks(fontsize=12)\n",
    "plt.yticks(fontsize=12)\n",
    "for t in ax.zaxis.get_major_ticks(): t.label.set_fontsize(12)\n",
    "plt.legend()"
   ],
   "metadata": {
    "collapsed": false,
    "ExecuteTime": {
     "end_time": "2023-08-10T16:20:09.597081600Z",
     "start_time": "2023-08-10T16:20:08.986652Z"
    }
   }
  },
  {
   "cell_type": "code",
   "execution_count": null,
   "outputs": [],
   "source": [
    "eigenvalues = eigenvalues[:-3]\n",
    "eigenposes = eigenposes[:-3]"
   ],
   "metadata": {
    "collapsed": false,
    "ExecuteTime": {
     "start_time": "2023-08-10T16:20:09.521871600Z"
    }
   }
  },
  {
   "cell_type": "code",
   "execution_count": null,
   "outputs": [],
   "source": [
    "eigenvalues"
   ],
   "metadata": {
    "collapsed": false,
    "ExecuteTime": {
     "start_time": "2023-08-10T16:20:09.526660900Z"
    }
   }
  },
  {
   "cell_type": "code",
   "execution_count": null,
   "outputs": [],
   "source": [
    "# getting the average pose\n",
    "avg_pose = np.squeeze(train_data.mean(axis=0))\n",
    "avg_pose = np.ndarray.flatten(avg_pose)\n",
    "avg_pose.reshape(19, 3)"
   ],
   "metadata": {
    "collapsed": false,
    "ExecuteTime": {
     "start_time": "2023-08-10T16:20:09.531719200Z"
    }
   }
  },
  {
   "cell_type": "markdown",
   "source": [
    "Saving these"
   ],
   "metadata": {
    "collapsed": false
   }
  },
  {
   "cell_type": "code",
   "execution_count": null,
   "outputs": [],
   "source": [
    "np.save('avg_pose.npy',avg_pose)\n",
    "np.save('eigenposes.npy',eigenposes)\n",
    "np.save('eigenvals.npy',eigenvalues)"
   ],
   "metadata": {
    "collapsed": false,
    "ExecuteTime": {
     "start_time": "2023-08-10T16:20:09.537485600Z"
    }
   }
  },
  {
   "cell_type": "code",
   "execution_count": null,
   "outputs": [],
   "source": [
    "def length_constraint(i,j, init):\n",
    "    def constraint_fn(x):\n",
    "        return (x[3*i]- x[3*j])**2 +(x[3*i+1]- x[3*j+1])**2 + (x[3*i+2]- x[3*j+2])**2 - ((init[3*i]- init[3*j])**2 +(init[3*i+1]- init[3*j+1])**2 + (init[3*i+2]- init[3*j+2])**2)\n",
    "    return constraint_fn"
   ],
   "metadata": {
    "collapsed": false,
    "ExecuteTime": {
     "start_time": "2023-08-10T16:20:09.543253200Z"
    }
   }
  },
  {
   "cell_type": "code",
   "execution_count": null,
   "outputs": [],
   "source": [
    "i = 0\n",
    "j=1"
   ],
   "metadata": {
    "collapsed": false,
    "ExecuteTime": {
     "start_time": "2023-08-10T16:20:09.547539Z"
    }
   }
  },
  {
   "cell_type": "code",
   "execution_count": null,
   "outputs": [],
   "source": [
    "x_init = train_dataset[0]\n",
    "lengths = []\n",
    "for n in range(50):\n",
    "    x = torch.flatten(train_dataset[n][0])\n",
    "    l = (x[3*i]- x[3*j])**2 +(x[3*i+1]- x[3*j+1])**2 + (x[3*i+2]- x[3*j+2])**2\n",
    "    lengths.append(l)"
   ],
   "metadata": {
    "collapsed": false,
    "ExecuteTime": {
     "start_time": "2023-08-10T16:20:09.554673300Z"
    }
   }
  },
  {
   "cell_type": "code",
   "execution_count": null,
   "outputs": [],
   "source": [
    "plt.plot(lengths)"
   ],
   "metadata": {
    "collapsed": false,
    "ExecuteTime": {
     "start_time": "2023-08-10T16:20:09.560163100Z"
    }
   }
  },
  {
   "cell_type": "code",
   "execution_count": null,
   "outputs": [],
   "source": [
    "def avg_j2j(frame1,frame2):\n",
    "    dists = []\n",
    "    frame_1 = np.array(frame1)\n",
    "    frame_2 = np.array(frame2)\n",
    "    for i in range(len(frame1)):\n",
    "        d = math.dist(frame_1[i], frame_2[i])\n",
    "        dists.append(d)\n",
    "    return np.mean(dists)"
   ],
   "metadata": {
    "collapsed": false,
    "ExecuteTime": {
     "start_time": "2023-08-10T16:20:09.565689800Z"
    }
   }
  },
  {
   "cell_type": "code",
   "execution_count": null,
   "outputs": [],
   "source": [],
   "metadata": {
    "collapsed": false,
    "ExecuteTime": {
     "start_time": "2023-08-10T16:20:09.572747Z"
    }
   }
  },
  {
   "cell_type": "code",
   "execution_count": null,
   "outputs": [],
   "source": [
    "# taking the list of bones from pose_visualisation for the constraints\n",
    "bones = [\n",
    "    (0, 1),\n",
    "    (1, 2),\n",
    "    (1, 3),\n",
    "    (3, 4),\n",
    "    (4, 5),\n",
    "    (5, 6),\n",
    "    (1, 7),\n",
    "    (7, 8),\n",
    "    (8, 9),\n",
    "    (9, 10),\n",
    "    (0, 11),\n",
    "    (11, 12),\n",
    "    (12, 13),\n",
    "    (13, 14),\n",
    "    (0, 15),\n",
    "    (15, 16),\n",
    "    (16, 17),\n",
    "    (17, 18),\n",
    "]\n",
    "bones2 = [\n",
    "    (1, 2),\n",
    "    (1, 3),\n",
    "    (3, 4),\n",
    "    (4, 5),\n",
    "    (5, 6),\n",
    "    (1, 7),\n",
    "    (7, 8),\n",
    "    (8, 9),\n",
    "    (9, 10),\n",
    "    (11, 12),\n",
    "    (12, 13),\n",
    "    (13, 14),\n",
    "    (15, 16),\n",
    "    (16, 17),\n",
    "    (17, 18),\n",
    "]"
   ],
   "metadata": {
    "collapsed": false,
    "ExecuteTime": {
     "start_time": "2023-08-10T16:20:09.577263Z"
    }
   }
  },
  {
   "cell_type": "code",
   "execution_count": null,
   "outputs": [],
   "source": [
    "def length_constraint_2(i, init):\n",
    "    def constraint_fn(x):\n",
    "        return (x[3*i]- 0)**2 +(x[3*i+1]- 0)**2 + (x[3*i+2]- 1)**2 - ((init[3*i]- 0)**2 +(init[3*i+1]- 0)**2 + (init[3*i+2]- 1)**2)\n",
    "    return constraint_fn"
   ],
   "metadata": {
    "collapsed": false,
    "ExecuteTime": {
     "start_time": "2023-08-10T16:20:09.581262700Z"
    }
   }
  },
  {
   "cell_type": "code",
   "execution_count": null,
   "outputs": [],
   "source": [
    "def median(positions):\n",
    "    dist = 1000\n",
    "    median = positions[0].detach().reshape((19,3))\n",
    "    for position in positions:\n",
    "        dis = 0\n",
    "        for pos2 in positions:\n",
    "            dis += torch.linalg.norm(position.detach() - pos2.detach())\n",
    "        if dis< dist:\n",
    "            dist = dis\n",
    "            median = position.detach().reshape((19,3))\n",
    "    return median"
   ],
   "metadata": {
    "collapsed": false,
    "ExecuteTime": {
     "start_time": "2023-08-10T16:20:09.584262900Z"
    }
   }
  },
  {
   "cell_type": "code",
   "execution_count": null,
   "outputs": [],
   "source": [
    "x_init"
   ],
   "metadata": {
    "collapsed": false,
    "ExecuteTime": {
     "start_time": "2023-08-10T16:20:09.588081200Z"
    }
   }
  },
  {
   "cell_type": "code",
   "execution_count": null,
   "outputs": [],
   "source": [
    "def lengths(bones,poses):\n",
    "    lengths = []\n",
    "    poses = torch.squeeze(poses).reshape((19,3))\n",
    "    for bone in bones:\n",
    "        l = poses[bone[0]] -poses[bone[1]]\n",
    "        l = torch.sqrt(torch.dot(l,l))\n",
    "        lengths.append(l)\n",
    "    return lengths"
   ],
   "metadata": {
    "collapsed": false,
    "ExecuteTime": {
     "start_time": "2023-08-10T16:20:09.592081600Z"
    }
   }
  },
  {
   "cell_type": "code",
   "execution_count": null,
   "outputs": [],
   "source": [
    "def joints_to_angles(pose, bones, lengths):\n",
    "    ps = pose.reshape((19,3))\n",
    "    angs = []\n",
    "    for i in range(len(bones)):\n",
    "        bone = bones[i]\n",
    "        r = lengths[i]\n",
    "        joint1 = ps[bone[0]]\n",
    "        joint2 = ps[bone[1]]\n",
    "        x = joint2[0] - joint1[0]\n",
    "        y = joint2[1] -joint1[1]\n",
    "        z = joint2[2] -joint1[2]\n",
    "        phi = torch.sign(y) * torch.arccos(x/torch.sqrt(x**2 + y**2))\n",
    "        theta = torch.arccos(z/r)\n",
    "        angs.append([phi,theta])\n",
    "    return torch.tensor(angs)"
   ],
   "metadata": {
    "collapsed": false,
    "ExecuteTime": {
     "start_time": "2023-08-10T16:20:09.596081100Z"
    }
   }
  },
  {
   "cell_type": "code",
   "execution_count": null,
   "outputs": [],
   "source": [
    "def angles_to_joints(angles, lengths,bones):\n",
    "    pose = torch.zeros((19,3))\n",
    "    pose[0] = torch.tensor([0,0,2])\n",
    "    for i in range(len(bones)):\n",
    "        bone = bones[i]\n",
    "        r = lengths[i]\n",
    "        phi = torch.tensor(angles[i][0])\n",
    "        theta = torch.tensor(angles[i][1])\n",
    "        pose[bone[1]] = pose[bone[0]] + torch.tensor([r*torch.sin(theta)*torch.cos(phi),r*torch.sin(theta)*torch.sin(phi),r*torch.cos(theta)])\n",
    "    return pose"
   ],
   "metadata": {
    "collapsed": false,
    "ExecuteTime": {
     "end_time": "2023-08-10T16:20:09.639529500Z",
     "start_time": "2023-08-10T16:20:09.599081600Z"
    }
   }
  },
  {
   "cell_type": "code",
   "execution_count": null,
   "outputs": [],
   "source": [
    "a = joints_to_angles(x_init, bones, lengths(bones, x_init))"
   ],
   "metadata": {
    "collapsed": false,
    "ExecuteTime": {
     "start_time": "2023-08-10T16:20:09.603597700Z"
    }
   }
  },
  {
   "cell_type": "code",
   "execution_count": null,
   "outputs": [],
   "source": [
    "j = angles_to_joints(a, lengths(bones, x_init), bones)"
   ],
   "metadata": {
    "collapsed": false,
    "ExecuteTime": {
     "start_time": "2023-08-10T16:20:09.608361500Z"
    }
   }
  },
  {
   "cell_type": "code",
   "execution_count": null,
   "outputs": [],
   "source": [],
   "metadata": {
    "collapsed": false,
    "ExecuteTime": {
     "start_time": "2023-08-10T16:20:09.611362300Z"
    }
   }
  },
  {
   "cell_type": "code",
   "execution_count": null,
   "outputs": [],
   "source": [
    "x = test_dataset[3]\n",
    "a = joints_to_angles(x, bones, lengths(bones, x))\n",
    "j = angles_to_joints(a, lengths(bones, x), bones)"
   ],
   "metadata": {
    "collapsed": false,
    "ExecuteTime": {
     "start_time": "2023-08-10T16:20:09.615395100Z"
    }
   }
  },
  {
   "cell_type": "code",
   "execution_count": null,
   "outputs": [],
   "source": [
    "x"
   ],
   "metadata": {
    "collapsed": false,
    "ExecuteTime": {
     "start_time": "2023-08-10T16:20:09.619356Z"
    }
   }
  },
  {
   "cell_type": "code",
   "execution_count": null,
   "outputs": [],
   "source": [
    "j"
   ],
   "metadata": {
    "collapsed": false,
    "ExecuteTime": {
     "start_time": "2023-08-10T16:20:09.621864100Z"
    }
   }
  },
  {
   "cell_type": "code",
   "execution_count": 167,
   "outputs": [],
   "source": [
    "def average_angle_position(positions, bones):\n",
    "    angs = []\n",
    "    for position in positions:\n",
    "        pose = position.detach().reshape((19,3))\n",
    "        a = joints_to_angles(pose, bones, lengths(bones, pose))\n",
    "        angs.append(a)\n",
    "    angs = np.array(angs)\n",
    "    print(f\"Angs = {np.shape(angs)}\")\n",
    "    avg_angles = angs.mean(axis = 0)\n",
    "    mean_p = angles_to_joints(avg_angles, lengths(bones, pose), bones)\n",
    "    return mean_p"
   ],
   "metadata": {
    "collapsed": false
   }
  },
  {
   "cell_type": "code",
   "execution_count": 172,
   "outputs": [
    {
     "data": {
      "text/plain": "IntProgress(value=0, max=10)",
      "application/vnd.jupyter.widget-view+json": {
       "version_major": 2,
       "version_minor": 0,
       "model_id": "7eac6d932fa444e1b9218fa37cff199e"
      }
     },
     "metadata": {},
     "output_type": "display_data"
    },
    {
     "name": "stdout",
     "output_type": "stream",
     "text": [
      "Frame 0\n",
      "STEP 0\n",
      "G1 = <function G.<locals>.G_gs at 0x00000256D4605630>\n",
      "M1 = tensor([[1., 0., 0.,  ..., 0., 0., 0.],\n",
      "        [0., 1., 0.,  ..., 0., 0., 0.],\n",
      "        [0., 0., 1.,  ..., 0., 0., 0.],\n",
      "        ...,\n",
      "        [0., 0., 0.,  ..., 1., 0., 0.],\n",
      "        [0., 0., 0.,  ..., 0., 1., 0.],\n",
      "        [0., 0., 0.,  ..., 0., 0., 1.]])\n",
      "G1 = <function G.<locals>.G_gs at 0x00000256D4605630>\n",
      "M1 = tensor([[1., 0., 0.,  ..., 0., 0., 0.],\n",
      "        [0., 1., 0.,  ..., 0., 0., 0.],\n",
      "        [0., 0., 1.,  ..., 0., 0., 0.],\n",
      "        ...,\n",
      "        [0., 0., 0.,  ..., 1., 0., 0.],\n",
      "        [0., 0., 0.,  ..., 0., 1., 0.],\n",
      "        [0., 0., 0.,  ..., 0., 0., 1.]])\n",
      "G1 = <function G.<locals>.G_gs at 0x00000256D4605630>\n",
      "M1 = tensor([[1., 0., 0.,  ..., 0., 0., 0.],\n",
      "        [0., 1., 0.,  ..., 0., 0., 0.],\n",
      "        [0., 0., 1.,  ..., 0., 0., 0.],\n",
      "        ...,\n",
      "        [0., 0., 0.,  ..., 1., 0., 0.],\n",
      "        [0., 0., 0.,  ..., 0., 1., 0.],\n",
      "        [0., 0., 0.,  ..., 0., 0., 1.]])\n",
      "G1 = <function G.<locals>.G_gs at 0x00000256D4605630>\n",
      "M1 = tensor([[1., 0., 0.,  ..., 0., 0., 0.],\n",
      "        [0., 1., 0.,  ..., 0., 0., 0.],\n",
      "        [0., 0., 1.,  ..., 0., 0., 0.],\n",
      "        ...,\n",
      "        [0., 0., 0.,  ..., 1., 0., 0.],\n",
      "        [0., 0., 0.,  ..., 0., 1., 0.],\n",
      "        [0., 0., 0.,  ..., 0., 0., 1.]])\n",
      "G1 = <function G.<locals>.G_gs at 0x00000256D4605630>\n",
      "M1 = tensor([[1., 0., 0.,  ..., 0., 0., 0.],\n",
      "        [0., 1., 0.,  ..., 0., 0., 0.],\n",
      "        [0., 0., 1.,  ..., 0., 0., 0.],\n",
      "        ...,\n",
      "        [0., 0., 0.,  ..., 1., 0., 0.],\n",
      "        [0., 0., 0.,  ..., 0., 1., 0.],\n",
      "        [0., 0., 0.,  ..., 0., 0., 1.]])\n",
      "G1 = <function G.<locals>.G_gs at 0x00000256D4605630>\n",
      "M1 = tensor([[1., 0., 0.,  ..., 0., 0., 0.],\n",
      "        [0., 1., 0.,  ..., 0., 0., 0.],\n",
      "        [0., 0., 1.,  ..., 0., 0., 0.],\n",
      "        ...,\n",
      "        [0., 0., 0.,  ..., 1., 0., 0.],\n",
      "        [0., 0., 0.,  ..., 0., 1., 0.],\n",
      "        [0., 0., 0.,  ..., 0., 0., 1.]])\n",
      "STEP 1\n",
      "G1 = <function G.<locals>.G_gs at 0x00000256D4605630>\n",
      "M1 = tensor([[1., 0., 0.,  ..., 0., 0., 0.],\n",
      "        [0., 1., 0.,  ..., 0., 0., 0.],\n",
      "        [0., 0., 1.,  ..., 0., 0., 0.],\n",
      "        ...,\n",
      "        [0., 0., 0.,  ..., 1., 0., 0.],\n",
      "        [0., 0., 0.,  ..., 0., 1., 0.],\n",
      "        [0., 0., 0.,  ..., 0., 0., 1.]])\n",
      "G1 = <function G.<locals>.G_gs at 0x00000256D4605630>\n",
      "M1 = tensor([[1., 0., 0.,  ..., 0., 0., 0.],\n",
      "        [0., 1., 0.,  ..., 0., 0., 0.],\n",
      "        [0., 0., 1.,  ..., 0., 0., 0.],\n",
      "        ...,\n",
      "        [0., 0., 0.,  ..., 1., 0., 0.],\n",
      "        [0., 0., 0.,  ..., 0., 1., 0.],\n",
      "        [0., 0., 0.,  ..., 0., 0., 1.]])\n",
      "G1 = <function G.<locals>.G_gs at 0x00000256D4605630>\n",
      "M1 = tensor([[1., 0., 0.,  ..., 0., 0., 0.],\n",
      "        [0., 1., 0.,  ..., 0., 0., 0.],\n",
      "        [0., 0., 1.,  ..., 0., 0., 0.],\n",
      "        ...,\n",
      "        [0., 0., 0.,  ..., 1., 0., 0.],\n",
      "        [0., 0., 0.,  ..., 0., 1., 0.],\n",
      "        [0., 0., 0.,  ..., 0., 0., 1.]])\n",
      "G1 = <function G.<locals>.G_gs at 0x00000256D4605630>\n",
      "M1 = tensor([[1., 0., 0.,  ..., 0., 0., 0.],\n",
      "        [0., 1., 0.,  ..., 0., 0., 0.],\n",
      "        [0., 0., 1.,  ..., 0., 0., 0.],\n",
      "        ...,\n",
      "        [0., 0., 0.,  ..., 1., 0., 0.],\n",
      "        [0., 0., 0.,  ..., 0., 1., 0.],\n",
      "        [0., 0., 0.,  ..., 0., 0., 1.]])\n",
      "G1 = <function G.<locals>.G_gs at 0x00000256D4605630>\n",
      "M1 = tensor([[1., 0., 0.,  ..., 0., 0., 0.],\n",
      "        [0., 1., 0.,  ..., 0., 0., 0.],\n",
      "        [0., 0., 1.,  ..., 0., 0., 0.],\n",
      "        ...,\n",
      "        [0., 0., 0.,  ..., 1., 0., 0.],\n",
      "        [0., 0., 0.,  ..., 0., 1., 0.],\n",
      "        [0., 0., 0.,  ..., 0., 0., 1.]])\n",
      "G1 = <function G.<locals>.G_gs at 0x00000256D4605630>\n",
      "M1 = tensor([[1., 0., 0.,  ..., 0., 0., 0.],\n",
      "        [0., 1., 0.,  ..., 0., 0., 0.],\n",
      "        [0., 0., 1.,  ..., 0., 0., 0.],\n",
      "        ...,\n",
      "        [0., 0., 0.,  ..., 1., 0., 0.],\n",
      "        [0., 0., 0.,  ..., 0., 1., 0.],\n",
      "        [0., 0., 0.,  ..., 0., 0., 1.]])\n",
      "STEP 2\n",
      "G1 = <function G.<locals>.G_gs at 0x00000256D4605630>\n",
      "M1 = tensor([[1., 0., 0.,  ..., 0., 0., 0.],\n",
      "        [0., 1., 0.,  ..., 0., 0., 0.],\n",
      "        [0., 0., 1.,  ..., 0., 0., 0.],\n",
      "        ...,\n",
      "        [0., 0., 0.,  ..., 1., 0., 0.],\n",
      "        [0., 0., 0.,  ..., 0., 1., 0.],\n",
      "        [0., 0., 0.,  ..., 0., 0., 1.]])\n",
      "G1 = <function G.<locals>.G_gs at 0x00000256D4605630>\n",
      "M1 = tensor([[1., 0., 0.,  ..., 0., 0., 0.],\n",
      "        [0., 1., 0.,  ..., 0., 0., 0.],\n",
      "        [0., 0., 1.,  ..., 0., 0., 0.],\n",
      "        ...,\n",
      "        [0., 0., 0.,  ..., 1., 0., 0.],\n",
      "        [0., 0., 0.,  ..., 0., 1., 0.],\n",
      "        [0., 0., 0.,  ..., 0., 0., 1.]])\n",
      "G1 = <function G.<locals>.G_gs at 0x00000256D4605630>\n",
      "M1 = tensor([[1., 0., 0.,  ..., 0., 0., 0.],\n",
      "        [0., 1., 0.,  ..., 0., 0., 0.],\n",
      "        [0., 0., 1.,  ..., 0., 0., 0.],\n",
      "        ...,\n",
      "        [0., 0., 0.,  ..., 1., 0., 0.],\n",
      "        [0., 0., 0.,  ..., 0., 1., 0.],\n",
      "        [0., 0., 0.,  ..., 0., 0., 1.]])\n",
      "G1 = <function G.<locals>.G_gs at 0x00000256D4605630>\n",
      "M1 = tensor([[1., 0., 0.,  ..., 0., 0., 0.],\n",
      "        [0., 1., 0.,  ..., 0., 0., 0.],\n",
      "        [0., 0., 1.,  ..., 0., 0., 0.],\n",
      "        ...,\n",
      "        [0., 0., 0.,  ..., 1., 0., 0.],\n",
      "        [0., 0., 0.,  ..., 0., 1., 0.],\n",
      "        [0., 0., 0.,  ..., 0., 0., 1.]])\n",
      "G1 = <function G.<locals>.G_gs at 0x00000256D4605630>\n",
      "M1 = tensor([[1., 0., 0.,  ..., 0., 0., 0.],\n",
      "        [0., 1., 0.,  ..., 0., 0., 0.],\n",
      "        [0., 0., 1.,  ..., 0., 0., 0.],\n",
      "        ...,\n",
      "        [0., 0., 0.,  ..., 1., 0., 0.],\n",
      "        [0., 0., 0.,  ..., 0., 1., 0.],\n",
      "        [0., 0., 0.,  ..., 0., 0., 1.]])\n",
      "G1 = <function G.<locals>.G_gs at 0x00000256D4605630>\n",
      "M1 = tensor([[1., 0., 0.,  ..., 0., 0., 0.],\n",
      "        [0., 1., 0.,  ..., 0., 0., 0.],\n",
      "        [0., 0., 1.,  ..., 0., 0., 0.],\n",
      "        ...,\n",
      "        [0., 0., 0.,  ..., 1., 0., 0.],\n",
      "        [0., 0., 0.,  ..., 0., 1., 0.],\n",
      "        [0., 0., 0.,  ..., 0., 0., 1.]])\n",
      "STEP 3\n",
      "G1 = <function G.<locals>.G_gs at 0x00000256D46056C0>\n",
      "M1 = tensor([[1., 0., 0.,  ..., 0., 0., 0.],\n",
      "        [0., 1., 0.,  ..., 0., 0., 0.],\n",
      "        [0., 0., 1.,  ..., 0., 0., 0.],\n",
      "        ...,\n",
      "        [0., 0., 0.,  ..., 1., 0., 0.],\n",
      "        [0., 0., 0.,  ..., 0., 1., 0.],\n",
      "        [0., 0., 0.,  ..., 0., 0., 1.]])\n",
      "G1 = <function G.<locals>.G_gs at 0x00000256D46056C0>\n",
      "M1 = tensor([[1., 0., 0.,  ..., 0., 0., 0.],\n",
      "        [0., 1., 0.,  ..., 0., 0., 0.],\n",
      "        [0., 0., 1.,  ..., 0., 0., 0.],\n",
      "        ...,\n",
      "        [0., 0., 0.,  ..., 1., 0., 0.],\n",
      "        [0., 0., 0.,  ..., 0., 1., 0.],\n",
      "        [0., 0., 0.,  ..., 0., 0., 1.]])\n",
      "G1 = <function G.<locals>.G_gs at 0x00000256D46056C0>\n",
      "M1 = tensor([[1., 0., 0.,  ..., 0., 0., 0.],\n",
      "        [0., 1., 0.,  ..., 0., 0., 0.],\n",
      "        [0., 0., 1.,  ..., 0., 0., 0.],\n",
      "        ...,\n",
      "        [0., 0., 0.,  ..., 1., 0., 0.],\n",
      "        [0., 0., 0.,  ..., 0., 1., 0.],\n",
      "        [0., 0., 0.,  ..., 0., 0., 1.]])\n",
      "G1 = <function G.<locals>.G_gs at 0x00000256D46056C0>\n",
      "M1 = tensor([[1., 0., 0.,  ..., 0., 0., 0.],\n",
      "        [0., 1., 0.,  ..., 0., 0., 0.],\n",
      "        [0., 0., 1.,  ..., 0., 0., 0.],\n",
      "        ...,\n",
      "        [0., 0., 0.,  ..., 1., 0., 0.],\n",
      "        [0., 0., 0.,  ..., 0., 1., 0.],\n",
      "        [0., 0., 0.,  ..., 0., 0., 1.]])\n",
      "G1 = <function G.<locals>.G_gs at 0x00000256D46056C0>\n",
      "M1 = tensor([[1., 0., 0.,  ..., 0., 0., 0.],\n",
      "        [0., 1., 0.,  ..., 0., 0., 0.],\n",
      "        [0., 0., 1.,  ..., 0., 0., 0.],\n",
      "        ...,\n",
      "        [0., 0., 0.,  ..., 1., 0., 0.],\n",
      "        [0., 0., 0.,  ..., 0., 1., 0.],\n",
      "        [0., 0., 0.,  ..., 0., 0., 1.]])\n",
      "G1 = <function G.<locals>.G_gs at 0x00000256D46056C0>\n",
      "M1 = tensor([[1., 0., 0.,  ..., 0., 0., 0.],\n",
      "        [0., 1., 0.,  ..., 0., 0., 0.],\n",
      "        [0., 0., 1.,  ..., 0., 0., 0.],\n",
      "        ...,\n",
      "        [0., 0., 0.,  ..., 1., 0., 0.],\n",
      "        [0., 0., 0.,  ..., 0., 1., 0.],\n",
      "        [0., 0., 0.,  ..., 0., 0., 1.]])\n",
      "STEP 4\n",
      "G1 = <function G.<locals>.G_gs at 0x00000256D46056C0>\n",
      "M1 = tensor([[1., 0., 0.,  ..., 0., 0., 0.],\n",
      "        [0., 1., 0.,  ..., 0., 0., 0.],\n",
      "        [0., 0., 1.,  ..., 0., 0., 0.],\n",
      "        ...,\n",
      "        [0., 0., 0.,  ..., 1., 0., 0.],\n",
      "        [0., 0., 0.,  ..., 0., 1., 0.],\n",
      "        [0., 0., 0.,  ..., 0., 0., 1.]])\n",
      "G1 = <function G.<locals>.G_gs at 0x00000256D46056C0>\n",
      "M1 = tensor([[1., 0., 0.,  ..., 0., 0., 0.],\n",
      "        [0., 1., 0.,  ..., 0., 0., 0.],\n",
      "        [0., 0., 1.,  ..., 0., 0., 0.],\n",
      "        ...,\n",
      "        [0., 0., 0.,  ..., 1., 0., 0.],\n",
      "        [0., 0., 0.,  ..., 0., 1., 0.],\n",
      "        [0., 0., 0.,  ..., 0., 0., 1.]])\n",
      "G1 = <function G.<locals>.G_gs at 0x00000256D46056C0>\n",
      "M1 = tensor([[1., 0., 0.,  ..., 0., 0., 0.],\n",
      "        [0., 1., 0.,  ..., 0., 0., 0.],\n",
      "        [0., 0., 1.,  ..., 0., 0., 0.],\n",
      "        ...,\n",
      "        [0., 0., 0.,  ..., 1., 0., 0.],\n",
      "        [0., 0., 0.,  ..., 0., 1., 0.],\n",
      "        [0., 0., 0.,  ..., 0., 0., 1.]])\n",
      "G1 = <function G.<locals>.G_gs at 0x00000256D46056C0>\n",
      "M1 = tensor([[1., 0., 0.,  ..., 0., 0., 0.],\n",
      "        [0., 1., 0.,  ..., 0., 0., 0.],\n",
      "        [0., 0., 1.,  ..., 0., 0., 0.],\n",
      "        ...,\n",
      "        [0., 0., 0.,  ..., 1., 0., 0.],\n",
      "        [0., 0., 0.,  ..., 0., 1., 0.],\n",
      "        [0., 0., 0.,  ..., 0., 0., 1.]])\n",
      "G1 = <function G.<locals>.G_gs at 0x00000256D46056C0>\n",
      "M1 = tensor([[1., 0., 0.,  ..., 0., 0., 0.],\n",
      "        [0., 1., 0.,  ..., 0., 0., 0.],\n",
      "        [0., 0., 1.,  ..., 0., 0., 0.],\n",
      "        ...,\n",
      "        [0., 0., 0.,  ..., 1., 0., 0.],\n",
      "        [0., 0., 0.,  ..., 0., 1., 0.],\n",
      "        [0., 0., 0.,  ..., 0., 0., 1.]])\n",
      "G1 = <function G.<locals>.G_gs at 0x00000256D46056C0>\n",
      "M1 = tensor([[1., 0., 0.,  ..., 0., 0., 0.],\n",
      "        [0., 1., 0.,  ..., 0., 0., 0.],\n",
      "        [0., 0., 1.,  ..., 0., 0., 0.],\n",
      "        ...,\n",
      "        [0., 0., 0.,  ..., 1., 0., 0.],\n",
      "        [0., 0., 0.,  ..., 0., 1., 0.],\n",
      "        [0., 0., 0.,  ..., 0., 0., 1.]])\n",
      "STEP 5\n",
      "G1 = <function G.<locals>.G_gs at 0x00000256D46056C0>\n",
      "M1 = tensor([[1., 0., 0.,  ..., 0., 0., 0.],\n",
      "        [0., 1., 0.,  ..., 0., 0., 0.],\n",
      "        [0., 0., 1.,  ..., 0., 0., 0.],\n",
      "        ...,\n",
      "        [0., 0., 0.,  ..., 1., 0., 0.],\n",
      "        [0., 0., 0.,  ..., 0., 1., 0.],\n",
      "        [0., 0., 0.,  ..., 0., 0., 1.]])\n",
      "G1 = <function G.<locals>.G_gs at 0x00000256D46056C0>\n",
      "M1 = tensor([[1., 0., 0.,  ..., 0., 0., 0.],\n",
      "        [0., 1., 0.,  ..., 0., 0., 0.],\n",
      "        [0., 0., 1.,  ..., 0., 0., 0.],\n",
      "        ...,\n",
      "        [0., 0., 0.,  ..., 1., 0., 0.],\n",
      "        [0., 0., 0.,  ..., 0., 1., 0.],\n",
      "        [0., 0., 0.,  ..., 0., 0., 1.]])\n",
      "G1 = <function G.<locals>.G_gs at 0x00000256D46056C0>\n",
      "M1 = tensor([[1., 0., 0.,  ..., 0., 0., 0.],\n",
      "        [0., 1., 0.,  ..., 0., 0., 0.],\n",
      "        [0., 0., 1.,  ..., 0., 0., 0.],\n",
      "        ...,\n",
      "        [0., 0., 0.,  ..., 1., 0., 0.],\n",
      "        [0., 0., 0.,  ..., 0., 1., 0.],\n",
      "        [0., 0., 0.,  ..., 0., 0., 1.]])\n",
      "G1 = <function G.<locals>.G_gs at 0x00000256D46056C0>\n",
      "M1 = tensor([[1., 0., 0.,  ..., 0., 0., 0.],\n",
      "        [0., 1., 0.,  ..., 0., 0., 0.],\n",
      "        [0., 0., 1.,  ..., 0., 0., 0.],\n",
      "        ...,\n",
      "        [0., 0., 0.,  ..., 1., 0., 0.],\n",
      "        [0., 0., 0.,  ..., 0., 1., 0.],\n",
      "        [0., 0., 0.,  ..., 0., 0., 1.]])\n",
      "G1 = <function G.<locals>.G_gs at 0x00000256D46056C0>\n",
      "M1 = tensor([[1., 0., 0.,  ..., 0., 0., 0.],\n",
      "        [0., 1., 0.,  ..., 0., 0., 0.],\n",
      "        [0., 0., 1.,  ..., 0., 0., 0.],\n",
      "        ...,\n",
      "        [0., 0., 0.,  ..., 1., 0., 0.],\n",
      "        [0., 0., 0.,  ..., 0., 1., 0.],\n",
      "        [0., 0., 0.,  ..., 0., 0., 1.]])\n",
      "G1 = <function G.<locals>.G_gs at 0x00000256D46056C0>\n",
      "M1 = tensor([[1., 0., 0.,  ..., 0., 0., 0.],\n",
      "        [0., 1., 0.,  ..., 0., 0., 0.],\n",
      "        [0., 0., 1.,  ..., 0., 0., 0.],\n",
      "        ...,\n",
      "        [0., 0., 0.,  ..., 1., 0., 0.],\n",
      "        [0., 0., 0.,  ..., 0., 1., 0.],\n",
      "        [0., 0., 0.,  ..., 0., 0., 1.]])\n",
      "STEP 6\n",
      "G1 = <function G.<locals>.G_gs at 0x00000256D4605630>\n",
      "M1 = tensor([[1., 0., 0.,  ..., 0., 0., 0.],\n",
      "        [0., 1., 0.,  ..., 0., 0., 0.],\n",
      "        [0., 0., 1.,  ..., 0., 0., 0.],\n",
      "        ...,\n",
      "        [0., 0., 0.,  ..., 1., 0., 0.],\n",
      "        [0., 0., 0.,  ..., 0., 1., 0.],\n",
      "        [0., 0., 0.,  ..., 0., 0., 1.]])\n",
      "G1 = <function G.<locals>.G_gs at 0x00000256D4605630>\n",
      "M1 = tensor([[1., 0., 0.,  ..., 0., 0., 0.],\n",
      "        [0., 1., 0.,  ..., 0., 0., 0.],\n",
      "        [0., 0., 1.,  ..., 0., 0., 0.],\n",
      "        ...,\n",
      "        [0., 0., 0.,  ..., 1., 0., 0.],\n",
      "        [0., 0., 0.,  ..., 0., 1., 0.],\n",
      "        [0., 0., 0.,  ..., 0., 0., 1.]])\n",
      "G1 = <function G.<locals>.G_gs at 0x00000256D4605630>\n",
      "M1 = tensor([[1., 0., 0.,  ..., 0., 0., 0.],\n",
      "        [0., 1., 0.,  ..., 0., 0., 0.],\n",
      "        [0., 0., 1.,  ..., 0., 0., 0.],\n",
      "        ...,\n",
      "        [0., 0., 0.,  ..., 1., 0., 0.],\n",
      "        [0., 0., 0.,  ..., 0., 1., 0.],\n",
      "        [0., 0., 0.,  ..., 0., 0., 1.]])\n",
      "G1 = <function G.<locals>.G_gs at 0x00000256D4605630>\n",
      "M1 = tensor([[1., 0., 0.,  ..., 0., 0., 0.],\n",
      "        [0., 1., 0.,  ..., 0., 0., 0.],\n",
      "        [0., 0., 1.,  ..., 0., 0., 0.],\n",
      "        ...,\n",
      "        [0., 0., 0.,  ..., 1., 0., 0.],\n",
      "        [0., 0., 0.,  ..., 0., 1., 0.],\n",
      "        [0., 0., 0.,  ..., 0., 0., 1.]])\n",
      "G1 = <function G.<locals>.G_gs at 0x00000256D4605630>\n",
      "M1 = tensor([[1., 0., 0.,  ..., 0., 0., 0.],\n",
      "        [0., 1., 0.,  ..., 0., 0., 0.],\n",
      "        [0., 0., 1.,  ..., 0., 0., 0.],\n",
      "        ...,\n",
      "        [0., 0., 0.,  ..., 1., 0., 0.],\n",
      "        [0., 0., 0.,  ..., 0., 1., 0.],\n",
      "        [0., 0., 0.,  ..., 0., 0., 1.]])\n",
      "G1 = <function G.<locals>.G_gs at 0x00000256D4605630>\n",
      "M1 = tensor([[1., 0., 0.,  ..., 0., 0., 0.],\n",
      "        [0., 1., 0.,  ..., 0., 0., 0.],\n",
      "        [0., 0., 1.,  ..., 0., 0., 0.],\n",
      "        ...,\n",
      "        [0., 0., 0.,  ..., 1., 0., 0.],\n",
      "        [0., 0., 0.,  ..., 0., 1., 0.],\n",
      "        [0., 0., 0.,  ..., 0., 0., 1.]])\n",
      "STEP 7\n",
      "G1 = <function G.<locals>.G_gs at 0x00000256D4605630>\n",
      "M1 = tensor([[1., 0., 0.,  ..., 0., 0., 0.],\n",
      "        [0., 1., 0.,  ..., 0., 0., 0.],\n",
      "        [0., 0., 1.,  ..., 0., 0., 0.],\n",
      "        ...,\n",
      "        [0., 0., 0.,  ..., 1., 0., 0.],\n",
      "        [0., 0., 0.,  ..., 0., 1., 0.],\n",
      "        [0., 0., 0.,  ..., 0., 0., 1.]])\n",
      "G1 = <function G.<locals>.G_gs at 0x00000256D4605630>\n",
      "M1 = tensor([[1., 0., 0.,  ..., 0., 0., 0.],\n",
      "        [0., 1., 0.,  ..., 0., 0., 0.],\n",
      "        [0., 0., 1.,  ..., 0., 0., 0.],\n",
      "        ...,\n",
      "        [0., 0., 0.,  ..., 1., 0., 0.],\n",
      "        [0., 0., 0.,  ..., 0., 1., 0.],\n",
      "        [0., 0., 0.,  ..., 0., 0., 1.]])\n",
      "G1 = <function G.<locals>.G_gs at 0x00000256D4605630>\n",
      "M1 = tensor([[1., 0., 0.,  ..., 0., 0., 0.],\n",
      "        [0., 1., 0.,  ..., 0., 0., 0.],\n",
      "        [0., 0., 1.,  ..., 0., 0., 0.],\n",
      "        ...,\n",
      "        [0., 0., 0.,  ..., 1., 0., 0.],\n",
      "        [0., 0., 0.,  ..., 0., 1., 0.],\n",
      "        [0., 0., 0.,  ..., 0., 0., 1.]])\n",
      "G1 = <function G.<locals>.G_gs at 0x00000256D4605630>\n",
      "M1 = tensor([[1., 0., 0.,  ..., 0., 0., 0.],\n",
      "        [0., 1., 0.,  ..., 0., 0., 0.],\n",
      "        [0., 0., 1.,  ..., 0., 0., 0.],\n",
      "        ...,\n",
      "        [0., 0., 0.,  ..., 1., 0., 0.],\n",
      "        [0., 0., 0.,  ..., 0., 1., 0.],\n",
      "        [0., 0., 0.,  ..., 0., 0., 1.]])\n",
      "G1 = <function G.<locals>.G_gs at 0x00000256D4605630>\n",
      "M1 = tensor([[1., 0., 0.,  ..., 0., 0., 0.],\n",
      "        [0., 1., 0.,  ..., 0., 0., 0.],\n",
      "        [0., 0., 1.,  ..., 0., 0., 0.],\n",
      "        ...,\n",
      "        [0., 0., 0.,  ..., 1., 0., 0.],\n",
      "        [0., 0., 0.,  ..., 0., 1., 0.],\n",
      "        [0., 0., 0.,  ..., 0., 0., 1.]])\n",
      "G1 = <function G.<locals>.G_gs at 0x00000256D4605630>\n",
      "M1 = tensor([[1., 0., 0.,  ..., 0., 0., 0.],\n",
      "        [0., 1., 0.,  ..., 0., 0., 0.],\n",
      "        [0., 0., 1.,  ..., 0., 0., 0.],\n",
      "        ...,\n",
      "        [0., 0., 0.,  ..., 1., 0., 0.],\n",
      "        [0., 0., 0.,  ..., 0., 1., 0.],\n",
      "        [0., 0., 0.,  ..., 0., 0., 1.]])\n",
      "STEP 8\n",
      "G1 = <function G.<locals>.G_gs at 0x00000256D4605630>\n",
      "M1 = tensor([[1., 0., 0.,  ..., 0., 0., 0.],\n",
      "        [0., 1., 0.,  ..., 0., 0., 0.],\n",
      "        [0., 0., 1.,  ..., 0., 0., 0.],\n",
      "        ...,\n",
      "        [0., 0., 0.,  ..., 1., 0., 0.],\n",
      "        [0., 0., 0.,  ..., 0., 1., 0.],\n",
      "        [0., 0., 0.,  ..., 0., 0., 1.]])\n",
      "G1 = <function G.<locals>.G_gs at 0x00000256D4605630>\n",
      "M1 = tensor([[1., 0., 0.,  ..., 0., 0., 0.],\n",
      "        [0., 1., 0.,  ..., 0., 0., 0.],\n",
      "        [0., 0., 1.,  ..., 0., 0., 0.],\n",
      "        ...,\n",
      "        [0., 0., 0.,  ..., 1., 0., 0.],\n",
      "        [0., 0., 0.,  ..., 0., 1., 0.],\n",
      "        [0., 0., 0.,  ..., 0., 0., 1.]])\n",
      "G1 = <function G.<locals>.G_gs at 0x00000256D4605630>\n",
      "M1 = tensor([[1., 0., 0.,  ..., 0., 0., 0.],\n",
      "        [0., 1., 0.,  ..., 0., 0., 0.],\n",
      "        [0., 0., 1.,  ..., 0., 0., 0.],\n",
      "        ...,\n",
      "        [0., 0., 0.,  ..., 1., 0., 0.],\n",
      "        [0., 0., 0.,  ..., 0., 1., 0.],\n",
      "        [0., 0., 0.,  ..., 0., 0., 1.]])\n",
      "G1 = <function G.<locals>.G_gs at 0x00000256D4605630>\n",
      "M1 = tensor([[1., 0., 0.,  ..., 0., 0., 0.],\n",
      "        [0., 1., 0.,  ..., 0., 0., 0.],\n",
      "        [0., 0., 1.,  ..., 0., 0., 0.],\n",
      "        ...,\n",
      "        [0., 0., 0.,  ..., 1., 0., 0.],\n",
      "        [0., 0., 0.,  ..., 0., 1., 0.],\n",
      "        [0., 0., 0.,  ..., 0., 0., 1.]])\n",
      "G1 = <function G.<locals>.G_gs at 0x00000256D4605630>\n",
      "M1 = tensor([[1., 0., 0.,  ..., 0., 0., 0.],\n",
      "        [0., 1., 0.,  ..., 0., 0., 0.],\n",
      "        [0., 0., 1.,  ..., 0., 0., 0.],\n",
      "        ...,\n",
      "        [0., 0., 0.,  ..., 1., 0., 0.],\n",
      "        [0., 0., 0.,  ..., 0., 1., 0.],\n",
      "        [0., 0., 0.,  ..., 0., 0., 1.]])\n",
      "G1 = <function G.<locals>.G_gs at 0x00000256D4605630>\n",
      "M1 = tensor([[1., 0., 0.,  ..., 0., 0., 0.],\n",
      "        [0., 1., 0.,  ..., 0., 0., 0.],\n",
      "        [0., 0., 1.,  ..., 0., 0., 0.],\n",
      "        ...,\n",
      "        [0., 0., 0.,  ..., 1., 0., 0.],\n",
      "        [0., 0., 0.,  ..., 0., 1., 0.],\n",
      "        [0., 0., 0.,  ..., 0., 0., 1.]])\n",
      "Average joint movement: 0.011631417991952536\n",
      "Angs = (9, 18, 2)\n"
     ]
    },
    {
     "name": "stderr",
     "output_type": "stream",
     "text": [
      "\n",
      "KeyboardInterrupt\n",
      "\n"
     ]
    }
   ],
   "source": [
    "h = .01\n",
    "consts = []\n",
    "const_densities = []\n",
    "meds = []\n",
    "med_densities =[]\n",
    "means = []\n",
    "std = 0.3\n",
    "f = IntProgress(min=0, max=len(test_dataset[0:10]))\n",
    "display(f)\n",
    "i = 0\n",
    "for frame1 in test_dataset[0:100]:\n",
    "    t = time.time()\n",
    "    print(f\"Frame {i}\")\n",
    "    i +=1\n",
    "    frame = torch.squeeze(frame1)\n",
    "\n",
    "    M = torch.eye(19*3)\n",
    "\n",
    "\n",
    "    # initialising from a random training pose\n",
    "    x_init = torch.flatten(train_dataset[random.randint(0,99)])\n",
    "    v_init = torch.zeros_like(x_init)\n",
    "    x_init.requires_grad =True\n",
    "\n",
    "    gs = [length_constraint(i,j,x_init) for (i,j) in bones2]\n",
    "    gs.append(length_constraint_2(1,x_init))\n",
    "    gs.append(length_constraint_2(11,x_init))\n",
    "    gs.append(length_constraint_2(15,x_init))\n",
    "\n",
    "    # defining and randomly perturbing the image\n",
    "    fx = 1.0\n",
    "    fy = 1.0\n",
    "    cx = 0\n",
    "    cy = 0\n",
    "    a1 = torch.tensor([[fx], [0], [cx]], dtype=torch.double)\n",
    "    a2 = torch.tensor([[0], [fy], [cy]], dtype=torch.double)\n",
    "    a3 = torch.tensor([[0],[0],[1]], dtype=torch.double)\n",
    "    i1 = frame @ a1\n",
    "    i2 = frame @ a2\n",
    "    i3 = frame @ a3\n",
    "\n",
    "    image = torch.hstack([i1/i3, i2/i3])\n",
    "\n",
    "\n",
    "    image += torch.randn_like(image) * std\n",
    "\n",
    "    # need to re-define density, force and mass to use the new image\n",
    "    def neg_log_density(pose2):\n",
    "        pose = pose2.reshape((19,3))\n",
    "        pose = torch.squeeze(pose)\n",
    "        fx = 1.0\n",
    "        fy = 1.0\n",
    "        cx = 0\n",
    "        cy = 0\n",
    "        a1 = torch.tensor([[fx], [0], [cx]], dtype=torch.double)\n",
    "        a2 = torch.tensor([[0], [fy], [cy]], dtype=torch.double)\n",
    "        a3 = torch.tensor([[0],[0],[1]], dtype=torch.double)\n",
    "\n",
    "        # Map the 3D point to 2D point\n",
    "        p1 = pose@ a1\n",
    "        p2 = pose @ a2\n",
    "        p3 = pose @ a3\n",
    "\n",
    "        projection = torch.hstack([p1/p3, p2/p3])\n",
    "        #print(projection)\n",
    "        #print(image)\n",
    "        n = projection - image\n",
    "        #print(n)\n",
    "        # note - taking the variance to be 1...\n",
    "        pi = torch.tensor([0.], requires_grad=True)\n",
    "        for point in n[1:]:\n",
    "            pi = pi+ (torch.dot(point,point)) / (std**2)\n",
    "\n",
    "        p2 = torch.flatten(pose)\n",
    "        for i in range(len(eigenvalues)):\n",
    "            pi = pi+ (torch.dot(torch.tensor(eigenposes[i])[3:],(p2-torch.tensor(avg_pose))[3:])**2 / eigenvalues[i])\n",
    "        return pi\n",
    "\n",
    "    def force(x):\n",
    "        return torch.squeeze(jacobian(neg_log_density, x), dim = 0)\n",
    "\n",
    "\n",
    "    positions,_ = gBAOAB_integrator(x_init,v_init,force, gs, h,M, 1, 1, 9,3, 10**(-10))\n",
    "\n",
    "\n",
    "    # getting the median position\n",
    "    med = median(positions[1:])\n",
    "    med[0] = torch.zeros_like(med[0])\n",
    "    med[0][-1] = 2\n",
    "    median_avg = avg_j2j(med.reshape((19,3)),frame)\n",
    "    meds.append(median_avg)\n",
    "    med_densities.append(neg_log_density(med))\n",
    "    # BFGS\n",
    "    print(f\"Average joint movement: {avg_j2j(med.reshape((19,3)),x_init.detach().reshape((19,3)))}\")\n",
    "\n",
    "\n",
    "    edited_positions = [posit.detach().reshape((19,3)) for posit in positions]\n",
    "    epos = []\n",
    "    for epo in edited_positions:\n",
    "        ep = epo\n",
    "        ep[0] = torch.zeros_like(ep[0])\n",
    "        ep[0][-1] = 2\n",
    "        epos.append(epo)\n",
    "    mean_angle = average_angle_position(epos, bones).reshape((19,3))\n",
    "    mean_angle[0] = torch.zeros_like(mean_angle[0])\n",
    "    mean_angle[0][-1] =2\n",
    "    mean_avg = avg_j2j(mean_angle,frame)\n",
    "    means.append(mean_avg)\n",
    "\n",
    "    # convering to numpy and re-defining the constraints.\n",
    "    x_init = np.ndarray.flatten(x_init.detach().numpy())\n",
    "    image = image.numpy()\n",
    "\n",
    "    gs = [length_constraint(i, j, x_init) for (i, j) in bones2]\n",
    "    gs.append(length_constraint_2(1, x_init))\n",
    "    gs.append(length_constraint_2(11, x_init))\n",
    "    gs.append(length_constraint_2(15, x_init))\n",
    "\n",
    "    constraints = [{'type': 'eq', 'fun': fn} for fn in gs]\n",
    "\n",
    "\n",
    "    def neg_log_density(pose2):\n",
    "        pose = pose2.reshape((19, 3))\n",
    "        pose = np.squeeze(pose)\n",
    "        fx = 1.0\n",
    "        fy = 1.0\n",
    "        cx = 0\n",
    "        cy = 0\n",
    "        a1 = np.array([[fx], [0], [cx]])\n",
    "        a2 = np.array([[0], [fy], [cy]])\n",
    "        a3 = np.array([[0], [0], [1]])\n",
    "\n",
    "        # Map the 3D point to 2D point\n",
    "        p1 = pose @ a1\n",
    "        p2 = pose @ a2\n",
    "        p3 = pose @ a3\n",
    "\n",
    "        projection = np.hstack([p1 / p3, p2 / p3])\n",
    "        #print(projection)\n",
    "        #print(image)\n",
    "        n = projection - image\n",
    "        #print(n)\n",
    "        # note - taking the variance to be 1...\n",
    "        pi = 0\n",
    "        for point in n[1:]:\n",
    "            pi = pi + (np.dot(point, point)) / (std**2)\n",
    "\n",
    "        p2 = np.ndarray.flatten(pose)\n",
    "        for i in range(len(eigenvalues)):\n",
    "            pi = pi + (np.dot(eigenposes[i][3:], (p2 - avg_pose)[3:]) ** 2 / eigenvalues[i])\n",
    "        return pi\n",
    "\n",
    "\n",
    "    res = scipy.optimize.minimize(neg_log_density, x0=x_init, method='SLSQP',constraints=constraints, options={'maxiter': 200})\n",
    "    const_x = res.x.reshape((19,3))\n",
    "    const_x[0] = np.zeros_like(med[0])\n",
    "    const_x[0][-1] = 2\n",
    "    if res.success == False:\n",
    "        print(\"DID NOT CONVERGE~\")\n",
    "    const_avg = avg_j2j(const_x, frame.numpy())\n",
    "    consts.append(const_avg)\n",
    "    print(f\"Consts = {consts}\")\n",
    "    print(f\"Meds = {meds}\")\n",
    "    print(f\"Means = {means}\")\n",
    "    const_densities.append(neg_log_density(res.x))\n",
    "    t2 = time.time()\n",
    "    print(f\"Time elapsed: {t2-t}\")"
   ],
   "metadata": {
    "collapsed": false
   }
  },
  {
   "cell_type": "code",
   "execution_count": null,
   "outputs": [],
   "source": [
    "positions[-1]"
   ],
   "metadata": {
    "collapsed": false
   }
  },
  {
   "cell_type": "code",
   "execution_count": null,
   "outputs": [],
   "source": [
    "dens = [neg_log_density(pos).detach() for pos in positions]"
   ],
   "metadata": {
    "collapsed": false
   }
  },
  {
   "cell_type": "code",
   "execution_count": null,
   "outputs": [],
   "source": [
    "plt.plot(dens)"
   ],
   "metadata": {
    "collapsed": false
   }
  },
  {
   "cell_type": "code",
   "execution_count": null,
   "outputs": [],
   "source": [
    "mean_angle = average_angle_position(epos[200:], bones).reshape((19,3))\n",
    "mean_angle[0] = torch.zeros_like(mean_angle[0])\n",
    "mean_angle[0][-1] =2\n",
    "avg_j2j(mean_angle,frame)\n"
   ],
   "metadata": {
    "collapsed": false
   }
  },
  {
   "cell_type": "code",
   "execution_count": null,
   "outputs": [],
   "source": [
    "res"
   ],
   "metadata": {
    "collapsed": false
   }
  },
  {
   "cell_type": "code",
   "execution_count": null,
   "outputs": [],
   "source": [
    "med = median(positions[200:])\n",
    "med[0] = torch.zeros_like(med[0])\n",
    "med[0][-1] = 2\n",
    "avg_j2j(med.reshape((19,3)),frame)"
   ],
   "metadata": {
    "collapsed": false
   }
  },
  {
   "cell_type": "code",
   "execution_count": null,
   "outputs": [],
   "source": [
    "plt.plot(consts, label = 'consts')\n",
    "plt.plot(meds, label = 'medians')\n",
    "plt.legend()"
   ],
   "metadata": {
    "collapsed": false
   }
  },
  {
   "cell_type": "code",
   "execution_count": null,
   "outputs": [],
   "source": [
    "res"
   ],
   "metadata": {
    "collapsed": false
   }
  },
  {
   "cell_type": "code",
   "execution_count": null,
   "outputs": [],
   "source": [
    "# checking that constraints are satisfied\n",
    "pp = positions[-1].reshape((19,3))\n",
    "length_constraint_2(11,x_init)(np.ndarray.flatten(pp.detach().numpy()))"
   ],
   "metadata": {
    "collapsed": false
   }
  },
  {
   "cell_type": "code",
   "execution_count": null,
   "outputs": [],
   "source": [],
   "metadata": {
    "collapsed": false
   }
  },
  {
   "cell_type": "code",
   "execution_count": null,
   "outputs": [],
   "source": [
    "transform = torch.ones_like(med)*0.5"
   ],
   "metadata": {
    "collapsed": false
   }
  },
  {
   "cell_type": "code",
   "execution_count": null,
   "outputs": [],
   "source": [
    "vis.plot_3d_pose(pp.detach()-transform)\n",
    "plt.title(f\"Median Pose\")\n",
    "plt.savefig(f\"median_pose.pdf\")"
   ],
   "metadata": {
    "collapsed": false
   }
  },
  {
   "cell_type": "code",
   "execution_count": null,
   "outputs": [],
   "source": [
    "mean_angle"
   ],
   "metadata": {
    "collapsed": false
   }
  },
  {
   "cell_type": "code",
   "execution_count": null,
   "outputs": [],
   "source": [
    "vis.plot_3d_pose(mean_angle-transform)\n",
    "plt.title(f\"Median Pose\")\n",
    "plt.savefig(f\"median_pose.pdf\")"
   ],
   "metadata": {
    "collapsed": false
   }
  },
  {
   "cell_type": "code",
   "execution_count": null,
   "outputs": [],
   "source": [
    "vis.plot_3d_pose(constr_x-transform.numpy())\n",
    "plt.title(f\"constrained optimization\")\n",
    "plt.savefig(f\"pose_constr_opt.pdf\")"
   ],
   "metadata": {
    "collapsed": false
   }
  },
  {
   "cell_type": "code",
   "execution_count": null,
   "outputs": [],
   "source": [
    "target_pose = test_dataset[2].reshape((19, 3))"
   ],
   "metadata": {
    "collapsed": false
   }
  },
  {
   "cell_type": "code",
   "execution_count": null,
   "outputs": [],
   "source": [
    "vis.plot_3d_pose(target_pose- transform)\n",
    "plt.title(f\"target pose\")\n",
    "plt.savefig(f\"pose_target.pdf\")"
   ],
   "metadata": {
    "collapsed": false
   }
  },
  {
   "cell_type": "code",
   "execution_count": null,
   "outputs": [],
   "source": [
    "final_pose =positions[-1].detach().reshape((19,3))"
   ],
   "metadata": {
    "collapsed": false
   }
  },
  {
   "cell_type": "code",
   "execution_count": null,
   "outputs": [],
   "source": [
    "mean = torch.stack(positions).detach().mean(axis=0).reshape((19,3))"
   ],
   "metadata": {
    "collapsed": false
   }
  },
  {
   "cell_type": "code",
   "execution_count": null,
   "outputs": [],
   "source": [
    "vis.plot_3d_pose(mean- transform)\n",
    "plt.title(f\"mean pose\")\n",
    "plt.savefig(f\"pose_mean.pdf\")"
   ],
   "metadata": {
    "collapsed": false
   }
  },
  {
   "cell_type": "code",
   "execution_count": null,
   "outputs": [],
   "source": [
    "image"
   ],
   "metadata": {
    "collapsed": false
   }
  },
  {
   "cell_type": "code",
   "execution_count": null,
   "outputs": [],
   "source": [
    "plt.scatter(image[:,0], image[:,1])"
   ],
   "metadata": {
    "collapsed": false
   }
  },
  {
   "cell_type": "code",
   "execution_count": null,
   "outputs": [],
   "source": [
    "fx = 1.0\n",
    "fy = 1.0\n",
    "cx = 0\n",
    "cy = 0\n",
    "a1 = torch.tensor([[fx], [0], [cx]], dtype=torch.double)\n",
    "a2 = torch.tensor([[0], [fy], [cy]], dtype=torch.double)\n",
    "a3 = torch.tensor([[0],[0],[1]], dtype=torch.double)\n",
    "\n",
    "# Map the 3D point to 2D point\n",
    "p1 = mean@ a1\n",
    "p2 = mean @ a2\n",
    "p3 = mean @ a3\n",
    "\n",
    "projection = torch.hstack([p1/p3, p2/p3])"
   ],
   "metadata": {
    "collapsed": false
   }
  },
  {
   "cell_type": "code",
   "execution_count": null,
   "outputs": [],
   "source": [],
   "metadata": {
    "collapsed": false
   }
  },
  {
   "cell_type": "code",
   "execution_count": null,
   "outputs": [],
   "source": [
    "plt.scatter(projection[:,0],projection[:,1])"
   ],
   "metadata": {
    "collapsed": false
   }
  },
  {
   "cell_type": "code",
   "execution_count": null,
   "outputs": [],
   "source": [
    "densities = [d.detach() for d in densities]"
   ],
   "metadata": {
    "collapsed": false
   }
  },
  {
   "cell_type": "code",
   "execution_count": null,
   "outputs": [],
   "source": [
    "plt.plot(densities)"
   ],
   "metadata": {
    "collapsed": false
   }
  },
  {
   "cell_type": "code",
   "execution_count": null,
   "outputs": [],
   "source": [
    "print(eigenvalues)"
   ],
   "metadata": {
    "collapsed": false
   }
  },
  {
   "cell_type": "code",
   "execution_count": null,
   "outputs": [],
   "source": [
    "x_init= test_dataset[0]\n",
    "t = torch.ones_like(x_init)*0.01"
   ],
   "metadata": {
    "collapsed": false
   }
  },
  {
   "cell_type": "code",
   "execution_count": null,
   "outputs": [],
   "source": [
    "print(neg_log_density(x_init))"
   ],
   "metadata": {
    "collapsed": false
   }
  },
  {
   "cell_type": "code",
   "execution_count": null,
   "outputs": [],
   "source": [
    "print(neg_log_density(x_init+t))"
   ],
   "metadata": {
    "collapsed": false
   }
  },
  {
   "cell_type": "code",
   "execution_count": null,
   "outputs": [],
   "source": [
    "errors = []\n",
    "for i in range(len(positions)):\n",
    "    mean_to_i = positions[:i]\n",
    "    rmse = ((mean - torch.flatten(frame))**2).mean()**0.5\n",
    "    errors.append(rmse)"
   ],
   "metadata": {
    "collapsed": false
   }
  },
  {
   "cell_type": "code",
   "execution_count": null,
   "outputs": [],
   "source": [
    "i=0\n",
    "j=1"
   ],
   "metadata": {
    "collapsed": false
   }
  },
  {
   "cell_type": "code",
   "execution_count": null,
   "outputs": [],
   "source": [
    "for n in range(len(positions)):\n",
    "    x = positions[n]\n",
    "    l = (x[3 * i] - x[3 * j]) ** 2 + (x[3 * i + 1] - x[3 * j + 1]) ** 2 + (x[3 * i + 2] - x[3 * j + 2]) ** 2\n",
    "    lengths.append(l)\n",
    "plt.plot(lengths)"
   ],
   "metadata": {
    "collapsed": false
   }
  },
  {
   "cell_type": "code",
   "execution_count": null,
   "outputs": [],
   "source": [
    "def force(x):\n",
    "    return torch.zeros_like(x)"
   ],
   "metadata": {
    "collapsed": false
   }
  },
  {
   "cell_type": "code",
   "execution_count": null,
   "outputs": [],
   "source": [
    "bones2 = [\n",
    "    (0, 1),\n",
    "    (1, 3),\n",
    "    (3, 4),\n",
    "    (4, 5),\n",
    "    (5, 6),\n",
    "    (1, 7),\n",
    "    (7, 8),\n",
    "    (8, 9),\n",
    "    (9, 10),\n",
    "    (0, 11),\n",
    "    (11, 12),\n",
    "    (12, 13),\n",
    "    (13, 14),\n",
    "    (0, 15),\n",
    "    (15, 16),\n",
    "    (16, 17),\n",
    "    (17, 18),\n",
    "]"
   ],
   "metadata": {
    "collapsed": false
   }
  },
  {
   "cell_type": "code",
   "execution_count": null,
   "outputs": [],
   "source": [
    "def noising_process(pose,p, its, h):\n",
    "    gs = [length_constraint(i,j,x_init) for (i,j) in bones]\n",
    "    M = torch.eye(len(pose))\n",
    "    qs, ps = gBAOAB_integrator_old(pose,p,force, gs, h,M, 1, 1, its)\n",
    "    return qs[-1], ps[-1]"
   ],
   "metadata": {
    "collapsed": false
   }
  },
  {
   "cell_type": "code",
   "execution_count": null,
   "outputs": [],
   "source": [
    "q0 = torch.flatten(test_dataset[0])\n",
    "#q1, v1 = noising_process(q0,torch.zeros_like(q0), 1,0.01)"
   ],
   "metadata": {
    "collapsed": false
   }
  },
  {
   "cell_type": "code",
   "execution_count": null,
   "outputs": [],
   "source": [
    "q2,v2 = noising_process(q1,v1,9,0.01)\n",
    "q3,v3 = noising_process(q2,v2,10,0.01)"
   ],
   "metadata": {
    "collapsed": false
   }
  },
  {
   "cell_type": "code",
   "execution_count": null,
   "outputs": [],
   "source": [
    "pose0 = q0.reshape((19,3))\n",
    "pose1 = q1.detach().reshape((19,3))\n",
    "pose2 = q2.detach().reshape((19,3))\n",
    "pose3 = q3.detach().reshape((19,3))"
   ],
   "metadata": {
    "collapsed": false
   }
  },
  {
   "cell_type": "code",
   "execution_count": null,
   "outputs": [],
   "source": [
    "t2 = torch.zeros_like(pose0)\n",
    "t2[2] = 1"
   ],
   "metadata": {
    "collapsed": false
   }
  },
  {
   "cell_type": "code",
   "execution_count": null,
   "outputs": [],
   "source": [
    "q0 = torch.flatten(test_dataset[0])\n",
    "pose0 = q0.reshape((19,3))"
   ],
   "metadata": {
    "collapsed": false
   }
  },
  {
   "cell_type": "code",
   "execution_count": null,
   "outputs": [],
   "source": [
    "transform = torch.ones_like(pose0)/2\n",
    "fig, ax = vis.plot_3d_pose(pose0- transform)\n",
    "ax.plot((pose0-transform)[0][0],(pose0-transform)[0][2],(pose0-transform)[0][1],'o', color = 'red')\n",
    "ax.set_title('t=0')\n",
    "plt.savefig('t_0.pdf')"
   ],
   "metadata": {
    "collapsed": false
   }
  },
  {
   "cell_type": "code",
   "execution_count": null,
   "outputs": [],
   "source": [
    "pose0[2]"
   ],
   "metadata": {
    "collapsed": false
   }
  },
  {
   "cell_type": "code",
   "execution_count": null,
   "outputs": [],
   "source": [
    "(pose1-transform)[2][1]"
   ],
   "metadata": {
    "collapsed": false
   }
  },
  {
   "cell_type": "code",
   "execution_count": null,
   "outputs": [],
   "source": [
    "fig, ax =vis.plot_3d_pose(pose1- transform)\n",
    "#ax.plot(x,(pose1-transform)[2][2],(pose1-transform)[2][1],'o', color = 'red')\n",
    "ax.set_title('t=0.01')\n",
    "plt.savefig('t_001.pdf')"
   ],
   "metadata": {
    "collapsed": false
   }
  },
  {
   "cell_type": "code",
   "execution_count": null,
   "outputs": [],
   "source": [
    "fig, ax =vis.plot_3d_pose(pose2- transform)\n",
    "ax.plot((pose2-transform)[2][0],(pose2-transform)[2][2],(pose2-transform)[2][1],'o', color = 'red')\n",
    "ax.set_title('t=0.1')\n",
    "plt.savefig('t_01.pdf')"
   ],
   "metadata": {
    "collapsed": false
   }
  },
  {
   "cell_type": "code",
   "execution_count": null,
   "outputs": [],
   "source": [
    "fig, ax =vis.plot_3d_pose(pose3- transform)\n",
    "ax.plot((pose3-transform)[2][0],(pose3-transform)[2][2],(pose3-transform)[2][1],'o', color = 'red')\n",
    "ax.set_title('t=0.2')\n",
    "plt.savefig('t_02.pdf')"
   ],
   "metadata": {
    "collapsed": false
   }
  },
  {
   "cell_type": "code",
   "execution_count": null,
   "outputs": [],
   "source": [
    "vis.plot_3d_pose(pose3- transform)\n",
    "plt.title(\"t = .14\")\n",
    "plt.savefig('t_14.pdf')"
   ],
   "metadata": {
    "collapsed": false
   }
  },
  {
   "cell_type": "markdown",
   "source": [
    "## Geodesic Random Walk"
   ],
   "metadata": {
    "collapsed": false
   }
  },
  {
   "cell_type": "code",
   "execution_count": null,
   "outputs": [],
   "source": [],
   "metadata": {
    "collapsed": false
   }
  }
 ],
 "metadata": {
  "kernelspec": {
   "display_name": "Python 3",
   "language": "python",
   "name": "python3"
  },
  "language_info": {
   "codemirror_mode": {
    "name": "ipython",
    "version": 2
   },
   "file_extension": ".py",
   "mimetype": "text/x-python",
   "name": "python",
   "nbconvert_exporter": "python",
   "pygments_lexer": "ipython2",
   "version": "2.7.6"
  }
 },
 "nbformat": 4,
 "nbformat_minor": 0
}
