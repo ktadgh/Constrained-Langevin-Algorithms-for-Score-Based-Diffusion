{
  "cells": [
    {
      "cell_type": "code",
      "execution_count": null,
      "metadata": {
        "collapsed": true,
        "id": "A-LfJDq8YKaS"
      },
      "outputs": [],
      "source": [
        "import numpy as np\n",
        "from matplotlib import pyplot as plt\n",
        "from matplotlib.animation import FuncAnimation\n",
        "from sympy import Matrix, Array\n",
        "from sympy.abc import x, y, z\n",
        "import torch\n",
        "from torch.autograd.functional import jacobian\n",
        "import matplotlib.pyplot as plt\n",
        "\n",
        "from matplotlib.collections import LineCollection\n",
        "import matplotlib.colors as colors\n",
        "import cProfile\n",
        "import pstats\n",
        "import warnings"
      ]
    },
    {
      "cell_type": "code",
      "source": [
        "warnings.simplefilter('ignore')"
      ],
      "metadata": {
        "id": "o_Kfg9Nx9cgZ"
      },
      "execution_count": null,
      "outputs": []
    },
    {
      "cell_type": "code",
      "execution_count": null,
      "metadata": {
        "id": "h9q0lzPgYKap"
      },
      "outputs": [],
      "source": [
        "torch.set_default_dtype(torch.float64)"
      ]
    },
    {
      "cell_type": "code",
      "execution_count": null,
      "metadata": {
        "id": "g7XitktlYKaq"
      },
      "outputs": [],
      "source": [
        "# Implementing SHAKE and RATTLE"
      ]
    },
    {
      "cell_type": "code",
      "execution_count": null,
      "metadata": {
        "id": "tFQ2EfCKYKar"
      },
      "outputs": [],
      "source": [
        "@torch.compile(mode = \"default\")\n",
        "def G(gs):\n",
        "    '''\n",
        "    :param gs: a list of tensor functions\n",
        "    :return: a function sending a tensor to the stacked matrix of the functions of that tensor\n",
        "    '''\n",
        "\n",
        "    def G_gs(tensor):\n",
        "        # print(\"Function input: \",tensor) # checking the input for debugging\n",
        "        # print(\"Function output:\" , torch.stack([g(tensor) for g in gs],0))\n",
        "        return torch.stack([g(tensor) for g in gs], 0)\n",
        "\n",
        "    return G_gs"
      ]
    },
    {
      "cell_type": "code",
      "execution_count": null,
      "metadata": {
        "id": "V2vLgzXLYKat"
      },
      "outputs": [],
      "source": [
        "@torch.compile(mode = \"default\")\n",
        "def J(gs, x):\n",
        "    '''Returns the Jacobian evaluated at x for a list gs of constraint functions'''\n",
        "    return jacobian(G(gs), x)"
      ]
    },
    {
      "cell_type": "code",
      "execution_count": null,
      "metadata": {
        "id": "-T3k5CZJYKay"
      },
      "outputs": [],
      "source": [
        "@torch.compile(mode = \"default\")\n",
        "def rattle_step(x, v1, h, M, gs, e):\n",
        "    '''\n",
        "    Defining a function to take a step in the position, velocity form.\n",
        "    g should be a vector-valued function of constraints.\n",
        "    :return: x_1, v_1\n",
        "    '''\n",
        "\n",
        "    M1 =  torch.inverse(M)\n",
        "\n",
        "    G1 = G(gs)\n",
        "\n",
        "\n",
        "    DV = torch.zeros_like(x)\n",
        "\n",
        "    #DV[-1] = 10  # leaving this out for g-BAOAB\n",
        "    DV_col = DV.reshape(-1, 1)\n",
        "\n",
        "    x_col = x.reshape(-1, 1)\n",
        "    v1_col = v1.reshape(-1, 1)\n",
        "\n",
        "    # doing Newton-Raphson iterations\n",
        "    iters = 0\n",
        "    x2 = x_col + h * v1_col - 0.5*(h**2)* M1 @ DV_col\n",
        "    Q_col = x2\n",
        "    Q = torch.squeeze(Q_col)\n",
        "    J1 = J(gs, torch.squeeze(x_col))\n",
        "\n",
        "\n",
        "    #while torch.any(torch.abs(G1(Q)) > e):\n",
        "    for i in range(3):\n",
        "        J2 = J(gs, torch.squeeze(Q))\n",
        "        R = J2 @ M1 @ J1.t()\n",
        "        dL = torch.inverse(R) @ G1(Q)\n",
        "        #print(f\"Q = {Q}\")\n",
        "        Q -= M1 @ J1.t() @ dL\n",
        "        iters +=1\n",
        "    #print(f\"Updating v1_col, Jacobian {J(gs,torch.squeeze(x_col))}\")\n",
        "    #print(f\"Updating v1_col, Jacobian^T {J(gs,torch.squeeze(x_col)).t()}\")\n",
        "\n",
        "    # half step for velocity\n",
        "    Q_col = Q.reshape(-1,1)\n",
        "    v1_half = (Q_col - x_col)/h\n",
        "    x_col = Q_col\n",
        "    J1 = J(gs, torch.squeeze(x_col))\n",
        "\n",
        "    # getting the level\n",
        "    J2 = J(gs, torch.squeeze(Q))\n",
        "    P = J1 @ M1 @ J1.t()\n",
        "    T = J1 @ (2/h * v1_half - M1 @ DV_col)\n",
        "\n",
        "    #solving the linear system\n",
        "    L = torch.linalg.solve(P,T)\n",
        "\n",
        "    v1_col = v1_half - h/2 * DV_col - h/2 * J2.t()@L\n",
        "\n",
        "\n",
        "    # print(f\"Error = {G1(x_col + h*( v1_col + h/2 * torch.inverse(M) @ J1.reshape(-1,1) @ lam))}\")\n",
        "    # # updating v\n",
        "    # print(f\"lam = {lam}\")\n",
        "    # print(f\"Updating v1_col, Jacobian^T {J(gs,torch.squeeze(x_col)).t}\")\n",
        "\n",
        "    return torch.squeeze(x_col), torch.squeeze(v1_col)"
      ]
    },
    {
      "cell_type": "code",
      "execution_count": null,
      "metadata": {
        "id": "0fDmkGFTYKa2"
      },
      "outputs": [],
      "source": [
        "@torch.compile(mode = \"default\")\n",
        "def gBAOAB_step_exact(q_init,p_init,F, GO, h,M, gamma, k, kr):\n",
        "\n",
        "    errors = []\n",
        "    # setting up variables\n",
        "    M1 = torch.inverse(M)\n",
        "    R = torch.randn(len(q_init))\n",
        "    p = p_init\n",
        "    q = q_init\n",
        "    a2 = torch.exp(torch.tensor(-gamma*h))\n",
        "    b2 = torch.sqrt(k*(1-a2**(2)))\n",
        "\n",
        "    # doing the initial p-update\n",
        "    J1 = jacobian(GO,torch.squeeze(q))\n",
        "    G = J1\n",
        "    L1 = torch.eye(len(q_init)) - torch.transpose(G,0,1) @ torch.inverse(G@ M1@ torch.transpose(G,0,1)) @ G @ M1\n",
        "    p -=  h/2 * L1 @ F(q)\n",
        "\n",
        "\n",
        "    # doing the first RATTLE step\n",
        "    for i in range(kr):\n",
        "      q, p= rattle_step(q, p, h/(2*kr), M, gs, 10**(-15))\n",
        "    errors.append(torch.abs(GO(torch.squeeze(q))).mean())\n",
        "\n",
        "    # the second p-update - (O-step in BAOAB)\n",
        "    J2 = jacobian(GO,torch.squeeze(q))\n",
        "    G = J2\n",
        "    L2 = torch.eye(len(q_init)) - torch.transpose(G,0,1) @ torch.inverse(G@ M1@ torch.transpose(G,0,1)) @ G @ M1\n",
        "    p = a2* p + b2* M**(1/2) @L2 @ M**(1/2) @ R\n",
        "\n",
        "    # doing the second RATTLE step\n",
        "    for i in range(kr):\n",
        "      q, p = rattle_step(q, p, h/(2*kr), M, gs, 10**(-15))\n",
        "    errors.append(torch.abs(GO(torch.squeeze(q))).mean())\n",
        "    # the final p update\n",
        "    J3= jacobian(GO,torch.squeeze(q))\n",
        "    G = J3\n",
        "    L3 = torch.eye(len(q_init)) - torch.transpose(G,0,1) @ torch.inverse(G@ M1@ torch.transpose(G,0,1)) @ G @ M1\n",
        "    p -=  h/2 * L3 @ F(q)\n",
        "\n",
        "    return q,p, np.array(errors).mean()"
      ]
    },
    {
      "cell_type": "code",
      "execution_count": null,
      "metadata": {
        "id": "TgoYVEx6YKa2"
      },
      "outputs": [],
      "source": [
        "@torch.compile(mode = \"default\")\n",
        "def gBAOAB_integrator(q_init,p_init,F, gs, h,M, gamma, k, steps,kr):\n",
        "    positions = []\n",
        "    velocities = []\n",
        "    errors = []\n",
        "    q = q_init\n",
        "    p = p_init\n",
        "    for i in range(steps):\n",
        "        print(f\"STEP {i}\")\n",
        "        q, p, error = gBAOAB_step_exact(q,p, F,gs, h,M, gamma, k,kr)\n",
        "        positions.append(q)\n",
        "        velocities.append(p)\n",
        "        errors.append(error)\n",
        "\n",
        "    return positions, velocities, errors"
      ]
    },
    {
      "cell_type": "code",
      "execution_count": null,
      "metadata": {
        "id": "RGCYiad54mfo"
      },
      "outputs": [],
      "source": [
        "@torch.compile(mode = \"default\")\n",
        "def multi_gBAOAB(q_inits, p_inits,F, gs, h,M, gamma, k, step,kr):\n",
        "  ps = []\n",
        "  vs = []\n",
        "  for i in range(len(q_inits)):\n",
        "    positions, velocities = gBAOAB_integrator(q_inits[i],p_inits[i],F, gs, h,M, gamma, k, step,kr)\n",
        "    ps.append(positions)\n",
        "    vs.append(velocities)\n",
        "  return ps, vs"
      ]
    },
    {
      "cell_type": "code",
      "execution_count": null,
      "metadata": {
        "id": "uV2aaY9IYn7D"
      },
      "outputs": [],
      "source": [
        "@torch.compile(mode = \"default\")\n",
        "def potential_1(x):\n",
        "    # setting potential to (x^2 -1) + ...\n",
        "    y = torch.squeeze(x**2)\n",
        "    return torch.dot(y-1,y-1)\n",
        "\n",
        "@torch.compile(mode = \"default\")\n",
        "def force_1(x):\n",
        "    return torch.squeeze(jacobian(potential_1, x), dim = 0)\n"
      ]
    },
    {
      "cell_type": "markdown",
      "metadata": {
        "id": "ieYhXpFGE02a"
      },
      "source": [
        "# Setting random points and running"
      ]
    },
    {
      "cell_type": "code",
      "execution_count": null,
      "metadata": {
        "id": "HoRliaHfE6di"
      },
      "outputs": [],
      "source": [
        "p_init= torch.tensor([0.,0.,0.])\n",
        "q_init = torch.sqrt(torch.tensor([0.5,0.5,0]))\n",
        "\n",
        "\n",
        "gs = [lambda x: x[0] ** 2 + x[1]**2 + x[2]** 2 - 1 ]\n",
        "M = torch.eye(3)"
      ]
    },
    {
      "cell_type": "code",
      "source": [
        "gamma_phis = []\n",
        "gamma_thetas = []\n",
        "for gamma in [0.0001,0.001,0.1,1,10,100]:\n",
        "  positions, _, _ = gBAOAB_integrator(q_init,p_init,force_1, G(gs), 0.01,M, gamma, 1, 1000000,1)\n",
        "  phi_s = [phi(p) for p in positions]\n",
        "  theta_s = [theta(p) for p in positions]\n",
        "  phis_cum = np.cumsum(phi_s)/range(1,len(phi_s)+1)\n",
        "  thetas_cum = np.cumsum(theta_s)/range(1,len(theta_s)+1)\n",
        "  gamma_thetas.append(thetas_cum[-1])\n",
        "  gamma_phis.append(phis_cum)"
      ],
      "metadata": {
        "id": "nt_26976fUie"
      },
      "execution_count": null,
      "outputs": []
    },
    {
      "cell_type": "code",
      "source": [
        "beta_phis = []\n",
        "beta_thetas = []\n",
        "for beta in [0.0001,0.001,0.1,1,10,100]:\n",
        "  positions, _, _ = gBAOAB_integrator(q_init,p_init,force_1, G(gs), 0.01,M, 1, beta, 1000000,1)\n",
        "  phi_s = [phi(p) for p in positions]\n",
        "  theta_s = [theta(p) for p in positions]\n",
        "  phis_cum = np.cumsum(phi_s)/range(1,len(phi_s)+1)\n",
        "  thetas_cum = np.cumsum(theta_s)/range(1,len(theta_s)+1)\n",
        "  beta_thetas.append(thetas_cum[-1])\n",
        "  beta_phis.append(phis_cum)"
      ],
      "metadata": {
        "id": "wG7Mgj3UvYiu"
      },
      "execution_count": null,
      "outputs": []
    },
    {
      "cell_type": "code",
      "source": [],
      "metadata": {
        "id": "oTMLIT1dMtgY"
      },
      "execution_count": null,
      "outputs": []
    },
    {
      "cell_type": "markdown",
      "metadata": {
        "id": "EascyAxHYtIY"
      },
      "source": []
    }
  ],
  "metadata": {
    "colab": {
      "provenance": []
    },
    "kernelspec": {
      "display_name": "Python 3",
      "name": "python3"
    },
    "language_info": {
      "codemirror_mode": {
        "name": "ipython",
        "version": 2
      },
      "file_extension": ".py",
      "mimetype": "text/x-python",
      "name": "python",
      "nbconvert_exporter": "python",
      "pygments_lexer": "ipython2",
      "version": "2.7.6"
    }
  },
  "nbformat": 4,
  "nbformat_minor": 0
}