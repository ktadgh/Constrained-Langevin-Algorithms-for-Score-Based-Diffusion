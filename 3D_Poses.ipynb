{
  "nbformat": 4,
  "nbformat_minor": 0,
  "metadata": {
    "colab": {
      "provenance": []
    },
    "kernelspec": {
      "name": "python3",
      "display_name": "Python 3"
    },
    "language_info": {
      "name": "python"
    },
    "widgets": {
      "application/vnd.jupyter.widget-state+json": {
        "75f1f7815386467e8d18cbe9492241da": {
          "model_module": "@jupyter-widgets/controls",
          "model_name": "IntProgressModel",
          "model_module_version": "1.5.0",
          "state": {
            "_dom_classes": [],
            "_model_module": "@jupyter-widgets/controls",
            "_model_module_version": "1.5.0",
            "_model_name": "IntProgressModel",
            "_view_count": null,
            "_view_module": "@jupyter-widgets/controls",
            "_view_module_version": "1.5.0",
            "_view_name": "ProgressView",
            "bar_style": "",
            "description": "",
            "description_tooltip": null,
            "layout": "IPY_MODEL_9a0cebe5b77d4ffaa0395ca49b95eb3a",
            "max": 10,
            "min": 0,
            "orientation": "horizontal",
            "style": "IPY_MODEL_7d898fb0ad7144cfae5f19b6997b7d13",
            "value": 0
          }
        },
        "9a0cebe5b77d4ffaa0395ca49b95eb3a": {
          "model_module": "@jupyter-widgets/base",
          "model_name": "LayoutModel",
          "model_module_version": "1.2.0",
          "state": {
            "_model_module": "@jupyter-widgets/base",
            "_model_module_version": "1.2.0",
            "_model_name": "LayoutModel",
            "_view_count": null,
            "_view_module": "@jupyter-widgets/base",
            "_view_module_version": "1.2.0",
            "_view_name": "LayoutView",
            "align_content": null,
            "align_items": null,
            "align_self": null,
            "border": null,
            "bottom": null,
            "display": null,
            "flex": null,
            "flex_flow": null,
            "grid_area": null,
            "grid_auto_columns": null,
            "grid_auto_flow": null,
            "grid_auto_rows": null,
            "grid_column": null,
            "grid_gap": null,
            "grid_row": null,
            "grid_template_areas": null,
            "grid_template_columns": null,
            "grid_template_rows": null,
            "height": null,
            "justify_content": null,
            "justify_items": null,
            "left": null,
            "margin": null,
            "max_height": null,
            "max_width": null,
            "min_height": null,
            "min_width": null,
            "object_fit": null,
            "object_position": null,
            "order": null,
            "overflow": null,
            "overflow_x": null,
            "overflow_y": null,
            "padding": null,
            "right": null,
            "top": null,
            "visibility": null,
            "width": null
          }
        },
        "7d898fb0ad7144cfae5f19b6997b7d13": {
          "model_module": "@jupyter-widgets/controls",
          "model_name": "ProgressStyleModel",
          "model_module_version": "1.5.0",
          "state": {
            "_model_module": "@jupyter-widgets/controls",
            "_model_module_version": "1.5.0",
            "_model_name": "ProgressStyleModel",
            "_view_count": null,
            "_view_module": "@jupyter-widgets/base",
            "_view_module_version": "1.2.0",
            "_view_name": "StyleView",
            "bar_color": null,
            "description_width": ""
          }
        }
      }
    }
  },
  "cells": [
    {
      "cell_type": "code",
      "source": [
        "!pip install pytorch-minimize"
      ],
      "metadata": {
        "id": "wGaqRNVtJI_V",
        "colab": {
          "base_uri": "https://localhost:8080/"
        },
        "outputId": "018a1b87-a921-41e1-9687-c586fd6de3d3"
      },
      "execution_count": 114,
      "outputs": [
        {
          "output_type": "stream",
          "name": "stdout",
          "text": [
            "Requirement already satisfied: pytorch-minimize in /usr/local/lib/python3.10/dist-packages (0.0.2)\n",
            "Requirement already satisfied: numpy>=1.18.0 in /usr/local/lib/python3.10/dist-packages (from pytorch-minimize) (1.22.4)\n",
            "Requirement already satisfied: scipy>=1.6 in /usr/local/lib/python3.10/dist-packages (from pytorch-minimize) (1.10.1)\n",
            "Requirement already satisfied: torch>=1.9.0 in /usr/local/lib/python3.10/dist-packages (from pytorch-minimize) (2.0.1+cu118)\n",
            "Requirement already satisfied: filelock in /usr/local/lib/python3.10/dist-packages (from torch>=1.9.0->pytorch-minimize) (3.12.2)\n",
            "Requirement already satisfied: typing-extensions in /usr/local/lib/python3.10/dist-packages (from torch>=1.9.0->pytorch-minimize) (4.7.1)\n",
            "Requirement already satisfied: sympy in /usr/local/lib/python3.10/dist-packages (from torch>=1.9.0->pytorch-minimize) (1.11.1)\n",
            "Requirement already satisfied: networkx in /usr/local/lib/python3.10/dist-packages (from torch>=1.9.0->pytorch-minimize) (3.1)\n",
            "Requirement already satisfied: jinja2 in /usr/local/lib/python3.10/dist-packages (from torch>=1.9.0->pytorch-minimize) (3.1.2)\n",
            "Requirement already satisfied: triton==2.0.0 in /usr/local/lib/python3.10/dist-packages (from torch>=1.9.0->pytorch-minimize) (2.0.0)\n",
            "Requirement already satisfied: cmake in /usr/local/lib/python3.10/dist-packages (from triton==2.0.0->torch>=1.9.0->pytorch-minimize) (3.25.2)\n",
            "Requirement already satisfied: lit in /usr/local/lib/python3.10/dist-packages (from triton==2.0.0->torch>=1.9.0->pytorch-minimize) (16.0.6)\n",
            "Requirement already satisfied: MarkupSafe>=2.0 in /usr/local/lib/python3.10/dist-packages (from jinja2->torch>=1.9.0->pytorch-minimize) (2.1.3)\n",
            "Requirement already satisfied: mpmath>=0.19 in /usr/local/lib/python3.10/dist-packages (from sympy->torch>=1.9.0->pytorch-minimize) (1.3.0)\n"
          ]
        }
      ]
    },
    {
      "cell_type": "code",
      "source": [
        "import numpy as np\n",
        "from matplotlib import pyplot as plt\n",
        "from matplotlib.animation import FuncAnimation\n",
        "from sympy import Matrix, Array\n",
        "from sympy.abc import x, y, z\n",
        "import torch\n",
        "from torch.autograd.functional import jacobian, hessian\n",
        "import matplotlib.pyplot as plt\n",
        "import scipy\n",
        "from ipywidgets import IntProgress\n",
        "import random\n",
        "from numpy import linalg as la\n",
        "import math\n",
        "from torchmin import minimize"
      ],
      "metadata": {
        "id": "fPT88p4cA9Pk"
      },
      "execution_count": 115,
      "outputs": []
    },
    {
      "cell_type": "code",
      "source": [
        "torch.set_default_dtype(torch.float64)"
      ],
      "metadata": {
        "id": "DVJ470O4EAGo"
      },
      "execution_count": 116,
      "outputs": []
    },
    {
      "cell_type": "code",
      "source": [
        "def G(gs):\n",
        "    '''\n",
        "    :param gs: a list of tensor functions\n",
        "    :return: a function sending a tensor to the stacked matrix of the functions of that tensor\n",
        "    '''\n",
        "    def G_gs(tensor):\n",
        "        return torch.stack([g(tensor) for g in gs], 0)\n",
        "\n",
        "    return G_gs\n",
        "#%%\n",
        "def J(gs, x):\n",
        "    '''Returns the Jacobian evaluated at x for a list gs of constraint functions'''\n",
        "    return jacobian(G(gs), x)"
      ],
      "metadata": {
        "id": "XiMx0uM3A36P"
      },
      "execution_count": 117,
      "outputs": []
    },
    {
      "cell_type": "code",
      "execution_count": 118,
      "metadata": {
        "id": "g9TNPya6Ar2F"
      },
      "outputs": [],
      "source": [
        "def rattle_step(x, v1, h, M, gs, e , lamb):\n",
        "    '''\n",
        "    Defining a function to take a step in the position, velocity form.\n",
        "    g should be a vector-valued function of constraints.\n",
        "    :return: x_1, v_1\n",
        "    '''\n",
        "\n",
        "    G1 = G(gs)\n",
        "\n",
        "\n",
        "    DV = np.zeros_like(x)\n",
        "\n",
        "    #DV[-1] = 10  # leaving this out for g-BAOAB\n",
        "    DV_col = DV.reshape(-1, 1)\n",
        "\n",
        "    x_col = x.reshape(-1, 1)\n",
        "    v1_col = v1.reshape(-1, 1)\n",
        "\n",
        "    # doing Newton-Raphson iterations\n",
        "    lam = lamb\n",
        "    iters = 0\n",
        "    x2 = x_col + h * v1_col - 0.5*(h**2)* torch.inverse(M) @ DV_col\n",
        "    Q_col = x2\n",
        "    Q = torch.squeeze(Q_col)\n",
        "    J1 = J(gs, torch.squeeze(x_col))\n",
        "\n",
        "\n",
        "    while iters <8:\n",
        "        J2 = J(gs, torch.squeeze(Q))\n",
        "        R = J2 @ torch.inverse(M) @ J1.t()\n",
        "        dL = torch.inverse(R) @ G1(Q)\n",
        "        #print(f\"Q = {Q}\")\n",
        "        Q -= torch.inverse(M) @ J1.t() @ dL\n",
        "        iters +=1\n",
        "\n",
        "    # half step for velocity\n",
        "    Q_col = Q.reshape(-1,1)\n",
        "    v1_half = (Q_col - x_col)/h\n",
        "    x_col = Q_col\n",
        "    J1 = J(gs, torch.squeeze(x_col))\n",
        "\n",
        "    # getting the level\n",
        "    J2 = J(gs, torch.squeeze(Q))\n",
        "    P = J1 @ torch.inverse(M) @ J1.t()\n",
        "    T = J1 @ (2/h * v1_half - torch.inverse(M) @ DV_col)\n",
        "\n",
        "    #solving the linear system\n",
        "    L = torch.linalg.solve(P,T)\n",
        "\n",
        "    v1_col = v1_half - h/2 * DV_col - h/2 * J2.t()@L\n",
        "\n",
        "    return torch.squeeze(x_col), torch.squeeze(v1_col)\n",
        "\n",
        "def rattle_simulator(x_init, v_init, h, M, gs, its):\n",
        "    xs = [x_init]\n",
        "    vs = [v_init]\n",
        "    F = torch.tensor([0.,-10.])\n",
        "    energy = 1/2 * torch.dot(torch.squeeze(v_init), torch.squeeze(v_init)) + torch.dot(torch.squeeze(x_init), F)\n",
        "    energies = [energy]\n",
        "    x = x_init\n",
        "    v1 = v_init\n",
        "    for i in range(its):\n",
        "        x, v1 = rattle_step(x, v1, h, M, gs, 10 ** (-8), torch.zeros(len(gs)))\n",
        "        energy = 1/2 * torch.dot(v1,v1) + torch.dot(x, -F)\n",
        "        xs.append(x)\n",
        "        vs.append(v1)\n",
        "        energies.append(energy)\n",
        "    return xs, vs, energies"
      ]
    },
    {
      "cell_type": "code",
      "source": [
        "def gBAOAB_step_exact(q_init,p_init,F, gs, h,M, gamma, k):\n",
        "\n",
        "    # Computing diagonalization\n",
        "    evalues, evectors = np.linalg.eig(M)\n",
        "    # Ensuring square root matrix exists\n",
        "    #print(evalues)\n",
        "    #assert (evalues >= 0).all()\n",
        "    sqrt_M = evectors * np.sqrt(evalues) @ np.linalg.inv(evectors)\n",
        "\n",
        "    # setting up variables\n",
        "    R = torch.randn(len(q_init))\n",
        "    p = p_init\n",
        "    q = q_init\n",
        "    a2 = torch.exp(torch.tensor(-gamma*h))\n",
        "    b2 = torch.sqrt(k*(1-a2**(2)))\n",
        "\n",
        "    # doing the initial p-update\n",
        "    J1 = J(gs, torch.squeeze(q))\n",
        "    G = J1\n",
        "    L1 = torch.eye(len(q_init)) - torch.transpose(G,0,1) @ torch.inverse(G@ torch.inverse(M)@ torch.transpose(G,0,1)) @ G @ torch.inverse(M)\n",
        "    p -=  h/2 * L1 @ F(q)\n",
        "\n",
        "\n",
        "    # doing the first RATTLE step\n",
        "    q, p = rattle_step(q, p, h/2, M, gs, 10**(-2) , torch.zeros(len(q)))\n",
        "\n",
        "    # the second p-update - (O-step in BAOAB)\n",
        "    J2 = J(gs, torch.squeeze(q))\n",
        "    G = J2\n",
        "    L2 = torch.eye(len(q_init)) - torch.transpose(G,0,1) @ torch.inverse(G@ torch.inverse(M)@ torch.transpose(G,0,1)) @ G @ torch.inverse(M)\n",
        "    p = a2* p + b2* sqrt_M @L2 @ sqrt_M @ R\n",
        "\n",
        "    # doing the second RATTLE step\n",
        "    q, p = rattle_step(q, p, h/2, M, gs, 10**(-2) , torch.zeros(len(q)))\n",
        "\n",
        "    # the final p update\n",
        "    J3 = J(gs, torch.squeeze(q))\n",
        "    G = J3\n",
        "    L3 = torch.eye(len(q_init)) - torch.transpose(G,0,1) @ torch.inverse(G@ torch.inverse(M)@ torch.transpose(G,0,1)) @ G @ torch.inverse(M)\n",
        "    p -=  h/2 * L3 @ F(q)\n",
        "    return q,p"
      ],
      "metadata": {
        "id": "5EdVYnLkAxq7"
      },
      "execution_count": 119,
      "outputs": []
    },
    {
      "cell_type": "code",
      "source": [
        "def gBAOAB_integrator(q_init,p_init,F, gs, h,M, gamma, k, steps):\n",
        "    positions = []\n",
        "    velocities = []\n",
        "    q = q_init\n",
        "    p = p_init\n",
        "    for i in range(steps):\n",
        "        q, p = gBAOAB_step_exact(q,p, F,gs, h,M, gamma, k)\n",
        "        positions.append(q)\n",
        "        velocities.append(p)\n",
        "\n",
        "    return positions, velocities"
      ],
      "metadata": {
        "id": "rXknlMv1IVpY"
      },
      "execution_count": 120,
      "outputs": []
    },
    {
      "cell_type": "markdown",
      "source": [
        "## 3D poses data"
      ],
      "metadata": {
        "id": "FJ9Oq4jzBJLS"
      }
    },
    {
      "cell_type": "code",
      "source": [
        "mat = scipy.io.loadmat('Walking_1.mat')"
      ],
      "metadata": {
        "id": "y93R7N2xBOMu"
      },
      "execution_count": 121,
      "outputs": []
    },
    {
      "cell_type": "code",
      "source": [
        "indices = range(0,39)\n",
        "joints = [0,1,3,5,8,10,12,14,15,17,25,27,32,35,22,23]\n",
        "\n",
        "# transforming the z coordinate by 1 to avoid dividing by 0\n",
        "transform = np.zeros((39,3))\n",
        "for i in range(39):\n",
        "    transform[i][2] = 1\n",
        "\n",
        "\n",
        "\n",
        "# creating datasets\n",
        "train_dataset = []\n",
        "for i in range(len(mat['Markers'])//2):\n",
        "  data = [mat['Markers'][i][j] for j in indices]\n",
        "  train_dataset.append(torch.tensor(np.array(data)+transform, dtype =torch.double).unsqueeze(0))\n",
        "\n",
        "\n",
        "test_dataset = []\n",
        "for i in range(len(mat['Markers'])//2, len(mat['Markers'])):\n",
        "  data = [mat['Markers'][i][j] for j in indices]\n",
        "  test_dataset.append(torch.tensor(np.array(data)+transform, dtype =torch.double).unsqueeze(0))"
      ],
      "metadata": {
        "id": "ttAPgybfC5pW"
      },
      "execution_count": 122,
      "outputs": []
    },
    {
      "cell_type": "code",
      "source": [
        "# principal component analysis\n",
        "list = np.transpose(np.array([data[0].flatten().numpy() for data in train_dataset]))\n",
        "\n",
        "U, S,_=np.linalg.svd(list)\n",
        "\n",
        "eigenposes = np.transpose(U)\n",
        "eigenvalues = S**2"
      ],
      "metadata": {
        "id": "SeXo8THEDPT2"
      },
      "execution_count": 123,
      "outputs": []
    },
    {
      "cell_type": "code",
      "source": [
        "train_data = np.array([d.numpy() for d in train_dataset])\n",
        "\n",
        "# getting the average pose\n",
        "avg_pose = np.squeeze(train_data.mean(axis=0))\n",
        "avg_pose = np.ndarray.flatten(avg_pose)"
      ],
      "metadata": {
        "id": "4LxNdym8EqxV"
      },
      "execution_count": 124,
      "outputs": []
    },
    {
      "cell_type": "code",
      "source": [
        "def length_constraint(i,j, init):\n",
        "    def constraint_fn(x):\n",
        "        return (x[3*i]- x[3*j])**2 +(x[3*i+1]- x[3*j+1])**2 + (x[3*i+2]- x[3*j+2])**2 - ((init[3*i]- init[3*j])**2 +(init[3*i+1]- init[3*j+1])**2 + (init[3*i+2]- init[3*j+2])**2)\n",
        "    return constraint_fn"
      ],
      "metadata": {
        "id": "RLm_tFAQDVmt"
      },
      "execution_count": 125,
      "outputs": []
    },
    {
      "cell_type": "code",
      "source": [
        "# average joint to joint distance of two poses\n",
        "def avg_j2j(frame1,frame2):\n",
        "    dists = []\n",
        "    frame_1 = np.array(frame1)\n",
        "    frame_2 = np.array(frame2)\n",
        "    for i in range(len(joints)):\n",
        "        d = math.dist(frame_1[joints[i]], frame_2[joints[i]])\n",
        "        dists.append(d)\n",
        "    return np.mean(dists)"
      ],
      "metadata": {
        "id": "t52khf0dD1ls"
      },
      "execution_count": 126,
      "outputs": []
    },
    {
      "cell_type": "markdown",
      "source": [],
      "metadata": {
        "id": "pnF22g0yC4Cr"
      }
    },
    {
      "cell_type": "markdown",
      "source": [
        "## Evaluating"
      ],
      "metadata": {
        "id": "9LqIlq5nBFFQ"
      }
    },
    {
      "cell_type": "code",
      "source": [
        "import matplotlib.pyplot as plt"
      ],
      "metadata": {
        "id": "N-tWmwWtkcPG"
      },
      "execution_count": 127,
      "outputs": []
    },
    {
      "cell_type": "code",
      "source": [
        "plt.figure()\n",
        "h = 1 # stepsize\n",
        "std = 1 # standard deviation for the noise applied to the image.\n",
        "i =0\n",
        "\n",
        "diffs = []\n",
        "diffs1 = []\n",
        "diffs_bfgs = []\n",
        "f = IntProgress(min=0, max=len(test_dataset[0:10]))\n",
        "display(f)\n",
        "for frame1 in test_dataset[0:10]:\n",
        "    i +=1\n",
        "    frame = torch.squeeze(frame1)\n",
        "    M = torch.eye(39*3)\n",
        "\n",
        "    # initialising from a random training pose\n",
        "    x_init = torch.flatten(train_dataset[random.randint(0,len(train_dataset))-1])\n",
        "    v_init = torch.zeros_like(x_init)\n",
        "\n",
        "\n",
        "    # defining the constraints\n",
        "    wrist_elbow_l = length_constraint(joints[1],joints[2],x_init)\n",
        "    elbow_shoulder_l = length_constraint(joints[1],joints[7],x_init)\n",
        "    wrist_elbow_r = length_constraint(joints[5],joints[4],x_init)\n",
        "    elbow_shoulder_r= length_constraint(joints[4],joints[9],x_init)\n",
        "\n",
        "    knee_ankle_l = length_constraint(joints[6],joints[10],x_init)\n",
        "    knee_ankle_r = length_constraint(joints[8],joints[11],x_init)\n",
        "\n",
        "    knee_asis_l = length_constraint(joints[6],joints[0],x_init)\n",
        "    knee_asis_r = length_constraint(joints[8],joints[3],x_init)\n",
        "\n",
        "    shoulder_clav_l = length_constraint(joints[13],joints[7],x_init)\n",
        "    shoulder_clav_r = length_constraint(joints[13],joints[9],x_init)\n",
        "\n",
        "    gs = [wrist_elbow_l,wrist_elbow_r,elbow_shoulder_l,elbow_shoulder_r,knee_ankle_l, knee_ankle_r,shoulder_clav_l,shoulder_clav_r, knee_asis_l, knee_asis_r]\n",
        "\n",
        "\n",
        "    # defining and randomly perturbing the image\n",
        "    fx = 1.0\n",
        "    fy = 1.0\n",
        "    cx = 0\n",
        "    cy = 0\n",
        "    a1 = torch.tensor([[fx], [0], [cx]], dtype=torch.double)\n",
        "    a2 = torch.tensor([[0], [fy], [cy]], dtype=torch.double)\n",
        "    a3 = torch.tensor([[0],[0],[1]], dtype=torch.double)\n",
        "    i1 = frame @ a1\n",
        "    i2 = frame @ a2\n",
        "    i3 = frame @ a3\n",
        "    image = torch.hstack([i1/i3, i2/i3])\n",
        "\n",
        "\n",
        "    image += torch.randn_like(image)* std\n",
        "\n",
        "    # define the negative log density, force and mass to use the new image\n",
        "    def neg_log_density(pose2):\n",
        "        pose = pose2.reshape((39,3))\n",
        "        fx = 1.0\n",
        "        fy = 1.0\n",
        "        cx = 0\n",
        "        cy = 0\n",
        "        a1 = torch.tensor([[fx], [0], [cx]], dtype=torch.double)\n",
        "        a2 = torch.tensor([[0], [fy], [cy]], dtype=torch.double)\n",
        "        a3 = torch.tensor([[0],[0],[1]], dtype=torch.double)\n",
        "\n",
        "        # Map the 3D point to 2D point\n",
        "        p1 = pose@ a1\n",
        "        p2 = pose @ a2\n",
        "        p3 = pose @ a3\n",
        "\n",
        "        projection = torch.hstack([p1/p3, p2/p3])\n",
        "\n",
        "        n = projection - image\n",
        "\n",
        "        # note - variance should be changed when changing the random perturbations\n",
        "        pi = torch.tensor([0.], requires_grad=True)\n",
        "        for point in n:\n",
        "            pi = pi+ torch.linalg.norm(point)**2 / std\n",
        "\n",
        "        p2 = torch.flatten(pose)\n",
        "        for i in range(len(eigenvalues)):\n",
        "            pi = pi+ (torch.dot(torch.tensor(eigenposes[i]),(p2-torch.tensor(avg_pose)))**2 / eigenvalues[i])\n",
        "        return pi\n",
        "\n",
        "    def force(x):\n",
        "        return torch.squeeze(torch.tensor([1.])*jacobian(neg_log_density, x), dim = 0)\n",
        "\n",
        "    # running g-baoab\n",
        "    positions1, velocities1 = gBAOAB_integrator(x_init,v_init, force,gs, h,M, 10, 1, 200)\n",
        "\n",
        "    # plotting the trajectory of the negative log density\n",
        "    densities = [neg_log_density(p).detach().numpy() for p in positions1]\n",
        "    plt.plot(densities, label = f\"Frame {i}\")\n",
        "    plt.xlabel('Iteration')\n",
        "    plt.ylabel('Negative log-density')\n",
        "    plt.legend()\n",
        "    plt.show()\n",
        "\n",
        "    # getting the mean position\n",
        "    mean1 =torch.tensor(np.array(torch.stack(positions1[50:])).mean(axis=0))\n",
        "\n",
        "    jd1 = avg_j2j(mean1.reshape((39,3)),frame)\n",
        "    print(\"Average joint to joint distance - GBAOAB: \", jd1)\n",
        "    diffs1.append(jd1)\n",
        "\n",
        "    print(f\"Average joint movement: {mean1.mean()}\")"
      ],
      "metadata": {
        "colab": {
          "base_uri": "https://localhost:8080/",
          "height": 1000,
          "referenced_widgets": [
            "75f1f7815386467e8d18cbe9492241da",
            "9a0cebe5b77d4ffaa0395ca49b95eb3a",
            "7d898fb0ad7144cfae5f19b6997b7d13"
          ]
        },
        "id": "vwBAiCf5BG1-",
        "outputId": "4910df0c-914a-4501-9b09-9bce7eed0677"
      },
      "execution_count": 135,
      "outputs": [
        {
          "output_type": "display_data",
          "data": {
            "text/plain": [
              "IntProgress(value=0, max=10)"
            ],
            "application/vnd.jupyter.widget-view+json": {
              "version_major": 2,
              "version_minor": 0,
              "model_id": "75f1f7815386467e8d18cbe9492241da"
            }
          },
          "metadata": {}
        },
        {
          "output_type": "display_data",
          "data": {
            "text/plain": [
              "<Figure size 640x480 with 1 Axes>"
            ],
            "image/png": "[encoded data removed]"
          },
          "metadata": {}
        },
        {
          "output_type": "stream",
          "name": "stdout",
          "text": [
            "Average joint to joint distance - GBAOAB:  1086.733486076378\n",
            "Average joint movement: 149.94807229723452\n"
          ]
        },
        {
          "output_type": "display_data",
          "data": {
            "text/plain": [
              "<Figure size 640x480 with 1 Axes>"
            ],
            "image/png": "[encoded data removed]"
          },
          "metadata": {}
        },
        {
          "output_type": "stream",
          "name": "stdout",
          "text": [
            "Average joint to joint distance - GBAOAB:  1206.86140105534\n",
            "Average joint movement: 589.5841214073819\n"
          ]
        },
        {
          "output_type": "error",
          "ename": "KeyboardInterrupt",
          "evalue": "ignored",
          "traceback": [
            "\u001b[0;31m---------------------------------------------------------------------------\u001b[0m",
            "\u001b[0;31mKeyboardInterrupt\u001b[0m                         Traceback (most recent call last)",
            "\u001b[0;32m<ipython-input-135-c6a8efd8d39a>\u001b[0m in \u001b[0;36m<cell line: 11>\u001b[0;34m()\u001b[0m\n\u001b[1;32m     87\u001b[0m \u001b[0;34m\u001b[0m\u001b[0m\n\u001b[1;32m     88\u001b[0m     \u001b[0;31m# running g-baoab\u001b[0m\u001b[0;34m\u001b[0m\u001b[0;34m\u001b[0m\u001b[0m\n\u001b[0;32m---> 89\u001b[0;31m     \u001b[0mpositions1\u001b[0m\u001b[0;34m,\u001b[0m \u001b[0mvelocities1\u001b[0m \u001b[0;34m=\u001b[0m \u001b[0mgBAOAB_integrator\u001b[0m\u001b[0;34m(\u001b[0m\u001b[0mx_init\u001b[0m\u001b[0;34m,\u001b[0m\u001b[0mv_init\u001b[0m\u001b[0;34m,\u001b[0m \u001b[0mforce\u001b[0m\u001b[0;34m,\u001b[0m\u001b[0mgs\u001b[0m\u001b[0;34m,\u001b[0m \u001b[0mh\u001b[0m\u001b[0;34m,\u001b[0m\u001b[0mM\u001b[0m\u001b[0;34m,\u001b[0m \u001b[0;36m10\u001b[0m\u001b[0;34m,\u001b[0m \u001b[0;36m1\u001b[0m\u001b[0;34m,\u001b[0m \u001b[0;36m200\u001b[0m\u001b[0;34m)\u001b[0m\u001b[0;34m\u001b[0m\u001b[0;34m\u001b[0m\u001b[0m\n\u001b[0m\u001b[1;32m     90\u001b[0m \u001b[0;34m\u001b[0m\u001b[0m\n\u001b[1;32m     91\u001b[0m     \u001b[0;31m# plotting the trajectory of the negative log density\u001b[0m\u001b[0;34m\u001b[0m\u001b[0;34m\u001b[0m\u001b[0m\n",
            "\u001b[0;32m<ipython-input-120-5482e1ad49f6>\u001b[0m in \u001b[0;36mgBAOAB_integrator\u001b[0;34m(q_init, p_init, F, gs, h, M, gamma, k, steps)\u001b[0m\n\u001b[1;32m      5\u001b[0m     \u001b[0mp\u001b[0m \u001b[0;34m=\u001b[0m \u001b[0mp_init\u001b[0m\u001b[0;34m\u001b[0m\u001b[0;34m\u001b[0m\u001b[0m\n\u001b[1;32m      6\u001b[0m     \u001b[0;32mfor\u001b[0m \u001b[0mi\u001b[0m \u001b[0;32min\u001b[0m \u001b[0mrange\u001b[0m\u001b[0;34m(\u001b[0m\u001b[0msteps\u001b[0m\u001b[0;34m)\u001b[0m\u001b[0;34m:\u001b[0m\u001b[0;34m\u001b[0m\u001b[0;34m\u001b[0m\u001b[0m\n\u001b[0;32m----> 7\u001b[0;31m         \u001b[0mq\u001b[0m\u001b[0;34m,\u001b[0m \u001b[0mp\u001b[0m \u001b[0;34m=\u001b[0m \u001b[0mgBAOAB_step_exact\u001b[0m\u001b[0;34m(\u001b[0m\u001b[0mq\u001b[0m\u001b[0;34m,\u001b[0m\u001b[0mp\u001b[0m\u001b[0;34m,\u001b[0m \u001b[0mF\u001b[0m\u001b[0;34m,\u001b[0m\u001b[0mgs\u001b[0m\u001b[0;34m,\u001b[0m \u001b[0mh\u001b[0m\u001b[0;34m,\u001b[0m\u001b[0mM\u001b[0m\u001b[0;34m,\u001b[0m \u001b[0mgamma\u001b[0m\u001b[0;34m,\u001b[0m \u001b[0mk\u001b[0m\u001b[0;34m)\u001b[0m\u001b[0;34m\u001b[0m\u001b[0;34m\u001b[0m\u001b[0m\n\u001b[0m\u001b[1;32m      8\u001b[0m         \u001b[0mpositions\u001b[0m\u001b[0;34m.\u001b[0m\u001b[0mappend\u001b[0m\u001b[0;34m(\u001b[0m\u001b[0mq\u001b[0m\u001b[0;34m)\u001b[0m\u001b[0;34m\u001b[0m\u001b[0;34m\u001b[0m\u001b[0m\n\u001b[1;32m      9\u001b[0m         \u001b[0mvelocities\u001b[0m\u001b[0;34m.\u001b[0m\u001b[0mappend\u001b[0m\u001b[0;34m(\u001b[0m\u001b[0mp\u001b[0m\u001b[0;34m)\u001b[0m\u001b[0;34m\u001b[0m\u001b[0;34m\u001b[0m\u001b[0m\n",
            "\u001b[0;32m<ipython-input-119-c14b56059652>\u001b[0m in \u001b[0;36mgBAOAB_step_exact\u001b[0;34m(q_init, p_init, F, gs, h, M, gamma, k)\u001b[0m\n\u001b[1;32m     38\u001b[0m     \u001b[0mG\u001b[0m \u001b[0;34m=\u001b[0m \u001b[0mJ3\u001b[0m\u001b[0;34m\u001b[0m\u001b[0;34m\u001b[0m\u001b[0m\n\u001b[1;32m     39\u001b[0m     \u001b[0mL3\u001b[0m \u001b[0;34m=\u001b[0m \u001b[0mtorch\u001b[0m\u001b[0;34m.\u001b[0m\u001b[0meye\u001b[0m\u001b[0;34m(\u001b[0m\u001b[0mlen\u001b[0m\u001b[0;34m(\u001b[0m\u001b[0mq_init\u001b[0m\u001b[0;34m)\u001b[0m\u001b[0;34m)\u001b[0m \u001b[0;34m-\u001b[0m \u001b[0mtorch\u001b[0m\u001b[0;34m.\u001b[0m\u001b[0mtranspose\u001b[0m\u001b[0;34m(\u001b[0m\u001b[0mG\u001b[0m\u001b[0;34m,\u001b[0m\u001b[0;36m0\u001b[0m\u001b[0;34m,\u001b[0m\u001b[0;36m1\u001b[0m\u001b[0;34m)\u001b[0m \u001b[0;34m@\u001b[0m \u001b[0mtorch\u001b[0m\u001b[0;34m.\u001b[0m\u001b[0minverse\u001b[0m\u001b[0;34m(\u001b[0m\u001b[0mG\u001b[0m\u001b[0;34m@\u001b[0m \u001b[0mtorch\u001b[0m\u001b[0;34m.\u001b[0m\u001b[0minverse\u001b[0m\u001b[0;34m(\u001b[0m\u001b[0mM\u001b[0m\u001b[0;34m)\u001b[0m\u001b[0;34m@\u001b[0m \u001b[0mtorch\u001b[0m\u001b[0;34m.\u001b[0m\u001b[0mtranspose\u001b[0m\u001b[0;34m(\u001b[0m\u001b[0mG\u001b[0m\u001b[0;34m,\u001b[0m\u001b[0;36m0\u001b[0m\u001b[0;34m,\u001b[0m\u001b[0;36m1\u001b[0m\u001b[0;34m)\u001b[0m\u001b[0;34m)\u001b[0m \u001b[0;34m@\u001b[0m \u001b[0mG\u001b[0m \u001b[0;34m@\u001b[0m \u001b[0mtorch\u001b[0m\u001b[0;34m.\u001b[0m\u001b[0minverse\u001b[0m\u001b[0;34m(\u001b[0m\u001b[0mM\u001b[0m\u001b[0;34m)\u001b[0m\u001b[0;34m\u001b[0m\u001b[0;34m\u001b[0m\u001b[0m\n\u001b[0;32m---> 40\u001b[0;31m     \u001b[0mp\u001b[0m \u001b[0;34m-=\u001b[0m  \u001b[0mh\u001b[0m\u001b[0;34m/\u001b[0m\u001b[0;36m2\u001b[0m \u001b[0;34m*\u001b[0m \u001b[0mL3\u001b[0m \u001b[0;34m@\u001b[0m \u001b[0mF\u001b[0m\u001b[0;34m(\u001b[0m\u001b[0mq\u001b[0m\u001b[0;34m)\u001b[0m\u001b[0;34m\u001b[0m\u001b[0;34m\u001b[0m\u001b[0m\n\u001b[0m\u001b[1;32m     41\u001b[0m     \u001b[0;32mreturn\u001b[0m \u001b[0mq\u001b[0m\u001b[0;34m,\u001b[0m\u001b[0mp\u001b[0m\u001b[0;34m\u001b[0m\u001b[0;34m\u001b[0m\u001b[0m\n",
            "\u001b[0;32m<ipython-input-135-c6a8efd8d39a>\u001b[0m in \u001b[0;36mforce\u001b[0;34m(x)\u001b[0m\n\u001b[1;32m     84\u001b[0m \u001b[0;34m\u001b[0m\u001b[0m\n\u001b[1;32m     85\u001b[0m     \u001b[0;32mdef\u001b[0m \u001b[0mforce\u001b[0m\u001b[0;34m(\u001b[0m\u001b[0mx\u001b[0m\u001b[0;34m)\u001b[0m\u001b[0;34m:\u001b[0m\u001b[0;34m\u001b[0m\u001b[0;34m\u001b[0m\u001b[0m\n\u001b[0;32m---> 86\u001b[0;31m         \u001b[0;32mreturn\u001b[0m \u001b[0mtorch\u001b[0m\u001b[0;34m.\u001b[0m\u001b[0msqueeze\u001b[0m\u001b[0;34m(\u001b[0m\u001b[0mtorch\u001b[0m\u001b[0;34m.\u001b[0m\u001b[0mtensor\u001b[0m\u001b[0;34m(\u001b[0m\u001b[0;34m[\u001b[0m\u001b[0;36m1.\u001b[0m\u001b[0;34m]\u001b[0m\u001b[0;34m)\u001b[0m\u001b[0;34m*\u001b[0m\u001b[0mjacobian\u001b[0m\u001b[0;34m(\u001b[0m\u001b[0mneg_log_density\u001b[0m\u001b[0;34m,\u001b[0m \u001b[0mx\u001b[0m\u001b[0;34m)\u001b[0m\u001b[0;34m,\u001b[0m \u001b[0mdim\u001b[0m \u001b[0;34m=\u001b[0m \u001b[0;36m0\u001b[0m\u001b[0;34m)\u001b[0m\u001b[0;34m\u001b[0m\u001b[0;34m\u001b[0m\u001b[0m\n\u001b[0m\u001b[1;32m     87\u001b[0m \u001b[0;34m\u001b[0m\u001b[0m\n\u001b[1;32m     88\u001b[0m     \u001b[0;31m# running g-baoab\u001b[0m\u001b[0;34m\u001b[0m\u001b[0;34m\u001b[0m\u001b[0m\n",
            "\u001b[0;32m/usr/local/lib/python3.10/dist-packages/torch/autograd/functional.py\u001b[0m in \u001b[0;36mjacobian\u001b[0;34m(func, inputs, create_graph, strict, vectorize, strategy)\u001b[0m\n\u001b[1;32m    589\u001b[0m         \u001b[0minputs\u001b[0m \u001b[0;34m=\u001b[0m \u001b[0m_grad_preprocess\u001b[0m\u001b[0;34m(\u001b[0m\u001b[0minputs\u001b[0m\u001b[0;34m,\u001b[0m \u001b[0mcreate_graph\u001b[0m\u001b[0;34m=\u001b[0m\u001b[0mcreate_graph\u001b[0m\u001b[0;34m,\u001b[0m \u001b[0mneed_graph\u001b[0m\u001b[0;34m=\u001b[0m\u001b[0;32mTrue\u001b[0m\u001b[0;34m)\u001b[0m\u001b[0;34m\u001b[0m\u001b[0;34m\u001b[0m\u001b[0m\n\u001b[1;32m    590\u001b[0m \u001b[0;34m\u001b[0m\u001b[0m\n\u001b[0;32m--> 591\u001b[0;31m         \u001b[0moutputs\u001b[0m \u001b[0;34m=\u001b[0m \u001b[0mfunc\u001b[0m\u001b[0;34m(\u001b[0m\u001b[0;34m*\u001b[0m\u001b[0minputs\u001b[0m\u001b[0;34m)\u001b[0m\u001b[0;34m\u001b[0m\u001b[0;34m\u001b[0m\u001b[0m\n\u001b[0m\u001b[1;32m    592\u001b[0m         is_outputs_tuple, outputs = _as_tuple(outputs,\n\u001b[1;32m    593\u001b[0m                                               \u001b[0;34m\"outputs of the user-provided function\"\u001b[0m\u001b[0;34m,\u001b[0m\u001b[0;34m\u001b[0m\u001b[0;34m\u001b[0m\u001b[0m\n",
            "\u001b[0;32m<ipython-input-135-c6a8efd8d39a>\u001b[0m in \u001b[0;36mneg_log_density\u001b[0;34m(pose2)\u001b[0m\n\u001b[1;32m     80\u001b[0m         \u001b[0mp2\u001b[0m \u001b[0;34m=\u001b[0m \u001b[0mtorch\u001b[0m\u001b[0;34m.\u001b[0m\u001b[0mflatten\u001b[0m\u001b[0;34m(\u001b[0m\u001b[0mpose\u001b[0m\u001b[0;34m)\u001b[0m\u001b[0;34m\u001b[0m\u001b[0;34m\u001b[0m\u001b[0m\n\u001b[1;32m     81\u001b[0m         \u001b[0;32mfor\u001b[0m \u001b[0mi\u001b[0m \u001b[0;32min\u001b[0m \u001b[0mrange\u001b[0m\u001b[0;34m(\u001b[0m\u001b[0mlen\u001b[0m\u001b[0;34m(\u001b[0m\u001b[0meigenvalues\u001b[0m\u001b[0;34m)\u001b[0m\u001b[0;34m)\u001b[0m\u001b[0;34m:\u001b[0m\u001b[0;34m\u001b[0m\u001b[0;34m\u001b[0m\u001b[0m\n\u001b[0;32m---> 82\u001b[0;31m             \u001b[0mpi\u001b[0m \u001b[0;34m=\u001b[0m \u001b[0mpi\u001b[0m\u001b[0;34m+\u001b[0m \u001b[0;34m(\u001b[0m\u001b[0mtorch\u001b[0m\u001b[0;34m.\u001b[0m\u001b[0mdot\u001b[0m\u001b[0;34m(\u001b[0m\u001b[0mtorch\u001b[0m\u001b[0;34m.\u001b[0m\u001b[0mtensor\u001b[0m\u001b[0;34m(\u001b[0m\u001b[0meigenposes\u001b[0m\u001b[0;34m[\u001b[0m\u001b[0mi\u001b[0m\u001b[0;34m]\u001b[0m\u001b[0;34m)\u001b[0m\u001b[0;34m,\u001b[0m\u001b[0;34m(\u001b[0m\u001b[0mp2\u001b[0m\u001b[0;34m-\u001b[0m\u001b[0mtorch\u001b[0m\u001b[0;34m.\u001b[0m\u001b[0mtensor\u001b[0m\u001b[0;34m(\u001b[0m\u001b[0mavg_pose\u001b[0m\u001b[0;34m)\u001b[0m\u001b[0;34m)\u001b[0m\u001b[0;34m)\u001b[0m\u001b[0;34m**\u001b[0m\u001b[0;36m2\u001b[0m \u001b[0;34m/\u001b[0m \u001b[0meigenvalues\u001b[0m\u001b[0;34m[\u001b[0m\u001b[0mi\u001b[0m\u001b[0;34m]\u001b[0m\u001b[0;34m)\u001b[0m\u001b[0;34m\u001b[0m\u001b[0;34m\u001b[0m\u001b[0m\n\u001b[0m\u001b[1;32m     83\u001b[0m         \u001b[0;32mreturn\u001b[0m \u001b[0mpi\u001b[0m\u001b[0;34m\u001b[0m\u001b[0;34m\u001b[0m\u001b[0m\n\u001b[1;32m     84\u001b[0m \u001b[0;34m\u001b[0m\u001b[0m\n",
            "\u001b[0;31mKeyboardInterrupt\u001b[0m: "
          ]
        }
      ]
    },
    {
      "cell_type": "code",
      "source": [],
      "metadata": {
        "id": "ZpPTFostndGd"
      },
      "execution_count": null,
      "outputs": []
    }
  ]
}