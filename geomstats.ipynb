{
 "cells": [
  {
   "cell_type": "code",
   "execution_count": 2,
   "outputs": [
    {
     "ename": "ModuleNotFoundError",
     "evalue": "No module named 'geomstats.geometry.embedded_manifold'",
     "output_type": "error",
     "traceback": [
      "\u001B[1;31m---------------------------------------------------------------------------\u001B[0m",
      "\u001B[1;31mModuleNotFoundError\u001B[0m                       Traceback (most recent call last)",
      "Cell \u001B[1;32mIn[2], line 5\u001B[0m\n\u001B[0;32m      3\u001B[0m \u001B[38;5;28;01mimport\u001B[39;00m \u001B[38;5;21;01mgeomstats\u001B[39;00m\u001B[38;5;21;01m.\u001B[39;00m\u001B[38;5;21;01mgeometry\u001B[39;00m\u001B[38;5;21;01m.\u001B[39;00m\u001B[38;5;21;01meuclidean\u001B[39;00m \u001B[38;5;28;01mas\u001B[39;00m \u001B[38;5;21;01meuclidean\u001B[39;00m\n\u001B[0;32m      4\u001B[0m \u001B[38;5;28;01mfrom\u001B[39;00m \u001B[38;5;21;01mgeomstats\u001B[39;00m\u001B[38;5;21;01m.\u001B[39;00m\u001B[38;5;21;01mgeometry\u001B[39;00m\u001B[38;5;21;01m.\u001B[39;00m\u001B[38;5;21;01mhyperbolic\u001B[39;00m \u001B[38;5;28;01mimport\u001B[39;00m Hyperbolic\n\u001B[1;32m----> 5\u001B[0m \u001B[38;5;28;01mfrom\u001B[39;00m \u001B[38;5;21;01mgeomstats\u001B[39;00m\u001B[38;5;21;01m.\u001B[39;00m\u001B[38;5;21;01mgeometry\u001B[39;00m\u001B[38;5;21;01m.\u001B[39;00m\u001B[38;5;21;01membedded_manifold\u001B[39;00m \u001B[38;5;28;01mimport\u001B[39;00m EmbeddedManifold\n",
      "\u001B[1;31mModuleNotFoundError\u001B[0m: No module named 'geomstats.geometry.embedded_manifold'"
     ]
    }
   ],
   "source": [
    "import numpy as np\n",
    "import geomstats.backend as gs\n",
    "import geomstats.geometry.euclidean as euclidean\n",
    "from geomstats.geometry.hyperbolic import Hyperbolic\n",
    "from geomstats.geometry.embedded_manifold import EmbeddedManifold"
   ],
   "metadata": {
    "collapsed": false
   }
  },
  {
   "cell_type": "code",
   "execution_count": 1,
   "metadata": {
    "collapsed": true
   },
   "outputs": [
    {
     "name": "stderr",
     "output_type": "stream",
     "text": [
      "INFO: Using numpy backend\n"
     ]
    },
    {
     "ename": "ModuleNotFoundError",
     "evalue": "No module named 'geomstats.geometry.embedded_manifold'",
     "output_type": "error",
     "traceback": [
      "\u001B[1;31m---------------------------------------------------------------------------\u001B[0m",
      "\u001B[1;31mModuleNotFoundError\u001B[0m                       Traceback (most recent call last)",
      "Cell \u001B[1;32mIn[1], line 5\u001B[0m\n\u001B[0;32m      3\u001B[0m \u001B[38;5;28;01mimport\u001B[39;00m \u001B[38;5;21;01mgeomstats\u001B[39;00m\u001B[38;5;21;01m.\u001B[39;00m\u001B[38;5;21;01mgeometry\u001B[39;00m\u001B[38;5;21;01m.\u001B[39;00m\u001B[38;5;21;01meuclidean\u001B[39;00m \u001B[38;5;28;01mas\u001B[39;00m \u001B[38;5;21;01meuclidean\u001B[39;00m\n\u001B[0;32m      4\u001B[0m \u001B[38;5;28;01mfrom\u001B[39;00m \u001B[38;5;21;01mgeomstats\u001B[39;00m\u001B[38;5;21;01m.\u001B[39;00m\u001B[38;5;21;01mgeometry\u001B[39;00m\u001B[38;5;21;01m.\u001B[39;00m\u001B[38;5;21;01mhyperbolic\u001B[39;00m \u001B[38;5;28;01mimport\u001B[39;00m Hyperbolic\n\u001B[1;32m----> 5\u001B[0m \u001B[38;5;28;01mfrom\u001B[39;00m \u001B[38;5;21;01mgeomstats\u001B[39;00m\u001B[38;5;21;01m.\u001B[39;00m\u001B[38;5;21;01mgeometry\u001B[39;00m\u001B[38;5;21;01m.\u001B[39;00m\u001B[38;5;21;01membedded_manifold\u001B[39;00m \u001B[38;5;28;01mimport\u001B[39;00m EmbeddedManifold\n\u001B[0;32m      7\u001B[0m \u001B[38;5;66;03m# Define the custom manifold (Circle in 2D)\u001B[39;00m\n\u001B[0;32m      8\u001B[0m \u001B[38;5;28;01mclass\u001B[39;00m \u001B[38;5;21;01mCircle\u001B[39;00m(EmbeddedManifold):\n",
      "\u001B[1;31mModuleNotFoundError\u001B[0m: No module named 'geomstats.geometry.embedded_manifold'"
     ]
    }
   ],
   "source": [
    "\n",
    "# Define the custom manifold (Circle in 2D)\n",
    "class Circle(EmbeddedManifold):\n",
    "    def __init__(self, radius):\n",
    "        super(Circle, self).__init__(\n",
    "            dim=1, embedding_manifold=euclidean.Space(2)\n",
    "        )\n",
    "        self.radius = radius\n",
    "        self.metric = euclidean.Metric(dim=2)\n",
    "\n",
    "    def belongs(self, point, atol=gs.atol):\n",
    "        return gs.isclose(gs.sum(point ** 2), self.radius ** 2, atol=atol)\n",
    "\n",
    "    def projection(self, point):\n",
    "        return point\n",
    "\n",
    "# Create an instance of the custom manifold (Circle)\n",
    "radius = 1.0\n",
    "circle = Circle(radius)\n",
    "\n",
    "# Define two points on the circle\n",
    "point_a = gs.array([radius, 0.0])\n",
    "point_b = gs.array([0.0, radius])\n",
    "\n",
    "# Compute the geodesic distance\n",
    "geodesic_distance = circle.metric.dist(point_a, point_b)\n",
    "\n",
    "print(\"Geodesic distance:\", geodesic_distance)"
   ]
  },
  {
   "cell_type": "code",
   "execution_count": null,
   "outputs": [],
   "source": [],
   "metadata": {
    "collapsed": false
   }
  }
 ],
 "metadata": {
  "kernelspec": {
   "display_name": "Python 3",
   "language": "python",
   "name": "python3"
  },
  "language_info": {
   "codemirror_mode": {
    "name": "ipython",
    "version": 2
   },
   "file_extension": ".py",
   "mimetype": "text/x-python",
   "name": "python",
   "nbconvert_exporter": "python",
   "pygments_lexer": "ipython2",
   "version": "2.7.6"
  }
 },
 "nbformat": 4,
 "nbformat_minor": 0
}
