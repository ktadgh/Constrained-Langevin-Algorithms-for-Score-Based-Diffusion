{
  "cells": [
    {
      "cell_type": "code",
      "execution_count": 146,
      "metadata": {
        "id": "oZSWiyu3K5ur"
      },
      "outputs": [],
      "source": [
        "import torch\n",
        "import torch.nn as nn\n",
        "import numpy as np\n",
        "from torch.autograd.functional import jacobian\n",
        "import tqdm\n",
        "from tqdm import notebook\n",
        "import random\n",
        "import torch.multiprocessing\n",
        "torch.multiprocessing.set_sharing_strategy('file_system')"
      ]
    },
    {
      "cell_type": "code",
      "execution_count": 147,
      "metadata": {
        "id": "cSO96Yf_TIi7"
      },
      "outputs": [],
      "source": [
        "torch.set_default_dtype(torch.float64)\n",
        "torch.set_default_device('cuda')"
      ]
    },
    {
      "cell_type": "code",
      "execution_count": 148,
      "metadata": {
        "id": "G17JCObAI2cc"
      },
      "outputs": [],
      "source": [
        "#@torch.compile(mode = \"max-autotune\")\n",
        "def G(gs):\n",
        "    '''\n",
        "    :param gs: a list of tensor functions\n",
        "    :return: a function sending a tensor to the stacked matrix of the functions of that tensor\n",
        "    '''\n",
        "    def G_gs(tensor):\n",
        "        x = torch.squeeze(tensor)\n",
        "        # print(\"Function input: \",tensor) # checking the input for debugging\n",
        "        # print(\"Function output:\" , torch.stack([g(tensor) for g in gs],0))\n",
        "        return torch.stack([g(x) for g in gs], 0)\n",
        "\n",
        "    return G_gs\n",
        "\n",
        "#@torch.compile(mode = \"max-autotune\")\n",
        "def J(gs, x):\n",
        "    '''Returns the Jacobian evaluated at x for a list gs of constraint functions'''\n",
        "    return jacobian(G(gs), torch.squeeze(x))"
      ]
    },
    {
      "cell_type": "code",
      "execution_count": 149,
      "metadata": {
        "id": "JjX3bNv8K5uv"
      },
      "outputs": [],
      "source": [
        "bones2 = [\n",
        "    (1, 2),\n",
        "    (1, 3),\n",
        "    (3, 4),\n",
        "    (4, 5),\n",
        "    (5, 6),\n",
        "    (1, 7),\n",
        "    (7, 8),\n",
        "    (8, 9),\n",
        "    (9, 10),\n",
        "    (11, 12),\n",
        "    (12, 13),\n",
        "    (13, 14),\n",
        "    (15, 16),\n",
        "    (16, 17),\n",
        "    (17, 18),\n",
        "]"
      ]
    },
    {
      "cell_type": "code",
      "execution_count": 150,
      "metadata": {
        "id": "mvWy09J5K5uv"
      },
      "outputs": [],
      "source": [
        "@torch.compile(mode = \"max-autotune\")\n",
        "def length_constraint(i,j, xinit):\n",
        "    init = torch.squeeze(xinit)\n",
        "    def constraint_fn(y):\n",
        "        x = torch.squeeze(y) # will need to change for batched data\n",
        "        return (x[3*i]- x[3*j])**2 +(x[3*i+1]- x[3*j+1])**2 + (x[3*i+2]- x[3*j+2])**2 - ((init[3*i]- init[3*j])**2 +(init[3*i+1]- init[3*j+1])**2 + (init[3*i+2]- init[3*j+2])**2)\n",
        "    return constraint_fn"
      ]
    },
    {
      "cell_type": "code",
      "execution_count": 151,
      "metadata": {
        "id": "i2jd3RM7K5uw"
      },
      "outputs": [],
      "source": [
        "@torch.compile(mode = \"max-autotune\")\n",
        "def length_constraint_2(i, xinit):\n",
        "    init = torch.squeeze(xinit)\n",
        "    def constraint_fn(y):\n",
        "        x = torch.squeeze(y)\n",
        "        return (x[3*i]- 0)**2 +(x[3*i+1]- 0)**2 + (x[3*i+2]- 2)**2 - ((init[3*i]- 0)**2 +(init[3*i+1]- 0)**2 + (init[3*i+2]- 2)**2)\n",
        "    return constraint_fn"
      ]
    },
    {
      "cell_type": "code",
      "execution_count": 152,
      "metadata": {
        "id": "ruhPhnwGK5uw"
      },
      "outputs": [],
      "source": [
        "@torch.compile(mode = \"max-autotune\")\n",
        "def cotangent_projection(gs):\n",
        "    def proj(x):\n",
        "        G = J(gs,x)\n",
        "        M = torch.eye(G.size()[1])\n",
        "        L= torch.eye(G.size()[1]) - G.T @ torch.inverse(G @ M @ G.T) @ G @ torch.inverse(M)\n",
        "        return L\n",
        "    return proj"
      ]
    },
    {
      "cell_type": "code",
      "execution_count": 153,
      "metadata": {
        "id": "mLWsDDQKK5ux"
      },
      "outputs": [],
      "source": [
        "class ScoreNet(nn.Module):\n",
        "  \"\"\"A time-dependent score-based model.\"\"\"\n",
        "\n",
        "\n",
        "  def __init__(self, embed_dim):\n",
        "    super().__init__()\n",
        "    self.lin1 = nn.Linear(57,57)\n",
        "    self.lin2 = nn.Linear(57, 57)\n",
        "    self.lin3 = nn.Linear(57, 57)\n",
        "    self.lin4 = nn.Linear(57, 57)\n",
        "    self.lin5 = nn.Linear(57,57)\n",
        "    self.act = torch.nn.Sigmoid()\n",
        "\n",
        "  #@torch.compile(mode=\"default\")\n",
        "  def forward(self,x,L):\n",
        "      # setting the fixed points of x\n",
        "      l = torch.zeros_like(x)\n",
        "      l[:,0] = x[:,0]\n",
        "      l[:,1] = x[:,1]\n",
        "      l[:,2] = -torch.ones_like(x[:,2])*2 + x[:,2]\n",
        "\n",
        "      x = x - l\n",
        "      h = self.lin1(x)\n",
        "      h = self.act(self.lin2(h))\n",
        "      h = self.act(self.lin3(h))\n",
        "      h = self.lin4(h)\n",
        "      #h = self.act(self.lin5(h))\n",
        "\n",
        "      # projection\n",
        "      p = torch.unsqueeze(L@ torch.squeeze(h),0)\n",
        "      h = p\n",
        "      # NOT normalizing the output\n",
        "      #h = h/ t[:,None]\n",
        "\n",
        "      # setting the force on the fixed point to zero\n",
        "      l2 = torch.zeros_like(h)\n",
        "      l2[:,0] = h[:,0]\n",
        "      l2[:,1] = h[:,1]\n",
        "      l2[:,2] = h[:,2]\n",
        "      h = h - l2\n",
        "      return torch.squeeze(h)"
      ]
    },
    {
      "cell_type": "code",
      "execution_count": 154,
      "metadata": {
        "id": "1CIK3L70K5uy"
      },
      "outputs": [],
      "source": [
        "score_model = torch.nn.DataParallel(ScoreNet(58))"
      ]
    },
    {
      "cell_type": "code",
      "execution_count": 155,
      "metadata": {
        "id": "_I0GqoXetDqj"
      },
      "outputs": [],
      "source": [
        "from torch.utils.data import TensorDataset, DataLoader"
      ]
    },
    {
      "cell_type": "code",
      "execution_count": 156,
      "metadata": {
        "id": "mHo3neRFK5uz"
      },
      "outputs": [],
      "source": [
        "from torch.optim import Adam"
      ]
    },
    {
      "cell_type": "code",
      "execution_count": 157,
      "metadata": {
        "id": "BX7VFB89wKnk"
      },
      "outputs": [],
      "source": [
        "import warnings\n",
        "warnings.filterwarnings(\"ignore\")\n"
      ]
    },
    {
      "cell_type": "code",
      "execution_count": 158,
      "metadata": {
        "id": "5aU4ZD1lwJrh"
      },
      "outputs": [],
      "source": [
        "#torch._dynamo.config.verbose=True"
      ]
    },
    {
      "cell_type": "code",
      "execution_count": 159,
      "metadata": {
        "id": "1Cq2rt1g8wzV"
      },
      "outputs": [],
      "source": [
        "#torch._dynamo.config.suppress_errors = True"
      ]
    },
    {
      "cell_type": "markdown",
      "metadata": {
        "id": "0vIhK72vK5uz"
      },
      "source": [
        "# Sampling from the reverse SDE"
      ]
    },
    {
      "cell_type": "code",
      "execution_count": 160,
      "metadata": {
        "id": "Q8LU9naasdgx"
      },
      "outputs": [],
      "source": [
        "data_numpy = np.load('train_dataset.npy',allow_pickle=True)"
      ]
    },
    {
      "cell_type": "markdown",
      "metadata": {
        "id": "wkqFii2bu8SD"
      },
      "source": []
    },
    {
      "cell_type": "code",
      "execution_count": 161,
      "metadata": {
        "id": "1sP9YB0Ju7Zx"
      },
      "outputs": [],
      "source": [
        "data_tensor = torch.tensor(data_numpy, device = 'cpu')"
      ]
    },
    {
      "cell_type": "code",
      "source": [
        "data_tensor[0].size()"
      ],
      "metadata": {
        "colab": {
          "base_uri": "https://localhost:8080/"
        },
        "id": "fSsa3GItT64S",
        "outputId": "2b02fc6f-dbc0-46cb-9527-c8e0398e1f16"
      },
      "execution_count": 162,
      "outputs": [
        {
          "output_type": "execute_result",
          "data": {
            "text/plain": [
              "torch.Size([1, 19, 3])"
            ]
          },
          "metadata": {},
          "execution_count": 162
        }
      ]
    },
    {
      "cell_type": "code",
      "execution_count": 163,
      "metadata": {
        "id": "o65vfWF1PIci"
      },
      "outputs": [],
      "source": [
        "data_tensor = torch.stack([torch.flatten(tens) for tens in data_tensor])"
      ]
    },
    {
      "cell_type": "code",
      "execution_count": 164,
      "metadata": {
        "colab": {
          "base_uri": "https://localhost:8080/"
        },
        "id": "UW3AOrBkPIcj",
        "outputId": "1b1e0f59-c399-4ede-c2eb-51fe5d90ebb9"
      },
      "outputs": [
        {
          "output_type": "execute_result",
          "data": {
            "text/plain": [
              "tensor([ 0.0000,  0.0000,  2.0000, -0.0415,  0.4913,  1.9698, -0.0302,  0.6276,\n",
              "         1.9810,  0.0772,  0.3837,  1.7854,  0.1868,  0.0496,  1.7402,  0.3057,\n",
              "        -0.2179,  1.7439,  0.3301, -0.3405,  1.7480, -0.1814,  0.4888,  2.0441,\n",
              "        -0.1794,  0.6404,  2.3646, -0.1866,  0.8687,  2.1815, -0.2104,  0.9399,\n",
              "         2.0815,  0.1104, -0.2030,  1.9271,  0.1536, -0.7239,  1.8919,  0.1890,\n",
              "        -1.1902,  1.8484,  0.2527, -1.2213,  2.0356, -0.0817, -0.2263,  2.0288,\n",
              "        -0.0881, -0.7402,  1.9276, -0.0922, -1.2053,  1.8624, -0.1571, -1.2467,\n",
              "         2.0472])"
            ]
          },
          "metadata": {},
          "execution_count": 164
        }
      ],
      "source": [
        "data_tensor[0]"
      ]
    },
    {
      "cell_type": "code",
      "execution_count": 165,
      "metadata": {
        "id": "1c9YxOkotANO"
      },
      "outputs": [],
      "source": [
        "my_dataset = TensorDataset(data_tensor)"
      ]
    },
    {
      "cell_type": "code",
      "execution_count": 166,
      "metadata": {
        "id": "BGi0S4brPIck"
      },
      "outputs": [],
      "source": [
        "bones = [\n",
        "    (0, 1),\n",
        "    (1, 2),\n",
        "    (1, 3),\n",
        "    (3, 4),\n",
        "    (4, 5),\n",
        "    (5, 6),\n",
        "    (1, 7),\n",
        "    (7, 8),\n",
        "    (8, 9),\n",
        "    (9, 10),\n",
        "    (0, 11),\n",
        "    (11, 12),\n",
        "    (12, 13),\n",
        "    (13, 14),\n",
        "    (0, 15),\n",
        "    (15, 16),\n",
        "    (16, 17),\n",
        "    (17, 18),\n",
        "]"
      ]
    },
    {
      "cell_type": "code",
      "execution_count": 167,
      "metadata": {
        "id": "TjLWsGwBPIck"
      },
      "outputs": [],
      "source": [
        "def angles_to_joints(angles, lengths,bones):\n",
        "    pose = torch.zeros((19,3))\n",
        "    pose[0] = torch.tensor([0,0,2])\n",
        "    for i in range(len(bones)):\n",
        "        bone = bones[i]\n",
        "        r = lengths[i]\n",
        "        phi = torch.tensor(angles[i][0])\n",
        "        theta = torch.tensor(angles[i][1])\n",
        "        pose[bone[1]] = pose[bone[0]] + torch.tensor([r*torch.sin(theta)*torch.cos(phi),r*torch.sin(theta)*torch.sin(phi),r*torch.cos(theta)])\n",
        "    return pose"
      ]
    },
    {
      "cell_type": "code",
      "execution_count": 168,
      "metadata": {
        "id": "oU-gr8LJPIck"
      },
      "outputs": [],
      "source": [
        "def lengths(bones,poses):\n",
        "    lengths = []\n",
        "    poses = torch.squeeze(poses).reshape((19,3))\n",
        "    for bone in bones:\n",
        "        l = poses[bone[0]] -poses[bone[1]]\n",
        "        l = torch.sqrt(torch.dot(l,l))\n",
        "        lengths.append(l)\n",
        "    return lengths"
      ]
    },
    {
      "cell_type": "code",
      "execution_count": 169,
      "metadata": {
        "id": "cEceSqfrPIcl"
      },
      "outputs": [],
      "source": [
        "def uniform_generator(x_init,bones):\n",
        "    random_angles = torch.vstack([torch.rand(18)*torch.pi*2,torch.acos(2*torch.rand(18) -1)]).T\n",
        "    lengths1 = lengths(bones, x_init)\n",
        "    return angles_to_joints(random_angles,lengths1,bones)"
      ]
    },
    {
      "cell_type": "code",
      "execution_count": 172,
      "metadata": {
        "id": "sdcVB8BBNm2k"
      },
      "outputs": [],
      "source": [
        "#@title Define the loss function (double click to expand or collapse)\n",
        "def loss2(model, xs,eps=torch.tensor([1e-9]), lam =1):\n",
        "    \"\"\"The loss function for moser flows\n",
        "    \"\"\"\n",
        "    # xs is a batch (batch_size, 57) of position\n",
        "    loss = torch.tensor([0.])\n",
        "    loss.requires_grad_()\n",
        "\n",
        "    # first the loss for the first part\n",
        "    for pose in xs:\n",
        "        # x is the list of simulated qs\n",
        "        q = torch.squeeze(x[0]).detach() # x is unsqueezed I can't remember why\n",
        "        gs = [length_constraint(i,j,torch.squeeze(q)) for (i,j) in bones2]\n",
        "        gs.append(length_constraint_2(1,torch.squeeze(q)))\n",
        "        gs.append(length_constraint_2(11,torch.squeeze(q)))\n",
        "        gs.append(length_constraint_2(15,torch.squeeze(q)))\n",
        "        L_fn = cotangent_projection(gs)\n",
        "        sim_x = torch.unsqueeze(pose,0)\n",
        "        L = L_fn(sim_x)\n",
        "        divergence = torch.trace(torch.squeeze(torch.autograd.functional.jacobian(model, inputs=(sim_x,L), create_graph=True,strict=True)[0]))\n",
        "        exp = max(eps,(torch.pi*4)**(-18) - divergence)\n",
        "        loss = loss + torch.log(exp)/len(xs)\n",
        "\n",
        "\n",
        "    # and now the second part??\n",
        "    for i in range(30):\n",
        "        random_pose = torch.flatten(uniform_generator(q,bones))\n",
        "        sim_y = torch.unsqueeze(random_pose, 0)\n",
        "        L = L_fn(sim_y)\n",
        "        divergence = torch.trace(torch.squeeze(torch.autograd.functional.jacobian(model, inputs=(sim_y,L), create_graph=True,strict=True)[0]))\n",
        "        l = eps - min(eps, (torch.pi*4)**(-18) - divergence)\n",
        "        loss = loss + lam/30 * l\n",
        "    return loss"
      ]
    },
    {
      "cell_type": "code",
      "execution_count": null,
      "metadata": {
        "colab": {
          "base_uri": "https://localhost:8080/",
          "height": 1000,
          "referenced_widgets": [
            "e106119e9605411586490d873be29181",
            "6e6a3fbd53eb4fa5a47de3051ecaf961",
            "d008126941ed4492bc103a2a53d3a732",
            "11968df894ac4b8ebc68512f1ca72815",
            "2cecc8362b3e46ffa009d1126437e26c",
            "5d574a07980f4819a097c0bd89c9d552",
            "f989653c688b4b6e9db605e3a8d20cb0",
            "c2f14635548540bd9cd042753872d31e",
            "5faede8b15614b6ea938a9daa911998a",
            "aabde959b46d44acbe8cd44ab289c357",
            "6e97c4992e6041e49d56e9616a4855d7"
          ]
        },
        "id": "l5PjYO1DiCkN",
        "outputId": "85ae6774-e6f1-4e84-db28-84ddf39d8213"
      },
      "outputs": [
        {
          "output_type": "display_data",
          "data": {
            "text/plain": [
              "  0%|          | 0/20 [00:00<?, ?it/s]"
            ],
            "application/vnd.jupyter.widget-view+json": {
              "version_major": 2,
              "version_minor": 0,
              "model_id": "e106119e9605411586490d873be29181"
            }
          },
          "metadata": {}
        },
        {
          "output_type": "stream",
          "name": "stderr",
          "text": [
            "\n",
            "  0%|          | 0/2000 [00:00<?, ?it/s]\u001b[A\n",
            "Loss = -7.225596184098042:   0%|          | 0/2000 [00:10<?, ?it/s]\u001b[A\n",
            "Loss = -7.225596184098042:   0%|          | 1/2000 [00:11<6:35:22, 11.87s/it]\u001b[A\n",
            "Loss = -8.208980653145924:   0%|          | 1/2000 [00:22<6:35:22, 11.87s/it]\u001b[A\n",
            "Loss = -8.208980653145924:   0%|          | 2/2000 [00:23<6:32:19, 11.78s/it]\u001b[A\n",
            "Loss = -7.426888056030357:   0%|          | 2/2000 [00:33<6:32:19, 11.78s/it]\u001b[A\n",
            "Loss = -7.426888056030357:   0%|          | 3/2000 [00:35<6:31:27, 11.76s/it]\u001b[A\n",
            "Loss = -11.190118251153708:   0%|          | 3/2000 [00:45<6:31:27, 11.76s/it]\u001b[A\n",
            "Loss = -11.190118251153708:   0%|          | 4/2000 [00:46<6:28:47, 11.69s/it]\u001b[A\n",
            "Loss = -10.301072675413861:   0%|          | 4/2000 [00:57<6:28:47, 11.69s/it]\u001b[A\n",
            "Loss = -10.301072675413861:   0%|          | 5/2000 [00:58<6:28:38, 11.69s/it]\u001b[A\n",
            "Loss = -8.199716565234308:   0%|          | 5/2000 [01:09<6:28:38, 11.69s/it] \u001b[A\n",
            "Loss = -8.199716565234308:   0%|          | 6/2000 [01:10<6:33:53, 11.85s/it]\u001b[A\n",
            "Loss = -9.554894562576903:   0%|          | 6/2000 [01:21<6:33:53, 11.85s/it]\u001b[A\n",
            "Loss = -9.554894562576903:   0%|          | 7/2000 [01:22<6:33:18, 11.84s/it]\u001b[A\n",
            "Loss = -11.793341186884511:   0%|          | 7/2000 [01:33<6:33:18, 11.84s/it]\u001b[A\n",
            "Loss = -11.793341186884511:   0%|          | 8/2000 [01:34<6:38:32, 12.00s/it]\u001b[A\n",
            "Loss = -9.895239456580201:   0%|          | 8/2000 [01:45<6:38:32, 12.00s/it] \u001b[A\n",
            "Loss = -9.895239456580201:   0%|          | 9/2000 [01:46<6:38:47, 12.02s/it]\u001b[A\n",
            "Loss = -9.519072241271983:   0%|          | 9/2000 [01:57<6:38:47, 12.02s/it]\u001b[A\n",
            "Loss = -9.519072241271983:   0%|          | 10/2000 [01:59<6:45:00, 12.21s/it]\u001b[A\n",
            "Loss = -11.962280660746234:   0%|          | 10/2000 [02:10<6:45:00, 12.21s/it]\u001b[A\n",
            "Loss = -11.962280660746234:   1%|          | 11/2000 [02:11<6:43:06, 12.16s/it]\u001b[A\n",
            "Loss = -10.19995498335287:   1%|          | 11/2000 [02:22<6:43:06, 12.16s/it] \u001b[A\n",
            "Loss = -10.19995498335287:   1%|          | 12/2000 [02:23<6:41:36, 12.12s/it]\u001b[A\n",
            "Loss = -10.046967434602283:   1%|          | 12/2000 [02:34<6:41:36, 12.12s/it]\u001b[A\n",
            "Loss = -10.046967434602283:   1%|          | 13/2000 [02:35<6:43:01, 12.17s/it]\u001b[A\n",
            "Loss = -8.711776454446042:   1%|          | 13/2000 [02:46<6:43:01, 12.17s/it] \u001b[A\n",
            "Loss = -8.711776454446042:   1%|          | 14/2000 [02:48<6:45:04, 12.24s/it]\u001b[A\n",
            "Loss = -10.503123683985718:   1%|          | 14/2000 [02:58<6:45:04, 12.24s/it]\u001b[A\n",
            "Loss = -10.503123683985718:   1%|          | 15/2000 [03:00<6:45:18, 12.25s/it]\u001b[A\n",
            "Loss = -9.936192824701944:   1%|          | 15/2000 [03:11<6:45:18, 12.25s/it] \u001b[A\n",
            "Loss = -9.936192824701944:   1%|          | 16/2000 [03:12<6:45:25, 12.26s/it]\u001b[A\n",
            "Loss = -11.122910259106874:   1%|          | 16/2000 [03:23<6:45:25, 12.26s/it]\u001b[A\n",
            "Loss = -11.122910259106874:   1%|          | 17/2000 [03:25<6:46:04, 12.29s/it]\u001b[A\n",
            "Loss = -10.666920161991541:   1%|          | 17/2000 [03:35<6:46:04, 12.29s/it]\u001b[A\n",
            "Loss = -10.666920161991541:   1%|          | 18/2000 [03:37<6:48:20, 12.36s/it]\u001b[A\n",
            "Loss = -12.823779018737913:   1%|          | 18/2000 [03:48<6:48:20, 12.36s/it]\u001b[A\n",
            "Loss = -12.823779018737913:   1%|          | 19/2000 [03:49<6:44:37, 12.26s/it]\u001b[A\n",
            "Loss = -11.746776288255864:   1%|          | 19/2000 [04:00<6:44:37, 12.26s/it]\u001b[A\n",
            "Loss = -11.746776288255864:   1%|          | 20/2000 [04:01<6:42:10, 12.19s/it]\u001b[A\n",
            "Loss = -11.477687379250078:   1%|          | 20/2000 [04:12<6:42:10, 12.19s/it]\u001b[A\n",
            "Loss = -11.477687379250078:   1%|          | 21/2000 [04:14<6:43:15, 12.23s/it]\u001b[A\n",
            "Loss = -9.983365788663804:   1%|          | 21/2000 [04:24<6:43:15, 12.23s/it] \u001b[A\n",
            "Loss = -9.983365788663804:   1%|          | 22/2000 [04:26<6:44:33, 12.27s/it]\u001b[A\n",
            "Loss = -12.325480672684122:   1%|          | 22/2000 [04:37<6:44:33, 12.27s/it]\u001b[A\n",
            "Loss = -12.325480672684122:   1%|          | 23/2000 [04:38<6:43:04, 12.23s/it]\u001b[A\n",
            "Loss = -17.19679471022311:   1%|          | 23/2000 [04:49<6:43:04, 12.23s/it] \u001b[A\n",
            "Loss = -17.19679471022311:   1%|          | 24/2000 [04:50<6:36:48, 12.05s/it]\u001b[A\n",
            "Loss = -13.712113196544328:   1%|          | 24/2000 [05:00<6:36:48, 12.05s/it]\u001b[A\n",
            "Loss = -13.712113196544328:   1%|▏         | 25/2000 [05:02<6:36:25, 12.04s/it]\u001b[A\n",
            "Loss = -9.919231307795782:   1%|▏         | 25/2000 [05:13<6:36:25, 12.04s/it] \u001b[A\n",
            "Loss = -9.919231307795782:   1%|▏         | 26/2000 [05:14<6:39:26, 12.14s/it]\u001b[A\n",
            "Loss = -11.670073521679713:   1%|▏         | 26/2000 [05:25<6:39:26, 12.14s/it]\u001b[A\n",
            "Loss = -11.670073521679713:   1%|▏         | 27/2000 [05:26<6:38:17, 12.11s/it]\u001b[A\n",
            "Loss = -10.705301093541589:   1%|▏         | 27/2000 [05:36<6:38:17, 12.11s/it]\u001b[A\n",
            "Loss = -10.705301093541589:   1%|▏         | 28/2000 [05:38<6:36:21, 12.06s/it]\u001b[A\n",
            "Loss = -12.51122553615322:   1%|▏         | 28/2000 [05:49<6:36:21, 12.06s/it] \u001b[A\n",
            "Loss = -12.51122553615322:   1%|▏         | 29/2000 [05:50<6:36:16, 12.06s/it]\u001b[A\n",
            "Loss = -13.103925075915122:   1%|▏         | 29/2000 [06:01<6:36:16, 12.06s/it]\u001b[A\n",
            "Loss = -13.103925075915122:   2%|▏         | 30/2000 [06:02<6:34:09, 12.00s/it]\u001b[A\n",
            "Loss = -14.972869935600109:   2%|▏         | 30/2000 [06:13<6:34:09, 12.00s/it]\u001b[A\n",
            "Loss = -14.972869935600109:   2%|▏         | 31/2000 [06:14<6:36:33, 12.08s/it]\u001b[A\n",
            "Loss = -13.111927800273897:   2%|▏         | 31/2000 [06:25<6:36:33, 12.08s/it]\u001b[A\n",
            "Loss = -13.111927800273897:   2%|▏         | 32/2000 [06:26<6:35:11, 12.05s/it]\u001b[A\n",
            "Loss = -11.366851655452944:   2%|▏         | 32/2000 [06:37<6:35:11, 12.05s/it]\u001b[A\n",
            "Loss = -11.366851655452944:   2%|▏         | 33/2000 [06:38<6:34:38, 12.04s/it]\u001b[A\n",
            "Loss = -13.137922602899424:   2%|▏         | 33/2000 [06:49<6:34:38, 12.04s/it]\u001b[A\n",
            "Loss = -13.137922602899424:   2%|▏         | 34/2000 [06:50<6:34:47, 12.05s/it]\u001b[A\n",
            "Loss = -13.776864581383755:   2%|▏         | 34/2000 [07:01<6:34:47, 12.05s/it]\u001b[A\n",
            "Loss = -13.776864581383755:   2%|▏         | 35/2000 [07:03<6:35:39, 12.08s/it]\u001b[A\n",
            "Loss = -15.163925559939626:   2%|▏         | 35/2000 [07:13<6:35:39, 12.08s/it]\u001b[A\n",
            "Loss = -15.163925559939626:   2%|▏         | 36/2000 [07:15<6:35:55, 12.10s/it]\u001b[A\n",
            "Loss = -10.436156147764716:   2%|▏         | 36/2000 [07:25<6:35:55, 12.10s/it]\u001b[A\n",
            "Loss = -10.436156147764716:   2%|▏         | 37/2000 [07:27<6:36:04, 12.11s/it]\u001b[A\n",
            "Loss = -13.896105409578645:   2%|▏         | 37/2000 [07:37<6:36:04, 12.11s/it]\u001b[A\n",
            "Loss = -13.896105409578645:   2%|▏         | 38/2000 [07:39<6:33:09, 12.02s/it]\u001b[A\n",
            "Loss = -13.424196067534622:   2%|▏         | 38/2000 [07:49<6:33:09, 12.02s/it]\u001b[A\n",
            "Loss = -13.424196067534622:   2%|▏         | 39/2000 [07:51<6:32:06, 12.00s/it]\u001b[A\n",
            "Loss = -14.043403513752358:   2%|▏         | 39/2000 [08:01<6:32:06, 12.00s/it]\u001b[A\n",
            "Loss = -14.043403513752358:   2%|▏         | 40/2000 [08:03<6:33:19, 12.04s/it]\u001b[A\n",
            "Loss = -15.181805294689736:   2%|▏         | 40/2000 [08:13<6:33:19, 12.04s/it]\u001b[A\n",
            "Loss = -15.181805294689736:   2%|▏         | 41/2000 [08:15<6:36:03, 12.13s/it]\u001b[A\n",
            "Loss = -15.056116072152912:   2%|▏         | 41/2000 [08:25<6:36:03, 12.13s/it]\u001b[A\n",
            "Loss = -15.056116072152912:   2%|▏         | 42/2000 [08:27<6:32:11, 12.02s/it]\u001b[A\n",
            "Loss = -15.852992656803522:   2%|▏         | 42/2000 [08:37<6:32:11, 12.02s/it]\u001b[A\n",
            "Loss = -15.852992656803522:   2%|▏         | 43/2000 [08:39<6:29:54, 11.95s/it]\u001b[A"
          ]
        }
      ],
      "source": [
        "## size of a mini-batch\n",
        "## learning rate\n",
        "lr=1e-5 #@param {'type':'number'}\n",
        "batch_size =  20 #@param {'type':'integer'}\n",
        "## learning rate\n",
        "dataloader = DataLoader(my_dataset,batch_size=batch_size, shuffle=True,generator=torch.Generator(device='cuda'))\n",
        "n_epochs = 20\n",
        "tqdm_epoch = tqdm.notebook.trange(n_epochs)\n",
        "optimizer = Adam(score_model.parameters(), lr=lr)\n",
        "i = 0\n",
        "epoch_losses =[]\n",
        "for epoch in tqdm_epoch:\n",
        "    t_dl =tqdm.tqdm(dataloader)\n",
        "    avg_loss = 0.\n",
        "    num_items = 0\n",
        "    for pw in t_dl:\n",
        "        x = pw[0].to('cuda')\n",
        "        i += 1\n",
        "        loss = loss2(score_model, x)\n",
        "        t_dl.set_description(f\"Loss = {loss.item()}\")\n",
        "        optimizer.zero_grad()\n",
        "        loss.backward()\n",
        "        optimizer.step()\n",
        "        avg_loss += loss.item() * x.shape[0]\n",
        "        num_items += x.shape[0]\n",
        "        epoch_losses.append(avg_loss / num_items)\n",
        "    tqdm_epoch.set_description('Average Loss: {:5f}'.format(avg_loss / num_items))\n",
        "    torch.save(score_model.state_dict(), 'ckpt_moser_flow.pth')"
      ]
    },
    {
      "cell_type": "code",
      "source": [
        "torch.save(score_model.state_dict(), 'ckpt_moser_flow.pth')"
      ],
      "metadata": {
        "id": "23CHdhuJa3yR"
      },
      "execution_count": null,
      "outputs": []
    },
    {
      "cell_type": "code",
      "execution_count": null,
      "metadata": {
        "id": "3immlMnJPIcl"
      },
      "outputs": [],
      "source": [
        "import matplotlib.pyplot as plt"
      ]
    },
    {
      "cell_type": "code",
      "source": [
        "q=data_tensor[0]"
      ],
      "metadata": {
        "id": "Pv0MAnu4bpYN"
      },
      "execution_count": null,
      "outputs": []
    },
    {
      "cell_type": "code",
      "execution_count": null,
      "metadata": {
        "id": "hAQuP-TlPIcl"
      },
      "outputs": [],
      "source": [
        "for i in range(100):\n",
        "    random_pose = torch.flatten(uniform_generator(q,bones))\n",
        "    q = torch.squeeze(random_pose) # x is unsqueezed I can't remember why\n",
        "    gs = [length_constraint(i,j,torch.squeeze(q)) for (i,j) in bones2]\n",
        "    gs.append(length_constraint_2(1,torch.squeeze(q)))\n",
        "    gs.append(length_constraint_2(11,torch.squeeze(q)))\n",
        "    gs.append(length_constraint_2(15,torch.squeeze(q)))\n",
        "    L_fn = cotangent_projection(gs)\n",
        "    sim_x = torch.unsqueeze(random_pose,0)\n",
        "    L = L_fn(sim_x)\n",
        "    print(density(sim_x))"
      ]
    },
    {
      "cell_type": "code",
      "execution_count": null,
      "metadata": {
        "id": "MafqvUlZPIcl"
      },
      "outputs": [],
      "source": [
        "### now finding the density\n",
        "def density(x,L):\n",
        "    divergence = torch.trace(torch.squeeze(torch.autograd.functional.jacobian(score_model, inputs=(x,L), create_graph=True,strict=True)[0]))\n",
        "    return 1/(4*torch.pi)**(18) - divergence"
      ]
    },
    {
      "cell_type": "code",
      "execution_count": null,
      "metadata": {
        "id": "DvCidsrcPIcl"
      },
      "outputs": [],
      "source": [
        "plt.plot(epoch_losses)"
      ]
    },
    {
      "cell_type": "code",
      "execution_count": null,
      "metadata": {
        "id": "_3Afx5b3PIcm"
      },
      "outputs": [],
      "source": [
        "## size of a mini-batch\n",
        "## learning rate\n",
        "lr=1e-3 #@param {'type':'number'}\n",
        "batch_size =  20 #@param {'type':'integer'}\n",
        "## learning rate\n",
        "dataloader = DataLoader(my_dataset,batch_size=batch_size, shuffle=True)\n",
        "n_epochs = 20\n",
        "tqdm_epoch = tqdm.notebook.trange(n_epochs)\n",
        "optimizer = Adam(score_model.parameters(), lr=lr)\n",
        "i = 0\n",
        "for epoch in tqdm_epoch:\n",
        "    t_dl =tqdm.tqdm(dataloader)\n",
        "    avg_loss = 0.\n",
        "    num_items = 0\n",
        "    for pw in t_dl:\n",
        "        x = pw[0].cpu()\n",
        "        i += 1\n",
        "        loss = loss2(score_model, x)\n",
        "        t_dl.set_description(f\"Loss = {loss.item()}\")\n",
        "        optimizer.zero_grad()\n",
        "        loss.backward()\n",
        "        optimizer.step()\n",
        "        avg_loss += loss.item() * x.shape[0]\n",
        "        num_items += x.shape[0]\n",
        "        epoch_losses.append(avg_loss / num_items)\n",
        "    tqdm_epoch.set_description('Average Loss: {:5f}'.format(avg_loss / num_items))\n",
        "    torch.save(score_model.state_dict(), 'ckpt_improved.pth')"
      ]
    },
    {
      "cell_type": "code",
      "execution_count": null,
      "metadata": {
        "id": "VQBqZcyZPIcp"
      },
      "outputs": [],
      "source": [
        "model = ScoreNet(58)"
      ]
    },
    {
      "cell_type": "code",
      "execution_count": null,
      "metadata": {
        "id": "s9oLp9hCPIcq"
      },
      "outputs": [],
      "source": [
        "x = torch.rand(57)\n",
        "x.requires_grad_()"
      ]
    },
    {
      "cell_type": "markdown",
      "metadata": {
        "id": "vZH-sstAK5u1"
      },
      "source": [
        "# generating a uniform position"
      ]
    },
    {
      "cell_type": "code",
      "execution_count": null,
      "metadata": {
        "id": "Z5ypts-X09kO"
      },
      "outputs": [],
      "source": [
        "data = np.load('train_dataset.npy')"
      ]
    },
    {
      "cell_type": "code",
      "source": [],
      "metadata": {
        "id": "IpQcuSDrbkqt"
      },
      "execution_count": null,
      "outputs": []
    },
    {
      "cell_type": "code",
      "execution_count": null,
      "metadata": {
        "id": "DSOfdkZLK5u1"
      },
      "outputs": [],
      "source": []
    },
    {
      "cell_type": "code",
      "execution_count": null,
      "metadata": {
        "id": "bkxjz44iK5u1"
      },
      "outputs": [],
      "source": []
    },
    {
      "cell_type": "code",
      "execution_count": null,
      "metadata": {
        "id": "PQYT-ygOK5u1"
      },
      "outputs": [],
      "source": []
    },
    {
      "cell_type": "code",
      "execution_count": null,
      "metadata": {
        "id": "7EFgN-p5K5u1"
      },
      "outputs": [],
      "source": []
    },
    {
      "cell_type": "markdown",
      "metadata": {
        "id": "NdAl5kBIK5u2"
      },
      "source": [
        "since the original SDE was just Brownian motion, the reverse is simply:"
      ]
    },
    {
      "cell_type": "code",
      "execution_count": null,
      "metadata": {
        "id": "_daYIeKCK5u2"
      },
      "outputs": [],
      "source": [
        "data = np.load('train_dataset.npy')\n",
        "x_init = torch.squeeze(torch.tensor(data[0]))"
      ]
    },
    {
      "cell_type": "code",
      "execution_count": null,
      "metadata": {
        "id": "WKgbjtEpK5u2"
      },
      "outputs": [],
      "source": [
        "ckpt = torch.load('ckpt.pth')\n",
        "score_model.load_state_dict(ckpt)"
      ]
    },
    {
      "cell_type": "code",
      "execution_count": null,
      "metadata": {
        "id": "5odP6xwKK5u3"
      },
      "outputs": [],
      "source": [
        "q_init = uniform_generator(torch.squeeze(x_init),bones)"
      ]
    },
    {
      "cell_type": "code",
      "execution_count": null,
      "metadata": {
        "id": "zk5d0S2nLW5z"
      },
      "outputs": [],
      "source": [
        "torch._dynamo.config.suppress_errors = True"
      ]
    },
    {
      "cell_type": "code",
      "execution_count": null,
      "metadata": {
        "id": "JgHHzju5K5u3"
      },
      "outputs": [],
      "source": [
        "@torch.compile(mode = \"max-autotune\")\n",
        "def run_simulation(q_init,steps):\n",
        "  h = 1/steps\n",
        "  positions = []\n",
        "  q = torch.flatten(torch.squeeze(q_init))\n",
        "  gs = [length_constraint(i,j,torch.squeeze(q)) for (i,j) in bones2]\n",
        "  gs.append(length_constraint_2(1,torch.squeeze(q)))\n",
        "  gs.append(length_constraint_2(11,torch.squeeze(q)))\n",
        "  gs.append(length_constraint_2(15,torch.squeeze(q)))\n",
        "  p = torch.zeros_like(q)\n",
        "  M = torch.eye(q.size()[0])\n",
        "  L_fn = cotangent_projection(gs)\n",
        "  @torch.compile()\n",
        "  def force(y):\n",
        "    with torch.no_grad():\n",
        "      x = torch.unsqueeze(y,0)\n",
        "      L = L_fn(x)\n",
        "      score = -score_model(x,time,L)\n",
        "    return torch.squeeze(score)\n",
        "  for step in range(1,steps):\n",
        "      print(step)\n",
        "      time = torch.tensor([1-(step)*h])\n",
        "      q1 = q\n",
        "      q, p = gBAOAB_step_exact(q,p,force, gs, h,M, 1,1,1,10**(-11))\n",
        "      print(f\"Movement of q: {torch.linalg.norm(q-q1)}\")\n",
        "      positions.append(q)\n",
        "  return positions"
      ]
    },
    {
      "cell_type": "code",
      "execution_count": null,
      "metadata": {
        "id": "Bu4AeokdsXex"
      },
      "outputs": [],
      "source": [
        "positions = run_simulation(q_init, 10000)"
      ]
    },
    {
      "cell_type": "code",
      "execution_count": null,
      "metadata": {
        "id": "v9XGjFrLKOTn"
      },
      "outputs": [],
      "source": [
        "pos = np.array([p.detach() for p in positions])\n",
        "np.save('reverse_pos_new.npy',pos)"
      ]
    }
  ],
  "metadata": {
    "accelerator": "GPU",
    "colab": {
      "gpuType": "T4",
      "machine_shape": "hm",
      "provenance": []
    },
    "kernelspec": {
      "display_name": "Python 3 (ipykernel)",
      "language": "python",
      "name": "python3"
    },
    "language_info": {
      "codemirror_mode": {
        "name": "ipython",
        "version": 3
      },
      "file_extension": ".py",
      "mimetype": "text/x-python",
      "name": "python",
      "nbconvert_exporter": "python",
      "pygments_lexer": "ipython3",
      "version": "3.9.12"
    },
    "widgets": {
      "application/vnd.jupyter.widget-state+json": {
        "e106119e9605411586490d873be29181": {
          "model_module": "@jupyter-widgets/controls",
          "model_name": "HBoxModel",
          "model_module_version": "1.5.0",
          "state": {
            "_dom_classes": [],
            "_model_module": "@jupyter-widgets/controls",
            "_model_module_version": "1.5.0",
            "_model_name": "HBoxModel",
            "_view_count": null,
            "_view_module": "@jupyter-widgets/controls",
            "_view_module_version": "1.5.0",
            "_view_name": "HBoxView",
            "box_style": "",
            "children": [
              "IPY_MODEL_6e6a3fbd53eb4fa5a47de3051ecaf961",
              "IPY_MODEL_d008126941ed4492bc103a2a53d3a732",
              "IPY_MODEL_11968df894ac4b8ebc68512f1ca72815"
            ],
            "layout": "IPY_MODEL_2cecc8362b3e46ffa009d1126437e26c"
          }
        },
        "6e6a3fbd53eb4fa5a47de3051ecaf961": {
          "model_module": "@jupyter-widgets/controls",
          "model_name": "HTMLModel",
          "model_module_version": "1.5.0",
          "state": {
            "_dom_classes": [],
            "_model_module": "@jupyter-widgets/controls",
            "_model_module_version": "1.5.0",
            "_model_name": "HTMLModel",
            "_view_count": null,
            "_view_module": "@jupyter-widgets/controls",
            "_view_module_version": "1.5.0",
            "_view_name": "HTMLView",
            "description": "",
            "description_tooltip": null,
            "layout": "IPY_MODEL_5d574a07980f4819a097c0bd89c9d552",
            "placeholder": "​",
            "style": "IPY_MODEL_f989653c688b4b6e9db605e3a8d20cb0",
            "value": "  0%"
          }
        },
        "d008126941ed4492bc103a2a53d3a732": {
          "model_module": "@jupyter-widgets/controls",
          "model_name": "FloatProgressModel",
          "model_module_version": "1.5.0",
          "state": {
            "_dom_classes": [],
            "_model_module": "@jupyter-widgets/controls",
            "_model_module_version": "1.5.0",
            "_model_name": "FloatProgressModel",
            "_view_count": null,
            "_view_module": "@jupyter-widgets/controls",
            "_view_module_version": "1.5.0",
            "_view_name": "ProgressView",
            "bar_style": "",
            "description": "",
            "description_tooltip": null,
            "layout": "IPY_MODEL_c2f14635548540bd9cd042753872d31e",
            "max": 20,
            "min": 0,
            "orientation": "horizontal",
            "style": "IPY_MODEL_5faede8b15614b6ea938a9daa911998a",
            "value": 0
          }
        },
        "11968df894ac4b8ebc68512f1ca72815": {
          "model_module": "@jupyter-widgets/controls",
          "model_name": "HTMLModel",
          "model_module_version": "1.5.0",
          "state": {
            "_dom_classes": [],
            "_model_module": "@jupyter-widgets/controls",
            "_model_module_version": "1.5.0",
            "_model_name": "HTMLModel",
            "_view_count": null,
            "_view_module": "@jupyter-widgets/controls",
            "_view_module_version": "1.5.0",
            "_view_name": "HTMLView",
            "description": "",
            "description_tooltip": null,
            "layout": "IPY_MODEL_aabde959b46d44acbe8cd44ab289c357",
            "placeholder": "​",
            "style": "IPY_MODEL_6e97c4992e6041e49d56e9616a4855d7",
            "value": " 0/20 [00:00&lt;?, ?it/s]"
          }
        },
        "2cecc8362b3e46ffa009d1126437e26c": {
          "model_module": "@jupyter-widgets/base",
          "model_name": "LayoutModel",
          "model_module_version": "1.2.0",
          "state": {
            "_model_module": "@jupyter-widgets/base",
            "_model_module_version": "1.2.0",
            "_model_name": "LayoutModel",
            "_view_count": null,
            "_view_module": "@jupyter-widgets/base",
            "_view_module_version": "1.2.0",
            "_view_name": "LayoutView",
            "align_content": null,
            "align_items": null,
            "align_self": null,
            "border": null,
            "bottom": null,
            "display": null,
            "flex": null,
            "flex_flow": null,
            "grid_area": null,
            "grid_auto_columns": null,
            "grid_auto_flow": null,
            "grid_auto_rows": null,
            "grid_column": null,
            "grid_gap": null,
            "grid_row": null,
            "grid_template_areas": null,
            "grid_template_columns": null,
            "grid_template_rows": null,
            "height": null,
            "justify_content": null,
            "justify_items": null,
            "left": null,
            "margin": null,
            "max_height": null,
            "max_width": null,
            "min_height": null,
            "min_width": null,
            "object_fit": null,
            "object_position": null,
            "order": null,
            "overflow": null,
            "overflow_x": null,
            "overflow_y": null,
            "padding": null,
            "right": null,
            "top": null,
            "visibility": null,
            "width": null
          }
        },
        "5d574a07980f4819a097c0bd89c9d552": {
          "model_module": "@jupyter-widgets/base",
          "model_name": "LayoutModel",
          "model_module_version": "1.2.0",
          "state": {
            "_model_module": "@jupyter-widgets/base",
            "_model_module_version": "1.2.0",
            "_model_name": "LayoutModel",
            "_view_count": null,
            "_view_module": "@jupyter-widgets/base",
            "_view_module_version": "1.2.0",
            "_view_name": "LayoutView",
            "align_content": null,
            "align_items": null,
            "align_self": null,
            "border": null,
            "bottom": null,
            "display": null,
            "flex": null,
            "flex_flow": null,
            "grid_area": null,
            "grid_auto_columns": null,
            "grid_auto_flow": null,
            "grid_auto_rows": null,
            "grid_column": null,
            "grid_gap": null,
            "grid_row": null,
            "grid_template_areas": null,
            "grid_template_columns": null,
            "grid_template_rows": null,
            "height": null,
            "justify_content": null,
            "justify_items": null,
            "left": null,
            "margin": null,
            "max_height": null,
            "max_width": null,
            "min_height": null,
            "min_width": null,
            "object_fit": null,
            "object_position": null,
            "order": null,
            "overflow": null,
            "overflow_x": null,
            "overflow_y": null,
            "padding": null,
            "right": null,
            "top": null,
            "visibility": null,
            "width": null
          }
        },
        "f989653c688b4b6e9db605e3a8d20cb0": {
          "model_module": "@jupyter-widgets/controls",
          "model_name": "DescriptionStyleModel",
          "model_module_version": "1.5.0",
          "state": {
            "_model_module": "@jupyter-widgets/controls",
            "_model_module_version": "1.5.0",
            "_model_name": "DescriptionStyleModel",
            "_view_count": null,
            "_view_module": "@jupyter-widgets/base",
            "_view_module_version": "1.2.0",
            "_view_name": "StyleView",
            "description_width": ""
          }
        },
        "c2f14635548540bd9cd042753872d31e": {
          "model_module": "@jupyter-widgets/base",
          "model_name": "LayoutModel",
          "model_module_version": "1.2.0",
          "state": {
            "_model_module": "@jupyter-widgets/base",
            "_model_module_version": "1.2.0",
            "_model_name": "LayoutModel",
            "_view_count": null,
            "_view_module": "@jupyter-widgets/base",
            "_view_module_version": "1.2.0",
            "_view_name": "LayoutView",
            "align_content": null,
            "align_items": null,
            "align_self": null,
            "border": null,
            "bottom": null,
            "display": null,
            "flex": null,
            "flex_flow": null,
            "grid_area": null,
            "grid_auto_columns": null,
            "grid_auto_flow": null,
            "grid_auto_rows": null,
            "grid_column": null,
            "grid_gap": null,
            "grid_row": null,
            "grid_template_areas": null,
            "grid_template_columns": null,
            "grid_template_rows": null,
            "height": null,
            "justify_content": null,
            "justify_items": null,
            "left": null,
            "margin": null,
            "max_height": null,
            "max_width": null,
            "min_height": null,
            "min_width": null,
            "object_fit": null,
            "object_position": null,
            "order": null,
            "overflow": null,
            "overflow_x": null,
            "overflow_y": null,
            "padding": null,
            "right": null,
            "top": null,
            "visibility": null,
            "width": null
          }
        },
        "5faede8b15614b6ea938a9daa911998a": {
          "model_module": "@jupyter-widgets/controls",
          "model_name": "ProgressStyleModel",
          "model_module_version": "1.5.0",
          "state": {
            "_model_module": "@jupyter-widgets/controls",
            "_model_module_version": "1.5.0",
            "_model_name": "ProgressStyleModel",
            "_view_count": null,
            "_view_module": "@jupyter-widgets/base",
            "_view_module_version": "1.2.0",
            "_view_name": "StyleView",
            "bar_color": null,
            "description_width": ""
          }
        },
        "aabde959b46d44acbe8cd44ab289c357": {
          "model_module": "@jupyter-widgets/base",
          "model_name": "LayoutModel",
          "model_module_version": "1.2.0",
          "state": {
            "_model_module": "@jupyter-widgets/base",
            "_model_module_version": "1.2.0",
            "_model_name": "LayoutModel",
            "_view_count": null,
            "_view_module": "@jupyter-widgets/base",
            "_view_module_version": "1.2.0",
            "_view_name": "LayoutView",
            "align_content": null,
            "align_items": null,
            "align_self": null,
            "border": null,
            "bottom": null,
            "display": null,
            "flex": null,
            "flex_flow": null,
            "grid_area": null,
            "grid_auto_columns": null,
            "grid_auto_flow": null,
            "grid_auto_rows": null,
            "grid_column": null,
            "grid_gap": null,
            "grid_row": null,
            "grid_template_areas": null,
            "grid_template_columns": null,
            "grid_template_rows": null,
            "height": null,
            "justify_content": null,
            "justify_items": null,
            "left": null,
            "margin": null,
            "max_height": null,
            "max_width": null,
            "min_height": null,
            "min_width": null,
            "object_fit": null,
            "object_position": null,
            "order": null,
            "overflow": null,
            "overflow_x": null,
            "overflow_y": null,
            "padding": null,
            "right": null,
            "top": null,
            "visibility": null,
            "width": null
          }
        },
        "6e97c4992e6041e49d56e9616a4855d7": {
          "model_module": "@jupyter-widgets/controls",
          "model_name": "DescriptionStyleModel",
          "model_module_version": "1.5.0",
          "state": {
            "_model_module": "@jupyter-widgets/controls",
            "_model_module_version": "1.5.0",
            "_model_name": "DescriptionStyleModel",
            "_view_count": null,
            "_view_module": "@jupyter-widgets/base",
            "_view_module_version": "1.2.0",
            "_view_name": "StyleView",
            "description_width": ""
          }
        }
      }
    }
  },
  "nbformat": 4,
  "nbformat_minor": 0
}