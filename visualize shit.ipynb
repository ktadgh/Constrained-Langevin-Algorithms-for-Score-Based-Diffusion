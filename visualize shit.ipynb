{
 "cells": [
  {
   "cell_type": "code",
   "execution_count": 3,
   "id": "initial_id",
   "metadata": {
    "collapsed": true,
    "ExecuteTime": {
     "end_time": "2023-08-22T09:44:18.010889300Z",
     "start_time": "2023-08-22T09:44:14.763115900Z"
    }
   },
   "outputs": [],
   "source": [
    "import torch"
   ]
  },
  {
   "cell_type": "code",
   "execution_count": 92,
   "outputs": [],
   "source": [
    "def squared_cubed(x,y):\n",
    "    return torch.stack([torch.linalg.norm(x),torch.linalg.norm(x), torch.linalg.norm(x)])"
   ],
   "metadata": {
    "collapsed": false,
    "ExecuteTime": {
     "end_time": "2023-08-22T11:35:32.174435200Z",
     "start_time": "2023-08-22T11:35:32.165300300Z"
    }
   },
   "id": "aca25fb2b51c4a0a"
  },
  {
   "cell_type": "code",
   "execution_count": 93,
   "outputs": [],
   "source": [
    "x = torch.tensor([0.,2.,1.,1.,1.])\n",
    "y = torch.tensor([0.,1.,1.,0.,0.])"
   ],
   "metadata": {
    "collapsed": false,
    "ExecuteTime": {
     "end_time": "2023-08-22T11:35:32.319126800Z",
     "start_time": "2023-08-22T11:35:32.309599400Z"
    }
   },
   "id": "b9560526c29cc5b9"
  },
  {
   "cell_type": "code",
   "execution_count": 94,
   "outputs": [
    {
     "ename": "RuntimeError",
     "evalue": "Boolean value of Tensor with more than one value is ambiguous",
     "output_type": "error",
     "traceback": [
      "\u001B[1;31m---------------------------------------------------------------------------\u001B[0m",
      "\u001B[1;31mRuntimeError\u001B[0m                              Traceback (most recent call last)",
      "Cell \u001B[1;32mIn[94], line 1\u001B[0m\n\u001B[1;32m----> 1\u001B[0m \u001B[43mtorch\u001B[49m\u001B[38;5;241;43m.\u001B[39;49m\u001B[43mautograd\u001B[49m\u001B[38;5;241;43m.\u001B[39;49m\u001B[43mfunctional\u001B[49m\u001B[38;5;241;43m.\u001B[39;49m\u001B[43mjacobian\u001B[49m\u001B[43m(\u001B[49m\u001B[43msquared_cubed\u001B[49m\u001B[43m,\u001B[49m\u001B[43mx\u001B[49m\u001B[43m,\u001B[49m\u001B[43my\u001B[49m\u001B[43m)\u001B[49m\u001B[38;5;241m.\u001B[39msize()\n",
      "File \u001B[1;32m~\\Documents\\GitHub\\Thesis\\venv\\Lib\\site-packages\\torch\\autograd\\functional.py:589\u001B[0m, in \u001B[0;36mjacobian\u001B[1;34m(func, inputs, create_graph, strict, vectorize, strategy)\u001B[0m\n\u001B[0;32m    587\u001B[0m \u001B[38;5;28;01mwith\u001B[39;00m torch\u001B[38;5;241m.\u001B[39menable_grad():\n\u001B[0;32m    588\u001B[0m     is_inputs_tuple, inputs \u001B[38;5;241m=\u001B[39m _as_tuple(inputs, \u001B[38;5;124m\"\u001B[39m\u001B[38;5;124minputs\u001B[39m\u001B[38;5;124m\"\u001B[39m, \u001B[38;5;124m\"\u001B[39m\u001B[38;5;124mjacobian\u001B[39m\u001B[38;5;124m\"\u001B[39m)\n\u001B[1;32m--> 589\u001B[0m     inputs \u001B[38;5;241m=\u001B[39m \u001B[43m_grad_preprocess\u001B[49m\u001B[43m(\u001B[49m\u001B[43minputs\u001B[49m\u001B[43m,\u001B[49m\u001B[43m \u001B[49m\u001B[43mcreate_graph\u001B[49m\u001B[38;5;241;43m=\u001B[39;49m\u001B[43mcreate_graph\u001B[49m\u001B[43m,\u001B[49m\u001B[43m \u001B[49m\u001B[43mneed_graph\u001B[49m\u001B[38;5;241;43m=\u001B[39;49m\u001B[38;5;28;43;01mTrue\u001B[39;49;00m\u001B[43m)\u001B[49m\n\u001B[0;32m    591\u001B[0m     outputs \u001B[38;5;241m=\u001B[39m func(\u001B[38;5;241m*\u001B[39minputs)\n\u001B[0;32m    592\u001B[0m     is_outputs_tuple, outputs \u001B[38;5;241m=\u001B[39m _as_tuple(outputs,\n\u001B[0;32m    593\u001B[0m                                           \u001B[38;5;124m\"\u001B[39m\u001B[38;5;124moutputs of the user-provided function\u001B[39m\u001B[38;5;124m\"\u001B[39m,\n\u001B[0;32m    594\u001B[0m                                           \u001B[38;5;124m\"\u001B[39m\u001B[38;5;124mjacobian\u001B[39m\u001B[38;5;124m\"\u001B[39m)\n",
      "File \u001B[1;32m~\\Documents\\GitHub\\Thesis\\venv\\Lib\\site-packages\\torch\\autograd\\functional.py:71\u001B[0m, in \u001B[0;36m_grad_preprocess\u001B[1;34m(inputs, create_graph, need_graph)\u001B[0m\n\u001B[0;32m     69\u001B[0m res \u001B[38;5;241m=\u001B[39m []\n\u001B[0;32m     70\u001B[0m \u001B[38;5;28;01mfor\u001B[39;00m inp \u001B[38;5;129;01min\u001B[39;00m inputs:\n\u001B[1;32m---> 71\u001B[0m     \u001B[38;5;28;01mif\u001B[39;00m create_graph \u001B[38;5;129;01mand\u001B[39;00m inp\u001B[38;5;241m.\u001B[39mrequires_grad:\n\u001B[0;32m     72\u001B[0m         \u001B[38;5;66;03m# Create at least a new Tensor object in a differentiable way\u001B[39;00m\n\u001B[0;32m     73\u001B[0m         \u001B[38;5;28;01mif\u001B[39;00m \u001B[38;5;129;01mnot\u001B[39;00m inp\u001B[38;5;241m.\u001B[39mis_sparse:\n\u001B[0;32m     74\u001B[0m             \u001B[38;5;66;03m# Use .view_as() to get a shallow copy\u001B[39;00m\n\u001B[0;32m     75\u001B[0m             res\u001B[38;5;241m.\u001B[39mappend(inp\u001B[38;5;241m.\u001B[39mview_as(inp))\n",
      "\u001B[1;31mRuntimeError\u001B[0m: Boolean value of Tensor with more than one value is ambiguous"
     ]
    }
   ],
   "source": [
    "torch.autograd.functional.jacobian(squared_cubed,x,y).size()"
   ],
   "metadata": {
    "collapsed": false,
    "ExecuteTime": {
     "end_time": "2023-08-22T11:35:32.460956100Z",
     "start_time": "2023-08-22T11:35:32.427853900Z"
    }
   },
   "id": "87b000b4b2035bd3"
  },
  {
   "cell_type": "code",
   "execution_count": 71,
   "outputs": [
    {
     "data": {
      "text/plain": "torch.Size([2, 5])"
     },
     "execution_count": 71,
     "metadata": {},
     "output_type": "execute_result"
    }
   ],
   "source": [
    "torch.stack([x,y]).size()"
   ],
   "metadata": {
    "collapsed": false,
    "ExecuteTime": {
     "end_time": "2023-08-22T09:58:38.747622500Z",
     "start_time": "2023-08-22T09:58:38.735313400Z"
    }
   },
   "id": "8f59ac204709598c"
  },
  {
   "cell_type": "code",
   "execution_count": 72,
   "outputs": [
    {
     "ename": "TypeError",
     "evalue": "jacobian() missing 1 required positional argument: 'inputs'",
     "output_type": "error",
     "traceback": [
      "\u001B[1;31m---------------------------------------------------------------------------\u001B[0m",
      "\u001B[1;31mTypeError\u001B[0m                                 Traceback (most recent call last)",
      "Cell \u001B[1;32mIn[72], line 1\u001B[0m\n\u001B[1;32m----> 1\u001B[0m \u001B[43mtorch\u001B[49m\u001B[38;5;241;43m.\u001B[39;49m\u001B[43mautograd\u001B[49m\u001B[38;5;241;43m.\u001B[39;49m\u001B[43mfunctional\u001B[49m\u001B[38;5;241;43m.\u001B[39;49m\u001B[43mjacobian\u001B[49m\u001B[43m(\u001B[49m\u001B[43msquared_cubed\u001B[49m\u001B[43m)\u001B[49m\u001B[38;5;241m.\u001B[39msize()\n",
      "\u001B[1;31mTypeError\u001B[0m: jacobian() missing 1 required positional argument: 'inputs'"
     ]
    }
   ],
   "source": [
    "torch.autograd.functional.jacobian(squared_cubed).size()"
   ],
   "metadata": {
    "collapsed": false,
    "ExecuteTime": {
     "end_time": "2023-08-22T09:58:38.873334Z",
     "start_time": "2023-08-22T09:58:38.854849600Z"
    }
   },
   "id": "8c724b42f19ddfce"
  },
  {
   "cell_type": "code",
   "execution_count": 83,
   "outputs": [],
   "source": [
    "# now, I need to get these jacobians.....\n",
    "t = torch.autograd.functional.jacobian(squared_cubed,torch.stack([x,y]))"
   ],
   "metadata": {
    "collapsed": false,
    "ExecuteTime": {
     "end_time": "2023-08-22T10:01:27.698117200Z",
     "start_time": "2023-08-22T10:01:27.682655900Z"
    }
   },
   "id": "621419763271d265"
  },
  {
   "cell_type": "code",
   "execution_count": 85,
   "outputs": [
    {
     "data": {
      "text/plain": "torch.Size([2, 3, 5])"
     },
     "execution_count": 85,
     "metadata": {},
     "output_type": "execute_result"
    }
   ],
   "source": [
    "t.permute(1, 0, 2).size()"
   ],
   "metadata": {
    "collapsed": false,
    "ExecuteTime": {
     "end_time": "2023-08-22T10:01:40.905549900Z",
     "start_time": "2023-08-22T10:01:40.889608Z"
    }
   },
   "id": "f5b5e32bbc511eda"
  },
  {
   "cell_type": "code",
   "execution_count": 87,
   "outputs": [
    {
     "name": "stdout",
     "output_type": "stream",
     "text": [
      "torch.Size([4, 4, 57])\n"
     ]
    }
   ],
   "source": [
    "import torch\n",
    "\n",
    "# Create the tensor with size [4, 100, 57]\n",
    "xs = torch.rand(4, 100, 57)\n",
    "\n",
    "# Create the index tensor with size [4]\n",
    "random_t = torch.tensor([1, 30, 50, 99])\n",
    "\n",
    "# Use advanced indexing to select specific indices along the first and second dimensions\n",
    "selected_xs = xs[:, random_t]\n",
    "\n",
    "print(selected_xs.shape)  "
   ],
   "metadata": {
    "collapsed": false,
    "ExecuteTime": {
     "end_time": "2023-08-22T10:36:52.184198600Z",
     "start_time": "2023-08-22T10:36:52.170661700Z"
    }
   },
   "id": "6b322ee0f52c450a"
  },
  {
   "cell_type": "code",
   "execution_count": 88,
   "outputs": [
    {
     "name": "stdout",
     "output_type": "stream",
     "text": [
      "Batched Matrices:\n",
      " tensor([[[ 0.3398, -0.2226],\n",
      "         [-1.0097,  0.5591]],\n",
      "\n",
      "        [[ 0.6603,  0.1744],\n",
      "         [ 0.4545,  2.6140]],\n",
      "\n",
      "        [[-0.0354,  0.8737],\n",
      "         [-0.4185,  0.3776]]])\n",
      "\n",
      "Non-Batched Matrix:\n",
      " tensor([[ 0.8088, -0.2855],\n",
      "        [-1.5518, -2.4587]])\n",
      "\n",
      "Result:\n",
      " tensor([[[ 0.6202,  0.4503],\n",
      "         [-1.6843, -1.0865]],\n",
      "\n",
      "        [[ 0.2634, -0.6173],\n",
      "         [-3.6887, -6.5567]],\n",
      "\n",
      "        [[-1.3845, -2.1382],\n",
      "         [-0.9244, -0.8090]]])\n"
     ]
    }
   ],
   "source": [
    "import torch\n",
    "\n",
    "# Create batched and non-batched matrices\n",
    "batch_size = 3\n",
    "matrix_dim = 2\n",
    "non_batched_matrix_dim = 2\n",
    "\n",
    "# Create batched matrices of shape (batch_size, matrix_dim, matrix_dim)\n",
    "batched_matrices = torch.randn(batch_size, matrix_dim, matrix_dim)\n",
    "\n",
    "# Create a non-batched matrix of shape (non_batched_matrix_dim, non_batched_matrix_dim)\n",
    "non_batched_matrix = torch.randn(non_batched_matrix_dim, non_batched_matrix_dim)\n",
    "\n",
    "# Perform batch matrix multiplication using @ operator\n",
    "result = batched_matrices @ non_batched_matrix\n",
    "\n",
    "# Print the result\n",
    "print(\"Batched Matrices:\\n\", batched_matrices)\n",
    "print(\"\\nNon-Batched Matrix:\\n\", non_batched_matrix)\n",
    "print(\"\\nResult:\\n\", result)"
   ],
   "metadata": {
    "collapsed": false,
    "ExecuteTime": {
     "end_time": "2023-08-22T11:26:41.131517500Z",
     "start_time": "2023-08-22T11:26:41.102239600Z"
    }
   },
   "id": "80bfcab374a489cb"
  },
  {
   "cell_type": "code",
   "execution_count": 95,
   "outputs": [
    {
     "name": "stdout",
     "output_type": "stream",
     "text": [
      "Traces:\n",
      " tensor([[-3.8454e+00,  2.5049e+00,  2.2276e-01,  2.7254e+00, -1.4840e+00,\n",
      "          5.7748e+00,  4.5237e-01,  3.3193e+00, -1.7595e+00, -3.0342e+00,\n",
      "          3.1699e+00, -1.4665e+00, -6.3825e-02, -3.5255e+00,  4.3652e-01,\n",
      "         -2.1836e+00, -5.0970e-01,  1.5395e+00, -2.9669e+00,  7.5835e-01,\n",
      "          4.1624e+00, -3.7093e-01,  4.0884e-02,  2.3067e+00, -7.5649e-01,\n",
      "          4.5448e-01, -1.3006e+00,  9.3706e-01,  1.1859e+00, -6.3099e-03,\n",
      "         -3.4478e+00, -3.1067e+00, -1.9657e+00, -1.0239e-01, -4.0830e+00,\n",
      "          2.3554e+00,  2.5788e-02,  1.1466e+00, -2.4826e+00,  1.5720e-02,\n",
      "          4.7114e+00,  1.5419e+00, -1.0243e+00,  7.5275e-02,  5.6651e-01,\n",
      "         -5.9050e-02,  2.4982e+00, -9.4654e-02,  2.7056e-02,  2.1597e+00,\n",
      "         -1.5545e+00,  1.0912e+00,  1.3592e+00, -9.7059e-01,  2.8548e-01,\n",
      "          1.9637e+00, -1.1709e+00],\n",
      "        [-7.8619e-01,  2.2362e+00,  7.2102e-02, -2.2471e+00,  6.0517e-01,\n",
      "         -2.5808e-01, -1.0299e+00, -1.2921e+00, -8.4105e-01, -1.1726e+00,\n",
      "         -6.1378e-01,  7.6218e-01, -3.7571e+00,  2.8417e+00, -1.0707e+00,\n",
      "          2.4097e+00, -2.9238e+00,  1.2265e+00,  2.1546e+00, -8.5022e-02,\n",
      "         -2.7187e+00, -1.5322e+00,  1.4092e+00,  2.1888e+00, -7.4602e-01,\n",
      "          3.6625e-02,  1.0434e-01, -1.3096e+00,  3.2530e+00,  1.5568e+00,\n",
      "          1.6877e+00,  1.5203e+00,  3.3731e+00,  2.4869e+00,  2.8202e+00,\n",
      "         -2.4324e+00, -1.5358e-01,  1.9484e+00, -1.5570e+00,  2.4390e+00,\n",
      "         -2.4845e+00,  1.7935e-01, -1.8986e+00, -7.5351e-01, -9.3162e-01,\n",
      "         -1.1783e+00,  1.8526e+00, -1.9624e+00,  3.3492e+00, -4.7839e-01,\n",
      "         -1.2461e+00,  4.3394e-01,  1.2065e+00, -9.2400e-01, -4.3463e-01,\n",
      "          1.4077e+00, -3.5939e+00],\n",
      "        [-2.2959e+00,  1.4079e+00,  1.0177e+00, -9.7575e-01, -9.4284e-03,\n",
      "          2.0389e+00,  3.4706e+00,  2.5281e+00, -9.1992e-01, -3.0637e+00,\n",
      "          6.9356e-01, -4.0065e-01,  5.4590e-01,  2.2976e-01, -6.2412e-01,\n",
      "          6.6376e-02, -2.5948e-01,  8.2565e-02,  2.1920e+00, -2.3198e+00,\n",
      "          7.1473e-01, -1.3971e-01, -4.7025e-01,  3.9431e-01, -4.0302e+00,\n",
      "         -7.5710e-01,  6.8389e-01,  3.3462e+00,  2.1089e+00,  4.0198e+00,\n",
      "         -1.4826e+00,  2.6359e-01, -1.9532e+00, -2.8899e+00,  2.0564e+00,\n",
      "         -1.0008e+00, -1.4420e+00,  7.5855e+00, -1.4344e+00, -1.0161e-02,\n",
      "          4.5985e-01,  1.3802e+00,  4.8389e-01, -6.4841e-01,  9.1668e-01,\n",
      "         -3.2291e+00,  1.4672e+00,  1.1145e+00,  4.1226e+00, -3.1964e+00,\n",
      "          5.0726e-01, -1.4378e-02, -1.5660e+00, -1.5100e+00, -2.4438e+00,\n",
      "          3.2993e+00,  1.8869e+00],\n",
      "        [-2.8134e+00,  1.7201e+00,  2.1541e+00, -3.2276e-01, -4.5539e-01,\n",
      "          2.5399e+00,  5.1823e+00, -9.9259e-01, -3.1180e-01,  2.3602e+00,\n",
      "         -1.1394e+00,  1.6101e+00,  9.4229e-01, -1.3629e-01, -3.1087e+00,\n",
      "         -1.3658e+00,  5.1284e-01, -1.3066e+00, -2.2985e-01, -7.0993e-01,\n",
      "          7.6814e-01, -7.7940e-02, -5.8209e-01, -3.1603e+00, -1.1447e+00,\n",
      "          1.9226e+00,  3.4086e+00,  4.1575e+00, -1.0575e+00,  5.1100e-02,\n",
      "         -1.1983e+00,  1.1183e+00,  5.4950e-01,  3.3791e+00,  3.0963e-01,\n",
      "          6.6415e-01,  2.7100e+00,  8.3690e-02, -2.2753e+00, -7.8008e-01,\n",
      "          2.8752e+00, -8.5787e-01, -4.2675e-01, -2.4924e-01, -1.7382e+00,\n",
      "         -4.7867e-01,  1.1184e+00,  2.9322e+00,  7.5631e-01, -1.3391e+00,\n",
      "         -3.2540e-01,  2.6286e+00, -7.9791e-01,  5.9021e-01,  7.2088e-01,\n",
      "          1.7176e+00,  2.8039e-01]])\n"
     ]
    }
   ],
   "source": [
    "import torch\n",
    "\n",
    "# Create a batched matrix of shape [4, 57, 4, 57]\n",
    "batched_matrix = torch.randn(4, 57, 4, 57)\n",
    "\n",
    "# Get the diagonal elements of the 57x57 matrices\n",
    "diagonal_elements = batched_matrix[:, :, :, :].diagonal(dim1=-2, dim2=-1)\n",
    "\n",
    "# Calculate the trace by summing the diagonal elements\n",
    "traces = diagonal_elements.sum(-1)\n",
    "\n",
    "# Print the traces\n",
    "print(\"Traces:\\n\", traces)\n"
   ],
   "metadata": {
    "collapsed": false,
    "ExecuteTime": {
     "end_time": "2023-08-22T11:49:37.413850300Z",
     "start_time": "2023-08-22T11:49:37.384917300Z"
    }
   },
   "id": "ae31beee491e3671"
  },
  {
   "cell_type": "code",
   "execution_count": null,
   "outputs": [],
   "source": [],
   "metadata": {
    "collapsed": false
   },
   "id": "3d651954d5941f5a"
  }
 ],
 "metadata": {
  "kernelspec": {
   "display_name": "Python 3",
   "language": "python",
   "name": "python3"
  },
  "language_info": {
   "codemirror_mode": {
    "name": "ipython",
    "version": 2
   },
   "file_extension": ".py",
   "mimetype": "text/x-python",
   "name": "python",
   "nbconvert_exporter": "python",
   "pygments_lexer": "ipython2",
   "version": "2.7.6"
  }
 },
 "nbformat": 4,
 "nbformat_minor": 5
}
