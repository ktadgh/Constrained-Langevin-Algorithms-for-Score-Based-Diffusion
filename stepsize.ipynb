{
 "cells": [
  {
   "cell_type": "code",
   "execution_count": 1,
   "metadata": {
    "collapsed": true
   },
   "outputs": [],
   "source": [
    "import numpy as np"
   ]
  },
  {
   "cell_type": "code",
   "execution_count": 2,
   "outputs": [],
   "source": [
    "pos = np.load('pos_t3.npy', allow_pickle=True)"
   ],
   "metadata": {
    "collapsed": false
   }
  },
  {
   "cell_type": "code",
   "execution_count": 4,
   "outputs": [
    {
     "data": {
      "text/plain": "(50, 6, 1000)"
     },
     "execution_count": 4,
     "metadata": {},
     "output_type": "execute_result"
    }
   ],
   "source": [
    "np.shape(pos)"
   ],
   "metadata": {
    "collapsed": false
   }
  },
  {
   "cell_type": "code",
   "execution_count": 3,
   "outputs": [
    {
     "name": "stdout",
     "output_type": "stream",
     "text": [
      "(6, 1000)\n",
      "(6, 1000)\n",
      "(6, 1000)\n",
      "(6, 1000)\n",
      "(6, 1000)\n",
      "(6, 1000)\n",
      "(6, 1000)\n",
      "(6, 1000)\n",
      "(6, 1000)\n",
      "(6, 1000)\n",
      "(6, 1000)\n",
      "(6, 1000)\n",
      "(6, 1000)\n",
      "(6, 1000)\n",
      "(6, 1000)\n",
      "(6, 1000)\n",
      "(6, 1000)\n",
      "(6, 1000)\n",
      "(6, 1000)\n",
      "(6, 1000)\n",
      "(6, 1000)\n",
      "(6, 1000)\n",
      "(6, 1000)\n",
      "(6, 1000)\n",
      "(6, 1000)\n",
      "(6, 1000)\n",
      "(6, 1000)\n",
      "(6, 1000)\n",
      "(6, 1000)\n",
      "(6, 1000)\n",
      "(6, 1000)\n",
      "(6, 1000)\n",
      "(6, 1000)\n",
      "(6, 1000)\n",
      "(6, 1000)\n",
      "(6, 1000)\n",
      "(6, 1000)\n",
      "(6, 1000)\n",
      "(6, 1000)\n",
      "(6, 1000)\n",
      "(6, 1000)\n",
      "(6, 1000)\n",
      "(6, 1000)\n",
      "(6, 1000)\n",
      "(6, 1000)\n",
      "(6, 1000)\n",
      "(6, 1000)\n",
      "(6, 1000)\n",
      "(6, 1000)\n",
      "(6, 1000)\n"
     ]
    }
   ],
   "source": [
    "for po in pos:\n",
    "    print(np.shape(po))"
   ],
   "metadata": {
    "collapsed": false
   }
  },
  {
   "cell_type": "code",
   "execution_count": 8,
   "outputs": [
    {
     "data": {
      "text/plain": "array([-6.        , -5.89795918, -5.79591837, -5.69387755, -5.59183673,\n       -5.48979592, -5.3877551 , -5.28571429, -5.18367347, -5.08163265,\n       -4.97959184, -4.87755102, -4.7755102 , -4.67346939, -4.57142857,\n       -4.46938776, -4.36734694, -4.26530612, -4.16326531, -4.06122449,\n       -3.95918367, -3.85714286, -3.75510204, -3.65306122, -3.55102041,\n       -3.44897959, -3.34693878, -3.24489796, -3.14285714, -3.04081633,\n       -2.93877551, -2.83673469, -2.73469388, -2.63265306, -2.53061224,\n       -2.42857143, -2.32653061, -2.2244898 , -2.12244898, -2.02040816,\n       -1.91836735, -1.81632653, -1.71428571, -1.6122449 , -1.51020408,\n       -1.40816327, -1.30612245, -1.20408163, -1.10204082, -1.        ])"
     },
     "execution_count": 8,
     "metadata": {},
     "output_type": "execute_result"
    }
   ],
   "source": [
    "np.linspace(-6,-1)"
   ],
   "metadata": {
    "collapsed": false
   }
  },
  {
   "cell_type": "code",
   "execution_count": 9,
   "outputs": [],
   "source": [
    "hs = np.linspace(-6,-1,5)"
   ],
   "metadata": {
    "collapsed": false
   }
  },
  {
   "cell_type": "code",
   "execution_count": 10,
   "outputs": [
    {
     "data": {
      "text/plain": "array([-6.  , -4.75, -3.5 , -2.25, -1.  ])"
     },
     "execution_count": 10,
     "metadata": {},
     "output_type": "execute_result"
    }
   ],
   "source": [
    "hs"
   ],
   "metadata": {
    "collapsed": false
   }
  },
  {
   "cell_type": "code",
   "execution_count": 34,
   "outputs": [],
   "source": [
    "hs = np.logspace(-4,-1,4)"
   ],
   "metadata": {
    "collapsed": false
   }
  },
  {
   "cell_type": "code",
   "execution_count": 35,
   "outputs": [
    {
     "data": {
      "text/plain": "100000.0"
     },
     "execution_count": 35,
     "metadata": {},
     "output_type": "execute_result"
    }
   ],
   "source": [
    "(10/hs)[0]"
   ],
   "metadata": {
    "collapsed": false
   }
  },
  {
   "cell_type": "code",
   "execution_count": null,
   "outputs": [],
   "source": [],
   "metadata": {
    "collapsed": false
   }
  }
 ],
 "metadata": {
  "kernelspec": {
   "display_name": "Python 3",
   "language": "python",
   "name": "python3"
  },
  "language_info": {
   "codemirror_mode": {
    "name": "ipython",
    "version": 2
   },
   "file_extension": ".py",
   "mimetype": "text/x-python",
   "name": "python",
   "nbconvert_exporter": "python",
   "pygments_lexer": "ipython2",
   "version": "2.7.6"
  }
 },
 "nbformat": 4,
 "nbformat_minor": 0
}
