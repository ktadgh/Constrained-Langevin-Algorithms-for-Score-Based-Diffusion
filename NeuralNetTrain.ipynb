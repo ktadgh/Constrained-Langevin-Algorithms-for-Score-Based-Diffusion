{
  "cells": [
    {
      "cell_type": "code",
      "execution_count": 63,
      "metadata": {
        "collapsed": true,
        "id": "oZSWiyu3K5ur"
      },
      "outputs": [],
      "source": [
        "import torch\n",
        "import torch.nn as nn\n",
        "import numpy as np\n",
        "from torch.autograd.functional import jacobian\n",
        "import tqdm\n",
        "from tqdm import notebook\n",
        "import random\n",
        "import torch.multiprocessing\n",
        "torch.multiprocessing.set_sharing_strategy('file_system')"
      ]
    },
    {
      "cell_type": "code",
      "execution_count": 33,
      "metadata": {
        "id": "cSO96Yf_TIi7"
      },
      "outputs": [],
      "source": [
        "torch.set_default_dtype(torch.float64)\n",
        "torch.set_default_device('cpu')"
      ]
    },
    {
      "cell_type": "code",
      "source": [
        "@torch.compile(mode = \"max-autotune\")\n",
        "def G(gs):\n",
        "    '''\n",
        "    :param gs: a list of tensor functions\n",
        "    :return: a function sending a tensor to the stacked matrix of the functions of that tensor\n",
        "    '''\n",
        "    def G_gs(tensor):\n",
        "        x = torch.squeeze(tensor)\n",
        "        # print(\"Function input: \",tensor) # checking the input for debugging\n",
        "        # print(\"Function output:\" , torch.stack([g(tensor) for g in gs],0))\n",
        "        return torch.stack([g(x) for g in gs], 0)\n",
        "\n",
        "    return G_gs\n",
        "\n",
        "@torch.compile(mode = \"max-autotune\")\n",
        "def J(gs, x):\n",
        "    '''Returns the Jacobian evaluated at x for a list gs of constraint functions'''\n",
        "    return jacobian(G(gs), torch.squeeze(x))"
      ],
      "metadata": {
        "id": "G17JCObAI2cc"
      },
      "execution_count": 34,
      "outputs": []
    },
    {
      "cell_type": "code",
      "execution_count": 35,
      "metadata": {
        "id": "zu973udfK5us"
      },
      "outputs": [],
      "source": [
        "@torch.compile(mode = \"max-autotune\")\n",
        "def rattle_step(x, v1, h, M, gs, e):\n",
        "    '''\n",
        "    Defining a function to take a step in the position, velocity form.\n",
        "    g should be a vector-valued function of constraints.\n",
        "    :return: x_1, v_1\n",
        "    '''\n",
        "\n",
        "    M1 =  torch.inverse(M)\n",
        "\n",
        "    G1 = G(gs)\n",
        "\n",
        "\n",
        "    DV = torch.zeros_like(x)\n",
        "\n",
        "    #DV[-1] = 10  # leaving this out for g-BAOAB\n",
        "    DV_col = DV.reshape(-1, 1)\n",
        "\n",
        "    x_col = x.reshape(-1, 1)\n",
        "    v1_col = v1.reshape(-1, 1)\n",
        "\n",
        "    # doing Newton-Raphson iterations\n",
        "    iters = 0\n",
        "    x2 = x_col + h * v1_col - 0.5*(h**2)* M1 @ DV_col\n",
        "    Q_col = x2\n",
        "    Q = torch.squeeze(Q_col)\n",
        "    J1 = J(gs, torch.squeeze(x_col))\n",
        "\n",
        "    #print(\"RATTLE\")\n",
        "    #while torch.any(torch.abs(G1(Q)) > e):\n",
        "    for iters in range(3):\n",
        "        J2 = J(gs, torch.squeeze(Q))\n",
        "        R = J2 @ M1 @ J1.t()\n",
        "        dL = torch.inverse(R) @ G1(Q)\n",
        "        #print(f\"Q = {Q}\")\n",
        "        Q=Q- M1 @ J1.t() @ dL\n",
        "    #print(\"CONVERGED\")\n",
        "    #print(f\"Updating v1_col, Jacobian {J(gs,torch.squeeze(x_col))}\")\n",
        "    #print(f\"Updating v1_col, Jacobian^T {J(gs,torch.squeeze(x_col)).t()}\")\n",
        "\n",
        "    # half step for velocity\n",
        "    Q_col = Q.reshape(-1,1)\n",
        "    v1_half = (Q_col - x_col)/h\n",
        "    x_col = Q_col\n",
        "    J1 = J(gs, torch.squeeze(x_col))\n",
        "\n",
        "    # getting the level\n",
        "    J2 = J(gs, torch.squeeze(Q))\n",
        "    P = J1 @ M1 @ J1.t()\n",
        "    T = J1 @ (2/h * v1_half - M1 @ DV_col)\n",
        "\n",
        "    #solving the linear system\n",
        "    L = torch.linalg.solve(P,T)\n",
        "\n",
        "    v1_col = v1_half - h/2 * DV_col - h/2 * J2.t()@L\n",
        "\n",
        "\n",
        "    # print(f\"Error = {G1(x_col + h*( v1_col + h/2 * torch.inverse(M) @ J1.reshape(-1,1) @ lam))}\")\n",
        "    # # updating v\n",
        "    # print(f\"lam = {lam}\")\n",
        "    # print(f\"Updating v1_col, Jacobian^T {J(gs,torch.squeeze(x_col)).t}\")\n",
        "\n",
        "    return torch.squeeze(x_col), torch.squeeze(v1_col)"
      ]
    },
    {
      "cell_type": "code",
      "execution_count": 36,
      "metadata": {
        "id": "OrV0vBEKK5uu"
      },
      "outputs": [],
      "source": [
        "@torch.compile(mode = \"max-autotune\")\n",
        "def gBAOAB_step_exact(q_init,p_init,F, gs, h,M, gamma, k, kr,e):\n",
        "    # setting up variables\n",
        "    M1 = torch.inverse(M)\n",
        "    R = torch.randn(len(q_init))\n",
        "    p = p_init\n",
        "    q = q_init\n",
        "    a2 = torch.exp(torch.tensor(-gamma*h))\n",
        "    b2 = torch.sqrt(k*(1-a2**(2)))\n",
        "\n",
        "    # doing the initial p-update\n",
        "    J1 = J(gs,torch.squeeze(q))\n",
        "    G = J1\n",
        "    L1 = torch.eye(len(q_init)) - torch.transpose(G,0,1) @ torch.inverse(G@ M1@ torch.transpose(G,0,1)) @ G @ M1\n",
        "    p =p-  h/2 * L1 @ F(q)\n",
        "\n",
        "\n",
        "    # doing the first RATTLE step\n",
        "    for i in range(kr):\n",
        "      q, p = rattle_step(q, p, h/2*kr, M, gs, e)\n",
        "\n",
        "\n",
        "    # the second p-update - (O-step in BAOAB)\n",
        "    J2 = J(gs,torch.squeeze(q))\n",
        "    G = J2\n",
        "    L2 = torch.eye(len(q_init)) - torch.transpose(G,0,1) @ torch.inverse(G@ M1@ torch.transpose(G,0,1)) @ G @ M1\n",
        "    p = a2* p + b2* M**(1/2) @L2 @ M**(1/2) @ R\n",
        "\n",
        "    # doing the second RATTLE step\n",
        "    for i in range(kr):\n",
        "      q, p = rattle_step(q, p, h/2*kr, M, gs, e)\n",
        "\n",
        "\n",
        "    # the final p update\n",
        "    J3= J(gs,torch.squeeze(q))\n",
        "    G = J3\n",
        "    L3 = torch.eye(len(q_init)) - torch.transpose(G,0,1) @ torch.inverse(G@ M1@ torch.transpose(G,0,1)) @ G @ M1\n",
        "    p = p-  h/2 * L3 @ F(q)\n",
        "\n",
        "    return q,p"
      ]
    },
    {
      "cell_type": "code",
      "execution_count": 37,
      "metadata": {
        "id": "ejXAhKitK5uu"
      },
      "outputs": [],
      "source": [
        "@torch.compile(backend=\"eager\")\n",
        "def gBAOAB_integrator(q_init,p_init,F, gs, h,M, gamma, k, steps,kr,e):\n",
        "    positions = []\n",
        "    velocities = []\n",
        "    q = q_init\n",
        "    p = p_init\n",
        "    for i in range(steps):\n",
        "        q, p = gBAOAB_step_exact(q,p, F,gs, h,M, gamma, k,kr,e)\n",
        "        positions.append(q)\n",
        "        velocities.append(p)\n",
        "\n",
        "    return positions, velocities"
      ]
    },
    {
      "cell_type": "code",
      "source": [
        "@torch.compile(backend=\"eager\")\n",
        "def multi_gBAOAB_integrator(q_inits,p_inits,F, gs, h,M, gamma, k,ts,kr,e):\n",
        "    positions = []\n",
        "    velocities = []\n",
        "    for ind in len(q_inits):\n",
        "      q = q_inits[i]\n",
        "      p = p_inits[i]\n",
        "      steps = int(ts[i]//h)\n",
        "      for i in range(steps):\n",
        "        q, p = gBAOAB_step_exact(q,p, F,gs, h,M, gamma, k,kr,e)\n",
        "      positions.append(q)\n",
        "      velocities.append(p)\n",
        "\n",
        "    return torch.stack(positions), torch.stack(velocities)"
      ],
      "metadata": {
        "id": "CPmAzQrSvFz8"
      },
      "execution_count": 38,
      "outputs": []
    },
    {
      "cell_type": "code",
      "execution_count": 39,
      "metadata": {
        "id": "JjX3bNv8K5uv"
      },
      "outputs": [],
      "source": [
        "bones2 = [\n",
        "    (1, 2),\n",
        "    (1, 3),\n",
        "    (3, 4),\n",
        "    (4, 5),\n",
        "    (5, 6),\n",
        "    (1, 7),\n",
        "    (7, 8),\n",
        "    (8, 9),\n",
        "    (9, 10),\n",
        "    (11, 12),\n",
        "    (12, 13),\n",
        "    (13, 14),\n",
        "    (15, 16),\n",
        "    (16, 17),\n",
        "    (17, 18),\n",
        "]"
      ]
    },
    {
      "cell_type": "code",
      "execution_count": 40,
      "metadata": {
        "id": "mvWy09J5K5uv"
      },
      "outputs": [],
      "source": [
        "@torch.compile(mode = \"max-autotune\")\n",
        "def length_constraint(i,j, xinit):\n",
        "    init = torch.squeeze(xinit)\n",
        "    def constraint_fn(y):\n",
        "        x = torch.squeeze(y) # will need to change for batched data\n",
        "        return (x[3*i]- x[3*j])**2 +(x[3*i+1]- x[3*j+1])**2 + (x[3*i+2]- x[3*j+2])**2 - ((init[3*i]- init[3*j])**2 +(init[3*i+1]- init[3*j+1])**2 + (init[3*i+2]- init[3*j+2])**2)\n",
        "    return constraint_fn"
      ]
    },
    {
      "cell_type": "code",
      "execution_count": 41,
      "metadata": {
        "id": "i2jd3RM7K5uw"
      },
      "outputs": [],
      "source": [
        "@torch.compile(mode = \"max-autotune\")\n",
        "def length_constraint_2(i, xinit):\n",
        "    init = torch.squeeze(xinit)\n",
        "    def constraint_fn(y):\n",
        "        x = torch.squeeze(y)\n",
        "        return (x[3*i]- 0)**2 +(x[3*i+1]- 0)**2 + (x[3*i+2]- 2)**2 - ((init[3*i]- 0)**2 +(init[3*i+1]- 0)**2 + (init[3*i+2]- 2)**2)\n",
        "    return constraint_fn"
      ]
    },
    {
      "cell_type": "code",
      "execution_count": 41,
      "metadata": {
        "id": "g4IhkjeNK5uw"
      },
      "outputs": [],
      "source": []
    },
    {
      "cell_type": "code",
      "execution_count": 42,
      "metadata": {
        "id": "ruhPhnwGK5uw"
      },
      "outputs": [],
      "source": [
        "@torch.compile(mode = \"max-autotune\")\n",
        "def cotangent_projection(gs):\n",
        "    def proj(x):\n",
        "        G = J(gs,x)\n",
        "        M = torch.eye(G.size()[1])\n",
        "        L= torch.eye(G.size()[1]) - G.T @ torch.inverse(G @ M @ G.T) @ G @ torch.inverse(M)\n",
        "        return L\n",
        "    return proj"
      ]
    },
    {
      "cell_type": "code",
      "execution_count": 43,
      "metadata": {
        "id": "N7426NaTK5uw"
      },
      "outputs": [],
      "source": [
        "class GaussianFourierProjection(nn.Module):\n",
        "  \"\"\"Gaussian random features for encoding time steps.\"\"\"\n",
        "  def __init__(self, embed_dim, scale=30.):\n",
        "    super().__init__()\n",
        "    # Randomly sample weights during initialization. These weights are fixed\n",
        "    # during optimization and are not trainable.\n",
        "    self.W = nn.Parameter(torch.randn(embed_dim // 2) * scale, requires_grad=False)\n",
        "\n",
        "  def forward(self, x):\n",
        "    x_proj = x[:, None] * self.W[None, :] * 2 * torch.pi\n",
        "    return torch.cat([torch.sin(x_proj), torch.cos(x_proj)], dim=-1)"
      ]
    },
    {
      "cell_type": "code",
      "execution_count": 44,
      "metadata": {
        "id": "mLWsDDQKK5ux"
      },
      "outputs": [],
      "source": [
        "class ScoreNet(nn.Module):\n",
        "  \"\"\"A time-dependent score-based model.\"\"\"\n",
        "\n",
        "\n",
        "  def __init__(self, embed_dim):\n",
        "    super().__init__()\n",
        "    self.embed = nn.Sequential(GaussianFourierProjection(embed_dim=embed_dim),nn.Linear(embed_dim, embed_dim))\n",
        "    self.lin_embed = nn.Linear(embed_dim,57)\n",
        "    self.lin1 = nn.Linear(57,57)\n",
        "    self.lin2 = nn.Linear(57, 57)\n",
        "    self.lin3 = nn.Linear(57, 57)\n",
        "    self.lin4 = nn.Linear(57, 57)\n",
        "    self.lin5 = nn.Linear(57,57)\n",
        "    self.act = lambda x : torch.sigmoid(x)\n",
        "    nn.init.normal_(self.lin_embed.weight, mean=0, std=0.2)\n",
        "    nn.init.normal_(self.lin_embed.bias, mean=0, std=0.1)\n",
        "    nn.init.normal_(self.lin1.weight, mean=0, std=0.2)\n",
        "    nn.init.normal_(self.lin1.bias, mean=0, std=0.1)\n",
        "    nn.init.normal_(self.lin2.weight, mean=0, std=0.2)\n",
        "    nn.init.normal_(self.lin2.bias, mean=0, std=0.1)\n",
        "    nn.init.normal_(self.lin3.weight, mean=0, std=0.2)\n",
        "    nn.init.normal_(self.lin3.bias, mean=0, std=0.1)\n",
        "    nn.init.normal_(self.lin4.weight, mean=0, std=0.2)\n",
        "    nn.init.normal_(self.lin4.bias, mean=0, std=0.1)\n",
        "    nn.init.normal_(self.lin5.weight, mean=0, std=0.2)\n",
        "    nn.init.normal_(self.lin5.bias, mean=0, std=0.1)\n",
        "  def forward(self,x,t,L):\n",
        "      # setting the fixed points of x\n",
        "      l = torch.zeros_like(x)\n",
        "      l[:,0] = x[:,0]\n",
        "      l[:,1] = x[:,1]\n",
        "      l[:,2] = -torch.ones_like(x[:,2])*2 + x[:,2]\n",
        "\n",
        "      x = x - l\n",
        "      embed = self.act(self.embed(t))\n",
        "      h = self.lin1(x)\n",
        "      h = h+ self.lin_embed(embed)\n",
        "      h = self.act(self.lin2(h))\n",
        "      h = self.act(self.lin3(h))+ self.lin_embed(embed)\n",
        "      h = self.act(self.lin4(h))\n",
        "      h = self.act(self.lin5(h))\n",
        "\n",
        "      # projection\n",
        "      p = torch.unsqueeze(L@ torch.squeeze(h),0)\n",
        "      h = p\n",
        "      # NOT normalizing the output\n",
        "      #h = h/ t[:,None]\n",
        "\n",
        "      # setting the force on the fixed point to zero\n",
        "      l2 = torch.zeros_like(h)\n",
        "      l2[:,0] = h[:,0]\n",
        "      l2[:,1] = h[:,1]\n",
        "      l2[:,2] = -torch.ones_like(h[:,2])*2 + h[:,2]\n",
        "      h = h - l2\n",
        "      return torch.squeeze(h)"
      ]
    },
    {
      "cell_type": "code",
      "execution_count": 44,
      "metadata": {
        "id": "snCO3hEnK5ux"
      },
      "outputs": [],
      "source": []
    },
    {
      "cell_type": "code",
      "source": [],
      "metadata": {
        "id": "mNTYzw2iNDEw"
      },
      "execution_count": 44,
      "outputs": []
    },
    {
      "cell_type": "code",
      "execution_count": 45,
      "metadata": {
        "id": "1CIK3L70K5uy"
      },
      "outputs": [],
      "source": [
        "score_model = torch.nn.DataParallel(ScoreNet(58))"
      ]
    },
    {
      "cell_type": "code",
      "source": [
        "from torch.utils.data import TensorDataset, DataLoader\n",
        "\n",
        "\n"
      ],
      "metadata": {
        "id": "_I0GqoXetDqj"
      },
      "execution_count": 46,
      "outputs": []
    },
    {
      "cell_type": "code",
      "execution_count": 47,
      "metadata": {
        "id": "mHo3neRFK5uz"
      },
      "outputs": [],
      "source": [
        "from torch.optim import Adam"
      ]
    },
    {
      "cell_type": "code",
      "source": [
        "import warnings\n",
        "warnings.filterwarnings(\"ignore\")\n"
      ],
      "metadata": {
        "id": "BX7VFB89wKnk"
      },
      "execution_count": 48,
      "outputs": []
    },
    {
      "cell_type": "code",
      "source": [
        "#torch._dynamo.config.verbose=True"
      ],
      "metadata": {
        "id": "5aU4ZD1lwJrh"
      },
      "execution_count": 49,
      "outputs": []
    },
    {
      "cell_type": "code",
      "source": [
        "torch._dynamo.config.suppress_errors = True"
      ],
      "metadata": {
        "id": "1Cq2rt1g8wzV"
      },
      "execution_count": 50,
      "outputs": []
    },
    {
      "cell_type": "markdown",
      "metadata": {
        "collapsed": false,
        "id": "0vIhK72vK5uz"
      },
      "source": [
        "# Sampling from the reverse SDE"
      ]
    },
    {
      "cell_type": "code",
      "source": [
        "data1 = np.load('0-100.npy',allow_pickle=True)\n",
        "data2 = np.load('100-200.npy',allow_pickle=True)\n",
        "data3 = np.load('200-250.npy',allow_pickle=True)\n",
        "data4 = np.load('250-400.npy',allow_pickle=True)\n",
        "data5 = np.load('400-500.npy',allow_pickle=True)\n",
        "data6 = np.load('500-600.npy',allow_pickle=True)\n",
        "data7= np.load('600-650.npy',allow_pickle=True)\n",
        "data8= np.load('650-700.npy',allow_pickle=True)\n",
        "data9= np.load('700-750.npy',allow_pickle=True)\n",
        "data10= np.load('750-800.npy',allow_pickle=True)\n",
        "\n",
        "data11= np.load('2000-2500.npy',allow_pickle=True)\n",
        "data12= np.load('2500-3000.npy',allow_pickle=True)\n",
        "data13= np.load('3000-3500.npy',allow_pickle=True)\n",
        "data14= np.load('3500-4000.npy',allow_pickle=True)\n",
        "data15= np.load('4000-4500.npy',allow_pickle=True)"
      ],
      "metadata": {
        "id": "Q8LU9naasdgx"
      },
      "execution_count": 51,
      "outputs": []
    },
    {
      "cell_type": "code",
      "source": [
        "numpy1 = np.array([np.array([data.numpy() for data in data_1]) for data_1 in data1])\n",
        "numpy2 = np.array([np.array([data.numpy() for data in data_1]) for data_1 in data2])\n",
        "numpy3 = np.array([np.array([data.numpy() for data in data_1]) for data_1 in data3])\n",
        "numpy4 = np.array([np.array([data.numpy() for data in data_1]) for data_1 in data4])\n",
        "numpy5 = np.array([np.array([data.numpy() for data in data_1]) for data_1 in data5])\n",
        "numpy6 = np.array([np.array([data.numpy() for data in data_1]) for data_1 in data6])\n",
        "numpy7 = np.array([np.array([data.numpy() for data in data_1]) for data_1 in data7])\n",
        "numpy8 = np.array([np.array([data.numpy() for data in data_1]) for data_1 in data8])\n",
        "numpy9 = np.array([np.array([data.numpy() for data in data_1]) for data_1 in data9])\n",
        "numpy10 = np.array([np.array([data.numpy() for data in data_1]) for data_1 in data10])\n",
        "numpy11 = np.array([np.array([data.numpy() for data in data_1]) for data_1 in data11])\n",
        "numpy12 = np.array([np.array([data.numpy() for data in data_1]) for data_1 in data12])\n",
        "numpy13 = np.array([np.array([data.numpy() for data in data_1]) for data_1 in data13])\n",
        "numpy14 = np.array([np.array([data.numpy() for data in data_1]) for data_1 in data14])\n",
        "numpy15 = np.array([np.array([data.numpy() for data in data_1]) for data_1 in data15])"
      ],
      "metadata": {
        "id": "2ZF6pm47tLZv"
      },
      "execution_count": 52,
      "outputs": []
    },
    {
      "cell_type": "code",
      "source": [
        "data_numpy = np.concatenate([numpy1,numpy2,numpy3,numpy4,numpy5,numpy6,numpy7,numpy8,numpy9,numpy10,numpy11,numpy12,numpy13,numpy14,numpy15])"
      ],
      "metadata": {
        "id": "v2YCwp_AuyO6"
      },
      "execution_count": 53,
      "outputs": []
    },
    {
      "cell_type": "code",
      "source": [
        "data_numpy = np.load('data_np.npy')"
      ],
      "metadata": {
        "id": "kNDmdDTyJtZX",
        "colab": {
          "base_uri": "https://localhost:8080/",
          "height": 315
        },
        "outputId": "aa77dd13-0b34-419b-e7ac-08fc5a7971be"
      },
      "execution_count": 54,
      "outputs": [
        {
          "output_type": "error",
          "ename": "FileNotFoundError",
          "evalue": "ignored",
          "traceback": [
            "\u001b[0;31m---------------------------------------------------------------------------\u001b[0m",
            "\u001b[0;31mFileNotFoundError\u001b[0m                         Traceback (most recent call last)",
            "\u001b[0;32m<ipython-input-54-60180e209ed9>\u001b[0m in \u001b[0;36m<cell line: 1>\u001b[0;34m()\u001b[0m\n\u001b[0;32m----> 1\u001b[0;31m \u001b[0mdata_numpy\u001b[0m \u001b[0;34m=\u001b[0m \u001b[0mnp\u001b[0m\u001b[0;34m.\u001b[0m\u001b[0mload\u001b[0m\u001b[0;34m(\u001b[0m\u001b[0;34m'data_np.npy'\u001b[0m\u001b[0;34m)\u001b[0m\u001b[0;34m\u001b[0m\u001b[0;34m\u001b[0m\u001b[0m\n\u001b[0m",
            "\u001b[0;32m/usr/local/lib/python3.10/dist-packages/numpy/lib/npyio.py\u001b[0m in \u001b[0;36mload\u001b[0;34m(file, mmap_mode, allow_pickle, fix_imports, encoding, max_header_size)\u001b[0m\n\u001b[1;32m    403\u001b[0m             \u001b[0mown_fid\u001b[0m \u001b[0;34m=\u001b[0m \u001b[0;32mFalse\u001b[0m\u001b[0;34m\u001b[0m\u001b[0;34m\u001b[0m\u001b[0m\n\u001b[1;32m    404\u001b[0m         \u001b[0;32melse\u001b[0m\u001b[0;34m:\u001b[0m\u001b[0;34m\u001b[0m\u001b[0;34m\u001b[0m\u001b[0m\n\u001b[0;32m--> 405\u001b[0;31m             \u001b[0mfid\u001b[0m \u001b[0;34m=\u001b[0m \u001b[0mstack\u001b[0m\u001b[0;34m.\u001b[0m\u001b[0menter_context\u001b[0m\u001b[0;34m(\u001b[0m\u001b[0mopen\u001b[0m\u001b[0;34m(\u001b[0m\u001b[0mos_fspath\u001b[0m\u001b[0;34m(\u001b[0m\u001b[0mfile\u001b[0m\u001b[0;34m)\u001b[0m\u001b[0;34m,\u001b[0m \u001b[0;34m\"rb\"\u001b[0m\u001b[0;34m)\u001b[0m\u001b[0;34m)\u001b[0m\u001b[0;34m\u001b[0m\u001b[0;34m\u001b[0m\u001b[0m\n\u001b[0m\u001b[1;32m    406\u001b[0m             \u001b[0mown_fid\u001b[0m \u001b[0;34m=\u001b[0m \u001b[0;32mTrue\u001b[0m\u001b[0;34m\u001b[0m\u001b[0;34m\u001b[0m\u001b[0m\n\u001b[1;32m    407\u001b[0m \u001b[0;34m\u001b[0m\u001b[0m\n",
            "\u001b[0;31mFileNotFoundError\u001b[0m: [Errno 2] No such file or directory: 'data_np.npy'"
          ]
        }
      ]
    },
    {
      "cell_type": "markdown",
      "source": [],
      "metadata": {
        "id": "wkqFii2bu8SD"
      }
    },
    {
      "cell_type": "code",
      "source": [
        "data_tensor = torch.tensor(data_numpy, device = 'cpu')"
      ],
      "metadata": {
        "id": "1sP9YB0Ju7Zx"
      },
      "execution_count": 55,
      "outputs": []
    },
    {
      "cell_type": "code",
      "source": [
        "my_dataset = TensorDataset(data_tensor)"
      ],
      "metadata": {
        "id": "1c9YxOkotANO"
      },
      "execution_count": 56,
      "outputs": []
    },
    {
      "cell_type": "code",
      "source": [
        "#@title Define the loss function (double click to expand or collapse)\n",
        "def loss2(model, xs,eps=1e-5):\n",
        "  \"\"\"The loss function for training score-based generative models.\n",
        "\n",
        "  Args:\n",
        "    model: A PyTorch model instance that represents a\n",
        "      time-dependent score-based model.\n",
        "    x: A mini-batch of training data.\n",
        "    marginal_prob_std: A function that gives the standard deviation of\n",
        "      the perturbation kernel.\n",
        "    eps: A tolerance value for numerical stability.\n",
        "  \"\"\"\n",
        "  # uniformly selecting a time\n",
        "  loss =torch.tensor([0.])\n",
        "  loss.requires_grad = True\n",
        "  tr =0\n",
        "  s_tr = 0\n",
        "  for x in xs:\n",
        "    # x is the list of simulated qs\n",
        "    q = torch.squeeze(x[0])\n",
        "    q.requires_grad=True\n",
        "    gs = [length_constraint(i,j,torch.squeeze(q)) for (i,j) in bones2]\n",
        "    gs.append(length_constraint_2(1,torch.squeeze(q)))\n",
        "    gs.append(length_constraint_2(11,torch.squeeze(q)))\n",
        "    gs.append(length_constraint_2(15,torch.squeeze(q)))\n",
        "\n",
        "    # projection matrix\n",
        "    L_fn = cotangent_projection(gs)\n",
        "    random_t = torch.round(torch.rand(1, device=x.device)*(len(x))-1)\n",
        "\n",
        "    q = x[random_t.numpy()]\n",
        "\n",
        "    sim_x = q\n",
        "    L = L_fn(sim_x) # defining the projection matrix\n",
        "    score = model(sim_x, random_t/100,L).cpu()\n",
        "    tr = tr + torch.abs( torch.trace(torch.squeeze(torch.autograd.functional.jacobian(model, inputs=(sim_x,random_t/100,L))[0])) )\n",
        "    s_tr = s_tr + torch.trace(torch.squeeze(torch.autograd.functional.jacobian(model, inputs=(sim_x,random_t/100,L))[0]))\n",
        "    loss = loss + 1/2 * torch.linalg.norm(score)**2 + torch.trace(torch.squeeze(torch.autograd.functional.jacobian(model, inputs=(sim_x,random_t,L))[0]))\n",
        "  #if tr < 0.1:\n",
        "    #print(f\"sum absolute trace = {tr}, sum trace = {s_tr}\")\n",
        "  return loss/len(xs)"
      ],
      "metadata": {
        "id": "sdcVB8BBNm2k"
      },
      "execution_count": 67,
      "outputs": []
    },
    {
      "cell_type": "code",
      "source": [
        "## size of a mini-batch\n",
        "## learning rate\n",
        "lr=1e-5 #@param {'type':'number'}\n",
        "batch_size =  20 #@param {'type':'integer'}\n",
        "## learning rate\n",
        "dataloader = DataLoader(my_dataset,batch_size=batch_size, shuffle=True)\n",
        "n_epochs = 10\n",
        "tqdm_epoch = tqdm.notebook.trange(n_epochs)\n",
        "optimizer = Adam(score_model.parameters(), lr=lr)\n",
        "i = 0\n",
        "t_dl =tqdm.tqdm(dataloader)\n",
        "for epoch in tqdm_epoch:\n",
        "    avg_loss = 0.\n",
        "    num_items = 0\n",
        "    for pw in t_dl:\n",
        "        x = pw[0].cpu()\n",
        "        i += 1\n",
        "        loss = loss2(score_model, x)\n",
        "        t_dl.set_description(f\"Loss = {loss.item()}\")\n",
        "        optimizer.zero_grad()\n",
        "        loss.backward()\n",
        "        optimizer.step()\n",
        "        avg_loss += loss.item() * x.shape[0]\n",
        "        num_items += x.shape[0]\n",
        "    tqdm_epoch.set_description('Average Loss: {:5f}'.format(avg_loss / num_items))\n",
        "    torch.save(score_model.state_dict(), 'ckpt.pth')"
      ],
      "metadata": {
        "id": "l5PjYO1DiCkN",
        "colab": {
          "base_uri": "https://localhost:8080/",
          "height": 1000,
          "referenced_widgets": [
            "2db38815745c4ef7a0f2e9ecff49e4d9",
            "dc07c6bed52d4953a29c7fa2bc4d3afb",
            "b701e636ae964b93846351da862e9a6e",
            "4f04cf628d904d629aecce36c6b570da",
            "2b161c7ea98d4648b9ad84e6f4a97fa5",
            "5aa5feed4a9649b8979721a0dbd62c89",
            "b6ade77cf83247f7aa6fd8814387745c",
            "f64c94f7377e4b6ab597ddc18f26e2ff",
            "43d8c64d6d05432bb457d8703ef02dc7",
            "bc501923dab941729e208365adc862d7",
            "bd6ac960e16641baba0208ef32647b86"
          ]
        },
        "outputId": "e00a751e-4e03-4c93-bcb9-f29797bed48b"
      },
      "execution_count": null,
      "outputs": [
        {
          "output_type": "display_data",
          "data": {
            "text/plain": [
              "  0%|          | 0/10 [00:00<?, ?it/s]"
            ],
            "application/vnd.jupyter.widget-view+json": {
              "version_major": 2,
              "version_minor": 0,
              "model_id": "2db38815745c4ef7a0f2e9ecff49e4d9"
            }
          },
          "metadata": {}
        },
        {
          "output_type": "stream",
          "name": "stderr",
          "text": [
            "\n",
            "  0%|          | 0/165 [00:00<?, ?it/s]\u001b[A\n",
            "Loss = 9.866993643650039:   0%|          | 0/165 [00:06<?, ?it/s]\u001b[A\n",
            "Loss = 9.866993643650039:   1%|          | 1/165 [00:06<18:38,  6.82s/it]\u001b[A\n",
            "Loss = 9.713104688673724:   1%|          | 1/165 [00:14<18:38,  6.82s/it]\u001b[A\n",
            "Loss = 9.713104688673724:   1%|          | 2/165 [00:14<19:10,  7.06s/it]\u001b[A\n",
            "Loss = 9.728289081852376:   1%|          | 2/165 [00:20<19:10,  7.06s/it]\u001b[A\n",
            "Loss = 9.728289081852376:   2%|▏         | 3/165 [00:20<18:41,  6.92s/it]\u001b[A\n",
            "Loss = 9.665602480400436:   2%|▏         | 3/165 [00:27<18:41,  6.92s/it]\u001b[A\n",
            "Loss = 9.665602480400436:   2%|▏         | 4/165 [00:27<18:30,  6.90s/it]\u001b[A\n",
            "Loss = 9.595610061827012:   2%|▏         | 4/165 [00:34<18:30,  6.90s/it]\u001b[A\n",
            "Loss = 9.595610061827012:   3%|▎         | 5/165 [00:34<18:19,  6.87s/it]\u001b[A\n",
            "Loss = 10.02114215088976:   3%|▎         | 5/165 [00:41<18:19,  6.87s/it]\u001b[A\n",
            "Loss = 10.02114215088976:   4%|▎         | 6/165 [00:41<18:07,  6.84s/it]\u001b[A\n",
            "Loss = 9.650292095794338:   4%|▎         | 6/165 [00:48<18:07,  6.84s/it]\u001b[A\n",
            "Loss = 9.650292095794338:   4%|▍         | 7/165 [00:48<18:04,  6.86s/it]\u001b[A\n",
            "Loss = 9.815424994485584:   4%|▍         | 7/165 [00:54<18:04,  6.86s/it]\u001b[A\n",
            "Loss = 9.815424994485584:   5%|▍         | 8/165 [00:54<17:53,  6.84s/it]\u001b[A\n",
            "Loss = 9.88934465114659:   5%|▍         | 8/165 [01:01<17:53,  6.84s/it] \u001b[A\n",
            "Loss = 9.88934465114659:   5%|▌         | 9/165 [01:01<17:51,  6.87s/it]\u001b[A\n",
            "Loss = 9.85746120395498:   5%|▌         | 9/165 [01:08<17:51,  6.87s/it]\u001b[A\n",
            "Loss = 9.85746120395498:   6%|▌         | 10/165 [01:09<17:55,  6.94s/it]\u001b[A\n",
            "Loss = 9.68407028162549:   6%|▌         | 10/165 [01:16<17:55,  6.94s/it]\u001b[A\n",
            "Loss = 9.68407028162549:   7%|▋         | 11/165 [01:16<18:07,  7.06s/it]\u001b[A\n",
            "Loss = 9.838708503571327:   7%|▋         | 11/165 [01:23<18:07,  7.06s/it]\u001b[A\n",
            "Loss = 9.838708503571327:   7%|▋         | 12/165 [01:23<17:54,  7.02s/it]\u001b[A\n",
            "Loss = 9.821774974519375:   7%|▋         | 12/165 [01:30<17:54,  7.02s/it]\u001b[A\n",
            "Loss = 9.821774974519375:   8%|▊         | 13/165 [01:30<17:39,  6.97s/it]\u001b[A\n",
            "Loss = 9.677197665169347:   8%|▊         | 13/165 [01:36<17:39,  6.97s/it]\u001b[A\n",
            "Loss = 9.677197665169347:   8%|▊         | 14/165 [01:36<17:22,  6.91s/it]\u001b[A\n",
            "Loss = 9.650675738432998:   8%|▊         | 14/165 [01:43<17:22,  6.91s/it]\u001b[A\n",
            "Loss = 9.650675738432998:   9%|▉         | 15/165 [01:43<17:24,  6.96s/it]\u001b[A\n",
            "Loss = 9.747439897785828:   9%|▉         | 15/165 [01:50<17:24,  6.96s/it]\u001b[A\n",
            "Loss = 9.747439897785828:  10%|▉         | 16/165 [01:50<17:06,  6.89s/it]\u001b[A\n",
            "Loss = 9.739636210890911:  10%|▉         | 16/165 [01:57<17:06,  6.89s/it]\u001b[A\n",
            "Loss = 9.739636210890911:  10%|█         | 17/165 [01:57<17:05,  6.93s/it]\u001b[A\n",
            "Loss = 9.740553868526352:  10%|█         | 17/165 [02:04<17:05,  6.93s/it]\u001b[A\n",
            "Loss = 9.740553868526352:  11%|█         | 18/165 [02:04<16:54,  6.90s/it]\u001b[A\n",
            "Loss = 9.789656249485354:  11%|█         | 18/165 [02:11<16:54,  6.90s/it]\u001b[A\n",
            "Loss = 9.789656249485354:  12%|█▏        | 19/165 [02:11<16:49,  6.92s/it]\u001b[A\n",
            "Loss = 9.78125449097554:  12%|█▏        | 19/165 [02:18<16:49,  6.92s/it] \u001b[A\n",
            "Loss = 9.78125449097554:  12%|█▏        | 20/165 [02:18<16:43,  6.92s/it]\u001b[A\n",
            "Loss = 9.833344294440902:  12%|█▏        | 20/165 [02:25<16:43,  6.92s/it]\u001b[A\n",
            "Loss = 9.833344294440902:  13%|█▎        | 21/165 [02:25<16:33,  6.90s/it]\u001b[A\n",
            "Loss = 9.599425019043004:  13%|█▎        | 21/165 [02:32<16:33,  6.90s/it]\u001b[A\n",
            "Loss = 9.599425019043004:  13%|█▎        | 22/165 [02:32<16:29,  6.92s/it]\u001b[A\n",
            "Loss = 9.72899158047277:  13%|█▎        | 22/165 [02:38<16:29,  6.92s/it] \u001b[A\n",
            "Loss = 9.72899158047277:  14%|█▍        | 23/165 [02:38<16:13,  6.85s/it]\u001b[A\n",
            "Loss = 9.736771234072465:  14%|█▍        | 23/165 [02:45<16:13,  6.85s/it]\u001b[A\n",
            "Loss = 9.736771234072465:  15%|█▍        | 24/165 [02:45<16:14,  6.91s/it]\u001b[A\n",
            "Loss = 9.747857035043817:  15%|█▍        | 24/165 [02:52<16:14,  6.91s/it]\u001b[A\n",
            "Loss = 9.747857035043817:  15%|█▌        | 25/165 [02:52<16:09,  6.93s/it]\u001b[A\n",
            "Loss = 9.744588654216866:  15%|█▌        | 25/165 [02:59<16:09,  6.93s/it]\u001b[A\n",
            "Loss = 9.744588654216866:  16%|█▌        | 26/165 [02:59<15:58,  6.90s/it]\u001b[A\n",
            "Loss = 9.697477877377365:  16%|█▌        | 26/165 [03:06<15:58,  6.90s/it]\u001b[A\n",
            "Loss = 9.697477877377365:  16%|█▋        | 27/165 [03:06<15:51,  6.90s/it]\u001b[A\n",
            "Loss = 9.849578716376474:  16%|█▋        | 27/165 [03:13<15:51,  6.90s/it]\u001b[A\n",
            "Loss = 9.849578716376474:  17%|█▋        | 28/165 [03:13<15:48,  6.92s/it]\u001b[A\n",
            "Loss = 9.481027592348843:  17%|█▋        | 28/165 [03:20<15:48,  6.92s/it]\u001b[A\n",
            "Loss = 9.481027592348843:  18%|█▊        | 29/165 [03:20<15:44,  6.94s/it]\u001b[A\n",
            "Loss = 9.838953541779084:  18%|█▊        | 29/165 [03:27<15:44,  6.94s/it]\u001b[A\n",
            "Loss = 9.838953541779084:  18%|█▊        | 30/165 [03:27<15:38,  6.96s/it]\u001b[A\n",
            "Loss = 9.759284957821581:  18%|█▊        | 30/165 [03:34<15:38,  6.96s/it]\u001b[A\n",
            "Loss = 9.759284957821581:  19%|█▉        | 31/165 [03:34<15:32,  6.96s/it]\u001b[A\n",
            "Loss = 9.696326396202204:  19%|█▉        | 31/165 [03:41<15:32,  6.96s/it]\u001b[A\n",
            "Loss = 9.696326396202204:  19%|█▉        | 32/165 [03:41<15:23,  6.94s/it]\u001b[A\n",
            "Loss = 9.443837909270169:  19%|█▉        | 32/165 [03:48<15:23,  6.94s/it]\u001b[A\n",
            "Loss = 9.443837909270169:  20%|██        | 33/165 [03:48<15:13,  6.92s/it]\u001b[A\n",
            "Loss = 9.74934204176001:  20%|██        | 33/165 [03:55<15:13,  6.92s/it] \u001b[A\n",
            "Loss = 9.74934204176001:  21%|██        | 34/165 [03:55<15:00,  6.87s/it]\u001b[A\n",
            "Loss = 9.518316720316973:  21%|██        | 34/165 [04:02<15:00,  6.87s/it]\u001b[A\n",
            "Loss = 9.518316720316973:  21%|██        | 35/165 [04:02<14:57,  6.91s/it]\u001b[A\n",
            "Loss = 9.881124400663943:  21%|██        | 35/165 [04:08<14:57,  6.91s/it]\u001b[A\n",
            "Loss = 9.881124400663943:  22%|██▏       | 36/165 [04:08<14:41,  6.83s/it]\u001b[A\n",
            "Loss = 9.614328245295745:  22%|██▏       | 36/165 [04:15<14:41,  6.83s/it]\u001b[A\n",
            "Loss = 9.614328245295745:  22%|██▏       | 37/165 [04:15<14:38,  6.86s/it]\u001b[A\n",
            "Loss = 9.63574072441022:  22%|██▏       | 37/165 [04:22<14:38,  6.86s/it] \u001b[A\n",
            "Loss = 9.63574072441022:  23%|██▎       | 38/165 [04:22<14:28,  6.84s/it]\u001b[A\n",
            "Loss = 9.67771519979306:  23%|██▎       | 38/165 [04:29<14:28,  6.84s/it]\u001b[A\n",
            "Loss = 9.67771519979306:  24%|██▎       | 39/165 [04:29<14:21,  6.84s/it]\u001b[A\n",
            "Loss = 9.6316123880257:  24%|██▎       | 39/165 [04:36<14:21,  6.84s/it] \u001b[A\n",
            "Loss = 9.6316123880257:  24%|██▍       | 40/165 [04:36<14:13,  6.83s/it]\u001b[A\n",
            "Loss = 9.744989812080435:  24%|██▍       | 40/165 [04:42<14:13,  6.83s/it]\u001b[A\n",
            "Loss = 9.744989812080435:  25%|██▍       | 41/165 [04:42<14:02,  6.80s/it]\u001b[A\n",
            "Loss = 9.697742432623297:  25%|██▍       | 41/165 [04:49<14:02,  6.80s/it]\u001b[A\n",
            "Loss = 9.697742432623297:  25%|██▌       | 42/165 [04:49<13:59,  6.83s/it]\u001b[A\n",
            "Loss = 9.54219870585872:  25%|██▌       | 42/165 [04:56<13:59,  6.83s/it] \u001b[A\n",
            "Loss = 9.54219870585872:  26%|██▌       | 43/165 [04:56<13:47,  6.78s/it]\u001b[A\n",
            "Loss = 9.811431412196459:  26%|██▌       | 43/165 [05:03<13:47,  6.78s/it]\u001b[A\n",
            "Loss = 9.811431412196459:  27%|██▋       | 44/165 [05:03<13:45,  6.82s/it]\u001b[A\n",
            "Loss = 9.713698111288558:  27%|██▋       | 44/165 [05:10<13:45,  6.82s/it]\u001b[A\n",
            "Loss = 9.713698111288558:  27%|██▋       | 45/165 [05:10<13:42,  6.86s/it]\u001b[A\n",
            "Loss = 9.717600974937803:  27%|██▋       | 45/165 [05:17<13:42,  6.86s/it]\u001b[A\n",
            "Loss = 9.717600974937803:  28%|██▊       | 46/165 [05:17<13:32,  6.83s/it]\u001b[A\n",
            "Loss = 9.586524313164688:  28%|██▊       | 46/165 [05:23<13:32,  6.83s/it]\u001b[A\n",
            "Loss = 9.586524313164688:  28%|██▊       | 47/165 [05:23<13:26,  6.84s/it]\u001b[A\n",
            "Loss = 9.624068261156049:  28%|██▊       | 47/165 [05:30<13:26,  6.84s/it]\u001b[A\n",
            "Loss = 9.624068261156049:  29%|██▉       | 48/165 [05:30<13:15,  6.80s/it]\u001b[A\n",
            "Loss = 9.712811356406709:  29%|██▉       | 48/165 [05:37<13:15,  6.80s/it]\u001b[A\n",
            "Loss = 9.712811356406709:  30%|██▉       | 49/165 [05:37<13:13,  6.84s/it]\u001b[A\n",
            "Loss = 9.701736548129787:  30%|██▉       | 49/165 [05:44<13:13,  6.84s/it]\u001b[A\n",
            "Loss = 9.701736548129787:  30%|███       | 50/165 [05:44<13:04,  6.82s/it]\u001b[A\n",
            "Loss = 9.662986424675175:  30%|███       | 50/165 [05:51<13:04,  6.82s/it]\u001b[A\n",
            "Loss = 9.662986424675175:  31%|███       | 51/165 [05:51<12:57,  6.82s/it]\u001b[A\n",
            "Loss = 9.69242859504002:  31%|███       | 51/165 [05:58<12:57,  6.82s/it] \u001b[A\n",
            "Loss = 9.69242859504002:  32%|███▏      | 52/165 [05:58<12:55,  6.86s/it]\u001b[A"
          ]
        }
      ]
    },
    {
      "cell_type": "markdown",
      "metadata": {
        "collapsed": false,
        "id": "vZH-sstAK5u1"
      },
      "source": [
        "# generating a uniform position"
      ]
    },
    {
      "cell_type": "code",
      "source": [
        "data = np.load('train_dataset.npy')"
      ],
      "metadata": {
        "id": "Z5ypts-X09kO"
      },
      "execution_count": null,
      "outputs": []
    },
    {
      "cell_type": "code",
      "execution_count": null,
      "metadata": {
        "id": "DSOfdkZLK5u1"
      },
      "outputs": [],
      "source": [
        "bones = [\n",
        "    (0, 1),\n",
        "    (1, 2),\n",
        "    (1, 3),\n",
        "    (3, 4),\n",
        "    (4, 5),\n",
        "    (5, 6),\n",
        "    (1, 7),\n",
        "    (7, 8),\n",
        "    (8, 9),\n",
        "    (9, 10),\n",
        "    (0, 11),\n",
        "    (11, 12),\n",
        "    (12, 13),\n",
        "    (13, 14),\n",
        "    (0, 15),\n",
        "    (15, 16),\n",
        "    (16, 17),\n",
        "    (17, 18),\n",
        "]"
      ]
    },
    {
      "cell_type": "code",
      "execution_count": null,
      "metadata": {
        "id": "bkxjz44iK5u1"
      },
      "outputs": [],
      "source": [
        "def angles_to_joints(angles, lengths,bones):\n",
        "    pose = torch.zeros((19,3))\n",
        "    pose[0] = torch.tensor([0,0,2])\n",
        "    for i in range(len(bones)):\n",
        "        bone = bones[i]\n",
        "        r = lengths[i]\n",
        "        phi = torch.tensor(angles[i][0])\n",
        "        theta = torch.tensor(angles[i][1])\n",
        "        pose[bone[1]] = pose[bone[0]] + torch.tensor([r*torch.sin(theta)*torch.cos(phi),r*torch.sin(theta)*torch.sin(phi),r*torch.cos(theta)])\n",
        "    return pose"
      ]
    },
    {
      "cell_type": "code",
      "execution_count": null,
      "metadata": {
        "id": "PQYT-ygOK5u1"
      },
      "outputs": [],
      "source": [
        "def lengths(bones,poses):\n",
        "    lengths = []\n",
        "    poses = torch.squeeze(poses).reshape((19,3))\n",
        "    for bone in bones:\n",
        "        l = poses[bone[0]] -poses[bone[1]]\n",
        "        l = torch.sqrt(torch.dot(l,l))\n",
        "        lengths.append(l)\n",
        "    return lengths"
      ]
    },
    {
      "cell_type": "code",
      "execution_count": null,
      "metadata": {
        "id": "7EFgN-p5K5u1"
      },
      "outputs": [],
      "source": [
        "def uniform_generator(x_init,bones):\n",
        "    random_angles = torch.vstack([torch.rand(18)*torch.pi*2,torch.acos(2*torch.rand(18) -1)]).T\n",
        "    lengths1 = lengths(bones, x_init)\n",
        "    return angles_to_joints(random_angles,lengths1,bones)"
      ]
    },
    {
      "cell_type": "markdown",
      "metadata": {
        "collapsed": false,
        "id": "NdAl5kBIK5u2"
      },
      "source": [
        "since the original SDE was just Brownian motion, the reverse is simply:"
      ]
    },
    {
      "cell_type": "code",
      "execution_count": null,
      "metadata": {
        "id": "_daYIeKCK5u2"
      },
      "outputs": [],
      "source": [
        "data = np.load('train_dataset.npy')\n",
        "x_init = torch.squeeze(torch.tensor(data[0]))"
      ]
    },
    {
      "cell_type": "code",
      "execution_count": null,
      "metadata": {
        "id": "WKgbjtEpK5u2"
      },
      "outputs": [],
      "source": [
        "ckpt = torch.load('ckpt.pth')\n",
        "score_model.load_state_dict(ckpt)"
      ]
    },
    {
      "cell_type": "code",
      "execution_count": null,
      "metadata": {
        "id": "5odP6xwKK5u3"
      },
      "outputs": [],
      "source": [
        "q_init = uniform_generator(torch.squeeze(x_init),bones)"
      ]
    },
    {
      "cell_type": "code",
      "source": [
        "torch._dynamo.config.suppress_errors = True"
      ],
      "metadata": {
        "id": "zk5d0S2nLW5z"
      },
      "execution_count": null,
      "outputs": []
    },
    {
      "cell_type": "code",
      "execution_count": null,
      "metadata": {
        "id": "JgHHzju5K5u3"
      },
      "outputs": [],
      "source": [
        "@torch.compile(mode = \"max-autotune\")\n",
        "def run_simulation(q_init,steps):\n",
        "  h = 1/steps\n",
        "  positions = []\n",
        "  q = torch.flatten(torch.squeeze(q_init))\n",
        "  gs = [length_constraint(i,j,torch.squeeze(q)) for (i,j) in bones2]\n",
        "  gs.append(length_constraint_2(1,torch.squeeze(q)))\n",
        "  gs.append(length_constraint_2(11,torch.squeeze(q)))\n",
        "  gs.append(length_constraint_2(15,torch.squeeze(q)))\n",
        "  p = torch.zeros_like(q)\n",
        "  M = torch.eye(q.size()[0])\n",
        "  L_fn = cotangent_projection(gs)\n",
        "  @torch.compile()\n",
        "  def force(y):\n",
        "    with torch.no_grad():\n",
        "      x = torch.unsqueeze(y,0)\n",
        "      L = L_fn(x)\n",
        "      score = -score_model(x,time,L)\n",
        "    return torch.squeeze(score)\n",
        "  for step in range(1,steps):\n",
        "      print(step)\n",
        "      time = torch.tensor([1-(step)*h])\n",
        "      q1 = q\n",
        "      q, p = gBAOAB_step_exact(q,p,force, gs, h,M, 1,1,1,10**(-11))\n",
        "      print(f\"Movement of q: {torch.linalg.norm(q-q1)}\")\n",
        "      positions.append(q)\n",
        "  return positions"
      ]
    },
    {
      "cell_type": "code",
      "source": [
        "positions = run_simulation(q_init, 10000)"
      ],
      "metadata": {
        "id": "Bu4AeokdsXex"
      },
      "execution_count": null,
      "outputs": []
    },
    {
      "cell_type": "code",
      "source": [
        "pos = np.array([p.detach() for p in positions])\n",
        "np.save('reverse_pos_new.npy',pos)"
      ],
      "metadata": {
        "id": "v9XGjFrLKOTn"
      },
      "execution_count": null,
      "outputs": []
    },
    {
      "cell_type": "code",
      "execution_count": null,
      "metadata": {
        "id": "BCMLB0c1K5u4"
      },
      "outputs": [],
      "source": [
        "# import matplotlib.pyplot as plt\n",
        "h = 0.1\n",
        "positions = []\n",
        "q = torch.flatten(torch.squeeze(q_init))\n",
        "gs = [length_constraint(i,j,torch.squeeze(q)) for (i,j) in bones2]\n",
        "gs.append(length_constraint_2(1,torch.squeeze(q)))\n",
        "gs.append(length_constraint_2(11,torch.squeeze(q)))\n",
        "gs.append(length_constraint_2(15,torch.squeeze(q)))\n",
        "p = torch.zeros_like(q)\n",
        "M = torch.eye(q.size()[0])\n",
        "L_fn = cotangent_projection(gs)\n",
        "\n",
        "[ ]\n",
        "0s\n",
        "# import matplotlib.pyplot as plt\n",
        "[ ]\n",
        "0s\n",
        "# consts =[0.4580858162451722, 0.3065525126980309,0.2750921085525211,0.29323717212355590,.37724789567062345, 0.3384903513899154,0.4209719132887327, 0.2301911268243781, 0.3750464384688804]\n",
        "# means =[0.4602162808475724, 0.29597459434932205,0.27814510713268964,0.3339019747841472,0.29467229113218724, 0.40188887193413053, 0.4185919283597178, 0.2301742650549985, 0.33002749374731716]\n",
        "[ ]\n",
        "0s\n",
        "# plt.title('Mean joint-to-joint distance per frame', fontsize = '22')\n",
        "# plt.plot(consts, label = 'constrained optimization')\n",
        "# plt.plot(means, label = 'g-BAOAB')\n",
        "# plt.legend()\n",
        "# plt.xlabel('Frame number', fontsize = 14)\n",
        "# plt.ylabel('Mean joint-to-joint distance', fontsize = 14)\n",
        "# plt.savefig('j2jd.pdf')\n",
        "[ ]\n",
        "0s\n",
        "q = q.detach().reshape((19,3))\n",
        "q[0] = torch.zeros_like(q[0])\n",
        "q[0][-1] =2\n",
        "[ ]\n",
        "0s\n",
        "import pose_visualisation as vis\n",
        "[ ]\n",
        "0s\n",
        "\n",
        "[ ]\n",
        "0s\n",
        "vis.plot_3d_pose(q-transform)\n",
        "[ ]\n",
        "0s\n",
        "\n",
        "Colab paid products - Cancel contracts here\n",
        "You are subscribed to Colab Pro. Learn more.\n",
        "Available: 71.22 compute units\n",
        "Usage rate: approximately 0.12 per hour\n",
        "You have 1 active session.\n",
        "Want even more memory and disk space? Upgrade to Colab Pro+\n",
        "Python 3 Google Compute Engine backend\n",
        "Showing resources from 2:07 PM to 4:11 PM\n",
        "System RAM\n",
        "3.2 / 25.5 GB\n",
        "\n",
        "Disk\n",
        "24.4 / 225.8 GB\n",
        "\n",
        "check\n",
        "0s\n",
        "completed at 4:11 PM"
      ]
    },
    {
      "cell_type": "code",
      "source": [
        "from google.colab import drive\n",
        "drive.mount('/content/drive')"
      ],
      "metadata": {
        "id": "N2fKuXgLPUiQ"
      },
      "execution_count": null,
      "outputs": []
    },
    {
      "cell_type": "code",
      "execution_count": null,
      "metadata": {
        "id": "16HECIPuK5u4"
      },
      "outputs": [],
      "source": [
        "# consts =[0.4580858162451722, 0.3065525126980309,0.2750921085525211,0.29323717212355590,.37724789567062345, 0.3384903513899154,0.4209719132887327, 0.2301911268243781, 0.3750464384688804]\n",
        "# means =[0.4602162808475724, 0.29597459434932205,0.27814510713268964,0.3339019747841472,0.29467229113218724, 0.40188887193413053, 0.4185919283597178, 0.2301742650549985, 0.33002749374731716]"
      ]
    },
    {
      "cell_type": "code",
      "execution_count": null,
      "metadata": {
        "id": "ZgsuZV0yK5u4"
      },
      "outputs": [],
      "source": [
        "# plt.title('Mean joint-to-joint distance per frame', fontsize = '22')\n",
        "# plt.plot(consts, label = 'constrained optimization')\n",
        "# plt.plot(means, label = 'g-BAOAB')\n",
        "# plt.legend()\n",
        "# plt.xlabel('Frame number', fontsize = 14)\n",
        "# plt.ylabel('Mean joint-to-joint distance', fontsize = 14)\n",
        "# plt.savefig('j2jd.pdf')"
      ]
    },
    {
      "cell_type": "code",
      "execution_count": null,
      "metadata": {
        "id": "otxQcQA1K5u4"
      },
      "outputs": [],
      "source": [
        "q = q.detach().reshape((19,3))\n",
        "q[0] = torch.zeros_like(q[0])\n",
        "q[0][-1] =2"
      ]
    },
    {
      "cell_type": "code",
      "execution_count": null,
      "metadata": {
        "id": "33fr5_woK5u4"
      },
      "outputs": [],
      "source": [
        "import pose_visualisation as vis"
      ]
    },
    {
      "cell_type": "code",
      "execution_count": null,
      "metadata": {
        "id": "M237IAADK5u5"
      },
      "outputs": [],
      "source": []
    },
    {
      "cell_type": "code",
      "execution_count": null,
      "metadata": {
        "id": "w1wfClWvK5u-"
      },
      "outputs": [],
      "source": [
        "vis.plot_3d_pose(q-transform)"
      ]
    },
    {
      "cell_type": "code",
      "execution_count": null,
      "metadata": {
        "id": "eTPeDRf-K5u-"
      },
      "outputs": [],
      "source": []
    }
  ],
  "metadata": {
    "colab": {
      "provenance": [],
      "machine_shape": "hm",
      "gpuType": "T4"
    },
    "kernelspec": {
      "display_name": "Python 3",
      "name": "python3"
    },
    "language_info": {
      "codemirror_mode": {
        "name": "ipython",
        "version": 2
      },
      "file_extension": ".py",
      "mimetype": "text/x-python",
      "name": "python",
      "nbconvert_exporter": "python",
      "pygments_lexer": "ipython2",
      "version": "2.7.6"
    },
    "widgets": {
      "application/vnd.jupyter.widget-state+json": {
        "2db38815745c4ef7a0f2e9ecff49e4d9": {
          "model_module": "@jupyter-widgets/controls",
          "model_name": "HBoxModel",
          "model_module_version": "1.5.0",
          "state": {
            "_dom_classes": [],
            "_model_module": "@jupyter-widgets/controls",
            "_model_module_version": "1.5.0",
            "_model_name": "HBoxModel",
            "_view_count": null,
            "_view_module": "@jupyter-widgets/controls",
            "_view_module_version": "1.5.0",
            "_view_name": "HBoxView",
            "box_style": "",
            "children": [
              "IPY_MODEL_dc07c6bed52d4953a29c7fa2bc4d3afb",
              "IPY_MODEL_b701e636ae964b93846351da862e9a6e",
              "IPY_MODEL_4f04cf628d904d629aecce36c6b570da"
            ],
            "layout": "IPY_MODEL_2b161c7ea98d4648b9ad84e6f4a97fa5"
          }
        },
        "dc07c6bed52d4953a29c7fa2bc4d3afb": {
          "model_module": "@jupyter-widgets/controls",
          "model_name": "HTMLModel",
          "model_module_version": "1.5.0",
          "state": {
            "_dom_classes": [],
            "_model_module": "@jupyter-widgets/controls",
            "_model_module_version": "1.5.0",
            "_model_name": "HTMLModel",
            "_view_count": null,
            "_view_module": "@jupyter-widgets/controls",
            "_view_module_version": "1.5.0",
            "_view_name": "HTMLView",
            "description": "",
            "description_tooltip": null,
            "layout": "IPY_MODEL_5aa5feed4a9649b8979721a0dbd62c89",
            "placeholder": "​",
            "style": "IPY_MODEL_b6ade77cf83247f7aa6fd8814387745c",
            "value": "  0%"
          }
        },
        "b701e636ae964b93846351da862e9a6e": {
          "model_module": "@jupyter-widgets/controls",
          "model_name": "FloatProgressModel",
          "model_module_version": "1.5.0",
          "state": {
            "_dom_classes": [],
            "_model_module": "@jupyter-widgets/controls",
            "_model_module_version": "1.5.0",
            "_model_name": "FloatProgressModel",
            "_view_count": null,
            "_view_module": "@jupyter-widgets/controls",
            "_view_module_version": "1.5.0",
            "_view_name": "ProgressView",
            "bar_style": "",
            "description": "",
            "description_tooltip": null,
            "layout": "IPY_MODEL_f64c94f7377e4b6ab597ddc18f26e2ff",
            "max": 10,
            "min": 0,
            "orientation": "horizontal",
            "style": "IPY_MODEL_43d8c64d6d05432bb457d8703ef02dc7",
            "value": 0
          }
        },
        "4f04cf628d904d629aecce36c6b570da": {
          "model_module": "@jupyter-widgets/controls",
          "model_name": "HTMLModel",
          "model_module_version": "1.5.0",
          "state": {
            "_dom_classes": [],
            "_model_module": "@jupyter-widgets/controls",
            "_model_module_version": "1.5.0",
            "_model_name": "HTMLModel",
            "_view_count": null,
            "_view_module": "@jupyter-widgets/controls",
            "_view_module_version": "1.5.0",
            "_view_name": "HTMLView",
            "description": "",
            "description_tooltip": null,
            "layout": "IPY_MODEL_bc501923dab941729e208365adc862d7",
            "placeholder": "​",
            "style": "IPY_MODEL_bd6ac960e16641baba0208ef32647b86",
            "value": " 0/10 [00:00&lt;?, ?it/s]"
          }
        },
        "2b161c7ea98d4648b9ad84e6f4a97fa5": {
          "model_module": "@jupyter-widgets/base",
          "model_name": "LayoutModel",
          "model_module_version": "1.2.0",
          "state": {
            "_model_module": "@jupyter-widgets/base",
            "_model_module_version": "1.2.0",
            "_model_name": "LayoutModel",
            "_view_count": null,
            "_view_module": "@jupyter-widgets/base",
            "_view_module_version": "1.2.0",
            "_view_name": "LayoutView",
            "align_content": null,
            "align_items": null,
            "align_self": null,
            "border": null,
            "bottom": null,
            "display": null,
            "flex": null,
            "flex_flow": null,
            "grid_area": null,
            "grid_auto_columns": null,
            "grid_auto_flow": null,
            "grid_auto_rows": null,
            "grid_column": null,
            "grid_gap": null,
            "grid_row": null,
            "grid_template_areas": null,
            "grid_template_columns": null,
            "grid_template_rows": null,
            "height": null,
            "justify_content": null,
            "justify_items": null,
            "left": null,
            "margin": null,
            "max_height": null,
            "max_width": null,
            "min_height": null,
            "min_width": null,
            "object_fit": null,
            "object_position": null,
            "order": null,
            "overflow": null,
            "overflow_x": null,
            "overflow_y": null,
            "padding": null,
            "right": null,
            "top": null,
            "visibility": null,
            "width": null
          }
        },
        "5aa5feed4a9649b8979721a0dbd62c89": {
          "model_module": "@jupyter-widgets/base",
          "model_name": "LayoutModel",
          "model_module_version": "1.2.0",
          "state": {
            "_model_module": "@jupyter-widgets/base",
            "_model_module_version": "1.2.0",
            "_model_name": "LayoutModel",
            "_view_count": null,
            "_view_module": "@jupyter-widgets/base",
            "_view_module_version": "1.2.0",
            "_view_name": "LayoutView",
            "align_content": null,
            "align_items": null,
            "align_self": null,
            "border": null,
            "bottom": null,
            "display": null,
            "flex": null,
            "flex_flow": null,
            "grid_area": null,
            "grid_auto_columns": null,
            "grid_auto_flow": null,
            "grid_auto_rows": null,
            "grid_column": null,
            "grid_gap": null,
            "grid_row": null,
            "grid_template_areas": null,
            "grid_template_columns": null,
            "grid_template_rows": null,
            "height": null,
            "justify_content": null,
            "justify_items": null,
            "left": null,
            "margin": null,
            "max_height": null,
            "max_width": null,
            "min_height": null,
            "min_width": null,
            "object_fit": null,
            "object_position": null,
            "order": null,
            "overflow": null,
            "overflow_x": null,
            "overflow_y": null,
            "padding": null,
            "right": null,
            "top": null,
            "visibility": null,
            "width": null
          }
        },
        "b6ade77cf83247f7aa6fd8814387745c": {
          "model_module": "@jupyter-widgets/controls",
          "model_name": "DescriptionStyleModel",
          "model_module_version": "1.5.0",
          "state": {
            "_model_module": "@jupyter-widgets/controls",
            "_model_module_version": "1.5.0",
            "_model_name": "DescriptionStyleModel",
            "_view_count": null,
            "_view_module": "@jupyter-widgets/base",
            "_view_module_version": "1.2.0",
            "_view_name": "StyleView",
            "description_width": ""
          }
        },
        "f64c94f7377e4b6ab597ddc18f26e2ff": {
          "model_module": "@jupyter-widgets/base",
          "model_name": "LayoutModel",
          "model_module_version": "1.2.0",
          "state": {
            "_model_module": "@jupyter-widgets/base",
            "_model_module_version": "1.2.0",
            "_model_name": "LayoutModel",
            "_view_count": null,
            "_view_module": "@jupyter-widgets/base",
            "_view_module_version": "1.2.0",
            "_view_name": "LayoutView",
            "align_content": null,
            "align_items": null,
            "align_self": null,
            "border": null,
            "bottom": null,
            "display": null,
            "flex": null,
            "flex_flow": null,
            "grid_area": null,
            "grid_auto_columns": null,
            "grid_auto_flow": null,
            "grid_auto_rows": null,
            "grid_column": null,
            "grid_gap": null,
            "grid_row": null,
            "grid_template_areas": null,
            "grid_template_columns": null,
            "grid_template_rows": null,
            "height": null,
            "justify_content": null,
            "justify_items": null,
            "left": null,
            "margin": null,
            "max_height": null,
            "max_width": null,
            "min_height": null,
            "min_width": null,
            "object_fit": null,
            "object_position": null,
            "order": null,
            "overflow": null,
            "overflow_x": null,
            "overflow_y": null,
            "padding": null,
            "right": null,
            "top": null,
            "visibility": null,
            "width": null
          }
        },
        "43d8c64d6d05432bb457d8703ef02dc7": {
          "model_module": "@jupyter-widgets/controls",
          "model_name": "ProgressStyleModel",
          "model_module_version": "1.5.0",
          "state": {
            "_model_module": "@jupyter-widgets/controls",
            "_model_module_version": "1.5.0",
            "_model_name": "ProgressStyleModel",
            "_view_count": null,
            "_view_module": "@jupyter-widgets/base",
            "_view_module_version": "1.2.0",
            "_view_name": "StyleView",
            "bar_color": null,
            "description_width": ""
          }
        },
        "bc501923dab941729e208365adc862d7": {
          "model_module": "@jupyter-widgets/base",
          "model_name": "LayoutModel",
          "model_module_version": "1.2.0",
          "state": {
            "_model_module": "@jupyter-widgets/base",
            "_model_module_version": "1.2.0",
            "_model_name": "LayoutModel",
            "_view_count": null,
            "_view_module": "@jupyter-widgets/base",
            "_view_module_version": "1.2.0",
            "_view_name": "LayoutView",
            "align_content": null,
            "align_items": null,
            "align_self": null,
            "border": null,
            "bottom": null,
            "display": null,
            "flex": null,
            "flex_flow": null,
            "grid_area": null,
            "grid_auto_columns": null,
            "grid_auto_flow": null,
            "grid_auto_rows": null,
            "grid_column": null,
            "grid_gap": null,
            "grid_row": null,
            "grid_template_areas": null,
            "grid_template_columns": null,
            "grid_template_rows": null,
            "height": null,
            "justify_content": null,
            "justify_items": null,
            "left": null,
            "margin": null,
            "max_height": null,
            "max_width": null,
            "min_height": null,
            "min_width": null,
            "object_fit": null,
            "object_position": null,
            "order": null,
            "overflow": null,
            "overflow_x": null,
            "overflow_y": null,
            "padding": null,
            "right": null,
            "top": null,
            "visibility": null,
            "width": null
          }
        },
        "bd6ac960e16641baba0208ef32647b86": {
          "model_module": "@jupyter-widgets/controls",
          "model_name": "DescriptionStyleModel",
          "model_module_version": "1.5.0",
          "state": {
            "_model_module": "@jupyter-widgets/controls",
            "_model_module_version": "1.5.0",
            "_model_name": "DescriptionStyleModel",
            "_view_count": null,
            "_view_module": "@jupyter-widgets/base",
            "_view_module_version": "1.2.0",
            "_view_name": "StyleView",
            "description_width": ""
          }
        }
      }
    },
    "accelerator": "GPU"
  },
  "nbformat": 4,
  "nbformat_minor": 0
}