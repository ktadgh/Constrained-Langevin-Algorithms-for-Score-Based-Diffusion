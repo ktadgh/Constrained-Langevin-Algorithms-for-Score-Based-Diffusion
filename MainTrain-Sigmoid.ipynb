{
 "cells": [
  {
   "cell_type": "code",
   "execution_count": 9,
   "metadata": {},
   "outputs": [],
   "source": [
    "import torch\n",
    "from noising_functions import gBAOAB_integrator\n",
    "import torch.nn as nn"
   ]
  },
  {
   "cell_type": "code",
   "execution_count": 10,
   "metadata": {
    "id": "JjX3bNv8K5uv"
   },
   "outputs": [],
   "source": [
    "bones2 = [\n",
    "    (1, 2),\n",
    "    (1, 3),\n",
    "    (3, 4),\n",
    "    (4, 5),\n",
    "    (5, 6),\n",
    "    (1, 7),\n",
    "    (7, 8),\n",
    "    (8, 9),\n",
    "    (9, 10),\n",
    "    (11, 12),\n",
    "    (12, 13),\n",
    "    (13, 14),\n",
    "    (15, 16),\n",
    "    (16, 17),\n",
    "    (17, 18),\n",
    "]"
   ]
  },
  {
   "cell_type": "code",
   "execution_count": 11,
   "metadata": {
    "id": "mvWy09J5K5uv"
   },
   "outputs": [],
   "source": [
    "def length_constraint(i,j, xinit):\n",
    "    init = xinit \n",
    "    def constraint_fn(y):\n",
    "        x = torch.squeeze(y) # will need to change for batched data\n",
    "        return (x[:,3*i]- x[:,3*j])**2 +(x[:,3*i+1]- x[:,3*j+1])**2 + (x[:,3*i+2]- x[:,3*j+2])**2 - ((init[:,3*i]- init[:,3*j])**2 +(init[:,3*i+1]- init[:,3*j+1])**2 + (init[:,3*i+2]- init[:,3*j+2])**2)\n",
    "    return constraint_fn"
   ]
  },
  {
   "cell_type": "code",
   "execution_count": 12,
   "metadata": {
    "id": "i2jd3RM7K5uw"
   },
   "outputs": [],
   "source": [
    "def length_constraint_2(i, xinit):\n",
    "    init = torch.squeeze(xinit)\n",
    "    def constraint_fn(y):\n",
    "        x = torch.squeeze(y)\n",
    "        return (x[:,3*i]- 0)**2 +(x[:,3*i+1]- 0)**2 + (x[:,3*i+2]- 2)**2 - ((init[:,3*i]- 0)**2 +(init[:,3*i+1]- 0)**2 + (init[:,3*i+2]- 2)**2)\n",
    "    return constraint_fn"
   ]
  },
  {
   "cell_type": "code",
   "execution_count": 11,
   "metadata": {
    "id": "ruhPhnwGK5uw"
   },
   "outputs": [],
   "source": [
    "def cotangent_projection(gs):\n",
    "    def proj(x):\n",
    "        G = J(gs,x)\n",
    "        M = torch.eye(G.size()[1])\n",
    "        L= torch.eye(G.size()[1]) - G.t(-2,-1) @ torch.inverse(G @ M @ G.t(-2,-1)) @ G @ torch.inverse(M)\n",
    "        return L, G\n",
    "    return proj"
   ]
  },
  {
   "cell_type": "code",
   "execution_count": 12,
   "metadata": {
    "id": "N7426NaTK5uw"
   },
   "outputs": [],
   "source": [
    "class GaussianFourierProjection(nn.Module):\n",
    "  \"\"\"Gaussian random features for encoding time steps.\"\"\"\n",
    "  def __init__(self, embed_dim, scale=30.):\n",
    "    super().__init__()\n",
    "    # Randomly sample weights during initialization. These weights are fixed\n",
    "    # during optimization and are not trainable.\n",
    "    self.W = nn.Parameter(torch.randn(embed_dim // 2) * scale, requires_grad=False)\n",
    "\n",
    "  def forward(self, x):\n",
    "    x_proj = x[:, None] * self.W[None, :] * 2 * torch.pi\n",
    "    return torch.cat([torch.sin(x_proj), torch.cos(x_proj)], dim=-1)"
   ]
  },
  {
   "cell_type": "code",
   "execution_count": 13,
   "metadata": {
    "id": "mLWsDDQKK5ux"
   },
   "outputs": [],
   "source": [
    "class ScoreNet(nn.Module):\n",
    "  \"\"\"A time-dependent score-based model.\"\"\"\n",
    "\n",
    "\n",
    "  def __init__(self, embed_dim):\n",
    "    super().__init__()\n",
    "    self.embed = nn.Sequential(GaussianFourierProjection(embed_dim=embed_dim),nn.Linear(embed_dim, embed_dim))\n",
    "    self.lin_embed = nn.Linear(embed_dim,57)\n",
    "    self.lin_embed2 = nn.Linear(embed_dim,57)\n",
    "    self.lin1 = nn.Linear(57,57)\n",
    "    self.lin2 = nn.Linear(57, 57)\n",
    "    self.lin3 = nn.Linear(57, 57)\n",
    "    self.lin4 = nn.Linear(57, 57)\n",
    "    self.lin5 = nn.Linear(57,57)\n",
    "    self.act = torch.nn.Sigmoid()\n",
    "    \n",
    "  #@torch.compile(mode=\"default\")\n",
    "  def forward(self,x,t,L,G):\n",
    "      # setting the fixed points of x\n",
    "      l = torch.zeros_like(x)\n",
    "      l[:,0] = x[:,0]\n",
    "      l[:,1] = x[:,1]\n",
    "      l[:,2] = -torch.ones_like(x[:,2])*2 + x[:,2]\n",
    "\n",
    "      x = x - l\n",
    "      embed = self.act(self.embed(t))\n",
    "      h = self.lin1(x)\n",
    "      h = h+ self.lin_embed(embed)\n",
    "      h = self.act(self.lin2(h))\n",
    "      h = self.act(self.lin3(h))+ self.lin_embed2(embed)\n",
    "      h = self.act(self.lin4(h))\n",
    "      h = self.lin5(h)\n",
    "\n",
    "      # projection\n",
    "      p = L@ h\n",
    "      h = p\n",
    "    \n",
    "\n",
    "      # setting the force on the fixed point to zero\n",
    "      l2 = torch.zeros_like(h)\n",
    "      l2[:,0] = h[:,0]\n",
    "      l2[:,1] = h[:,1]\n",
    "      l2[:,2] = h[:,2]\n",
    "      h = h - l2\n",
    "\n",
    "      return h"
   ]
  },
  {
   "cell_type": "code",
   "execution_count": 14,
   "metadata": {
    "id": "1CIK3L70K5uy"
   },
   "outputs": [],
   "source": [
    "score_model = torch.nn.DataParallel(ScoreNet(58))"
   ]
  },
  {
   "cell_type": "code",
   "execution_count": 13,
   "metadata": {
    "id": "_I0GqoXetDqj"
   },
   "outputs": [],
   "source": [
    "from torch.utils.data import TensorDataset, DataLoader"
   ]
  },
  {
   "cell_type": "code",
   "execution_count": 14,
   "metadata": {
    "id": "mHo3neRFK5uz"
   },
   "outputs": [],
   "source": [
    "from torch.optim import Adam"
   ]
  },
  {
   "cell_type": "code",
   "execution_count": 15,
   "metadata": {
    "id": "BX7VFB89wKnk"
   },
   "outputs": [],
   "source": [
    "import warnings\n",
    "warnings.filterwarnings(\"ignore\")\n"
   ]
  },
  {
   "cell_type": "code",
   "execution_count": 17,
   "metadata": {
    "id": "5aU4ZD1lwJrh"
   },
   "outputs": [],
   "source": [
    "#torch._dynamo.config.verbose=True"
   ]
  },
  {
   "cell_type": "code",
   "execution_count": 18,
   "metadata": {
    "id": "1Cq2rt1g8wzV"
   },
   "outputs": [],
   "source": [
    "#torch._dynamo.config.suppress_errors = True"
   ]
  },
  {
   "cell_type": "markdown",
   "metadata": {
    "id": "0vIhK72vK5uz"
   },
   "source": [
    "# Sampling from the reverse SDE"
   ]
  },
  {
   "cell_type": "code",
   "execution_count": 20,
   "metadata": {
    "id": "v2YCwp_AuyO6"
   },
   "outputs": [],
   "source": [
    "# using one repeated datapoint as a sanity check\n",
    "data_tensor = torch.randn(1,57).broadcast_to(1000,57)\n",
    "my_dataset = TensorDataset(data_tensor)"
   ]
  },
  {
   "cell_type": "markdown",
   "metadata": {
    "id": "wkqFii2bu8SD"
   },
   "source": []
  },
  {
   "cell_type": "code",
   "execution_count": 21,
   "metadata": {
    "id": "sdcVB8BBNm2k"
   },
   "outputs": [],
   "source": [
    "#@title Define the loss function (double click to expand or collapse)\n",
    "def loss2(model, xs,eps=1e-5):\n",
    "  \"\"\"The loss function for training score-based generative models.\n",
    "\n",
    "  Args:\n",
    "    model: A PyTorch model instance that represents a\n",
    "      time-dependent score-based model.\n",
    "    x: A mini-batch of training data.\n",
    "    marginal_prob_std: A function that gives the standard deviation of\n",
    "      the perturbation kernel.\n",
    "    eps: A tolerance value for numerical stability.\n",
    "  \"\"\"\n",
    "  # uniformly selecting a time\n",
    "  loss =torch.tensor([0.])\n",
    "  loss.requires_grad_()\n",
    "  tr =0\n",
    "  s_tr = 0\n",
    "\n",
    "  # x is the batch of simulated qs that we need to noise.\n",
    "  gs = [length_constraint(i,j,q) for (i,j) in bones2]\n",
    "  gs.append(length_constraint_2(1,q))\n",
    "  gs.append(length_constraint_2(11,q))\n",
    "  gs.append(length_constraint_2(15,q))\n",
    "\n",
    "  # projection matrix\n",
    "  L_fn = cotangent_projection(gs)\n",
    "  random_t = torch.round(torch.rand(1, device=x.device)*(len(x))-1)\n",
    "\n",
    "  # Noising\n",
    "  p = torch.zeros_like(q)\n",
    "  M = torch.eye(len(q))\n",
    "  h = 0.01\n",
    "\n",
    "  sim_x , _ = gBAOAB_integrator(q,p,force, gs, h,M, 1, 1, int(random_t.item()),1,10**(-13))\n",
    "\n",
    "\n",
    "  L , G= L_fn(sim_x) # defining the projection matrix\n",
    "  score = model(sim_x, random_t/100,L,G).cpu()\n",
    "\n",
    "  # need to think about how to let this part act on batches\n",
    "  tr = tr + torch.abs( torch.trace(torch.squeeze(torch.autograd.functional.jacobian(model, inputs=(sim_x,random_t/100,L,G))[0])) )\n",
    "  s_tr = s_tr + torch.trace(torch.squeeze(torch.autograd.functional.jacobian(model, inputs=(sim_x,random_t/100,L,G))[0]))\n",
    "  loss = loss + 1/2 * torch.linalg.norm(score)**2 + torch.trace(torch.squeeze(torch.autograd.functional.jacobian(model, inputs=(sim_x,random_t/100,L,G), create_graph=True,strict=False)[0]))\n",
    "  \n",
    "  if tr < 0.1:\n",
    "    print(f\"sum absolute trace = {tr}, sum trace = {s_tr}\")\n",
    "  return loss "
   ]
  },
  {
   "cell_type": "code",
   "execution_count": null,
   "metadata": {
    "colab": {
     "base_uri": "https://localhost:8080/",
     "height": 1000,
     "referenced_widgets": [
      "2db38815745c4ef7a0f2e9ecff49e4d9",
      "dc07c6bed52d4953a29c7fa2bc4d3afb",
      "b701e636ae964b93846351da862e9a6e",
      "4f04cf628d904d629aecce36c6b570da",
      "2b161c7ea98d4648b9ad84e6f4a97fa5",
      "5aa5feed4a9649b8979721a0dbd62c89",
      "b6ade77cf83247f7aa6fd8814387745c",
      "f64c94f7377e4b6ab597ddc18f26e2ff",
      "43d8c64d6d05432bb457d8703ef02dc7",
      "bc501923dab941729e208365adc862d7",
      "bd6ac960e16641baba0208ef32647b86"
     ]
    },
    "id": "l5PjYO1DiCkN",
    "outputId": "e00a751e-4e03-4c93-bcb9-f29797bed48b",
    "scrolled": true
   },
   "outputs": [
    {
     "data": {
      "application/vnd.jupyter.widget-view+json": {
       "model_id": "167dc6b03bec4ab88621b9395e0acbb1",
       "version_major": 2,
       "version_minor": 0
      },
      "text/plain": [
       "  0%|          | 0/20 [00:00<?, ?it/s]"
      ]
     },
     "metadata": {},
     "output_type": "display_data"
    },
    {
     "name": "stderr",
     "output_type": "stream",
     "text": [
      "\n",
      "  0%|                                                               | 0/250 [00:00<?, ?it/s]\u001b[ANo CUDA runtime is found, using CUDA_HOME='/usr/local/cuda'\n",
      "\n",
      "Loss = 1.6969762248829485:   0%|                                    | 0/250 [00:06<?, ?it/s]\u001b[A"
     ]
    },
    {
     "name": "stdout",
     "output_type": "stream",
     "text": [
      "sum absolute trace = 0.009552652679137325, sum trace = 0.009552652679137325\n"
     ]
    },
    {
     "name": "stderr",
     "output_type": "stream",
     "text": [
      "\n",
      "Loss = 1.6969762248829485:   0%|                            | 1/250 [00:06<27:55,  6.73s/it]\u001b[A\n",
      "Loss = 1.394326041584087:   0%|                             | 1/250 [00:10<27:55,  6.73s/it]\u001b[A"
     ]
    },
    {
     "name": "stdout",
     "output_type": "stream",
     "text": [
      "sum absolute trace = 0.006118226521412266, sum trace = 0.0015278494348590493\n"
     ]
    },
    {
     "name": "stderr",
     "output_type": "stream",
     "text": [
      "\n",
      "Loss = 1.394326041584087:   1%|▏                            | 2/250 [00:11<22:08,  5.36s/it]\u001b[A\n",
      "Loss = 1.1292785262872609:   1%|▏                           | 2/250 [00:14<22:08,  5.36s/it]\u001b[A"
     ]
    },
    {
     "name": "stdout",
     "output_type": "stream",
     "text": [
      "sum absolute trace = 0.00647975985596769, sum trace = -0.005668370447452744\n"
     ]
    },
    {
     "name": "stderr",
     "output_type": "stream",
     "text": [
      "\n",
      "Loss = 1.1292785262872609:   1%|▎                           | 3/250 [00:15<19:50,  4.82s/it]\u001b[A\n",
      "Loss = 0.9065022098771479:   1%|▎                           | 3/250 [00:19<19:50,  4.82s/it]\u001b[A"
     ]
    },
    {
     "name": "stdout",
     "output_type": "stream",
     "text": [
      "sum absolute trace = 0.015248653657364135, sum trace = -0.015248653657364135\n"
     ]
    },
    {
     "name": "stderr",
     "output_type": "stream",
     "text": [
      "\n",
      "Loss = 0.9065022098771479:   2%|▍                           | 4/250 [00:19<18:56,  4.62s/it]\u001b[A\n",
      "Loss = 0.699523239462926:   2%|▍                            | 4/250 [00:23<18:56,  4.62s/it]\u001b[A"
     ]
    },
    {
     "name": "stdout",
     "output_type": "stream",
     "text": [
      "sum absolute trace = 0.02220457199542365, sum trace = -0.02220457199542365\n"
     ]
    },
    {
     "name": "stderr",
     "output_type": "stream",
     "text": [
      "\n",
      "Loss = 0.699523239462926:   2%|▌                            | 5/250 [00:24<18:33,  4.55s/it]\u001b[A\n",
      "Loss = 0.5481671064933235:   2%|▌                           | 5/250 [00:27<18:33,  4.55s/it]\u001b[A"
     ]
    },
    {
     "name": "stdout",
     "output_type": "stream",
     "text": [
      "sum absolute trace = 0.03216534878181921, sum trace = -0.03216534878181921\n"
     ]
    },
    {
     "name": "stderr",
     "output_type": "stream",
     "text": [
      "\n",
      "Loss = 0.5481671064933235:   2%|▋                           | 6/250 [00:28<18:13,  4.48s/it]\u001b[A\n",
      "Loss = 0.41695359937454973:   2%|▋                          | 6/250 [00:32<18:13,  4.48s/it]\u001b[A"
     ]
    },
    {
     "name": "stdout",
     "output_type": "stream",
     "text": [
      "sum absolute trace = 0.04170637920381852, sum trace = -0.04170637920381852\n"
     ]
    },
    {
     "name": "stderr",
     "output_type": "stream",
     "text": [
      "\n",
      "Loss = 0.41695359937454973:   3%|▊                          | 7/250 [00:32<18:12,  4.49s/it]\u001b[A\n",
      "Loss = 0.30027962225451643:   3%|▊                          | 7/250 [00:37<18:12,  4.49s/it]\u001b[A"
     ]
    },
    {
     "name": "stdout",
     "output_type": "stream",
     "text": [
      "sum absolute trace = 0.05167847241761557, sum trace = -0.05167847241761557\n"
     ]
    },
    {
     "name": "stderr",
     "output_type": "stream",
     "text": [
      "\n",
      "Loss = 0.30027962225451643:   3%|▊                          | 8/250 [00:37<18:27,  4.58s/it]\u001b[A\n",
      "Loss = 0.2546021662456566:   3%|▉                           | 8/250 [00:42<18:27,  4.58s/it]\u001b[A"
     ]
    },
    {
     "name": "stdout",
     "output_type": "stream",
     "text": [
      "sum absolute trace = 0.06178752237999361, sum trace = -0.06178752237999361\n"
     ]
    },
    {
     "name": "stderr",
     "output_type": "stream",
     "text": [
      "\n",
      "Loss = 0.2546021662456566:   4%|█                           | 9/250 [00:42<19:13,  4.79s/it]\u001b[A\n",
      "Loss = 0.17997792657218242:   4%|▉                          | 9/250 [00:46<19:13,  4.79s/it]\u001b[A"
     ]
    },
    {
     "name": "stdout",
     "output_type": "stream",
     "text": [
      "sum absolute trace = 0.07170972806512321, sum trace = -0.07170972806512321\n"
     ]
    },
    {
     "name": "stderr",
     "output_type": "stream",
     "text": [
      "\n",
      "Loss = 0.17997792657218242:   4%|█                         | 10/250 [00:47<18:47,  4.70s/it]\u001b[A\n",
      "Loss = 0.14115820664117287:   4%|█                         | 10/250 [00:51<18:47,  4.70s/it]\u001b[A"
     ]
    },
    {
     "name": "stdout",
     "output_type": "stream",
     "text": [
      "sum absolute trace = 0.07987548657225661, sum trace = -0.07987548657225661\n"
     ]
    },
    {
     "name": "stderr",
     "output_type": "stream",
     "text": [
      "\n",
      "Loss = 0.14115820664117287:   4%|█▏                        | 11/250 [00:52<18:59,  4.77s/it]\u001b[A\n",
      "Loss = 0.10457517201865855:   4%|█▏                        | 11/250 [00:56<18:59,  4.77s/it]\u001b[A"
     ]
    },
    {
     "name": "stdout",
     "output_type": "stream",
     "text": [
      "sum absolute trace = 0.08798737943103781, sum trace = -0.08798737943103781\n"
     ]
    },
    {
     "name": "stderr",
     "output_type": "stream",
     "text": [
      "\n",
      "Loss = 0.10457517201865855:   5%|█▏                        | 12/250 [00:56<18:38,  4.70s/it]\u001b[A\n",
      "Loss = 0.0789442387024926:   5%|█▎                         | 12/250 [01:00<18:38,  4.70s/it]\u001b[A"
     ]
    },
    {
     "name": "stdout",
     "output_type": "stream",
     "text": [
      "sum absolute trace = 0.09675604606442412, sum trace = -0.09675604606442412\n"
     ]
    },
    {
     "name": "stderr",
     "output_type": "stream",
     "text": [
      "\n",
      "Loss = 0.0789442387024926:   5%|█▍                         | 13/250 [01:01<18:18,  4.64s/it]\u001b[A\n",
      "Loss = 0.06390580791956343:   5%|█▎                        | 13/250 [01:05<18:18,  4.64s/it]\u001b[A\n",
      "Loss = 0.06390580791956343:   6%|█▍                        | 14/250 [01:05<18:12,  4.63s/it]\u001b[A\n",
      "Loss = 0.05218523466273979:   6%|█▍                        | 14/250 [01:09<18:12,  4.63s/it]\u001b[A\n",
      "Loss = 0.05218523466273979:   6%|█▌                        | 15/250 [01:10<17:57,  4.58s/it]\u001b[A\n",
      "Loss = 0.04199963743322947:   6%|█▌                        | 15/250 [01:14<17:57,  4.58s/it]\u001b[A\n",
      "Loss = 0.04199963743322947:   6%|█▋                        | 16/250 [01:14<17:33,  4.50s/it]\u001b[A\n",
      "Loss = 0.03537252289177329:   6%|█▋                        | 16/250 [01:18<17:33,  4.50s/it]\u001b[A\n",
      "Loss = 0.03537252289177329:   7%|█▊                        | 17/250 [01:19<17:11,  4.43s/it]\u001b[A\n",
      "Loss = 0.031882958305119974:   7%|█▋                       | 17/250 [01:22<17:11,  4.43s/it]\u001b[A\n",
      "Loss = 0.031882958305119974:   7%|█▊                       | 18/250 [01:23<17:21,  4.49s/it]\u001b[A\n",
      "Loss = 0.028068217491072623:   7%|█▊                       | 18/250 [01:27<17:21,  4.49s/it]\u001b[A\n",
      "Loss = 0.028068217491072623:   8%|█▉                       | 19/250 [01:28<17:23,  4.52s/it]\u001b[A\n",
      "Loss = 0.026588388582545384:   8%|█▉                       | 19/250 [01:32<17:23,  4.52s/it]\u001b[A\n",
      "Loss = 0.026588388582545384:   8%|██                       | 20/250 [01:33<17:37,  4.60s/it]\u001b[A\n",
      "Loss = 0.022952514036411693:   8%|██                       | 20/250 [01:37<17:37,  4.60s/it]\u001b[A\n",
      "Loss = 0.022952514036411693:   8%|██                       | 21/250 [01:37<17:48,  4.67s/it]\u001b[A\n",
      "Loss = 0.021166111224337834:   8%|██                       | 21/250 [01:41<17:48,  4.67s/it]\u001b[A\n",
      "Loss = 0.021166111224337834:   9%|██▏                      | 22/250 [01:42<17:29,  4.60s/it]\u001b[A\n",
      "Loss = 0.021061168525035888:   9%|██▏                      | 22/250 [01:46<17:29,  4.60s/it]\u001b[A\n",
      "Loss = 0.021061168525035888:   9%|██▎                      | 23/250 [01:46<17:03,  4.51s/it]\u001b[A\n",
      "Loss = 0.02070092699361742:   9%|██▍                       | 23/250 [01:50<17:03,  4.51s/it]\u001b[A\n",
      "Loss = 0.02070092699361742:  10%|██▍                       | 24/250 [01:51<17:07,  4.55s/it]\u001b[A\n",
      "Loss = 0.01973525898864458:  10%|██▍                       | 24/250 [01:55<17:07,  4.55s/it]\u001b[A\n",
      "Loss = 0.01973525898864458:  10%|██▌                       | 25/250 [01:55<16:58,  4.53s/it]\u001b[A\n",
      "Loss = 0.01998973492584852:  10%|██▌                       | 25/250 [01:59<16:58,  4.53s/it]\u001b[A\n",
      "Loss = 0.01998973492584852:  10%|██▋                       | 26/250 [02:00<16:57,  4.54s/it]\u001b[A\n",
      "Loss = 0.01937282769816209:  10%|██▋                       | 26/250 [02:04<16:57,  4.54s/it]\u001b[A\n",
      "Loss = 0.01937282769816209:  11%|██▊                       | 27/250 [02:04<16:35,  4.46s/it]\u001b[A\n",
      "Loss = 0.018389181783571986:  11%|██▋                      | 27/250 [02:08<16:35,  4.46s/it]\u001b[A\n",
      "Loss = 0.018389181783571986:  11%|██▊                      | 28/250 [02:08<16:22,  4.43s/it]\u001b[A\n",
      "Loss = 0.014719984801802005:  11%|██▊                      | 28/250 [02:12<16:22,  4.43s/it]\u001b[A\n",
      "Loss = 0.014719984801802005:  12%|██▉                      | 29/250 [02:13<16:14,  4.41s/it]\u001b[A\n",
      "Loss = 0.013528944912841396:  12%|██▉                      | 29/250 [02:17<16:14,  4.41s/it]\u001b[A\n",
      "Loss = 0.013528944912841396:  12%|███                      | 30/250 [02:18<16:30,  4.50s/it]\u001b[A\n",
      "Loss = 0.01131546555862782:  12%|███                       | 30/250 [02:22<16:30,  4.50s/it]\u001b[A\n",
      "Loss = 0.01131546555862782:  12%|███▏                      | 31/250 [02:22<16:32,  4.53s/it]\u001b[A\n",
      "Loss = 0.007339774662362471:  12%|███                      | 31/250 [02:26<16:32,  4.53s/it]\u001b[A\n",
      "Loss = 0.007339774662362471:  13%|███▏                     | 32/250 [02:27<16:48,  4.63s/it]\u001b[A\n",
      "Loss = 0.0035892495784465425:  13%|███                     | 32/250 [02:31<16:48,  4.63s/it]\u001b[A\n",
      "Loss = 0.0035892495784465425:  13%|███▏                    | 33/250 [02:31<16:30,  4.56s/it]\u001b[A\n",
      "Loss = -0.0007624156443471341:  13%|███                    | 33/250 [02:35<16:30,  4.56s/it]\u001b[A\n",
      "Loss = -0.0007624156443471341:  14%|███▏                   | 34/250 [02:36<16:33,  4.60s/it]\u001b[A\n",
      "Loss = -0.002875327305156429:  14%|███▎                    | 34/250 [02:40<16:33,  4.60s/it]\u001b[A\n",
      "Loss = -0.002875327305156429:  14%|███▎                    | 35/250 [02:41<16:28,  4.60s/it]\u001b[A\n",
      "Loss = -0.006603423483318304:  14%|███▎                    | 35/250 [02:45<16:28,  4.60s/it]\u001b[A\n",
      "Loss = -0.006603423483318304:  14%|███▍                    | 36/250 [02:45<16:32,  4.64s/it]\u001b[A\n",
      "Loss = -0.011231584519788593:  14%|███▍                    | 36/250 [02:50<16:32,  4.64s/it]\u001b[A\n",
      "Loss = -0.011231584519788593:  15%|███▌                    | 37/250 [02:50<16:32,  4.66s/it]\u001b[A\n",
      "Loss = -0.014926263167794435:  15%|███▌                    | 37/250 [02:54<16:32,  4.66s/it]\u001b[A\n",
      "Loss = -0.014926263167794435:  15%|███▋                    | 38/250 [02:54<16:07,  4.57s/it]\u001b[A\n",
      "Loss = -0.018156662480574338:  15%|███▋                    | 38/250 [02:59<16:07,  4.57s/it]\u001b[A\n",
      "Loss = -0.018156662480574338:  16%|███▋                    | 39/250 [02:59<16:26,  4.67s/it]\u001b[A\n",
      "Loss = -0.020183961082329997:  16%|███▋                    | 39/250 [03:03<16:26,  4.67s/it]\u001b[A\n",
      "Loss = -0.020183961082329997:  16%|███▊                    | 40/250 [03:04<16:02,  4.58s/it]\u001b[A\n",
      "Loss = -0.02303616366539664:  16%|████                     | 40/250 [03:08<16:02,  4.58s/it]\u001b[A\n",
      "Loss = -0.02303616366539664:  16%|████                     | 41/250 [03:09<16:18,  4.68s/it]\u001b[A\n",
      "Loss = -0.02596317135215099:  16%|████                     | 41/250 [03:13<16:18,  4.68s/it]\u001b[A\n",
      "Loss = -0.02596317135215099:  17%|████▏                    | 42/250 [03:13<16:05,  4.64s/it]\u001b[A\n",
      "Loss = -0.027908233198216455:  17%|████                    | 42/250 [03:17<16:05,  4.64s/it]\u001b[A\n",
      "Loss = -0.027908233198216455:  17%|████▏                   | 43/250 [03:18<16:22,  4.74s/it]\u001b[A\n",
      "Loss = -0.030084465843808417:  17%|████▏                   | 43/250 [03:22<16:22,  4.74s/it]\u001b[A\n",
      "Loss = -0.030084465843808417:  18%|████▏                   | 44/250 [03:23<16:14,  4.73s/it]\u001b[A\n",
      "Loss = -0.03192278594352935:  18%|████▍                    | 44/250 [03:27<16:14,  4.73s/it]\u001b[A\n",
      "Loss = -0.03192278594352935:  18%|████▌                    | 45/250 [03:28<16:10,  4.73s/it]\u001b[A\n",
      "Loss = -0.034089048933565826:  18%|████▎                   | 45/250 [03:32<16:10,  4.73s/it]\u001b[A\n",
      "Loss = -0.034089048933565826:  18%|████▍                   | 46/250 [03:32<16:04,  4.73s/it]\u001b[A\n",
      "Loss = -0.0362416575479894:  18%|████▊                     | 46/250 [03:37<16:04,  4.73s/it]\u001b[A\n",
      "Loss = -0.0362416575479894:  19%|████▉                     | 47/250 [03:38<17:08,  5.07s/it]\u001b[A\n",
      "Loss = -0.03798942169059122:  19%|████▋                    | 47/250 [03:42<17:08,  5.07s/it]\u001b[A\n",
      "Loss = -0.03798942169059122:  19%|████▊                    | 48/250 [03:43<16:47,  4.99s/it]\u001b[A\n",
      "Loss = -0.04071540021671923:  19%|████▊                    | 48/250 [03:47<16:47,  4.99s/it]\u001b[A\n",
      "Loss = -0.04071540021671923:  20%|████▉                    | 49/250 [03:48<16:24,  4.90s/it]\u001b[A\n",
      "Loss = -0.04302142548298228:  20%|████▉                    | 49/250 [03:52<16:24,  4.90s/it]\u001b[A\n",
      "Loss = -0.04302142548298228:  20%|█████                    | 50/250 [03:52<16:12,  4.86s/it]\u001b[A\n",
      "Loss = -0.045774465770572745:  20%|████▊                   | 50/250 [03:57<16:12,  4.86s/it]\u001b[A\n",
      "Loss = -0.045774465770572745:  20%|████▉                   | 51/250 [03:57<16:04,  4.85s/it]\u001b[A\n",
      "Loss = -0.04721464733080017:  20%|█████                    | 51/250 [04:01<16:04,  4.85s/it]\u001b[A\n",
      "Loss = -0.04721464733080017:  21%|█████▏                   | 52/250 [04:02<15:49,  4.80s/it]\u001b[A\n",
      "Loss = -0.050770665757253385:  21%|████▉                   | 52/250 [04:06<15:49,  4.80s/it]\u001b[A\n",
      "Loss = -0.050770665757253385:  21%|█████                   | 53/250 [04:07<15:44,  4.79s/it]\u001b[A\n",
      "Loss = -0.05460140451652741:  21%|█████▎                   | 53/250 [04:11<15:44,  4.79s/it]\u001b[A\n",
      "Loss = -0.05460140451652741:  22%|█████▍                   | 54/250 [04:11<15:27,  4.73s/it]\u001b[A\n",
      "Loss = -0.05826776724206838:  22%|█████▍                   | 54/250 [04:15<15:27,  4.73s/it]\u001b[A\n",
      "Loss = -0.05826776724206838:  22%|█████▌                   | 55/250 [04:16<15:31,  4.78s/it]\u001b[A\n"
     ]
    },
    {
     "name": "stderr",
     "output_type": "stream",
     "text": [
      "Loss = -0.0607418988584346:  22%|█████▋                    | 55/250 [04:20<15:31,  4.78s/it]\u001b[A\n",
      "Loss = -0.0607418988584346:  22%|█████▊                    | 56/250 [04:21<15:18,  4.74s/it]\u001b[A\n",
      "Loss = -0.06537108723575481:  22%|█████▌                   | 56/250 [04:25<15:18,  4.74s/it]\u001b[A\n",
      "Loss = -0.06537108723575481:  23%|█████▋                   | 57/250 [04:25<14:55,  4.64s/it]\u001b[A\n",
      "Loss = -0.0695162840898216:  23%|█████▉                    | 57/250 [04:30<14:55,  4.64s/it]\u001b[A\n",
      "Loss = -0.0695162840898216:  23%|██████                    | 58/250 [04:30<15:11,  4.75s/it]\u001b[A\n",
      "Loss = -0.07444151367535515:  23%|█████▊                   | 58/250 [04:34<15:11,  4.75s/it]\u001b[A\n",
      "Loss = -0.07444151367535515:  24%|█████▉                   | 59/250 [04:35<15:02,  4.73s/it]\u001b[A\n",
      "Loss = -0.07944195691124455:  24%|█████▉                   | 59/250 [04:39<15:02,  4.73s/it]\u001b[A\n",
      "Loss = -0.07944195691124455:  24%|██████                   | 60/250 [04:40<14:59,  4.73s/it]\u001b[A\n",
      "Loss = -0.08595791008048563:  24%|██████                   | 60/250 [04:44<14:59,  4.73s/it]\u001b[A\n",
      "Loss = -0.08595791008048563:  24%|██████                   | 61/250 [04:44<14:45,  4.69s/it]\u001b[A\n",
      "Loss = -0.08996781589446104:  24%|██████                   | 61/250 [04:48<14:45,  4.69s/it]\u001b[A\n",
      "Loss = -0.08996781589446104:  25%|██████▏                  | 62/250 [04:49<14:37,  4.67s/it]\u001b[A\n",
      "Loss = -0.09578230488160541:  25%|██████▏                  | 62/250 [04:53<14:37,  4.67s/it]\u001b[A\n",
      "Loss = -0.09578230488160541:  25%|██████▎                  | 63/250 [04:54<14:32,  4.67s/it]\u001b[A\n",
      "Loss = -0.10383373206637028:  25%|██████▎                  | 63/250 [04:57<14:32,  4.67s/it]\u001b[A\n",
      "Loss = -0.10383373206637028:  26%|██████▍                  | 64/250 [04:58<14:14,  4.60s/it]\u001b[A\n",
      "Loss = -0.10896922340243402:  26%|██████▍                  | 64/250 [05:02<14:14,  4.60s/it]\u001b[A\n",
      "Loss = -0.10896922340243402:  26%|██████▌                  | 65/250 [05:02<14:02,  4.55s/it]\u001b[A\n",
      "Loss = -0.11611773372212668:  26%|██████▌                  | 65/250 [05:06<14:02,  4.55s/it]\u001b[A\n",
      "Loss = -0.11611773372212668:  26%|██████▌                  | 66/250 [05:07<14:06,  4.60s/it]\u001b[A\n",
      "Loss = -0.12505255362526618:  26%|██████▌                  | 66/250 [05:11<14:06,  4.60s/it]\u001b[A\n",
      "Loss = -0.12505255362526618:  27%|██████▋                  | 67/250 [05:11<13:45,  4.51s/it]\u001b[A\n",
      "Loss = -0.1365069855034114:  27%|██████▉                   | 67/250 [05:15<13:45,  4.51s/it]\u001b[A\n",
      "Loss = -0.1365069855034114:  27%|███████                   | 68/250 [05:16<13:32,  4.46s/it]\u001b[A\n",
      "Loss = -0.14660440935264724:  27%|██████▊                  | 68/250 [05:20<13:32,  4.46s/it]\u001b[A\n",
      "Loss = -0.14660440935264724:  28%|██████▉                  | 69/250 [05:20<13:17,  4.41s/it]\u001b[A\n",
      "Loss = -0.15389504813128868:  28%|██████▉                  | 69/250 [05:24<13:17,  4.41s/it]\u001b[A\n",
      "Loss = -0.15389504813128868:  28%|███████                  | 70/250 [05:24<13:06,  4.37s/it]\u001b[A\n",
      "Loss = -0.1635489804679758:  28%|███████▎                  | 70/250 [05:28<13:06,  4.37s/it]\u001b[A\n",
      "Loss = -0.1635489804679758:  28%|███████▍                  | 71/250 [05:29<12:54,  4.33s/it]\u001b[A\n",
      "Loss = -0.17767548579696113:  28%|███████                  | 71/250 [05:32<12:54,  4.33s/it]\u001b[A\n",
      "Loss = -0.17767548579696113:  29%|███████▏                 | 72/250 [05:33<12:45,  4.30s/it]\u001b[A\n",
      "Loss = -0.1955577022144668:  29%|███████▍                  | 72/250 [05:36<12:45,  4.30s/it]\u001b[A\n",
      "Loss = -0.1955577022144668:  29%|███████▌                  | 73/250 [05:37<12:42,  4.31s/it]\u001b[A\n",
      "Loss = -0.20105705507815644:  29%|███████▎                 | 73/250 [05:41<12:42,  4.31s/it]\u001b[A\n",
      "Loss = -0.20105705507815644:  30%|███████▍                 | 74/250 [05:41<12:28,  4.25s/it]\u001b[A\n",
      "Loss = -0.21953678655498304:  30%|███████▍                 | 74/250 [05:45<12:28,  4.25s/it]\u001b[A\n",
      "Loss = -0.21953678655498304:  30%|███████▌                 | 75/250 [05:45<12:16,  4.21s/it]\u001b[A\n",
      "Loss = -0.24266382538959025:  30%|███████▌                 | 75/250 [05:49<12:16,  4.21s/it]\u001b[A\n",
      "Loss = -0.24266382538959025:  30%|███████▌                 | 76/250 [05:50<12:11,  4.20s/it]\u001b[A"
     ]
    }
   ],
   "source": [
    "## size of a mini-batch\n",
    "## learning rate\n",
    "lr=1e-3 #@param {'type':'number'}\n",
    "batch_size =  20 #@param {'type':'integer'}\n",
    "## learning rate\n",
    "dataloader = DataLoader(my_dataset,batch_size=batch_size, shuffle=True)\n",
    "n_epochs = 20\n",
    "tqdm_epoch = tqdm.notebook.trange(n_epochs)\n",
    "optimizer = Adam(score_model.parameters(), lr=lr)\n",
    "i = 0\n",
    "epoch_losses =[]\n",
    "for epoch in tqdm_epoch:\n",
    "    t_dl =tqdm.tqdm(dataloader)\n",
    "    avg_loss = 0.\n",
    "    num_items = 0\n",
    "    for pw in t_dl:\n",
    "        x = pw[0].cpu()\n",
    "        i += 1\n",
    "        loss = loss2(score_model, x)\n",
    "        t_dl.set_description(f\"Loss = {loss.item()}\")\n",
    "        optimizer.zero_grad()\n",
    "        loss.backward()\n",
    "        optimizer.step()\n",
    "        avg_loss += loss.item() * x.shape[0]\n",
    "        num_items += x.shape[0]\n",
    "        epoch_losses.append(avg_loss / num_items)\n",
    "    tqdm_epoch.set_description('Average Loss: {:5f}'.format(avg_loss / num_items))\n",
    "    torch.save(score_model.state_dict(), f\"ckpt_improved_sig_3_epoch{epoch}.pth\")"
   ]
  },
  {
   "cell_type": "code",
   "execution_count": null,
   "metadata": {},
   "outputs": [],
   "source": [
    "plt.plot(epoch_losses)"
   ]
  },
  {
   "cell_type": "code",
   "execution_count": null,
   "metadata": {},
   "outputs": [],
   "source": [
    "## size of a mini-batch\n",
    "## learning rate\n",
    "lr=1e-45 #@param {'type':'number'}\n",
    "batch_size =  20 #@param {'type':'integer'}\n",
    "## learning rate\n",
    "dataloader = DataLoader(my_dataset,batch_size=batch_size, shuffle=True)\n",
    "n_epochs = 20\n",
    "tqdm_epoch = tqdm.notebook.trange(n_epochs)\n",
    "optimizer = Adam(score_model.parameters(), lr=lr)\n",
    "for epoch in tqdm_epoch:\n",
    "    t_dl =tqdm.tqdm(dataloader)\n",
    "    avg_loss = 0.\n",
    "    num_items = 0\n",
    "    for pw in t_dl:\n",
    "        x = pw[0].cpu()\n",
    "        i += 1\n",
    "        loss = loss2(score_model, x)\n",
    "        t_dl.set_description(f\"Loss = {loss.item()}\")\n",
    "        optimizer.zero_grad()\n",
    "        loss.backward()\n",
    "        optimizer.step()\n",
    "        avg_loss += loss.item() * x.shape[0]\n",
    "        num_items += x.shape[0]\n",
    "        epoch_losses.append(avg_loss / num_items)\n",
    "    tqdm_epoch.set_description('Average Loss: {:5f}'.format(avg_loss / num_items))\n",
    "    torch.save(score_model.state_dict(), 'ckpt_improved_sig_3.pth')"
   ]
  },
  {
   "cell_type": "code",
   "execution_count": null,
   "metadata": {},
   "outputs": [],
   "source": []
  },
  {
   "cell_type": "code",
   "execution_count": null,
   "metadata": {},
   "outputs": [],
   "source": [
    "model = ScoreNet(58)"
   ]
  },
  {
   "cell_type": "code",
   "execution_count": null,
   "metadata": {},
   "outputs": [],
   "source": [
    "x = torch.rand(57)\n",
    "x.requires_grad_()"
   ]
  },
  {
   "cell_type": "markdown",
   "metadata": {
    "id": "vZH-sstAK5u1"
   },
   "source": [
    "# generating a uniform position"
   ]
  },
  {
   "cell_type": "code",
   "execution_count": null,
   "metadata": {
    "id": "Z5ypts-X09kO"
   },
   "outputs": [],
   "source": [
    "data = np.load('train_dataset.npy')"
   ]
  },
  {
   "cell_type": "code",
   "execution_count": null,
   "metadata": {
    "id": "DSOfdkZLK5u1"
   },
   "outputs": [],
   "source": [
    "bones = [\n",
    "    (0, 1),\n",
    "    (1, 2),\n",
    "    (1, 3),\n",
    "    (3, 4),\n",
    "    (4, 5),\n",
    "    (5, 6),\n",
    "    (1, 7),\n",
    "    (7, 8),\n",
    "    (8, 9),\n",
    "    (9, 10),\n",
    "    (0, 11),\n",
    "    (11, 12),\n",
    "    (12, 13),\n",
    "    (13, 14),\n",
    "    (0, 15),\n",
    "    (15, 16),\n",
    "    (16, 17),\n",
    "    (17, 18),\n",
    "]"
   ]
  },
  {
   "cell_type": "code",
   "execution_count": null,
   "metadata": {
    "id": "bkxjz44iK5u1"
   },
   "outputs": [],
   "source": [
    "def angles_to_joints(angles, lengths,bones):\n",
    "    pose = torch.zeros((19,3))\n",
    "    pose[0] = torch.tensor([0,0,2])\n",
    "    for i in range(len(bones)):\n",
    "        bone = bones[i]\n",
    "        r = lengths[i]\n",
    "        phi = torch.tensor(angles[i][0])\n",
    "        theta = torch.tensor(angles[i][1])\n",
    "        pose[bone[1]] = pose[bone[0]] + torch.tensor([r*torch.sin(theta)*torch.cos(phi),r*torch.sin(theta)*torch.sin(phi),r*torch.cos(theta)])\n",
    "    return pose"
   ]
  },
  {
   "cell_type": "code",
   "execution_count": null,
   "metadata": {
    "id": "PQYT-ygOK5u1"
   },
   "outputs": [],
   "source": [
    "def lengths(bones,poses):\n",
    "    lengths = []\n",
    "    poses = torch.squeeze(poses).reshape((19,3))\n",
    "    for bone in bones:\n",
    "        l = poses[bone[0]] -poses[bone[1]]\n",
    "        l = torch.sqrt(torch.dot(l,l))\n",
    "        lengths.append(l)\n",
    "    return lengths"
   ]
  },
  {
   "cell_type": "code",
   "execution_count": null,
   "metadata": {
    "id": "7EFgN-p5K5u1"
   },
   "outputs": [],
   "source": [
    "def uniform_generator(x_init,bones):\n",
    "    random_angles = torch.vstack([torch.rand(18)*torch.pi*2,torch.acos(2*torch.rand(18) -1)]).T\n",
    "    lengths1 = lengths(bones, x_init)\n",
    "    return angles_to_joints(random_angles,lengths1,bones)"
   ]
  },
  {
   "cell_type": "markdown",
   "metadata": {
    "id": "NdAl5kBIK5u2"
   },
   "source": [
    "since the original SDE was just Brownian motion, the reverse is simply:"
   ]
  },
  {
   "cell_type": "code",
   "execution_count": null,
   "metadata": {
    "id": "_daYIeKCK5u2"
   },
   "outputs": [],
   "source": [
    "data = np.load('train_dataset.npy')\n",
    "x_init = torch.squeeze(torch.tensor(data[0]))"
   ]
  },
  {
   "cell_type": "code",
   "execution_count": null,
   "metadata": {
    "id": "WKgbjtEpK5u2"
   },
   "outputs": [],
   "source": [
    "#ckpt = torch.load('ckpt.pth')\n",
    "score_model.load_state_dict(ckpt)"
   ]
  },
  {
   "cell_type": "code",
   "execution_count": null,
   "metadata": {
    "id": "5odP6xwKK5u3"
   },
   "outputs": [],
   "source": [
    "q_init = uniform_generator(torch.squeeze(x_init),bones)"
   ]
  },
  {
   "cell_type": "code",
   "execution_count": null,
   "metadata": {
    "id": "zk5d0S2nLW5z"
   },
   "outputs": [],
   "source": [
    "torch._dynamo.config.suppress_errors = True"
   ]
  },
  {
   "cell_type": "code",
   "execution_count": null,
   "metadata": {
    "id": "JgHHzju5K5u3"
   },
   "outputs": [],
   "source": [
    "@torch.compile(mode = \"max-autotune\")\n",
    "def run_simulation(q_init,steps):\n",
    "  h = 1/steps\n",
    "  positions = []\n",
    "  q = torch.flatten(torch.squeeze(q_init))\n",
    "  gs = [length_constraint(i,j,torch.squeeze(q)) for (i,j) in bones2]\n",
    "  gs.append(length_constraint_2(1,torch.squeeze(q)))\n",
    "  gs.append(length_constraint_2(11,torch.squeeze(q)))\n",
    "  gs.append(length_constraint_2(15,torch.squeeze(q)))\n",
    "  p = torch.zeros_like(q)\n",
    "  M = torch.eye(q.size()[0])\n",
    "  L_fn = cotangent_projection(gs)\n",
    "  @torch.compile()\n",
    "  def force(y):\n",
    "    with torch.no_grad():\n",
    "      x = torch.unsqueeze(y,0)\n",
    "      L = L_fn(x)\n",
    "      score = -score_model(x,time,L)\n",
    "    return torch.squeeze(score)\n",
    "  for step in range(1,steps):\n",
    "      print(step)\n",
    "      time = torch.tensor([1-(step)*h])\n",
    "      q1 = q\n",
    "      q, p = gBAOAB_step_exact(q,p,force, gs, h,M, 1,1,1,10**(-11))\n",
    "      print(f\"Movement of q: {torch.linalg.norm(q-q1)}\")\n",
    "      positions.append(q)\n",
    "  return positions"
   ]
  },
  {
   "cell_type": "code",
   "execution_count": null,
   "metadata": {
    "id": "Bu4AeokdsXex"
   },
   "outputs": [],
   "source": [
    "positions = run_simulation(q_init, 10000)"
   ]
  },
  {
   "cell_type": "code",
   "execution_count": null,
   "metadata": {
    "id": "v9XGjFrLKOTn"
   },
   "outputs": [],
   "source": [
    "pos = np.array([p.detach() for p in positions])\n",
    "np.save('reverse_pos_new.npy',pos)"
   ]
  }
 ],
 "metadata": {
  "accelerator": "GPU",
  "colab": {
   "gpuType": "T4",
   "machine_shape": "hm",
   "provenance": []
  },
  "kernelspec": {
   "display_name": "Python 3 (ipykernel)",
   "language": "python",
   "name": "python3"
  },
  "language_info": {
   "codemirror_mode": {
    "name": "ipython",
    "version": 3
   },
   "file_extension": ".py",
   "mimetype": "text/x-python",
   "name": "python",
   "nbconvert_exporter": "python",
   "pygments_lexer": "ipython3",
   "version": "3.12.3"
  },
  "widgets": {
   "application/vnd.jupyter.widget-state+json": {
    "2b161c7ea98d4648b9ad84e6f4a97fa5": {
     "model_module": "@jupyter-widgets/base",
     "model_module_version": "1.2.0",
     "model_name": "LayoutModel",
     "state": {
      "_model_module": "@jupyter-widgets/base",
      "_model_module_version": "1.2.0",
      "_model_name": "LayoutModel",
      "_view_count": null,
      "_view_module": "@jupyter-widgets/base",
      "_view_module_version": "1.2.0",
      "_view_name": "LayoutView",
      "align_content": null,
      "align_items": null,
      "align_self": null,
      "border": null,
      "bottom": null,
      "display": null,
      "flex": null,
      "flex_flow": null,
      "grid_area": null,
      "grid_auto_columns": null,
      "grid_auto_flow": null,
      "grid_auto_rows": null,
      "grid_column": null,
      "grid_gap": null,
      "grid_row": null,
      "grid_template_areas": null,
      "grid_template_columns": null,
      "grid_template_rows": null,
      "height": null,
      "justify_content": null,
      "justify_items": null,
      "left": null,
      "margin": null,
      "max_height": null,
      "max_width": null,
      "min_height": null,
      "min_width": null,
      "object_fit": null,
      "object_position": null,
      "order": null,
      "overflow": null,
      "overflow_x": null,
      "overflow_y": null,
      "padding": null,
      "right": null,
      "top": null,
      "visibility": null,
      "width": null
     }
    },
    "2db38815745c4ef7a0f2e9ecff49e4d9": {
     "model_module": "@jupyter-widgets/controls",
     "model_module_version": "1.5.0",
     "model_name": "HBoxModel",
     "state": {
      "_dom_classes": [],
      "_model_module": "@jupyter-widgets/controls",
      "_model_module_version": "1.5.0",
      "_model_name": "HBoxModel",
      "_view_count": null,
      "_view_module": "@jupyter-widgets/controls",
      "_view_module_version": "1.5.0",
      "_view_name": "HBoxView",
      "box_style": "",
      "children": [
       "IPY_MODEL_dc07c6bed52d4953a29c7fa2bc4d3afb",
       "IPY_MODEL_b701e636ae964b93846351da862e9a6e",
       "IPY_MODEL_4f04cf628d904d629aecce36c6b570da"
      ],
      "layout": "IPY_MODEL_2b161c7ea98d4648b9ad84e6f4a97fa5"
     }
    },
    "43d8c64d6d05432bb457d8703ef02dc7": {
     "model_module": "@jupyter-widgets/controls",
     "model_module_version": "1.5.0",
     "model_name": "ProgressStyleModel",
     "state": {
      "_model_module": "@jupyter-widgets/controls",
      "_model_module_version": "1.5.0",
      "_model_name": "ProgressStyleModel",
      "_view_count": null,
      "_view_module": "@jupyter-widgets/base",
      "_view_module_version": "1.2.0",
      "_view_name": "StyleView",
      "bar_color": null,
      "description_width": ""
     }
    },
    "4f04cf628d904d629aecce36c6b570da": {
     "model_module": "@jupyter-widgets/controls",
     "model_module_version": "1.5.0",
     "model_name": "HTMLModel",
     "state": {
      "_dom_classes": [],
      "_model_module": "@jupyter-widgets/controls",
      "_model_module_version": "1.5.0",
      "_model_name": "HTMLModel",
      "_view_count": null,
      "_view_module": "@jupyter-widgets/controls",
      "_view_module_version": "1.5.0",
      "_view_name": "HTMLView",
      "description": "",
      "description_tooltip": null,
      "layout": "IPY_MODEL_bc501923dab941729e208365adc862d7",
      "placeholder": "​",
      "style": "IPY_MODEL_bd6ac960e16641baba0208ef32647b86",
      "value": " 0/10 [00:00&lt;?, ?it/s]"
     }
    },
    "5aa5feed4a9649b8979721a0dbd62c89": {
     "model_module": "@jupyter-widgets/base",
     "model_module_version": "1.2.0",
     "model_name": "LayoutModel",
     "state": {
      "_model_module": "@jupyter-widgets/base",
      "_model_module_version": "1.2.0",
      "_model_name": "LayoutModel",
      "_view_count": null,
      "_view_module": "@jupyter-widgets/base",
      "_view_module_version": "1.2.0",
      "_view_name": "LayoutView",
      "align_content": null,
      "align_items": null,
      "align_self": null,
      "border": null,
      "bottom": null,
      "display": null,
      "flex": null,
      "flex_flow": null,
      "grid_area": null,
      "grid_auto_columns": null,
      "grid_auto_flow": null,
      "grid_auto_rows": null,
      "grid_column": null,
      "grid_gap": null,
      "grid_row": null,
      "grid_template_areas": null,
      "grid_template_columns": null,
      "grid_template_rows": null,
      "height": null,
      "justify_content": null,
      "justify_items": null,
      "left": null,
      "margin": null,
      "max_height": null,
      "max_width": null,
      "min_height": null,
      "min_width": null,
      "object_fit": null,
      "object_position": null,
      "order": null,
      "overflow": null,
      "overflow_x": null,
      "overflow_y": null,
      "padding": null,
      "right": null,
      "top": null,
      "visibility": null,
      "width": null
     }
    },
    "b6ade77cf83247f7aa6fd8814387745c": {
     "model_module": "@jupyter-widgets/controls",
     "model_module_version": "1.5.0",
     "model_name": "DescriptionStyleModel",
     "state": {
      "_model_module": "@jupyter-widgets/controls",
      "_model_module_version": "1.5.0",
      "_model_name": "DescriptionStyleModel",
      "_view_count": null,
      "_view_module": "@jupyter-widgets/base",
      "_view_module_version": "1.2.0",
      "_view_name": "StyleView",
      "description_width": ""
     }
    },
    "b701e636ae964b93846351da862e9a6e": {
     "model_module": "@jupyter-widgets/controls",
     "model_module_version": "1.5.0",
     "model_name": "FloatProgressModel",
     "state": {
      "_dom_classes": [],
      "_model_module": "@jupyter-widgets/controls",
      "_model_module_version": "1.5.0",
      "_model_name": "FloatProgressModel",
      "_view_count": null,
      "_view_module": "@jupyter-widgets/controls",
      "_view_module_version": "1.5.0",
      "_view_name": "ProgressView",
      "bar_style": "",
      "description": "",
      "description_tooltip": null,
      "layout": "IPY_MODEL_f64c94f7377e4b6ab597ddc18f26e2ff",
      "max": 10,
      "min": 0,
      "orientation": "horizontal",
      "style": "IPY_MODEL_43d8c64d6d05432bb457d8703ef02dc7",
      "value": 0
     }
    },
    "bc501923dab941729e208365adc862d7": {
     "model_module": "@jupyter-widgets/base",
     "model_module_version": "1.2.0",
     "model_name": "LayoutModel",
     "state": {
      "_model_module": "@jupyter-widgets/base",
      "_model_module_version": "1.2.0",
      "_model_name": "LayoutModel",
      "_view_count": null,
      "_view_module": "@jupyter-widgets/base",
      "_view_module_version": "1.2.0",
      "_view_name": "LayoutView",
      "align_content": null,
      "align_items": null,
      "align_self": null,
      "border": null,
      "bottom": null,
      "display": null,
      "flex": null,
      "flex_flow": null,
      "grid_area": null,
      "grid_auto_columns": null,
      "grid_auto_flow": null,
      "grid_auto_rows": null,
      "grid_column": null,
      "grid_gap": null,
      "grid_row": null,
      "grid_template_areas": null,
      "grid_template_columns": null,
      "grid_template_rows": null,
      "height": null,
      "justify_content": null,
      "justify_items": null,
      "left": null,
      "margin": null,
      "max_height": null,
      "max_width": null,
      "min_height": null,
      "min_width": null,
      "object_fit": null,
      "object_position": null,
      "order": null,
      "overflow": null,
      "overflow_x": null,
      "overflow_y": null,
      "padding": null,
      "right": null,
      "top": null,
      "visibility": null,
      "width": null
     }
    },
    "bd6ac960e16641baba0208ef32647b86": {
     "model_module": "@jupyter-widgets/controls",
     "model_module_version": "1.5.0",
     "model_name": "DescriptionStyleModel",
     "state": {
      "_model_module": "@jupyter-widgets/controls",
      "_model_module_version": "1.5.0",
      "_model_name": "DescriptionStyleModel",
      "_view_count": null,
      "_view_module": "@jupyter-widgets/base",
      "_view_module_version": "1.2.0",
      "_view_name": "StyleView",
      "description_width": ""
     }
    },
    "dc07c6bed52d4953a29c7fa2bc4d3afb": {
     "model_module": "@jupyter-widgets/controls",
     "model_module_version": "1.5.0",
     "model_name": "HTMLModel",
     "state": {
      "_dom_classes": [],
      "_model_module": "@jupyter-widgets/controls",
      "_model_module_version": "1.5.0",
      "_model_name": "HTMLModel",
      "_view_count": null,
      "_view_module": "@jupyter-widgets/controls",
      "_view_module_version": "1.5.0",
      "_view_name": "HTMLView",
      "description": "",
      "description_tooltip": null,
      "layout": "IPY_MODEL_5aa5feed4a9649b8979721a0dbd62c89",
      "placeholder": "​",
      "style": "IPY_MODEL_b6ade77cf83247f7aa6fd8814387745c",
      "value": "  0%"
     }
    },
    "f64c94f7377e4b6ab597ddc18f26e2ff": {
     "model_module": "@jupyter-widgets/base",
     "model_module_version": "1.2.0",
     "model_name": "LayoutModel",
     "state": {
      "_model_module": "@jupyter-widgets/base",
      "_model_module_version": "1.2.0",
      "_model_name": "LayoutModel",
      "_view_count": null,
      "_view_module": "@jupyter-widgets/base",
      "_view_module_version": "1.2.0",
      "_view_name": "LayoutView",
      "align_content": null,
      "align_items": null,
      "align_self": null,
      "border": null,
      "bottom": null,
      "display": null,
      "flex": null,
      "flex_flow": null,
      "grid_area": null,
      "grid_auto_columns": null,
      "grid_auto_flow": null,
      "grid_auto_rows": null,
      "grid_column": null,
      "grid_gap": null,
      "grid_row": null,
      "grid_template_areas": null,
      "grid_template_columns": null,
      "grid_template_rows": null,
      "height": null,
      "justify_content": null,
      "justify_items": null,
      "left": null,
      "margin": null,
      "max_height": null,
      "max_width": null,
      "min_height": null,
      "min_width": null,
      "object_fit": null,
      "object_position": null,
      "order": null,
      "overflow": null,
      "overflow_x": null,
      "overflow_y": null,
      "padding": null,
      "right": null,
      "top": null,
      "visibility": null,
      "width": null
     }
    }
   }
  }
 },
 "nbformat": 4,
 "nbformat_minor": 1
}
