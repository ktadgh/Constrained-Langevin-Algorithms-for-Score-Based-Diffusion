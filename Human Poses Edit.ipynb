{
 "cells": [
  {
   "cell_type": "code",
   "execution_count": 12,
   "metadata": {
    "collapsed": true
   },
   "outputs": [],
   "source": [
    "import c3d\n",
    "import mat4py\n",
    "import functools\n",
    "import scipy.io\n",
    "from torch.utils.data import TensorDataset, DataLoader, Dataset\n",
    "from tqdm import notebook\n",
    "from torch.optim import Adam\n",
    "from torch.utils.data import DataLoader\n",
    "import tqdm\n",
    "device ='cpu'"
   ]
  },
  {
   "cell_type": "code",
   "execution_count": 13,
   "outputs": [],
   "source": [
    "\n",
    "mat = scipy.io.loadmat('C:\\\\Users\\\\Desktop\\\\Thesis\\\\HumanEval\\\\S1\\\\Mocap_Data\\\\Jog_1.mat')"
   ],
   "metadata": {
    "collapsed": false
   }
  },
  {
   "cell_type": "code",
   "execution_count": 14,
   "outputs": [
    {
     "data": {
      "text/plain": "{'__header__': b'MATLAB 5.0 MAT-file, Platform: PCWIN, Created on: Thu Apr 20 11:49:05 2006',\n '__version__': '1.0',\n '__globals__': [],\n 'Markers': array([[[ 221.59651184,  343.78814697,  856.953125  ],\n         [ 122.5647049 ,  118.52044678,  916.05212402],\n         [ 323.14709473,  262.29598999,  691.0211792 ],\n         ...,\n         [   0.        ,    0.        ,    0.        ],\n         [   0.        ,    0.        ,    0.        ],\n         [   0.        ,    0.        ,    0.        ]],\n \n        [[ 220.72203064,  348.77249146,  857.690979  ],\n         [ 124.97068787,  123.20597076,  916.60211182],\n         [ 323.64660645,  272.44403076,  692.46826172],\n         ...,\n         [   0.        ,    0.        ,    0.        ],\n         [   0.        ,    0.        ,    0.        ],\n         [   0.        ,    0.        ,    0.        ]],\n \n        [[ 219.99052429,  354.8649292 ,  858.96362305],\n         [ 127.46140289,  128.49403381,  917.2857666 ],\n         [ 323.96463013,  282.65301514,  694.02471924],\n         ...,\n         [   0.        ,    0.        ,    0.        ],\n         [   0.        ,    0.        ,    0.        ],\n         [   0.        ,    0.        ,    0.        ]],\n \n        ...,\n \n        [[-296.38031006, -871.67700195,  898.92687988],\n         [-538.54290771, -734.18353271,  949.72827148],\n         [-428.25265503, -961.25982666,  685.27905273],\n         ...,\n         [   0.        ,    0.        ,    0.        ],\n         [-336.22576904, -761.65380859,  887.44403076],\n         [-336.22576904, -761.65380859,    0.        ]],\n \n        [[-291.37020874, -871.17114258,  898.38500977],\n         [-532.77331543, -732.32312012,  946.94580078],\n         [-422.80996704, -960.73052979,  684.7543335 ],\n         ...,\n         [   0.        ,    0.        ,    0.        ],\n         [-331.7456665 , -760.6439209 ,  886.72802734],\n         [-331.7456665 , -760.6439209 ,    0.        ]],\n \n        [[-286.09228516, -870.48999023,  897.81329346],\n         [-528.18487549, -731.22406006,  946.71917725],\n         [-417.29837036, -960.11962891,  684.15576172],\n         ...,\n         [   0.        ,    0.        ,    0.        ],\n         [-327.1880188 , -759.449646  ,  886.03613281],\n         [-327.1880188 , -759.449646  ,    0.        ]]]),\n 'VideoFrameRate': array([[120]], dtype=uint8),\n 'AnalogSignals': array([], shape=(0, 0), dtype=uint8),\n 'AnalogFrameRate': array([[0]], dtype=uint8),\n 'Event': array([], shape=(0, 0), dtype=uint8),\n 'ParameterGroup': array([[(array([[array(['TRIAL'], dtype='<U5')]], dtype=object), array([[array([], dtype='<U1')]], dtype=object), array([[(array([[array(['ACTUAL_START_FIELD'], dtype='<U18')]], dtype=object), array([[2]], dtype=uint8), array([[2]], dtype=uint8), array([[1],\n                        [0]], dtype=uint8))                                                                                                              ,\n                 (array([[array(['ACTUAL_END_FIELD'], dtype='<U16')]], dtype=object), array([[2]], dtype=uint8), array([[2]], dtype=uint8), array([[2733],\n                        [   0]], dtype=uint16))                                                                                                           ,\n                 (array([[array(['CAMERA_RATE'], dtype='<U11')]], dtype=object), array([[4]], dtype=uint8), array([], shape=(1, 0), dtype=float64), array([[120]], dtype=uint8)),\n                 (array([[array(['VIDEO_RATE_DIVIDER'], dtype='<U18')]], dtype=object), array([[2]], dtype=uint8), array([], shape=(1, 0), dtype=float64), array([[1]], dtype=uint8))]],\n               dtype=[('name', 'O'), ('datatype', 'O'), ('dim', 'O'), ('data', 'O')]))                                                                                                                                                                             ,\n         (array([[array(['SUBJECTS'], dtype='<U8')]], dtype=object), array([[array([], dtype='<U1')]], dtype=object), array([[(array([[array(['IS_STATIC'], dtype='<U9')]], dtype=object), array([[2]], dtype=uint8), array([[1]], dtype=uint8), array([], shape=(1, 0), dtype=float64)),\n                 (array([[array(['USES_PREFIXES'], dtype='<U13')]], dtype=object), array([[2]], dtype=uint8), array([[1]], dtype=uint8), array([], shape=(1, 0), dtype=float64)),\n                 (array([[array(['USED'], dtype='<U4')]], dtype=object), array([[2]], dtype=uint8), array([[1]], dtype=uint8), array([], shape=(1, 0), dtype=float64)),\n                 (array([[array(['NAMES'], dtype='<U5')]], dtype=object), array([[-1]], dtype=int16), array([[array(['RL'], dtype='<U2')]], dtype=object), array([[32,  1]], dtype=uint8)),\n                 (array([[array(['LABEL_PREFIXES'], dtype='<U14')]], dtype=object), array([[-1]], dtype=int16), array([[array(['RL:'], dtype='<U3')]], dtype=object), array([[32,  1]], dtype=uint8)),\n                 (array([[array(['MARKER_SETS'], dtype='<U11')]], dtype=object), array([[-1]], dtype=int16), array([[array(['PlugInGait'], dtype='<U10')]], dtype=object), array([[32,  1]], dtype=uint8)),\n                 (array([[array(['DISPLAY_SETS'], dtype='<U12')]], dtype=object), array([[-1]], dtype=int16), array([[array(['Autolabel'], dtype='<U9')]], dtype=object), array([[32,  1]], dtype=uint8)),\n                 (array([[array(['MODELS'], dtype='<U6')]], dtype=object), array([[-1]], dtype=int16), array([[array([], dtype='<U1')]], dtype=object), array([[32,  1]], dtype=uint8)),\n                 (array([[array(['MODEL_PARAMS'], dtype='<U12')]], dtype=object), array([[-1]], dtype=int16), array([[array([], dtype='<U1')]], dtype=object), array([[32,  1]], dtype=uint8))]],\n               dtype=[('name', 'O'), ('datatype', 'O'), ('data', 'O'), ('dim', 'O')]))                                                                                                                                                                                                   ,\n         (array([[array(['POINT'], dtype='<U5')]], dtype=object), array([[array([], dtype='<U1')]], dtype=object), array([[(array([[array(['USED'], dtype='<U4')]], dtype=object), array([[2]], dtype=uint8), array([[196]], dtype=uint8), array([], shape=(1, 0), dtype=float64)),\n                 (array([[array(['FRAMES'], dtype='<U6')]], dtype=object), array([[2]], dtype=uint8), array([[2733]], dtype=uint16), array([], shape=(1, 0), dtype=float64)),\n                 (array([[array(['DATA_START'], dtype='<U10')]], dtype=object), array([[2]], dtype=uint8), array([[45]], dtype=uint8), array([], shape=(1, 0), dtype=float64)),\n                 (array([[array(['SCALE'], dtype='<U5')]], dtype=object), array([[4]], dtype=uint8), array([[-0.1]]), array([], shape=(1, 0), dtype=float64)),\n                 (array([[array(['RATE'], dtype='<U4')]], dtype=object), array([[4]], dtype=uint8), array([[120]], dtype=uint8), array([], shape=(1, 0), dtype=float64)),\n                 (array([[array(['MOVIE_DELAY'], dtype='<U11')]], dtype=object), array([[4]], dtype=uint8), array([[0]], dtype=uint8), array([], shape=(1, 0), dtype=float64)),\n                 (array([[array(['X_SCREEN'], dtype='<U8')]], dtype=object), array([[-1]], dtype=int16), array([[array(['+X'], dtype='<U2')]], dtype=object), array([[2]], dtype=uint8)),\n                 (array([[array(['Y_SCREEN'], dtype='<U8')]], dtype=object), array([[-1]], dtype=int16), array([[array(['+Z'], dtype='<U2')]], dtype=object), array([[2]], dtype=uint8)),\n                 (array([[array(['UNITS'], dtype='<U5')]], dtype=object), array([[-1]], dtype=int16), array([[array(['mm'], dtype='<U2')]], dtype=object), array([[2]], dtype=uint8)),\n                 (array([[array(['ANGLE_UNITS'], dtype='<U11')]], dtype=object), array([[-1]], dtype=int16), array([[array(['deg'], dtype='<U3')]], dtype=object), array([[3]], dtype=uint8)),\n                 (array([[array(['FORCE_UNITS'], dtype='<U11')]], dtype=object), array([[-1]], dtype=int16), array([[array(['N'], dtype='<U1')]], dtype=object), array([[1]], dtype=uint8)),\n                 (array([[array(['MOMENT_UNITS'], dtype='<U12')]], dtype=object), array([[-1]], dtype=int16), array([[array(['Nmm'], dtype='<U3')]], dtype=object), array([[3]], dtype=uint8)),\n                 (array([[array(['POWER_UNITS'], dtype='<U11')]], dtype=object), array([[-1]], dtype=int16), array([[array(['W'], dtype='<U1')]], dtype=object), array([[1]], dtype=uint8)),\n                 (array([[array(['SCALAR_UNITS'], dtype='<U12')]], dtype=object), array([[-1]], dtype=int16), array([[array(['mm'], dtype='<U2')]], dtype=object), array([[2]], dtype=uint8)),\n                 (array([[array(['LABELS'], dtype='<U6')]], dtype=object), array([[-1]], dtype=int16), array([[array(['RL:RASI'], dtype='<U7'), array(['RL:RPSI'], dtype='<U7'),\n                         array(['RL:RTHI'], dtype='<U7'), array(['RL:RWRB'], dtype='<U7'),\n                         array(['RL:RFIN'], dtype='<U7'), array(['RL:RWRA'], dtype='<U7'),\n                         array(['RL:RFRA'], dtype='<U7'), array(['RL:LWRB'], dtype='<U7'),\n                         array(['RL:STRN'], dtype='<U7'), array(['RL:LFIN'], dtype='<U7'),\n                         array(['RL:T10'], dtype='<U6'), array(['RL:LTHI'], dtype='<U7'),\n                         array(['RL:LFRA'], dtype='<U7'), array(['RL:RELB'], dtype='<U7'),\n                         array(['RL:LWRA'], dtype='<U7'), array(['RL:RUPA'], dtype='<U7'),\n                         array(['RL:RBAK'], dtype='<U7'), array(['RL:RKNE'], dtype='<U7'),\n                         array(['RL:LKNE'], dtype='<U7'), array(['RL:CLAV'], dtype='<U7'),\n                         array(['RL:LUPA'], dtype='<U7'), array(['RL:RTIB'], dtype='<U7'),\n                         array(['RL:RSHO'], dtype='<U7'), array(['RL:LSHO'], dtype='<U7'),\n                         array(['RL:RANK'], dtype='<U7'), array(['RL:RHEE'], dtype='<U7'),\n                         array(['RL:RBHD'], dtype='<U7'), array(['RL:LTIB'], dtype='<U7'),\n                         array(['RL:LBHD'], dtype='<U7'), array(['RL:RFHD'], dtype='<U7'),\n                         array(['RL:LFHD'], dtype='<U7'), array(['RL:RTOE'], dtype='<U7'),\n                         array(['RL:LANK'], dtype='<U7'), array(['RL:LTOE'], dtype='<U7'),\n                         array(['RL:LHEE'], dtype='<U7'), array(['RL:LELB'], dtype='<U7'),\n                         array(['RL:LASI'], dtype='<U7'), array(['RL:LPSI'], dtype='<U7'),\n                         array(['RL:C7'], dtype='<U5'), array(['*40'], dtype='<U3'),\n                         array(['*41'], dtype='<U3'), array(['*42'], dtype='<U3'),\n                         array(['RL:RBHD-1'], dtype='<U9'),\n                         array(['RL:RASI-1'], dtype='<U9'),\n                         array(['RL:LASI-1'], dtype='<U9'),\n                         array(['RL:LPSI-1'], dtype='<U9'),\n                         array(['RL:LHipAngles'], dtype='<U13'),\n                         array(['RL:LKneeAngles'], dtype='<U14'),\n                         array(['RL:LAnkleAngles'], dtype='<U15'),\n                         array(['RL:RHipAngles'], dtype='<U13'),\n                         array(['RL:RKneeAngles'], dtype='<U14'),\n                         array(['RL:RAnkleAngles'], dtype='<U15'),\n                         array(['RL:LShoulderAngles'], dtype='<U18'),\n                         array(['RL:LElbowAngles'], dtype='<U15'),\n                         array(['RL:LWristAngles'], dtype='<U15'),\n                         array(['RL:RShoulderAngles'], dtype='<U18'),\n                         array(['RL:RElbowAngles'], dtype='<U15'),\n                         array(['RL:RWristAngles'], dtype='<U15'),\n                         array(['RL:LNeckAngles'], dtype='<U14'),\n                         array(['RL:RNeckAngles'], dtype='<U14'),\n                         array(['RL:LSpineAngles'], dtype='<U15'),\n                         array(['RL:RSpineAngles'], dtype='<U15'),\n                         array(['RL:LHeadAngles'], dtype='<U14'),\n                         array(['RL:RHeadAngles'], dtype='<U14'),\n                         array(['RL:LThoraxAngles'], dtype='<U16'),\n                         array(['RL:RThoraxAngles'], dtype='<U16'),\n                         array(['RL:LPelvisAngles'], dtype='<U16'),\n                         array(['RL:RPelvisAngles'], dtype='<U16'),\n                         array(['RL:LFootProgressAngles'], dtype='<U22'),\n                         array(['RL:RFootProgressAngles'], dtype='<U22'),\n                         array(['RL:PELO'], dtype='<U7'), array(['RL:PELP'], dtype='<U7'),\n                         array(['RL:PELA'], dtype='<U7'), array(['RL:PELL'], dtype='<U7'),\n                         array(['RL:LFEO'], dtype='<U7'), array(['RL:LFEP'], dtype='<U7'),\n                         array(['RL:LFEA'], dtype='<U7'), array(['RL:LFEL'], dtype='<U7'),\n                         array(['RL:LTIO'], dtype='<U7'), array(['RL:LTIP'], dtype='<U7'),\n                         array(['RL:LTIA'], dtype='<U7'), array(['RL:LTIL'], dtype='<U7'),\n                         array(['RL:LFOO'], dtype='<U7'), array(['RL:LFOP'], dtype='<U7'),\n                         array(['RL:LFOA'], dtype='<U7'), array(['RL:LFOL'], dtype='<U7'),\n                         array(['RL:LTOO'], dtype='<U7'), array(['RL:LTOP'], dtype='<U7'),\n                         array(['RL:LTOA'], dtype='<U7'), array(['RL:LTOL'], dtype='<U7'),\n                         array(['RL:RFEO'], dtype='<U7'), array(['RL:RFEP'], dtype='<U7'),\n                         array(['RL:RFEA'], dtype='<U7'), array(['RL:RFEL'], dtype='<U7'),\n                         array(['RL:RTIO'], dtype='<U7'), array(['RL:RTIP'], dtype='<U7'),\n                         array(['RL:RTIA'], dtype='<U7'), array(['RL:RTIL'], dtype='<U7'),\n                         array(['RL:RFOO'], dtype='<U7'), array(['RL:RFOP'], dtype='<U7'),\n                         array(['RL:RFOA'], dtype='<U7'), array(['RL:RFOL'], dtype='<U7'),\n                         array(['RL:RTOO'], dtype='<U7'), array(['RL:RTOP'], dtype='<U7'),\n                         array(['RL:RTOA'], dtype='<U7'), array(['RL:RTOL'], dtype='<U7'),\n                         array(['RL:TRXO'], dtype='<U7'), array(['RL:TRXP'], dtype='<U7'),\n                         array(['RL:TRXA'], dtype='<U7'), array(['RL:TRXL'], dtype='<U7'),\n                         array(['RL:HEDO'], dtype='<U7'), array(['RL:HEDP'], dtype='<U7'),\n                         array(['RL:HEDA'], dtype='<U7'), array(['RL:HEDL'], dtype='<U7'),\n                         array(['RL:LCLO'], dtype='<U7'), array(['RL:LCLP'], dtype='<U7'),\n                         array(['RL:LCLA'], dtype='<U7'), array(['RL:LCLL'], dtype='<U7'),\n                         array(['RL:LHUO'], dtype='<U7'), array(['RL:LHUP'], dtype='<U7'),\n                         array(['RL:LHUA'], dtype='<U7'), array(['RL:LHUL'], dtype='<U7'),\n                         array(['RL:LRAO'], dtype='<U7'), array(['RL:LRAP'], dtype='<U7'),\n                         array(['RL:LRAA'], dtype='<U7'), array(['RL:LRAL'], dtype='<U7'),\n                         array(['RL:LHNO'], dtype='<U7'), array(['RL:LHNP'], dtype='<U7'),\n                         array(['RL:LHNA'], dtype='<U7'), array(['RL:LHNL'], dtype='<U7'),\n                         array(['RL:RCLO'], dtype='<U7'), array(['RL:RCLP'], dtype='<U7'),\n                         array(['RL:RCLA'], dtype='<U7'), array(['RL:RCLL'], dtype='<U7'),\n                         array(['RL:RHUO'], dtype='<U7'), array(['RL:RHUP'], dtype='<U7'),\n                         array(['RL:RHUA'], dtype='<U7'), array(['RL:RHUL'], dtype='<U7'),\n                         array(['RL:RRAO'], dtype='<U7'), array(['RL:RRAP'], dtype='<U7'),\n                         array(['RL:RRAA'], dtype='<U7'), array(['RL:RRAL'], dtype='<U7'),\n                         array(['RL:RHNO'], dtype='<U7'), array(['RL:RHNP'], dtype='<U7'),\n                         array(['RL:RHNA'], dtype='<U7'), array(['RL:RHNL'], dtype='<U7'),\n                         array(['RL:LAnkleForce'], dtype='<U14'),\n                         array(['RL:RAnkleForce'], dtype='<U14'),\n                         array(['RL:LKneeForce'], dtype='<U13'),\n                         array(['RL:RKneeForce'], dtype='<U13'),\n                         array(['RL:LHipForce'], dtype='<U12'),\n                         array(['RL:RHipForce'], dtype='<U12'),\n                         array(['RL:LWaistForce'], dtype='<U14'),\n                         array(['RL:RWaistForce'], dtype='<U14'),\n                         array(['RL:LNeckForce'], dtype='<U13'),\n                         array(['RL:RNeckForce'], dtype='<U13'),\n                         array(['RL:LShoulderForce'], dtype='<U17'),\n                         array(['RL:RShoulderForce'], dtype='<U17'),\n                         array(['RL:LElbowForce'], dtype='<U14'),\n                         array(['RL:RElbowForce'], dtype='<U14'),\n                         array(['RL:LWristForce'], dtype='<U14'),\n                         array(['RL:RWristForce'], dtype='<U14'),\n                         array(['RL:LAnkleMoment'], dtype='<U15'),\n                         array(['RL:RAnkleMoment'], dtype='<U15'),\n                         array(['RL:LKneeMoment'], dtype='<U14'),\n                         array(['RL:RKneeMoment'], dtype='<U14'),\n                         array(['RL:LHipMoment'], dtype='<U13'),\n                         array(['RL:RHipMoment'], dtype='<U13'),\n                         array(['RL:LWaistMoment'], dtype='<U15'),\n                         array(['RL:RWaistMoment'], dtype='<U15'),\n                         array(['RL:LNeckMoment'], dtype='<U14'),\n                         array(['RL:RNeckMoment'], dtype='<U14'),\n                         array(['RL:LShoulderMoment'], dtype='<U18'),\n                         array(['RL:RShoulderMoment'], dtype='<U18'),\n                         array(['RL:LElbowMoment'], dtype='<U15'),\n                         array(['RL:RElbowMoment'], dtype='<U15'),\n                         array(['RL:LWristMoment'], dtype='<U15'),\n                         array(['RL:RWristMoment'], dtype='<U15'),\n                         array(['RL:LAnklePower'], dtype='<U14'),\n                         array(['RL:RAnklePower'], dtype='<U14'),\n                         array(['RL:LKneePower'], dtype='<U13'),\n                         array(['RL:RKneePower'], dtype='<U13'),\n                         array(['RL:LHipPower'], dtype='<U12'),\n                         array(['RL:RHipPower'], dtype='<U12'),\n                         array(['RL:LWaistPower'], dtype='<U14'),\n                         array(['RL:RWaistPower'], dtype='<U14'),\n                         array(['RL:LNeckPower'], dtype='<U13'),\n                         array(['RL:RNeckPower'], dtype='<U13'),\n                         array(['RL:LShoulderPower'], dtype='<U17'),\n                         array(['RL:RShoulderPower'], dtype='<U17'),\n                         array(['RL:LElbowPower'], dtype='<U14'),\n                         array(['RL:RElbowPower'], dtype='<U14'),\n                         array(['RL:LWristPower'], dtype='<U14'),\n                         array(['RL:RWristPower'], dtype='<U14'),\n                         array(['RL:CentreOfMass'], dtype='<U15'),\n                         array(['RL:CentreOfMassFloor'], dtype='<U20')]], dtype=object), array([[ 30, 196]], dtype=uint8))                                                      ,\n                 (array([[array(['DESCRIPTIONS'], dtype='<U12')]], dtype=object), array([[-1]], dtype=int16), array([[array(['Right ASIS'], dtype='<U10'),\n                         array(['Right PSIS'], dtype='<U10'),\n                         array(['Right thigh wand marker'], dtype='<U23'),\n                         array(['Right wrist bar pinkie side (alternative pair 1)'], dtype='<U48'),\n                         array(['Right finger'], dtype='<U12'),\n                         array(['Right wrist bar thumb side (alternative pair 1)'], dtype='<U47'),\n                         array(['Right forearm (optional alternative anti-sym)'], dtype='<U45'),\n                         array(['Left wrist bar pinkie side (alternative pair 1)'], dtype='<U47'),\n                         array(['Sternum'], dtype='<U7'),\n                         array(['Left finger'], dtype='<U11'),\n                         array(['Upper back'], dtype='<U10'),\n                         array(['Left thigh wand marker'], dtype='<U22'),\n                         array(['Left forearm (optional alternative anti-sym)'], dtype='<U44'),\n                         array(['Right elbow'], dtype='<U11'),\n                         array(['Left wrist bar thumb side (alternative pair 1)'], dtype='<U46'),\n                         array(['Right upper arm (optional alternative anti-sym)'], dtype='<U47'),\n                         array(['Right back (optional alternative anti-sym)'], dtype='<U42'),\n                         array(['Right knee'], dtype='<U10'),\n                         array(['Left knee'], dtype='<U9'),\n                         array(['Clavicle'], dtype='<U8'),\n                         array(['Left upper arm (optional alternative anti-sym)'], dtype='<U46'),\n                         array(['Right tibial wand marker'], dtype='<U24'),\n                         array(['Right shoulder'], dtype='<U14'),\n                         array(['Left shoulder'], dtype='<U13'),\n                         array(['Right ankle'], dtype='<U11'),\n                         array(['Right heel'], dtype='<U10'),\n                         array(['Right back head'], dtype='<U15'),\n                         array(['Left tibial wand marker'], dtype='<U23'),\n                         array(['Left back head'], dtype='<U14'),\n                         array(['Right front head'], dtype='<U16'),\n                         array(['Left front head'], dtype='<U15'),\n                         array(['Right toe (2nd metatarsel head)'], dtype='<U31'),\n                         array(['Left ankle'], dtype='<U10'),\n                         array(['Left toe (2nd metatarsel head)'], dtype='<U30'),\n                         array(['Left heel'], dtype='<U9'),\n                         array(['Left elbow'], dtype='<U10'),\n                         array(['Left ASIS'], dtype='<U9'),\n                         array(['Left PSIS'], dtype='<U9'),\n                         array(['Back of neck'], dtype='<U12'),\n                         array(['Unknown'], dtype='<U7'), array(['Unknown'], dtype='<U7'),\n                         array(['Unknown'], dtype='<U7'), array(['Unknown'], dtype='<U7'),\n                         array(['Unknown'], dtype='<U7'), array(['Unknown'], dtype='<U7'),\n                         array(['Unknown'], dtype='<U7'),\n                         array(['Left Hip Rotation'], dtype='<U17'),\n                         array(['Left Knee Rotation'], dtype='<U18'),\n                         array(['Left Ankle Rotation'], dtype='<U19'),\n                         array(['Right Hip Rotation'], dtype='<U18'),\n                         array(['Right Knee Rotation'], dtype='<U19'),\n                         array(['Right Ankle Rotation'], dtype='<U20'),\n                         array(['Left Shoulder Rotation'], dtype='<U22'),\n                         array(['Left Elbow Rotation'], dtype='<U19'),\n                         array(['Left Wrist Rotation'], dtype='<U19'),\n                         array(['Right Shoulder Rotation'], dtype='<U23'),\n                         array(['Right Elbow Rotation'], dtype='<U20'),\n                         array(['Right Wrist Rotation'], dtype='<U20'),\n                         array(['Neck Rotation (Left)'], dtype='<U20'),\n                         array(['Neck Rotation (Right)'], dtype='<U21'),\n                         array(['Lumbar Spine Rotation (Left)'], dtype='<U28'),\n                         array(['Lumbar Spine Rotation (Right)'], dtype='<U29'),\n                         array(['Head relative to Global/Body axes (Left)'], dtype='<U40'),\n                         array(['Head relative to Global/Body axes (Right)'], dtype='<U41'),\n                         array(['Thorax relative to Global/Body axes (Left)'], dtype='<U42'),\n                         array(['Thorax relative to Global/Body axes (Right)'], dtype='<U43'),\n                         array(['Pelvis relative to Global/Body axes (Left)'], dtype='<U42'),\n                         array(['Pelvis relative to Global/Body axes (Right)'], dtype='<U43'),\n                         array(['Left Foot relative to Global/Body axes'], dtype='<U38'),\n                         array(['Right Foot relative to Global/Body axes'], dtype='<U39'),\n                         array([], dtype='<U1'), array([], dtype='<U1'),\n                         array([], dtype='<U1'), array([], dtype='<U1'),\n                         array(['Left knee joint centre output'], dtype='<U29'),\n                         array(['Left hip joint centre output'], dtype='<U28'),\n                         array([], dtype='<U1'), array([], dtype='<U1'),\n                         array(['Left ankle joint centre output'], dtype='<U30'),\n                         array([], dtype='<U1'), array([], dtype='<U1'),\n                         array([], dtype='<U1'), array([], dtype='<U1'),\n                         array([], dtype='<U1'), array([], dtype='<U1'),\n                         array([], dtype='<U1'), array([], dtype='<U1'),\n                         array([], dtype='<U1'), array([], dtype='<U1'),\n                         array([], dtype='<U1'),\n                         array(['Right knee joint centre output'], dtype='<U30'),\n                         array(['Right hip joint centre output'], dtype='<U29'),\n                         array([], dtype='<U1'), array([], dtype='<U1'),\n                         array(['Right ankle joint centre'], dtype='<U24'),\n                         array([], dtype='<U1'), array([], dtype='<U1'),\n                         array([], dtype='<U1'), array([], dtype='<U1'),\n                         array([], dtype='<U1'), array([], dtype='<U1'),\n                         array([], dtype='<U1'), array([], dtype='<U1'),\n                         array([], dtype='<U1'), array([], dtype='<U1'),\n                         array([], dtype='<U1'), array([], dtype='<U1'),\n                         array([], dtype='<U1'), array([], dtype='<U1'),\n                         array([], dtype='<U1'), array([], dtype='<U1'),\n                         array([], dtype='<U1'), array([], dtype='<U1'),\n                         array([], dtype='<U1'), array([], dtype='<U1'),\n                         array([], dtype='<U1'), array([], dtype='<U1'),\n                         array([], dtype='<U1'), array([], dtype='<U1'),\n                         array([], dtype='<U1'), array([], dtype='<U1'),\n                         array([], dtype='<U1'), array([], dtype='<U1'),\n                         array([], dtype='<U1'), array([], dtype='<U1'),\n                         array([], dtype='<U1'), array([], dtype='<U1'),\n                         array([], dtype='<U1'), array([], dtype='<U1'),\n                         array([], dtype='<U1'), array([], dtype='<U1'),\n                         array([], dtype='<U1'), array([], dtype='<U1'),\n                         array([], dtype='<U1'), array([], dtype='<U1'),\n                         array([], dtype='<U1'), array([], dtype='<U1'),\n                         array([], dtype='<U1'), array([], dtype='<U1'),\n                         array([], dtype='<U1'), array([], dtype='<U1'),\n                         array([], dtype='<U1'), array([], dtype='<U1'),\n                         array([], dtype='<U1'), array([], dtype='<U1'),\n                         array([], dtype='<U1'),\n                         array(['Left Ankle Resultant Force'], dtype='<U26'),\n                         array(['Right Ankle Resultant Force'], dtype='<U27'),\n                         array(['Left Knee Resultant Force'], dtype='<U25'),\n                         array(['Right Knee Resultant Force'], dtype='<U26'),\n                         array(['Left Hip Resultant Force'], dtype='<U24'),\n                         array(['Right Hip Resultant Force'], dtype='<U25'),\n                         array([], dtype='<U1'), array([], dtype='<U1'),\n                         array([], dtype='<U1'), array([], dtype='<U1'),\n                         array([], dtype='<U1'), array([], dtype='<U1'),\n                         array([], dtype='<U1'), array([], dtype='<U1'),\n                         array([], dtype='<U1'), array([], dtype='<U1'),\n                         array(['Left Ankle Resultant Moment'], dtype='<U27'),\n                         array(['Right Ankle Resultant Moment'], dtype='<U28'),\n                         array(['Left Knee Resultant Moment'], dtype='<U26'),\n                         array(['Right Knee Resultant Moment'], dtype='<U27'),\n                         array(['Left Hip Resultant Moment'], dtype='<U25'),\n                         array(['Right Hip Resultant Moment'], dtype='<U26'),\n                         array([], dtype='<U1'), array([], dtype='<U1'),\n                         array([], dtype='<U1'), array([], dtype='<U1'),\n                         array([], dtype='<U1'), array([], dtype='<U1'),\n                         array([], dtype='<U1'), array([], dtype='<U1'),\n                         array([], dtype='<U1'), array([], dtype='<U1'),\n                         array(['Left Ankle Power'], dtype='<U16'),\n                         array(['Right Ankle Power'], dtype='<U17'),\n                         array(['Left Knee Power'], dtype='<U15'),\n                         array(['Right Knee Power'], dtype='<U16'),\n                         array(['Left Hip Power'], dtype='<U14'),\n                         array(['Right Hip Power'], dtype='<U15'), array([], dtype='<U1'),\n                         array([], dtype='<U1'), array([], dtype='<U1'),\n                         array([], dtype='<U1'), array([], dtype='<U1'),\n                         array([], dtype='<U1'), array([], dtype='<U1'),\n                         array([], dtype='<U1'), array([], dtype='<U1'),\n                         array([], dtype='<U1'), array([], dtype='<U1'),\n                         array([], dtype='<U1')]], dtype=object), array([[ 50, 196]], dtype=uint8))                                                       ,\n                 (array([[array(['ANGLES'], dtype='<U6')]], dtype=object), array([[-1]], dtype=int16), array([[array(['RL:LHipAngles'], dtype='<U13'),\n                         array(['RL:LKneeAngles'], dtype='<U14'),\n                         array(['RL:LAnkleAngles'], dtype='<U15'),\n                         array(['RL:RHipAngles'], dtype='<U13'),\n                         array(['RL:RKneeAngles'], dtype='<U14'),\n                         array(['RL:RAnkleAngles'], dtype='<U15'),\n                         array(['RL:LShoulderAngles'], dtype='<U18'),\n                         array(['RL:LElbowAngles'], dtype='<U15'),\n                         array(['RL:LWristAngles'], dtype='<U15'),\n                         array(['RL:RShoulderAngles'], dtype='<U18'),\n                         array(['RL:RElbowAngles'], dtype='<U15'),\n                         array(['RL:RWristAngles'], dtype='<U15'),\n                         array(['RL:LNeckAngles'], dtype='<U14'),\n                         array(['RL:RNeckAngles'], dtype='<U14'),\n                         array(['RL:LSpineAngles'], dtype='<U15'),\n                         array(['RL:RSpineAngles'], dtype='<U15'),\n                         array(['RL:LHeadAngles'], dtype='<U14'),\n                         array(['RL:RHeadAngles'], dtype='<U14'),\n                         array(['RL:LThoraxAngles'], dtype='<U16'),\n                         array(['RL:RThoraxAngles'], dtype='<U16'),\n                         array(['RL:LPelvisAngles'], dtype='<U16'),\n                         array(['RL:RPelvisAngles'], dtype='<U16'),\n                         array(['RL:LFootProgressAngles'], dtype='<U22'),\n                         array(['RL:RFootProgressAngles'], dtype='<U22')]], dtype=object), array([[30, 24]], dtype=uint8))                            ,\n                 (array([[array(['FORCES'], dtype='<U6')]], dtype=object), array([[-1]], dtype=int16), array([[array(['RL:LAnkleForce'], dtype='<U14'),\n                         array(['RL:RAnkleForce'], dtype='<U14'),\n                         array(['RL:LKneeForce'], dtype='<U13'),\n                         array(['RL:RKneeForce'], dtype='<U13'),\n                         array(['RL:LHipForce'], dtype='<U12'),\n                         array(['RL:RHipForce'], dtype='<U12'),\n                         array(['RL:LWaistForce'], dtype='<U14'),\n                         array(['RL:RWaistForce'], dtype='<U14'),\n                         array(['RL:LNeckForce'], dtype='<U13'),\n                         array(['RL:RNeckForce'], dtype='<U13'),\n                         array(['RL:LShoulderForce'], dtype='<U17'),\n                         array(['RL:RShoulderForce'], dtype='<U17'),\n                         array(['RL:LElbowForce'], dtype='<U14'),\n                         array(['RL:RElbowForce'], dtype='<U14'),\n                         array(['RL:LWristForce'], dtype='<U14'),\n                         array(['RL:RWristForce'], dtype='<U14')]], dtype=object), array([[30, 16]], dtype=uint8))                                     ,\n                 (array([[array(['MOMENTS'], dtype='<U7')]], dtype=object), array([[-1]], dtype=int16), array([[array(['RL:LAnkleMoment'], dtype='<U15'),\n                         array(['RL:RAnkleMoment'], dtype='<U15'),\n                         array(['RL:LKneeMoment'], dtype='<U14'),\n                         array(['RL:RKneeMoment'], dtype='<U14'),\n                         array(['RL:LHipMoment'], dtype='<U13'),\n                         array(['RL:RHipMoment'], dtype='<U13'),\n                         array(['RL:LWaistMoment'], dtype='<U15'),\n                         array(['RL:RWaistMoment'], dtype='<U15'),\n                         array(['RL:LNeckMoment'], dtype='<U14'),\n                         array(['RL:RNeckMoment'], dtype='<U14'),\n                         array(['RL:LShoulderMoment'], dtype='<U18'),\n                         array(['RL:RShoulderMoment'], dtype='<U18'),\n                         array(['RL:LElbowMoment'], dtype='<U15'),\n                         array(['RL:RElbowMoment'], dtype='<U15'),\n                         array(['RL:LWristMoment'], dtype='<U15'),\n                         array(['RL:RWristMoment'], dtype='<U15')]], dtype=object), array([[30, 16]], dtype=uint8))                                      ,\n                 (array([[array(['POWERS'], dtype='<U6')]], dtype=object), array([[-1]], dtype=int16), array([[array(['RL:LAnklePower'], dtype='<U14'),\n                         array(['RL:RAnklePower'], dtype='<U14'),\n                         array(['RL:LKneePower'], dtype='<U13'),\n                         array(['RL:RKneePower'], dtype='<U13'),\n                         array(['RL:LHipPower'], dtype='<U12'),\n                         array(['RL:RHipPower'], dtype='<U12'),\n                         array(['RL:LWaistPower'], dtype='<U14'),\n                         array(['RL:RWaistPower'], dtype='<U14'),\n                         array(['RL:LNeckPower'], dtype='<U13'),\n                         array(['RL:RNeckPower'], dtype='<U13'),\n                         array(['RL:LShoulderPower'], dtype='<U17'),\n                         array(['RL:RShoulderPower'], dtype='<U17'),\n                         array(['RL:LElbowPower'], dtype='<U14'),\n                         array(['RL:RElbowPower'], dtype='<U14'),\n                         array(['RL:LWristPower'], dtype='<U14'),\n                         array(['RL:RWristPower'], dtype='<U14')]], dtype=object), array([[30, 16]], dtype=uint8))                                     ,\n                 (array([[array(['TYPE_GROUPS'], dtype='<U11')]], dtype=object), array([[-1]], dtype=int16), array([[array(['ANGLES'], dtype='<U6'), array(['ANGLE'], dtype='<U5'),\n                         array(['FORCES'], dtype='<U6'), array(['FORCE'], dtype='<U5')],\n                        [array(['MOMENTS'], dtype='<U7'), array(['MOMENT'], dtype='<U6'),\n                         array(['POWERS'], dtype='<U6'), array(['POWER'], dtype='<U5')]],\n                       dtype=object), array([[20,  2,  4]], dtype=uint8))                                                                                                          ]],\n               dtype=[('name', 'O'), ('datatype', 'O'), ('data', 'O'), ('dim', 'O')]))                                                                                                                                                                                             ,\n         (array([[array(['ANALOG'], dtype='<U6')]], dtype=object), array([[array([], dtype='<U1')]], dtype=object), array([[(array([[array(['GEN_SCALE'], dtype='<U9')]], dtype=object), array([[4]], dtype=uint8), array([[1]], dtype=uint8), array([], shape=(1, 0), dtype=float64)),\n                 (array([[array(['RATE'], dtype='<U4')]], dtype=object), array([[4]], dtype=uint8), array([[0]], dtype=uint8), array([], shape=(1, 0), dtype=float64)),\n                 (array([[array(['USED'], dtype='<U4')]], dtype=object), array([[2]], dtype=uint8), array([[0]], dtype=uint8), array([], shape=(1, 0), dtype=float64)),\n                 (array([[array(['GAIN'], dtype='<U4')]], dtype=object), array([[2]], dtype=uint8), array([], shape=(1, 0), dtype=float64), array([[0]], dtype=uint8)),\n                 (array([[array(['SCALE'], dtype='<U5')]], dtype=object), array([[4]], dtype=uint8), array([], shape=(1, 0), dtype=float64), array([[0]], dtype=uint8)),\n                 (array([[array(['OFFSET'], dtype='<U6')]], dtype=object), array([[2]], dtype=uint8), array([], shape=(1, 0), dtype=float64), array([[0]], dtype=uint8)),\n                 (array([[array(['UNITS'], dtype='<U5')]], dtype=object), array([[-1]], dtype=int16), array([], shape=(1, 0), dtype=float64), array([[8, 0]], dtype=uint8)),\n                 (array([[array(['LABELS'], dtype='<U6')]], dtype=object), array([[-1]], dtype=int16), array([], shape=(1, 0), dtype=float64), array([[16,  0]], dtype=uint8)),\n                 (array([[array(['DESCRIPTIONS'], dtype='<U12')]], dtype=object), array([[-1]], dtype=int16), array([], shape=(1, 0), dtype=float64), array([[50,  0]], dtype=uint8))]],\n               dtype=[('name', 'O'), ('datatype', 'O'), ('data', 'O'), ('dim', 'O')]))                                                                                                                                                                                                 ,\n         (array([[array(['FORCE_PLATFORM'], dtype='<U14')]], dtype=object), array([[array([], dtype='<U1')]], dtype=object), array([[(array([[array(['USED'], dtype='<U4')]], dtype=object), array([[2]], dtype=uint8), array([[0]], dtype=uint8), array([], shape=(1, 0), dtype=float64)),\n                 (array([[array(['ZERO'], dtype='<U4')]], dtype=object), array([[2]], dtype=uint8), array([[0],\n                        [0]], dtype=uint8), array([[2]], dtype=uint8))                                         ,\n                 (array([[array(['TYPE'], dtype='<U4')]], dtype=object), array([[2]], dtype=uint8), array([], shape=(1, 0), dtype=float64), array([[0]], dtype=uint8)),\n                 (array([[array(['CORNERS'], dtype='<U7')]], dtype=object), array([[4]], dtype=uint8), array([], shape=(1, 0), dtype=float64), array([[3, 4, 0]], dtype=uint8)),\n                 (array([[array(['ORIGIN'], dtype='<U6')]], dtype=object), array([[4]], dtype=uint8), array([], shape=(1, 0), dtype=float64), array([[3, 0]], dtype=uint8)),\n                 (array([[array(['CHANNEL'], dtype='<U7')]], dtype=object), array([[2]], dtype=uint8), array([], shape=(1, 0), dtype=float64), array([[0, 0]], dtype=uint8))]],\n               dtype=[('name', 'O'), ('datatype', 'O'), ('data', 'O'), ('dim', 'O')]))                                                                                                                                                                                                     ,\n         (array([[array(['SEG'], dtype='<U3')]], dtype=object), array([[array([], dtype='<U1')]], dtype=object), array([[(array([[array(['MARKER_DIAMETER'], dtype='<U15')]], dtype=object), array([[4]], dtype=uint8), array([[14]], dtype=uint8), array([], shape=(1, 0), dtype=float64)),\n                 (array([[array(['DATA_LIMITS'], dtype='<U11')]], dtype=object), array([[4]], dtype=uint8), array([[-3500,  3500],\n                        [-3500,  3500],\n                        [ -100,  3000]], dtype=int16), array([[3, 2]], dtype=uint8))                                              ,\n                 (array([[array(['ACC_FACTOR'], dtype='<U10')]], dtype=object), array([[4]], dtype=uint8), array([[7]], dtype=uint8), array([], shape=(1, 0), dtype=float64)),\n                 (array([[array(['MAX_NOISE_FACTOR'], dtype='<U16')]], dtype=object), array([[4]], dtype=uint8), array([[12]], dtype=uint8), array([], shape=(1, 0), dtype=float64)),\n                 (array([[array(['INTERSECTION_LIMIT'], dtype='<U18')]], dtype=object), array([[4]], dtype=uint8), array([[10]], dtype=uint8), array([], shape=(1, 0), dtype=float64)),\n                 (array([[array(['RESIDUAL_ERROR_FACTOR'], dtype='<U21')]], dtype=object), array([[4]], dtype=uint8), array([[30]], dtype=uint8), array([], shape=(1, 0), dtype=float64)),\n                 (array([[array(['PREDICTION_ERROR'], dtype='<U16')]], dtype=object), array([[4]], dtype=uint8), array([[50]], dtype=uint8), array([], shape=(1, 0), dtype=float64))]],\n               dtype=[('name', 'O'), ('datatype', 'O'), ('data', 'O'), ('dim', 'O')]))                                                                                                                                                                                                      ,\n         (array([[array(['EVENT_CONTEXT'], dtype='<U13')]], dtype=object), array([[array([], dtype='<U1')]], dtype=object), array([[(array([[array(['USED'], dtype='<U4')]], dtype=object), array([[2]], dtype=uint8), array([[3]], dtype=uint8), array([], shape=(1, 0), dtype=float64)),\n                 (array([[array(['ICON_IDS'], dtype='<U8')]], dtype=object), array([[2]], dtype=uint8), array([[0],\n                        [0],\n                        [0]], dtype=uint8), array([[3]], dtype=uint8))                                             ,\n                 (array([[array(['LABELS'], dtype='<U6')]], dtype=object), array([[-1]], dtype=int16), array([[array(['Left'], dtype='<U4'), array(['Right'], dtype='<U5'),\n                         array(['General'], dtype='<U7')]], dtype=object), array([[16,  3]], dtype=uint8))                                                                 ,\n                 (array([[array(['DESCRIPTIONS'], dtype='<U12')]], dtype=object), array([[-1]], dtype=int16), array([[array(['Left side'], dtype='<U9'),\n                         array(['Right side'], dtype='<U10'),\n                         array(['For other events'], dtype='<U16')]], dtype=object), array([[32,  3]], dtype=uint8))                                    ,\n                 (array([[array(['COLOURS'], dtype='<U7')]], dtype=object), array([[2]], dtype=uint8), array([[192,   0,   0],\n                        [  0, 192,   0],\n                        [  0,   0, 192]], dtype=uint8), array([[3, 3]], dtype=uint8))                                         ]],\n               dtype=[('name', 'O'), ('datatype', 'O'), ('data', 'O'), ('dim', 'O')]))                                                                                                                                                                                                    ,\n         (array([[array(['EVENT'], dtype='<U5')]], dtype=object), array([[array([], dtype='<U1')]], dtype=object), array([[(array([[array(['USED'], dtype='<U4')]], dtype=object), array([[2]], dtype=uint8), array([[0]], dtype=uint8), array([], shape=(1, 0), dtype=float64)),\n                 (array([[array(['CONTEXTS'], dtype='<U8')]], dtype=object), array([[-1]], dtype=int16), array([], shape=(1, 0), dtype=float64), array([[16,  0]], dtype=uint8)),\n                 (array([[array(['ICON_IDS'], dtype='<U8')]], dtype=object), array([[2]], dtype=uint8), array([], shape=(1, 0), dtype=float64), array([[0]], dtype=uint8)),\n                 (array([[array(['LABELS'], dtype='<U6')]], dtype=object), array([[-1]], dtype=int16), array([], shape=(1, 0), dtype=float64), array([[32,  0]], dtype=uint8)),\n                 (array([[array(['DESCRIPTIONS'], dtype='<U12')]], dtype=object), array([[-1]], dtype=int16), array([], shape=(1, 0), dtype=float64), array([[80,  0]], dtype=uint8)),\n                 (array([[array(['SUBJECTS'], dtype='<U8')]], dtype=object), array([[-1]], dtype=int16), array([], shape=(1, 0), dtype=float64), array([[32,  0]], dtype=uint8)),\n                 (array([[array(['TIMES'], dtype='<U5')]], dtype=object), array([[4]], dtype=uint8), array([], shape=(1, 0), dtype=float64), array([[2, 0]], dtype=uint8)),\n                 (array([[array(['GENERIC_FLAGS'], dtype='<U13')]], dtype=object), array([[1]], dtype=uint8), array([], shape=(0, 0), dtype=uint8), array([[0]], dtype=uint8))]],\n               dtype=[('name', 'O'), ('datatype', 'O'), ('data', 'O'), ('dim', 'O')]))                                                                                                                                                                                           ]],\n       dtype=[('name', 'O'), ('description', 'O'), ('Parameter', 'O')]),\n 'CameraInfo': array([[ 24,   7,  27, ..., 255, 255, 255],\n        [ 56,   7,  27, ..., 255, 255, 255],\n        [ 56,   7,  27, ..., 255, 255, 255],\n        ...,\n        [ 45,  52,   7, ..., 255,   0,   0],\n        [ 45,  36,   7, ..., 255,   0,   0],\n        [ 45,  52,   7, ..., 255,   0,   0]], dtype=uint8),\n 'ResidualError': array([[25.40000038, 24.90000037, 23.90000036, ..., 25.50000038,\n         25.50000038, 25.50000038],\n        [25.00000037, 24.90000037, 23.70000035, ..., 25.50000038,\n         25.50000038, 25.50000038],\n        [24.90000037, 24.70000037, 24.00000036, ..., 25.50000038,\n         25.50000038, 25.50000038],\n        ...,\n        [21.70000032, 20.50000031, 25.10000037, ..., 25.50000038,\n          0.        ,  0.        ],\n        [22.60000034, 25.10000037, 24.90000037, ..., 25.50000038,\n          0.        ,  0.        ],\n        [22.10000033, 24.40000036, 25.00000037, ..., 25.50000038,\n          0.        ,  0.        ]])}"
     },
     "execution_count": 14,
     "metadata": {},
     "output_type": "execute_result"
    }
   ],
   "source": [
    "mat"
   ],
   "metadata": {
    "collapsed": false
   }
  },
  {
   "cell_type": "code",
   "execution_count": 15,
   "outputs": [
    {
     "data": {
      "text/plain": "array([[-107.75002289,  662.16625977,  927.76623535],\n       [-242.01901245,  851.54187012,  687.47668457],\n       [-359.94796753,  852.9152832 ,  878.99090576],\n       [-417.79483032,  859.11657715,  946.67370605],\n       [-398.15286255,  857.25970459, 1013.37237549],\n       [-300.65155029,  885.99603271,  997.37463379],\n       [-272.61184692,  411.4982605 ,  846.56866455],\n       [-426.41629028,  650.15258789, 1050.02526855],\n       [-351.17025757,  420.18185425,  885.65167236],\n       [-140.3553772 ,  603.88140869, 1111.09692383],\n       [-284.56442261,  518.98553467,  536.41174316],\n       [-195.56704712,  360.42401123,  978.14501953],\n       [-139.53379822,  891.66943359, 1017.83538818],\n       [-369.11694336,  421.956604  ,  949.84436035],\n       [-204.09771729,  886.31103516, 1114.3347168 ],\n       [-160.49075317,  662.32202148, 1218.29724121],\n       [-298.08358765,  875.10455322,  449.64633179],\n       [-317.97723389,  586.00518799,  406.1756897 ],\n       [-369.06964111,  619.61260986, 1229.91564941],\n       [-253.30223083,  375.53890991, 1141.25488281],\n       [-212.10929871,  884.56298828,  395.52618408],\n       [-285.6696167 ,  781.5824585 , 1288.24145508],\n       [-307.33258057,  453.40298462, 1270.6217041 ],\n       [  -9.24809647,  806.47839355,  257.39352417],\n       [  27.73379707,  744.99224854,  267.84133911],\n       [-305.61785889,  687.50787354, 1452.40197754],\n       [-209.20318604,  637.33831787,  175.45329285],\n       [-253.61541748,  571.91455078, 1456.97998047],\n       [-448.68640137,  628.80554199, 1440.53112793],\n       [-366.68533325,  495.10058594, 1452.33007812],\n       [ -36.59366608,  845.55450439,  105.4771347 ],\n       [-134.93267822,  682.70263672,   78.48326874],\n       [-276.1550293 ,  718.81494141,   54.3731842 ],\n       [ -74.8090744 ,  722.04022217,   64.92939758],\n       [-118.75901794,  364.02590942, 1031.73742676],\n       [-360.91888428,  569.03222656,  849.32995605],\n       [-111.90330505,  578.18701172,  928.23297119]])"
     },
     "execution_count": 15,
     "metadata": {},
     "output_type": "execute_result"
    }
   ],
   "source": [
    "mat['Markers'][100][1:38]"
   ],
   "metadata": {
    "collapsed": false
   }
  },
  {
   "cell_type": "code",
   "execution_count": 16,
   "outputs": [],
   "source": [
    "# OK now do I have names for the markers? How do I know where to impose constraints"
   ],
   "metadata": {
    "collapsed": false
   }
  },
  {
   "cell_type": "code",
   "execution_count": 17,
   "outputs": [
    {
     "data": {
      "text/plain": "196"
     },
     "execution_count": 17,
     "metadata": {},
     "output_type": "execute_result"
    }
   ],
   "source": [
    "len(mat['ParameterGroup'][0][2][2][0][14][2][0])"
   ],
   "metadata": {
    "collapsed": false
   }
  },
  {
   "cell_type": "code",
   "execution_count": 18,
   "outputs": [
    {
     "data": {
      "text/plain": "array([array(['Right ASIS'], dtype='<U10'),\n       array(['Right PSIS'], dtype='<U10'),\n       array(['Right thigh wand marker'], dtype='<U23'),\n       array(['Right wrist bar pinkie side (alternative pair 1)'], dtype='<U48'),\n       array(['Right finger'], dtype='<U12'),\n       array(['Right wrist bar thumb side (alternative pair 1)'], dtype='<U47'),\n       array(['Right forearm (optional alternative anti-sym)'], dtype='<U45'),\n       array(['Left wrist bar pinkie side (alternative pair 1)'], dtype='<U47'),\n       array(['Sternum'], dtype='<U7'),\n       array(['Left finger'], dtype='<U11'),\n       array(['Upper back'], dtype='<U10'),\n       array(['Left thigh wand marker'], dtype='<U22'),\n       array(['Left forearm (optional alternative anti-sym)'], dtype='<U44'),\n       array(['Right elbow'], dtype='<U11'),\n       array(['Left wrist bar thumb side (alternative pair 1)'], dtype='<U46'),\n       array(['Right upper arm (optional alternative anti-sym)'], dtype='<U47'),\n       array(['Right back (optional alternative anti-sym)'], dtype='<U42'),\n       array(['Right knee'], dtype='<U10'),\n       array(['Left knee'], dtype='<U9'),\n       array(['Clavicle'], dtype='<U8'),\n       array(['Left upper arm (optional alternative anti-sym)'], dtype='<U46'),\n       array(['Right tibial wand marker'], dtype='<U24'),\n       array(['Right shoulder'], dtype='<U14'),\n       array(['Left shoulder'], dtype='<U13'),\n       array(['Right ankle'], dtype='<U11'),\n       array(['Right heel'], dtype='<U10'),\n       array(['Right back head'], dtype='<U15'),\n       array(['Left tibial wand marker'], dtype='<U23'),\n       array(['Left back head'], dtype='<U14'),\n       array(['Right front head'], dtype='<U16'),\n       array(['Left front head'], dtype='<U15'),\n       array(['Right toe (2nd metatarsel head)'], dtype='<U31'),\n       array(['Left ankle'], dtype='<U10'),\n       array(['Left toe (2nd metatarsel head)'], dtype='<U30'),\n       array(['Left heel'], dtype='<U9'),\n       array(['Left elbow'], dtype='<U10'),\n       array(['Left ASIS'], dtype='<U9'),\n       array(['Left PSIS'], dtype='<U9'),\n       array(['Back of neck'], dtype='<U12'),\n       array(['Unknown'], dtype='<U7'), array(['Unknown'], dtype='<U7'),\n       array(['Unknown'], dtype='<U7'), array(['Unknown'], dtype='<U7'),\n       array(['Unknown'], dtype='<U7'), array(['Unknown'], dtype='<U7'),\n       array(['Unknown'], dtype='<U7'),\n       array(['Left Hip Rotation'], dtype='<U17'),\n       array(['Left Knee Rotation'], dtype='<U18'),\n       array(['Left Ankle Rotation'], dtype='<U19'),\n       array(['Right Hip Rotation'], dtype='<U18'),\n       array(['Right Knee Rotation'], dtype='<U19'),\n       array(['Right Ankle Rotation'], dtype='<U20'),\n       array(['Left Shoulder Rotation'], dtype='<U22'),\n       array(['Left Elbow Rotation'], dtype='<U19'),\n       array(['Left Wrist Rotation'], dtype='<U19'),\n       array(['Right Shoulder Rotation'], dtype='<U23'),\n       array(['Right Elbow Rotation'], dtype='<U20'),\n       array(['Right Wrist Rotation'], dtype='<U20'),\n       array(['Neck Rotation (Left)'], dtype='<U20'),\n       array(['Neck Rotation (Right)'], dtype='<U21'),\n       array(['Lumbar Spine Rotation (Left)'], dtype='<U28'),\n       array(['Lumbar Spine Rotation (Right)'], dtype='<U29'),\n       array(['Head relative to Global/Body axes (Left)'], dtype='<U40'),\n       array(['Head relative to Global/Body axes (Right)'], dtype='<U41'),\n       array(['Thorax relative to Global/Body axes (Left)'], dtype='<U42'),\n       array(['Thorax relative to Global/Body axes (Right)'], dtype='<U43'),\n       array(['Pelvis relative to Global/Body axes (Left)'], dtype='<U42'),\n       array(['Pelvis relative to Global/Body axes (Right)'], dtype='<U43'),\n       array(['Left Foot relative to Global/Body axes'], dtype='<U38'),\n       array(['Right Foot relative to Global/Body axes'], dtype='<U39'),\n       array([], dtype='<U1'), array([], dtype='<U1'),\n       array([], dtype='<U1'), array([], dtype='<U1'),\n       array(['Left knee joint centre output'], dtype='<U29'),\n       array(['Left hip joint centre output'], dtype='<U28'),\n       array([], dtype='<U1'), array([], dtype='<U1'),\n       array(['Left ankle joint centre output'], dtype='<U30'),\n       array([], dtype='<U1'), array([], dtype='<U1'),\n       array([], dtype='<U1'), array([], dtype='<U1'),\n       array([], dtype='<U1'), array([], dtype='<U1'),\n       array([], dtype='<U1'), array([], dtype='<U1'),\n       array([], dtype='<U1'), array([], dtype='<U1'),\n       array([], dtype='<U1'),\n       array(['Right knee joint centre output'], dtype='<U30'),\n       array(['Right hip joint centre output'], dtype='<U29'),\n       array([], dtype='<U1'), array([], dtype='<U1'),\n       array(['Right ankle joint centre'], dtype='<U24'),\n       array([], dtype='<U1'), array([], dtype='<U1'),\n       array([], dtype='<U1'), array([], dtype='<U1'),\n       array([], dtype='<U1'), array([], dtype='<U1'),\n       array([], dtype='<U1'), array([], dtype='<U1'),\n       array([], dtype='<U1'), array([], dtype='<U1'),\n       array([], dtype='<U1'), array([], dtype='<U1'),\n       array([], dtype='<U1'), array([], dtype='<U1'),\n       array([], dtype='<U1'), array([], dtype='<U1'),\n       array([], dtype='<U1'), array([], dtype='<U1'),\n       array([], dtype='<U1'), array([], dtype='<U1'),\n       array([], dtype='<U1'), array([], dtype='<U1'),\n       array([], dtype='<U1'), array([], dtype='<U1'),\n       array([], dtype='<U1'), array([], dtype='<U1'),\n       array([], dtype='<U1'), array([], dtype='<U1'),\n       array([], dtype='<U1'), array([], dtype='<U1'),\n       array([], dtype='<U1'), array([], dtype='<U1'),\n       array([], dtype='<U1'), array([], dtype='<U1'),\n       array([], dtype='<U1'), array([], dtype='<U1'),\n       array([], dtype='<U1'), array([], dtype='<U1'),\n       array([], dtype='<U1'), array([], dtype='<U1'),\n       array([], dtype='<U1'), array([], dtype='<U1'),\n       array([], dtype='<U1'), array([], dtype='<U1'),\n       array([], dtype='<U1'), array([], dtype='<U1'),\n       array([], dtype='<U1'), array([], dtype='<U1'),\n       array([], dtype='<U1'), array([], dtype='<U1'),\n       array([], dtype='<U1'),\n       array(['Left Ankle Resultant Force'], dtype='<U26'),\n       array(['Right Ankle Resultant Force'], dtype='<U27'),\n       array(['Left Knee Resultant Force'], dtype='<U25'),\n       array(['Right Knee Resultant Force'], dtype='<U26'),\n       array(['Left Hip Resultant Force'], dtype='<U24'),\n       array(['Right Hip Resultant Force'], dtype='<U25'),\n       array([], dtype='<U1'), array([], dtype='<U1'),\n       array([], dtype='<U1'), array([], dtype='<U1'),\n       array([], dtype='<U1'), array([], dtype='<U1'),\n       array([], dtype='<U1'), array([], dtype='<U1'),\n       array([], dtype='<U1'), array([], dtype='<U1'),\n       array(['Left Ankle Resultant Moment'], dtype='<U27'),\n       array(['Right Ankle Resultant Moment'], dtype='<U28'),\n       array(['Left Knee Resultant Moment'], dtype='<U26'),\n       array(['Right Knee Resultant Moment'], dtype='<U27'),\n       array(['Left Hip Resultant Moment'], dtype='<U25'),\n       array(['Right Hip Resultant Moment'], dtype='<U26'),\n       array([], dtype='<U1'), array([], dtype='<U1'),\n       array([], dtype='<U1'), array([], dtype='<U1'),\n       array([], dtype='<U1'), array([], dtype='<U1'),\n       array([], dtype='<U1'), array([], dtype='<U1'),\n       array([], dtype='<U1'), array([], dtype='<U1'),\n       array(['Left Ankle Power'], dtype='<U16'),\n       array(['Right Ankle Power'], dtype='<U17'),\n       array(['Left Knee Power'], dtype='<U15'),\n       array(['Right Knee Power'], dtype='<U16'),\n       array(['Left Hip Power'], dtype='<U14'),\n       array(['Right Hip Power'], dtype='<U15'), array([], dtype='<U1'),\n       array([], dtype='<U1'), array([], dtype='<U1'),\n       array([], dtype='<U1'), array([], dtype='<U1'),\n       array([], dtype='<U1'), array([], dtype='<U1'),\n       array([], dtype='<U1'), array([], dtype='<U1'),\n       array([], dtype='<U1'), array([], dtype='<U1'),\n       array([], dtype='<U1')], dtype=object)"
     },
     "execution_count": 18,
     "metadata": {},
     "output_type": "execute_result"
    }
   ],
   "source": [
    "mat['ParameterGroup'][0][2][2][0][15][2][0]"
   ],
   "metadata": {
    "collapsed": false
   }
  },
  {
   "cell_type": "code",
   "execution_count": 19,
   "outputs": [
    {
     "data": {
      "text/plain": "array(['Left thigh wand marker'], dtype='<U22')"
     },
     "execution_count": 19,
     "metadata": {},
     "output_type": "execute_result"
    }
   ],
   "source": [
    "mat['ParameterGroup'][0][2][2][0][15][2][0][11]"
   ],
   "metadata": {
    "collapsed": false
   }
  },
  {
   "cell_type": "code",
   "execution_count": 20,
   "outputs": [
    {
     "data": {
      "text/plain": "array(['Left Ankle Rotation'], dtype='<U19')"
     },
     "execution_count": 20,
     "metadata": {},
     "output_type": "execute_result"
    }
   ],
   "source": [
    "mat['ParameterGroup'][0][2][2][0][15][2][0][48]"
   ],
   "metadata": {
    "collapsed": false
   }
  },
  {
   "cell_type": "code",
   "execution_count": 21,
   "outputs": [
    {
     "data": {
      "text/plain": "array(['Right knee'], dtype='<U10')"
     },
     "execution_count": 21,
     "metadata": {},
     "output_type": "execute_result"
    }
   ],
   "source": [
    "mat['ParameterGroup'][0][2][2][0][15][2][0][17]"
   ],
   "metadata": {
    "collapsed": false
   }
  },
  {
   "cell_type": "code",
   "execution_count": 22,
   "outputs": [
    {
     "data": {
      "text/plain": "array(['RL:RASI'], dtype='<U7')"
     },
     "execution_count": 22,
     "metadata": {},
     "output_type": "execute_result"
    }
   ],
   "source": [
    "mat['ParameterGroup'][0][2][2][0][14][2][0][0]"
   ],
   "metadata": {
    "collapsed": false
   }
  },
  {
   "cell_type": "code",
   "execution_count": 23,
   "outputs": [
    {
     "data": {
      "text/plain": "array(['RL:LASI'], dtype='<U7')"
     },
     "execution_count": 23,
     "metadata": {},
     "output_type": "execute_result"
    }
   ],
   "source": [
    "mat['ParameterGroup'][0][2][2][0][14][2][0][36]"
   ],
   "metadata": {
    "collapsed": false
   }
  },
  {
   "cell_type": "code",
   "execution_count": 24,
   "outputs": [],
   "source": [
    "# I need to identify the relevant markers."
   ],
   "metadata": {
    "collapsed": false
   }
  },
  {
   "cell_type": "code",
   "execution_count": 25,
   "outputs": [],
   "source": [
    "import matplotlib.pyplot as plt"
   ],
   "metadata": {
    "collapsed": false
   }
  },
  {
   "cell_type": "code",
   "execution_count": 26,
   "outputs": [
    {
     "ename": "SyntaxError",
     "evalue": "closing parenthesis ')' does not match opening parenthesis '[' (3304218957.py, line 11)",
     "output_type": "error",
     "traceback": [
      "\u001B[1;36m  Cell \u001B[1;32mIn[26], line 11\u001B[1;36m\u001B[0m\n\u001B[1;33m    ax.scatter(xs[32],xs[24], [ys[zs[32],zs[24]], label = 'Ankles', color = 'Orange')\u001B[0m\n\u001B[1;37m                                                                                    ^\u001B[0m\n\u001B[1;31mSyntaxError\u001B[0m\u001B[1;31m:\u001B[0m closing parenthesis ')' does not match opening parenthesis '['\n"
     ]
    }
   ],
   "source": [
    "# fig = plt.figure()\n",
    "# ax = fig.add_subplot(projection='3d')\n",
    "# xs= [pt[0] for pt in mat['Markers'][0]]\n",
    "# ys= [pt[1] for pt in mat['Markers'][0]]\n",
    "# zs= [pt[2] for pt in mat['Markers'][0]]\n",
    "# ax.scatter([xs[48],xs[41]], [ys[48],ys[41]], [zs[3],zs[7]], label = 'Wrists')\n",
    "# ax.scatter([xs[13],xs[35]], [ys[13],ys[35]], [zs[13],zs[35]], label = 'Elbows', color = 'Green')\n",
    "# ax.scatter(xs[17:19], ys[17:19], zs[17:19], label = 'Knees', color = 'red')\n",
    "# ax.scatter(xs[29:30], ys[29:30], zs[29:30], label = 'Head', color = 'yellow')\n",
    "# ax.scatter([xs[32],xs[24]], [ys[32], ys[24]], [zs[32],zs[24]], label = 'Ankles', color = 'Orange')\n",
    "# ax.scatter(xs[32],xs[24], [ys[zs[32],zs[24]], label = 'Ankles', color = 'Orange')"
   ],
   "metadata": {
    "collapsed": false
   }
  },
  {
   "cell_type": "code",
   "execution_count": null,
   "outputs": [],
   "source": [
    "t = 0"
   ],
   "metadata": {
    "collapsed": false
   }
  },
  {
   "cell_type": "code",
   "execution_count": 27,
   "outputs": [],
   "source": [
    "# fig = plt.figure()\n",
    "# ax = fig.add_subplot()\n",
    "# xs= [pt[0] for pt in mat['Markers'][t]]\n",
    "# ys= [pt[1] for pt in mat['Markers'][t]]\n",
    "# zs= [pt[2] for pt in mat['Markers'][t]]\n",
    "# ax.scatter([xs[3],xs[7]],  [zs[3],zs[7]], label = 'Wrists')\n",
    "# ax.scatter([xs[13],xs[35]], [zs[13],zs[35]], label = 'Elbows', color = 'Green')\n",
    "# ax.scatter(xs[17:19],zs[17:19], label = 'Knees', color = 'red')\n",
    "# ax.scatter(xs[29:30], zs[29:30], label = 'Head', color = 'yellow')\n",
    "# ax.scatter([xs[32],xs[24]], [zs[32],zs[24]], label = 'Ankles', color = 'Orange')\n",
    "# ax.scatter(xs[22:24], zs[22:24], label = 'Shoulders', color = 'Purple')\n",
    "# ax.scatter([xs[36],xs[0]], [zs[36],zs[0]], label = 'ASIS', color = 'Black')\n",
    "# ax.scatter(xs[8],zs[8], label = 'Sternum', color = 'purple')\n",
    "# ax.scatter(xs[19],zs[19], label = 'Clavicle', color = 'purple')\n",
    "# ax.scatter([xs[11],xs[2]],[zs[11], zs[2]], label = 'Thighs', color = 'pink')"
   ],
   "metadata": {
    "collapsed": false
   }
  },
  {
   "cell_type": "code",
   "execution_count": 28,
   "outputs": [],
   "source": [
    "import math"
   ],
   "metadata": {
    "collapsed": false
   }
  },
  {
   "cell_type": "code",
   "execution_count": 29,
   "outputs": [
    {
     "data": {
      "text/plain": "array([348.44775391, 361.08709717, 464.1541748 ])"
     },
     "execution_count": 29,
     "metadata": {},
     "output_type": "execute_result"
    }
   ],
   "source": [
    "mat['Markers'][0][17]"
   ],
   "metadata": {
    "collapsed": false
   }
  },
  {
   "cell_type": "code",
   "execution_count": 30,
   "outputs": [],
   "source": [
    "ds = []\n",
    "for t in range(1,300):\n",
    "    right_knee =mat['Markers'][t][17]\n",
    "    right_asis = mat['Markers'][t][0]\n",
    "    d = math.dist(right_knee,right_asis)\n",
    "    ds.append(d)"
   ],
   "metadata": {
    "collapsed": false
   }
  },
  {
   "cell_type": "code",
   "execution_count": 31,
   "outputs": [],
   "source": [
    "ds_left = []\n",
    "for t in range(1,300):\n",
    "    left_knee =mat['Markers'][t][18]\n",
    "    left_asis = mat['Markers'][t][34]\n",
    "    d = math.dist(left_knee,left_asis)\n",
    "    ds_left.append(d)"
   ],
   "metadata": {
    "collapsed": false
   }
  },
  {
   "cell_type": "code",
   "execution_count": 32,
   "outputs": [],
   "source": [
    "ds_left_shoulder = []\n",
    "for t in range(1,300):\n",
    "    left_shoulder =mat['Markers'][t][22]\n",
    "    clavicle = mat['Markers'][t][19]\n",
    "    d = math.dist(left_shoulder,clavicle)\n",
    "    ds_left_shoulder.append(d)"
   ],
   "metadata": {
    "collapsed": false
   }
  },
  {
   "cell_type": "code",
   "execution_count": 33,
   "outputs": [
    {
     "data": {
      "text/plain": "[<matplotlib.lines.Line2D at 0x213b96c0f10>]"
     },
     "execution_count": 33,
     "metadata": {},
     "output_type": "execute_result"
    },
    {
     "data": {
      "text/plain": "<Figure size 640x480 with 1 Axes>",
      "image/png": "[encoded data removed]"
     },
     "metadata": {},
     "output_type": "display_data"
    }
   ],
   "source": [
    "plt.plot(ds_left)\n",
    "plt.plot(ds)\n",
    "plt.plot(ds_left_shoulder)"
   ],
   "metadata": {
    "collapsed": false
   }
  },
  {
   "cell_type": "markdown",
   "source": [
    "# The Neural Network"
   ],
   "metadata": {
    "collapsed": false
   }
  },
  {
   "cell_type": "markdown",
   "source": [
    "Note - instead of a 2d image I'll input 2d matrix of 3d data... Not sure how much I should change anything..."
   ],
   "metadata": {
    "collapsed": false
   }
  },
  {
   "cell_type": "code",
   "execution_count": 34,
   "outputs": [],
   "source": [
    "import torch\n",
    "import torch.nn as nn\n",
    "import torch.nn.functional as F\n",
    "import numpy as np\n",
    "\n",
    "class GaussianFourierProjection(nn.Module):\n",
    "  \"\"\"Gaussian random features for encoding time steps.\"\"\"\n",
    "  def __init__(self, embed_dim, scale=30.):\n",
    "    super().__init__()\n",
    "    # Randomly sample weights during initialization. These weights are fixed\n",
    "    # during optimization and are not trainable.\n",
    "    self.W = nn.Parameter(torch.randn(embed_dim // 2) * scale, requires_grad=False)\n",
    "\n",
    "  def forward(self, x):\n",
    "    x_proj = x[:, None] * self.W[None, :] * 2 * np.pi\n",
    "    return torch.cat([torch.sin(x_proj), torch.cos(x_proj)], dim=-1)"
   ],
   "metadata": {
    "collapsed": false
   }
  },
  {
   "cell_type": "code",
   "execution_count": 35,
   "outputs": [],
   "source": [
    "class Dense(nn.Module):\n",
    "  \"\"\"A fully connected layer that reshapes outputs to feature maps.\"\"\"\n",
    "  def __init__(self, input_dim, output_dim):\n",
    "    super().__init__()\n",
    "    self.dense = nn.Linear(input_dim, output_dim)\n",
    "  def forward(self, x):\n",
    "    return self.dense(x)[..., None, None]\n"
   ],
   "metadata": {
    "collapsed": false
   }
  },
  {
   "cell_type": "code",
   "execution_count": 46,
   "outputs": [],
   "source": [
    "class ScoreNet(nn.Module):\n",
    "  \"\"\"A time-dependent score-based model built upon U-Net architecture.\"\"\"\n",
    "\n",
    "  def __init__(self, marginal_prob_std, channels=[32, 64, 128, 256], embed_dim=16*3):\n",
    "    \"\"\"Initialize a time-dependent score-based network.\n",
    "\n",
    "    Args:\n",
    "      marginal_prob_std: A function that takes time t and gives the standard\n",
    "        deviation of the perturbation kernel p_{0t}(x(t) | x(0)).\n",
    "      channels: The number of channels for feature maps of each resolution.\n",
    "      embed_dim: The dimensionality of Gaussian random feature embeddings.\n",
    "    \"\"\"\n",
    "    super().__init__()\n",
    "    # Gaussian random feature embedding layer for time\n",
    "    self.embed = nn.Sequential(GaussianFourierProjection(embed_dim=embed_dim),\n",
    "         nn.Linear(embed_dim, embed_dim))\n",
    "    # Encoding layers where the resolution decreases\n",
    "    self.conv1 = nn.Conv2d(1, channels[0], 1, stride=1, bias=False)\n",
    "    self.dense1 = Dense(embed_dim, channels[0])\n",
    "    self.gnorm1 = nn.GroupNorm(4, num_channels=channels[0])\n",
    "    self.conv2 = nn.Conv2d(channels[0], channels[1], 1, stride=1, bias=False)\n",
    "    self.dense2 = Dense(embed_dim, channels[1])\n",
    "    self.gnorm2 = nn.GroupNorm(32, num_channels=channels[1])\n",
    "    self.conv3 = nn.Conv2d(channels[1], channels[2], 1, stride=1, bias=False)\n",
    "    self.dense3 = Dense(embed_dim, channels[2])\n",
    "    self.gnorm3 = nn.GroupNorm(32, num_channels=channels[2])\n",
    "    self.conv4 = nn.Conv2d(channels[2], channels[3], 1, stride=1, bias=False)\n",
    "    self.dense4 = Dense(embed_dim, channels[3])\n",
    "    self.gnorm4 = nn.GroupNorm(32, num_channels=channels[3])\n",
    "\n",
    "    # Decoding layers where the resolution increases\n",
    "    self.tconv4 = nn.ConvTranspose2d(channels[3], channels[2], 1, stride=1, bias=False)\n",
    "    self.dense5 = Dense(embed_dim, channels[2])\n",
    "    self.tgnorm4 = nn.GroupNorm(32, num_channels=channels[2])\n",
    "    self.tconv3 = nn.ConvTranspose2d(channels[2] + channels[2], channels[1], 1, stride=1, bias=False, output_padding=0)\n",
    "    self.dense6 = Dense(embed_dim, channels[1])\n",
    "    self.tgnorm3 = nn.GroupNorm(32, num_channels=channels[1])\n",
    "    self.tconv2 = nn.ConvTranspose2d(channels[1] + channels[1], channels[0], 1, stride=1, bias=False, output_padding=0)\n",
    "    self.dense7 = Dense(embed_dim, channels[0])\n",
    "    self.tgnorm2 = nn.GroupNorm(32, num_channels=channels[0])\n",
    "    self.tconv1 = nn.ConvTranspose2d(channels[0] + channels[0], 1, 1, stride=1)\n",
    "    # The swish activation function\n",
    "    self.act = lambda x: x * torch.sigmoid(x)\n",
    "    self.marginal_prob_std = marginal_prob_std\n",
    "\n",
    "  def forward(self, x, t):\n",
    "    # Obtain the Gaussian random feature embedding for t\n",
    "    embed = self.act(self.embed(t))\n",
    "    # Encoding path\n",
    "    h1 = x\n",
    "    ## Incorporate information from t\n",
    "    h1 += self.dense1(embed)\n",
    "    ## Group normalization\n",
    "    h1 = self.gnorm1(h1)\n",
    "    h1 = self.act(h1)\n",
    "    print(f\"size of final h1 {h1.size()}\")\n",
    "    h2 = h1\n",
    "    print(f\"size of initial h2 {h2.size()}\")\n",
    "    h2 += self.dense2(embed)\n",
    "    print(f\"size of h2 after dense2 {h2.size()}\")\n",
    "    h2 = self.gnorm2(h2)\n",
    "    print(f\"size of h2 after gnorm2 {h2.size()}\")\n",
    "    h2 = self.act(h2)\n",
    "    print(f\"size of final h2 {h2.size()}\")\n",
    "    h3 = h2\n",
    "    h3 += self.dense3(embed)\n",
    "    h3 = self.gnorm3(h3)\n",
    "    h3 = self.act(h3)\n",
    "    h4 = h3\n",
    "    h4 += self.dense4(embed)\n",
    "    h4 = self.gnorm4(h4)\n",
    "    h4 = self.act(h4)\n",
    "\n",
    "    # Decoding path\n",
    "    h = h4\n",
    "    ## Skip connection from the encoding path\n",
    "    h += self.dense5(embed)\n",
    "    h = self.tgnorm4(h)\n",
    "    h = self.act(h)\n",
    "    h = self.tconv3(torch.cat([h, h3], dim=1))\n",
    "    h += self.dense6(embed)\n",
    "    h = self.tgnorm3(h)\n",
    "    h = self.act(h)\n",
    "    h = self.tconv2(torch.cat([h, h2], dim=1))\n",
    "    h += self.dense7(embed)\n",
    "    h = self.tgnorm2(h)\n",
    "    h = self.act(h)\n",
    "    #h = self.tconv1(torch.cat([h, h1], dim=1))\n",
    "\n",
    "    # Normalize output\n",
    "    h = h / self.marginal_prob_std(t)[:, None, None, None]\n",
    "    return h"
   ],
   "metadata": {
    "collapsed": false
   }
  },
  {
   "cell_type": "code",
   "execution_count": 47,
   "outputs": [],
   "source": [
    "# ax.scatter([xs[3],xs[7]],  [zs[3],zs[7]], label = 'Wrists')\n",
    "# ax.scatter([xs[13],xs[35]], [zs[13],zs[35]], label = 'Elbows', color = 'Green')\n",
    "# ax.scatter(xs[17:19],zs[17:19], label = 'Knees', color = 'red')\n",
    "# ax.scatter(xs[29:30], zs[29:30], label = 'Head', color = 'yellow')\n",
    "# ax.scatter([xs[32],xs[24]], [zs[32],zs[24]], label = 'Ankles', color = 'Orange')\n",
    "# ax.scatter(xs[22:24], zs[22:24], label = 'Shoulders', color = 'Purple')\n",
    "# ax.scatter([xs[36],xs[0]], [zs[36],zs[0]], label = 'ASIS', color = 'Black')\n",
    "# ax.scatter(xs[8],zs[8], label = 'Sternum', color = 'purple')\n",
    "# ax.scatter(xs[19],zs[19], label = 'Clavicle', color = 'purple')\n",
    "# ax.scatter([xs[11],xs[2]],[zs[11], zs[2]], label = 'Thighs', color = 'pink')"
   ],
   "metadata": {
    "collapsed": false
   }
  },
  {
   "cell_type": "code",
   "execution_count": 48,
   "outputs": [],
   "source": [
    "# note - I should sort these\n",
    "indices = [3,7,13,35,17,18,29,32,24,22,23,36,0,19,11,2]\n",
    "dataset = []\n",
    "for i in range(len(mat['Markers'])):\n",
    "  data = [mat['Markers'][i][j] for j in indices]\n",
    "  dataset.append(torch.tensor(np.array(data), dtype =torch.double).unsqueeze(0))"
   ],
   "metadata": {
    "collapsed": false
   }
  },
  {
   "cell_type": "code",
   "execution_count": 50,
   "outputs": [],
   "source": [
    "class CustomTensorDataset(Dataset):\n",
    "    \"\"\"TensorDataset with support of transforms.\n",
    "    \"\"\"\n",
    "    def __init__(self, tensors, transform=None):\n",
    "        assert all(tensors[0].size(0) == tensor.size(0) for tensor in tensors)\n",
    "        self.tensors = tensors\n",
    "        self.transform = transform\n",
    "\n",
    "    def __getitem__(self, index):\n",
    "        x = self.tensors[0][index]\n",
    "\n",
    "        if self.transform:\n",
    "            x = self.transform(x)\n",
    "\n",
    "        y = self.tensors[1][index]\n",
    "\n",
    "        return x, y\n",
    "\n",
    "    def __len__(self):\n",
    "        return self.tensors[0].size(0)\n"
   ],
   "metadata": {
    "collapsed": false
   }
  },
  {
   "cell_type": "code",
   "execution_count": 51,
   "outputs": [],
   "source": [
    "def collate_fn(batch):\n",
    "    return list(batch)"
   ],
   "metadata": {
    "collapsed": false
   }
  },
  {
   "cell_type": "code",
   "execution_count": 52,
   "outputs": [],
   "source": [
    "#tensor_x = torch.stack(ds)\n",
    "#dataset = TensorDataset(tensor_x) # create your datset\n",
    "data_loader = DataLoader(dataset,batch_size=32,shuffle=True) # create your dataloader"
   ],
   "metadata": {
    "collapsed": false
   }
  },
  {
   "cell_type": "code",
   "execution_count": 53,
   "outputs": [
    {
     "name": "stdout",
     "output_type": "stream",
     "text": [
      "torch.Size([1, 16, 3])\n"
     ]
    }
   ],
   "source": [
    "for x in data_loader:\n",
    "  print(x[0].size())\n",
    "  break"
   ],
   "metadata": {
    "collapsed": false
   }
  },
  {
   "cell_type": "code",
   "execution_count": 54,
   "outputs": [],
   "source": [
    "#for i in data_loader:\n",
    "#  print(i[0])"
   ],
   "metadata": {
    "collapsed": false
   }
  },
  {
   "cell_type": "code",
   "execution_count": 55,
   "outputs": [],
   "source": [
    "#@title Set up the SDE\n",
    "\n",
    "#device = 'cuda' #@param ['cuda', 'cpu'] {'type':'string'}\n",
    "\n",
    "def marginal_prob_std(t, sigma):\n",
    "  \"\"\"Compute the mean and standard deviation of $p_{0t}(x(t) | x(0))$.\n",
    "\n",
    "  Args:\n",
    "    t: A vector of time steps.\n",
    "    sigma: The $\\sigma$ in our SDE.\n",
    "\n",
    "  Returns:\n",
    "    The standard deviation.\n",
    "  \"\"\"\n",
    "  t = torch.tensor(t, device=device)\n",
    "  return torch.sqrt((sigma**(2 * t) - 1.) / 2. / np.log(sigma))\n",
    "\n",
    "def diffusion_coeff(t, sigma):\n",
    "  \"\"\"Compute the diffusion coefficient of our SDE.\n",
    "\n",
    "  Args:\n",
    "    t: A vector of time steps.\n",
    "    sigma: The $\\sigma$ in our SDE.\n",
    "\n",
    "  Returns:\n",
    "    The vector of diffusion coefficients.\n",
    "  \"\"\"\n",
    "  return torch.tensor(sigma**t, device=device)\n",
    "\n",
    "sigma =  25.0#@param {'type':'number'}\n",
    "marginal_prob_std_fn = functools.partial(marginal_prob_std, sigma=sigma)\n",
    "diffusion_coeff_fn = functools.partial(diffusion_coeff, sigma=sigma)"
   ],
   "metadata": {
    "collapsed": false
   }
  },
  {
   "cell_type": "code",
   "execution_count": 56,
   "outputs": [],
   "source": [
    "#@title Define the loss function (double click to expand or collapse)\n",
    "def loss_fn(model, x, marginal_prob_std, eps=1e-5):\n",
    "  \"\"\"The loss function for training score-based generative models.\n",
    "\n",
    "  Args:\n",
    "    model: A PyTorch model instance that represents a\n",
    "      time-dependent score-based model.\n",
    "    x: A mini-batch of training data.\n",
    "    marginal_prob_std: A function that gives the standard deviation of\n",
    "      the perturbation kernel.\n",
    "    eps: A tolerance value for numerical stability.\n",
    "  \"\"\"\n",
    "  random_t = torch.rand(x.shape[0], device=x.device) * (1. - eps) + eps\n",
    "  z = torch.randn_like(x)\n",
    "  std = marginal_prob_std(random_t)\n",
    "  perturbed_x = x + z * std[:, None, None, None]\n",
    "  score = model(perturbed_x, random_t)\n",
    "  loss = torch.mean(torch.sum((score * std[:, None, None, None] + z)**2, dim=(1,2,3)))\n",
    "  return loss"
   ],
   "metadata": {
    "collapsed": false
   }
  },
  {
   "cell_type": "code",
   "execution_count": 57,
   "outputs": [
    {
     "data": {
      "text/plain": "  0%|          | 0/50 [00:00<?, ?it/s]",
      "application/vnd.jupyter.widget-view+json": {
       "version_major": 2,
       "version_minor": 0,
       "model_id": "82189ae011bd447da4c64f3214957c2e"
      }
     },
     "metadata": {},
     "output_type": "display_data"
    },
    {
     "name": "stderr",
     "output_type": "stream",
     "text": [
      "C:\\Users\\Administrator\\AppData\\Local\\Temp\\ipykernel_24048\\3390477272.py:15: UserWarning: To copy construct from a tensor, it is recommended to use sourceTensor.clone().detach() or sourceTensor.clone().detach().requires_grad_(True), rather than torch.tensor(sourceTensor).\n",
      "  t = torch.tensor(t, device=device)\n"
     ]
    },
    {
     "ename": "RuntimeError",
     "evalue": "output with shape [32, 1, 16, 3] doesn't match the broadcast shape [32, 32, 16, 3]",
     "output_type": "error",
     "traceback": [
      "\u001B[1;31m---------------------------------------------------------------------------\u001B[0m",
      "\u001B[1;31mRuntimeError\u001B[0m                              Traceback (most recent call last)",
      "Cell \u001B[1;32mIn[57], line 21\u001B[0m\n\u001B[0;32m     19\u001B[0m \u001B[38;5;28;01mfor\u001B[39;00m x \u001B[38;5;129;01min\u001B[39;00m data_loader:\n\u001B[0;32m     20\u001B[0m   x \u001B[38;5;241m=\u001B[39m x\u001B[38;5;241m.\u001B[39mto(device)\n\u001B[1;32m---> 21\u001B[0m   loss \u001B[38;5;241m=\u001B[39m \u001B[43mloss_fn\u001B[49m\u001B[43m(\u001B[49m\u001B[43mscore_model\u001B[49m\u001B[43m,\u001B[49m\u001B[43m \u001B[49m\u001B[43mx\u001B[49m\u001B[38;5;241;43m.\u001B[39;49m\u001B[43mdouble\u001B[49m\u001B[43m(\u001B[49m\u001B[43m)\u001B[49m\u001B[43m,\u001B[49m\u001B[43m \u001B[49m\u001B[43mmarginal_prob_std_fn\u001B[49m\u001B[43m)\u001B[49m\n\u001B[0;32m     22\u001B[0m   optimizer\u001B[38;5;241m.\u001B[39mzero_grad()\n\u001B[0;32m     23\u001B[0m   loss\u001B[38;5;241m.\u001B[39mbackward()\n",
      "Cell \u001B[1;32mIn[56], line 17\u001B[0m, in \u001B[0;36mloss_fn\u001B[1;34m(model, x, marginal_prob_std, eps)\u001B[0m\n\u001B[0;32m     15\u001B[0m std \u001B[38;5;241m=\u001B[39m marginal_prob_std(random_t)\n\u001B[0;32m     16\u001B[0m perturbed_x \u001B[38;5;241m=\u001B[39m x \u001B[38;5;241m+\u001B[39m z \u001B[38;5;241m*\u001B[39m std[:, \u001B[38;5;28;01mNone\u001B[39;00m, \u001B[38;5;28;01mNone\u001B[39;00m, \u001B[38;5;28;01mNone\u001B[39;00m]\n\u001B[1;32m---> 17\u001B[0m score \u001B[38;5;241m=\u001B[39m \u001B[43mmodel\u001B[49m\u001B[43m(\u001B[49m\u001B[43mperturbed_x\u001B[49m\u001B[43m,\u001B[49m\u001B[43m \u001B[49m\u001B[43mrandom_t\u001B[49m\u001B[43m)\u001B[49m\n\u001B[0;32m     18\u001B[0m loss \u001B[38;5;241m=\u001B[39m torch\u001B[38;5;241m.\u001B[39mmean(torch\u001B[38;5;241m.\u001B[39msum((score \u001B[38;5;241m*\u001B[39m std[:, \u001B[38;5;28;01mNone\u001B[39;00m, \u001B[38;5;28;01mNone\u001B[39;00m, \u001B[38;5;28;01mNone\u001B[39;00m] \u001B[38;5;241m+\u001B[39m z)\u001B[38;5;241m*\u001B[39m\u001B[38;5;241m*\u001B[39m\u001B[38;5;241m2\u001B[39m, dim\u001B[38;5;241m=\u001B[39m(\u001B[38;5;241m1\u001B[39m,\u001B[38;5;241m2\u001B[39m,\u001B[38;5;241m3\u001B[39m)))\n\u001B[0;32m     19\u001B[0m \u001B[38;5;28;01mreturn\u001B[39;00m loss\n",
      "File \u001B[1;32mC:\\Users\\Desktop\\Thesis\\venv\\lib\\site-packages\\torch\\nn\\modules\\module.py:1501\u001B[0m, in \u001B[0;36mModule._call_impl\u001B[1;34m(self, *args, **kwargs)\u001B[0m\n\u001B[0;32m   1496\u001B[0m \u001B[38;5;66;03m# If we don't have any hooks, we want to skip the rest of the logic in\u001B[39;00m\n\u001B[0;32m   1497\u001B[0m \u001B[38;5;66;03m# this function, and just call forward.\u001B[39;00m\n\u001B[0;32m   1498\u001B[0m \u001B[38;5;28;01mif\u001B[39;00m \u001B[38;5;129;01mnot\u001B[39;00m (\u001B[38;5;28mself\u001B[39m\u001B[38;5;241m.\u001B[39m_backward_hooks \u001B[38;5;129;01mor\u001B[39;00m \u001B[38;5;28mself\u001B[39m\u001B[38;5;241m.\u001B[39m_backward_pre_hooks \u001B[38;5;129;01mor\u001B[39;00m \u001B[38;5;28mself\u001B[39m\u001B[38;5;241m.\u001B[39m_forward_hooks \u001B[38;5;129;01mor\u001B[39;00m \u001B[38;5;28mself\u001B[39m\u001B[38;5;241m.\u001B[39m_forward_pre_hooks\n\u001B[0;32m   1499\u001B[0m         \u001B[38;5;129;01mor\u001B[39;00m _global_backward_pre_hooks \u001B[38;5;129;01mor\u001B[39;00m _global_backward_hooks\n\u001B[0;32m   1500\u001B[0m         \u001B[38;5;129;01mor\u001B[39;00m _global_forward_hooks \u001B[38;5;129;01mor\u001B[39;00m _global_forward_pre_hooks):\n\u001B[1;32m-> 1501\u001B[0m     \u001B[38;5;28;01mreturn\u001B[39;00m forward_call(\u001B[38;5;241m*\u001B[39margs, \u001B[38;5;241m*\u001B[39m\u001B[38;5;241m*\u001B[39mkwargs)\n\u001B[0;32m   1502\u001B[0m \u001B[38;5;66;03m# Do not call functions when jit is used\u001B[39;00m\n\u001B[0;32m   1503\u001B[0m full_backward_hooks, non_full_backward_hooks \u001B[38;5;241m=\u001B[39m [], []\n",
      "File \u001B[1;32mC:\\Users\\Desktop\\Thesis\\venv\\lib\\site-packages\\torch\\nn\\parallel\\data_parallel.py:153\u001B[0m, in \u001B[0;36mDataParallel.forward\u001B[1;34m(self, *inputs, **kwargs)\u001B[0m\n\u001B[0;32m    151\u001B[0m \u001B[38;5;28;01mwith\u001B[39;00m torch\u001B[38;5;241m.\u001B[39mautograd\u001B[38;5;241m.\u001B[39mprofiler\u001B[38;5;241m.\u001B[39mrecord_function(\u001B[38;5;124m\"\u001B[39m\u001B[38;5;124mDataParallel.forward\u001B[39m\u001B[38;5;124m\"\u001B[39m):\n\u001B[0;32m    152\u001B[0m     \u001B[38;5;28;01mif\u001B[39;00m \u001B[38;5;129;01mnot\u001B[39;00m \u001B[38;5;28mself\u001B[39m\u001B[38;5;241m.\u001B[39mdevice_ids:\n\u001B[1;32m--> 153\u001B[0m         \u001B[38;5;28;01mreturn\u001B[39;00m \u001B[38;5;28mself\u001B[39m\u001B[38;5;241m.\u001B[39mmodule(\u001B[38;5;241m*\u001B[39minputs, \u001B[38;5;241m*\u001B[39m\u001B[38;5;241m*\u001B[39mkwargs)\n\u001B[0;32m    155\u001B[0m     \u001B[38;5;28;01mfor\u001B[39;00m t \u001B[38;5;129;01min\u001B[39;00m chain(\u001B[38;5;28mself\u001B[39m\u001B[38;5;241m.\u001B[39mmodule\u001B[38;5;241m.\u001B[39mparameters(), \u001B[38;5;28mself\u001B[39m\u001B[38;5;241m.\u001B[39mmodule\u001B[38;5;241m.\u001B[39mbuffers()):\n\u001B[0;32m    156\u001B[0m         \u001B[38;5;28;01mif\u001B[39;00m t\u001B[38;5;241m.\u001B[39mdevice \u001B[38;5;241m!=\u001B[39m \u001B[38;5;28mself\u001B[39m\u001B[38;5;241m.\u001B[39msrc_device_obj:\n",
      "File \u001B[1;32mC:\\Users\\Desktop\\Thesis\\venv\\lib\\site-packages\\torch\\nn\\modules\\module.py:1501\u001B[0m, in \u001B[0;36mModule._call_impl\u001B[1;34m(self, *args, **kwargs)\u001B[0m\n\u001B[0;32m   1496\u001B[0m \u001B[38;5;66;03m# If we don't have any hooks, we want to skip the rest of the logic in\u001B[39;00m\n\u001B[0;32m   1497\u001B[0m \u001B[38;5;66;03m# this function, and just call forward.\u001B[39;00m\n\u001B[0;32m   1498\u001B[0m \u001B[38;5;28;01mif\u001B[39;00m \u001B[38;5;129;01mnot\u001B[39;00m (\u001B[38;5;28mself\u001B[39m\u001B[38;5;241m.\u001B[39m_backward_hooks \u001B[38;5;129;01mor\u001B[39;00m \u001B[38;5;28mself\u001B[39m\u001B[38;5;241m.\u001B[39m_backward_pre_hooks \u001B[38;5;129;01mor\u001B[39;00m \u001B[38;5;28mself\u001B[39m\u001B[38;5;241m.\u001B[39m_forward_hooks \u001B[38;5;129;01mor\u001B[39;00m \u001B[38;5;28mself\u001B[39m\u001B[38;5;241m.\u001B[39m_forward_pre_hooks\n\u001B[0;32m   1499\u001B[0m         \u001B[38;5;129;01mor\u001B[39;00m _global_backward_pre_hooks \u001B[38;5;129;01mor\u001B[39;00m _global_backward_hooks\n\u001B[0;32m   1500\u001B[0m         \u001B[38;5;129;01mor\u001B[39;00m _global_forward_hooks \u001B[38;5;129;01mor\u001B[39;00m _global_forward_pre_hooks):\n\u001B[1;32m-> 1501\u001B[0m     \u001B[38;5;28;01mreturn\u001B[39;00m forward_call(\u001B[38;5;241m*\u001B[39margs, \u001B[38;5;241m*\u001B[39m\u001B[38;5;241m*\u001B[39mkwargs)\n\u001B[0;32m   1502\u001B[0m \u001B[38;5;66;03m# Do not call functions when jit is used\u001B[39;00m\n\u001B[0;32m   1503\u001B[0m full_backward_hooks, non_full_backward_hooks \u001B[38;5;241m=\u001B[39m [], []\n",
      "Cell \u001B[1;32mIn[46], line 52\u001B[0m, in \u001B[0;36mScoreNet.forward\u001B[1;34m(self, x, t)\u001B[0m\n\u001B[0;32m     50\u001B[0m h1 \u001B[38;5;241m=\u001B[39m x\n\u001B[0;32m     51\u001B[0m \u001B[38;5;66;03m## Incorporate information from t\u001B[39;00m\n\u001B[1;32m---> 52\u001B[0m h1 \u001B[38;5;241m+\u001B[39m\u001B[38;5;241m=\u001B[39m \u001B[38;5;28mself\u001B[39m\u001B[38;5;241m.\u001B[39mdense1(embed)\n\u001B[0;32m     53\u001B[0m \u001B[38;5;66;03m## Group normalization\u001B[39;00m\n\u001B[0;32m     54\u001B[0m h1 \u001B[38;5;241m=\u001B[39m \u001B[38;5;28mself\u001B[39m\u001B[38;5;241m.\u001B[39mgnorm1(h1)\n",
      "\u001B[1;31mRuntimeError\u001B[0m: output with shape [32, 1, 16, 3] doesn't match the broadcast shape [32, 32, 16, 3]"
     ]
    }
   ],
   "source": [
    "#@title Training (double click to expand or collapse)\n",
    "score_model = torch.nn.DataParallel(ScoreNet(marginal_prob_std=marginal_prob_std_fn)).double()\n",
    "#score_model = score_model.to(device)\n",
    "\n",
    "n_epochs =   50#@param {'type':'integer'}\n",
    "## size of a mini-batch\n",
    "batch_size =  32 #@param {'type':'integer'}\n",
    "## learning rate\n",
    "lr=1e-4 #@param {'type':'number'}\n",
    "\n",
    "#dataset = MNIST('.', train=True, transform=transforms.ToTensor(), download=True)\n",
    "#data_loader = DataLoader(dataset, batch_size=batch_size, shuffle=True, num_workers=4)\n",
    "\n",
    "optimizer = Adam(score_model.parameters(), lr=lr)\n",
    "tqdm_epoch = tqdm.notebook.trange(n_epochs)\n",
    "for epoch in tqdm_epoch:\n",
    "  avg_loss = 0.\n",
    "  num_items = 0\n",
    "  for x in data_loader:\n",
    "    x = x.to(device)\n",
    "    loss = loss_fn(score_model, x.double(), marginal_prob_std_fn)\n",
    "    optimizer.zero_grad()\n",
    "    loss.backward()\n",
    "    optimizer.step()\n",
    "    avg_loss += loss.item() * x.shape[0]\n",
    "    num_items += x.shape[0]\n",
    "  # Print the averaged training loss so far.\n",
    "  tqdm_epoch.set_description('Average Loss: {:5f}'.format(avg_loss / num_items))\n",
    "  # Update the checkpoint after each epoch of training.\n",
    "  torch.save(score_model.state_dict(), 'ckpt.pth')"
   ],
   "metadata": {
    "collapsed": false
   }
  },
  {
   "cell_type": "code",
   "execution_count": null,
   "outputs": [],
   "source": [],
   "metadata": {
    "collapsed": false
   }
  },
  {
   "cell_type": "code",
   "execution_count": null,
   "outputs": [],
   "source": [],
   "metadata": {
    "collapsed": false
   }
  },
  {
   "cell_type": "code",
   "execution_count": null,
   "outputs": [],
   "source": [],
   "metadata": {
    "collapsed": false
   }
  },
  {
   "cell_type": "code",
   "execution_count": null,
   "outputs": [],
   "source": [],
   "metadata": {
    "collapsed": false
   }
  },
  {
   "cell_type": "code",
   "execution_count": null,
   "outputs": [],
   "source": [],
   "metadata": {
    "collapsed": false
   }
  },
  {
   "cell_type": "code",
   "execution_count": null,
   "outputs": [],
   "source": [],
   "metadata": {
    "collapsed": false
   }
  },
  {
   "cell_type": "code",
   "execution_count": null,
   "outputs": [],
   "source": [],
   "metadata": {
    "collapsed": false
   }
  },
  {
   "cell_type": "code",
   "execution_count": null,
   "outputs": [],
   "source": [],
   "metadata": {
    "collapsed": false
   }
  },
  {
   "cell_type": "code",
   "execution_count": null,
   "outputs": [],
   "source": [],
   "metadata": {
    "collapsed": false
   }
  },
  {
   "cell_type": "code",
   "execution_count": null,
   "outputs": [],
   "source": [],
   "metadata": {
    "collapsed": false
   }
  },
  {
   "cell_type": "code",
   "execution_count": null,
   "outputs": [],
   "source": [],
   "metadata": {
    "collapsed": false
   }
  }
 ],
 "metadata": {
  "kernelspec": {
   "display_name": "Python 3",
   "language": "python",
   "name": "python3"
  },
  "language_info": {
   "codemirror_mode": {
    "name": "ipython",
    "version": 2
   },
   "file_extension": ".py",
   "mimetype": "text/x-python",
   "name": "python",
   "nbconvert_exporter": "python",
   "pygments_lexer": "ipython2",
   "version": "2.7.6"
  }
 },
 "nbformat": 4,
 "nbformat_minor": 0
}
