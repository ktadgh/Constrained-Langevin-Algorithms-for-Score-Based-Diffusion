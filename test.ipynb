{
 "cells": [
  {
   "cell_type": "code",
   "execution_count": 46,
   "metadata": {
    "collapsed": true
   },
   "outputs": [],
   "source": [
    "import numpy as np"
   ]
  },
  {
   "cell_type": "code",
   "execution_count": 47,
   "outputs": [],
   "source": [],
   "metadata": {
    "collapsed": false
   }
  },
  {
   "cell_type": "code",
   "execution_count": 48,
   "outputs": [],
   "source": [],
   "metadata": {
    "collapsed": false
   }
  },
  {
   "cell_type": "code",
   "execution_count": 49,
   "outputs": [
    {
     "name": "stdout",
     "output_type": "stream",
     "text": [
      "367.59975738416017\n"
     ]
    }
   ],
   "source": [
    "print"
   ],
   "metadata": {
    "collapsed": false
   }
  },
  {
   "cell_type": "code",
   "execution_count": 55,
   "outputs": [],
   "source": [
    "avg_1 = 0\n",
    "avg = 1\n",
    "avgs = []"
   ],
   "metadata": {
    "collapsed": false
   }
  },
  {
   "cell_type": "code",
   "execution_count": 1,
   "outputs": [
    {
     "ename": "NameError",
     "evalue": "name 'avg' is not defined",
     "output_type": "error",
     "traceback": [
      "\u001B[1;31m---------------------------------------------------------------------------\u001B[0m",
      "\u001B[1;31mNameError\u001B[0m                                 Traceback (most recent call last)",
      "Cell \u001B[1;32mIn[1], line 1\u001B[0m\n\u001B[1;32m----> 1\u001B[0m \u001B[38;5;28;01mwhile\u001B[39;00m \u001B[43mavg\u001B[49m\u001B[38;5;241m-\u001B[39mavg_1 \u001B[38;5;241m!=\u001B[39m \u001B[38;5;241m0\u001B[39m:\n\u001B[0;32m      2\u001B[0m     non_leap_1 \u001B[38;5;241m=\u001B[39m np\u001B[38;5;241m.\u001B[39mrandom\u001B[38;5;241m.\u001B[39mrandint(\u001B[38;5;241m0\u001B[39m,\u001B[38;5;241m365\u001B[39m, size \u001B[38;5;241m=\u001B[39m\u001B[38;5;241m300000000\u001B[39m)\n\u001B[0;32m      3\u001B[0m     leap_1 \u001B[38;5;241m=\u001B[39m np\u001B[38;5;241m.\u001B[39mrandom\u001B[38;5;241m.\u001B[39mrandint(\u001B[38;5;241m0\u001B[39m,\u001B[38;5;241m366\u001B[39m, size \u001B[38;5;241m=\u001B[39m \u001B[38;5;241m100000000\u001B[39m)\n",
      "\u001B[1;31mNameError\u001B[0m: name 'avg' is not defined"
     ]
    }
   ],
   "source": [
    "while avg-avg_1 != 0:\n",
    "    non_leap_1 = np.random.randint(0,365, size =300000000)\n",
    "    leap_1 = np.random.randint(0,366, size = 100000000)\n",
    "    sample_1 = np.concatenate([non_leap_1, leap_1])\n",
    "    np.random.shuffle(sample_1)\n",
    "\n",
    "    non_leap_2 = np.random.randint(0,365, size =300000000)\n",
    "    leap_2 = np.random.randint(0,366, size = 100000000)\n",
    "    sample_2 = np.concatenate([non_leap_2, leap_2])\n",
    "    np.random.shuffle(sample_2)\n",
    "    val = (1/(sum(sample_1 == sample_2)/len(sample_1)))\n",
    "\n",
    "\n",
    "    avg = np.mean(avgs)\n",
    "\n",
    "    avgs.append(val)\n",
    "    avg_1 = np.mean(avgs)\n",
    "    print(avg_1)"
   ],
   "metadata": {
    "collapsed": false
   }
  },
  {
   "cell_type": "code",
   "execution_count": null,
   "outputs": [],
   "source": [],
   "metadata": {
    "collapsed": false
   }
  }
 ],
 "metadata": {
  "kernelspec": {
   "display_name": "Python 3",
   "language": "python",
   "name": "python3"
  },
  "language_info": {
   "codemirror_mode": {
    "name": "ipython",
    "version": 2
   },
   "file_extension": ".py",
   "mimetype": "text/x-python",
   "name": "python",
   "nbconvert_exporter": "python",
   "pygments_lexer": "ipython2",
   "version": "2.7.6"
  }
 },
 "nbformat": 4,
 "nbformat_minor": 0
}
